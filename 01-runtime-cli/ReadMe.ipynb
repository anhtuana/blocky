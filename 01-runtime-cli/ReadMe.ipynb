{
 "cells": [
  {
   "cell_type": "markdown",
   "id": "caa144a8-d3d7-42de-bfdd-8b27cf4c5cbe",
   "metadata": {
    "tags": []
   },
   "source": [
    "# Zero-Coupon Bond Using Marlowe Runtime\\'s Command-Line Interface\n",
    "\n",
    "The zero-coupon bond example is a simple Marlowe contract where a lender provides principal to a borrower who repays it back with interest.\n",
    "\n",
    "In this demonsration we use Marlowe Runtime\\'s command-line interface, `marlowe`, to run this contract on Cardano\\'s `preprod` public testnet. Marlowe contracts may use either addresses or role tokens for authorization: here we use addresses.\n",
    "\n",
    "In [Marlowe Playground](https://play.marlowe-finance.io/), the contract looks like this in Blockly format.\n",
    "\n",
    "![Zero-coupon bond Marlowe contract](zcb-contract.png)\n",
    "\n",
    "In Marlowe format it appears as\n",
    "```\n",
    "When\n",
    "    [Case\n",
    "        (Deposit\n",
    "            (Address \"$LENDER_ADDR\")\n",
    "            (Address \"$LENDER_ADDR\")\n",
    "            (Token \"\" \"\")\n",
    "            (ConstantParam \"$PRINCIPAL\")\n",
    "        )\n",
    "        (Pay\n",
    "            (Address \"$LENDER_ADDR\")\n",
    "            (Party (Address \"$BORROWER_ADDR\"))\n",
    "            (Token \"\" \"\")\n",
    "            (ConstantParam \"$PRINCIPAL\")\n",
    "            (When\n",
    "                [Case\n",
    "                    (Deposit\n",
    "                        (Address \"$BORROWER_ADDR\")\n",
    "                        (Address \"$BORROWER_ADDR\")\n",
    "                        (Token \"\" \"\")\n",
    "                        (AddValue\n",
    "                            (ConstantParam \"$INTEREST\")\n",
    "                            (ConstantParam \"$PRINCIPAL\")\n",
    "                        )\n",
    "                    )\n",
    "                    (Pay\n",
    "                        (Address \"$BORROWER_ADDR\")\n",
    "                        (Party (Address \"$LENDER_ADDR\"))\n",
    "                        (Token \"\" \"\")\n",
    "                        (AddValue\n",
    "                            (ConstantParam \"$INTEREST\")\n",
    "                            (ConstantParam \"$PRINCIPAL\")\n",
    "                        )\n",
    "                        Close \n",
    "                    )]\n",
    "                (TimeParam \"$BORROWER_DEADLINE\")\n",
    "                Close \n",
    "            )\n",
    "        )]\n",
    "    (TimeParam \"$LENDER_DEADLINE\")\n",
    "    Close \n",
    "```"
   ]
  },
  {
   "cell_type": "markdown",
   "id": "b94d119b-6a78-4972-83be-bede23021187",
   "metadata": {},
   "source": [
    "## Prelminaries\n",
    "\n",
    "See [Lesson 0. Preliminaries](../00-preliminaries.ipynb) for information on setting up one's environment for using this tutorial.\n",
    "\n",
    "The lesson assumes that the following environment variables have been set.\n",
    "- `CARDANO_NODE_SOCKET_PATH`: location of Cardano node's socket.\n",
    "- `CARDANO_TESTNET_MAGIC`: testnet magic number.\n",
    "- `CARDANO_RT_HOST`: IP address of the Marlowe Runtime proxy server.\n",
    "- `CARDANO_RT_PORT`: Port number for the Marlowe Runtime proxy server.\n",
    "\n",
    "It also assumes that the Lender and Borrower parties have addresses, signing keys, and funds.\n",
    "- Lender\n",
    "    - [../keys/lender.address](../keys/lender.address): Cardano address for the lender\n",
    "    - [../keys/lender.skey](../keys/lender.skey): location of signing key file for the lender\n",
    "- Borrower\n",
    "    - [../keys/borrower.address](../keys/borrower.address): Cardano address for the borrower\n",
    "    - [../keys/borrower.skey](../keys/borrower.skey): location of signing key file for the borrower"
   ]
  },
  {
   "cell_type": "markdown",
   "id": "9fb26443-798a-4865-bd8e-21bbeee6522a",
   "metadata": {},
   "source": [
    "### Access to Cardano node and Marlowe Runtime\n",
    "\n",
    "***One can skip this section if one is using [demeter.run](https://demeter.run/)'s Cardano Marlowe Runtime extension.***\n",
    "\n",
    "If we're using [demeter.run](https://demeter.run/)'s Cardano Marlowe Runtime extension, then we already have access to Cardano Node and Marlowe Runtime. If not, set the required environment variables to use a local docker deployment on the default ports."
   ]
  },
  {
   "cell_type": "code",
   "execution_count": 1,
   "id": "cd27279f-12aa-4d66-92a7-5eb1224b1d90",
   "metadata": {
    "tags": [],
    "vscode": {
     "languageId": "shellscript"
    }
   },
   "outputs": [
    {
     "name": "stdout",
     "output_type": "stream",
     "text": [
      "CARDANO_NODE_SOCKET_PATH = /home/bbush/.local/share/containers/storage/volumes/marlowe-compose_shared/_data/node.socket\n",
      "CARDANO_TESTNET_MAGIC = 1\n",
      "MARLOWE_RT_HOST = 127.0.0.1\n",
      "MARLOWE_RT_PORT = 3700\n"
     ]
    }
   ],
   "source": [
    "if [[ -z \"$MARLOWE_RT_PORT\" ]]\n",
    "then\n",
    "\n",
    "  if command -v podman > /dev/null\n",
    "  then\n",
    "    DOCKER_CLI=podman\n",
    "  else\n",
    "    DOCKER_CLI=docker\n",
    "  fi\n",
    "  \n",
    "  # Only required for `marlowe-cli` and `cardano-cli`.\n",
    "  export CARDANO_NODE_SOCKET_PATH=\"$($DOCKER_CLI volume inspect marlowe-compose_shared | jq -r '.[0].Mountpoint')/node.socket\"\n",
    "  export CARDANO_TESTNET_MAGIC=1 # Note that preprod=1 and preview=2. Do not set this variable if using mainnet.\n",
    "\n",
    "  # Only required for `marlowe`.\n",
    "  export MARLOWE_RT_HOST=\"127.0.0.1\"\n",
    "  export MARLOWE_RT_PORT=3700\n",
    "\n",
    "fi\n",
    "\n",
    "case \"$CARDANO_TESTNET_MAGIC\" in\n",
    "  1)\n",
    "    export \"EXPLORER_URL=https://preprod.cardanoscan.io\"\n",
    "    ;;\n",
    "  2)\n",
    "    export \"EXPLORER_URL=https://preview.cardanoscan.io\"\n",
    "    ;;\n",
    "  *)\n",
    "    # Use `mainnet` as the default.\n",
    "    export \"EXPLORER_URL=https://cardanoscan.io\"\n",
    "    ;;\n",
    "esac\n",
    "\n",
    "echo \"CARDANO_NODE_SOCKET_PATH = $CARDANO_NODE_SOCKET_PATH\"\n",
    "echo \"CARDANO_TESTNET_MAGIC = $CARDANO_TESTNET_MAGIC\"\n",
    "echo \"MARLOWE_RT_HOST = $MARLOWE_RT_HOST\"\n",
    "echo \"MARLOWE_RT_PORT = $MARLOWE_RT_PORT\""
   ]
  },
  {
   "cell_type": "markdown",
   "id": "6699e48f-cdb4-4532-9760-b080724142ef",
   "metadata": {
    "tags": []
   },
   "source": [
    "### Lender address and funds\n",
    "\n",
    "Check that an address and key has been created for the lender. If not, see \"Creating Addresses and Signing Keys\" in [Lesson 0. Preliminaries](../00-preliminaries.ipynb)."
   ]
  },
  {
   "cell_type": "code",
   "execution_count": 2,
   "id": "c7def6b8-c617-4049-872f-4974755d0cb0",
   "metadata": {
    "tags": [],
    "vscode": {
     "languageId": "shellscript"
    }
   },
   "outputs": [
    {
     "name": "stdout",
     "output_type": "stream",
     "text": [
      "LENDER_ADDR = addr_test1vqd3yrtjyx49uld43lvwqaf7z4k03su8gf2x4yr7syzvckgfzm4ck\n"
     ]
    }
   ],
   "source": [
    "LENDER_SKEY=../keys/lender.skey\n",
    "LENDER_ADDR=$(cat ../keys/lender.address)\n",
    "echo \"LENDER_ADDR = $LENDER_ADDR\""
   ]
  },
  {
   "cell_type": "markdown",
   "id": "31614d3b-10c1-4704-b49a-82aa924cba23",
   "metadata": {},
   "source": [
    "Check that the lender has at least one hundred ada."
   ]
  },
  {
   "cell_type": "code",
   "execution_count": 3,
   "id": "111e60bf-a7c8-41f1-b729-15d1defd27df",
   "metadata": {
    "tags": [],
    "vscode": {
     "languageId": "shellscript"
    }
   },
   "outputs": [
    {
     "name": "stdout",
     "output_type": "stream",
     "text": [
      "                           TxHash                                 TxIx        Amount\n",
      "--------------------------------------------------------------------------------------\n",
      "78690d72c67960d4600889d7dd7da2069f14658ed6791c8838dccdd33fe3971f     1        1000000000 lovelace + TxOutDatumNone\n"
     ]
    }
   ],
   "source": [
    "cardano-cli query utxo --testnet-magic \"$CARDANO_TESTNET_MAGIC\" --address \"$LENDER_ADDR\""
   ]
  },
  {
   "cell_type": "markdown",
   "id": "d1d47a97-8c70-47c8-9c80-90e6619ea37c",
   "metadata": {},
   "source": [
    "One can view the address on a Cardano explorer. It sometimes takes thirty seconds or so for the transaction to be visible in an explorer."
   ]
  },
  {
   "cell_type": "code",
   "execution_count": 4,
   "id": "d4eb8b9f-84a2-4fce-abec-8725dc67c46a",
   "metadata": {
    "tags": [],
    "vscode": {
     "languageId": "shellscript"
    }
   },
   "outputs": [
    {
     "name": "stdout",
     "output_type": "stream",
     "text": [
      "https://preprod.cardanoscan.io/address/addr_test1vqd3yrtjyx49uld43lvwqaf7z4k03su8gf2x4yr7syzvckgfzm4ck\n"
     ]
    }
   ],
   "source": [
    "echo \"$EXPLORER_URL/address/$LENDER_ADDR\""
   ]
  },
  {
   "cell_type": "markdown",
   "id": "7cb22b51-b719-429d-ab8c-ef43973905a7",
   "metadata": {
    "tags": []
   },
   "source": [
    "### Borrower address and funds\n",
    "\n",
    "Check that an address and key has been created for the borrower. If not, see \"Creating Addresses and Signing Keys\" in [Lesson 0. Preliminaries](../00-preliminaries.ipynb)."
   ]
  },
  {
   "cell_type": "code",
   "execution_count": 5,
   "id": "b60f9abe-4956-4783-86cf-1827bd076dfe",
   "metadata": {
    "tags": [],
    "vscode": {
     "languageId": "shellscript"
    }
   },
   "outputs": [
    {
     "name": "stdout",
     "output_type": "stream",
     "text": [
      "BORROWER_ADDR = addr_test1vpy4n4peh4suv0y55yptur0066j5kds8r4ncnuzm0vpzfgg0dhz6d\n"
     ]
    }
   ],
   "source": [
    "BORROWER_SKEY=../keys/borrower.skey\n",
    "BORROWER_ADDR=$(cat ../keys/borrower.address)\n",
    "echo \"BORROWER_ADDR = $BORROWER_ADDR\""
   ]
  },
  {
   "cell_type": "markdown",
   "id": "9d9e5126-619f-4f5b-b51b-d4b5c80b952f",
   "metadata": {},
   "source": [
    "Check that the borrower has at least one hundred ada."
   ]
  },
  {
   "cell_type": "code",
   "execution_count": 6,
   "id": "a4a8216e-c5d3-4706-8ab9-918252369263",
   "metadata": {
    "tags": [],
    "vscode": {
     "languageId": "shellscript"
    }
   },
   "outputs": [
    {
     "name": "stdout",
     "output_type": "stream",
     "text": [
      "                           TxHash                                 TxIx        Amount\n",
      "--------------------------------------------------------------------------------------\n",
      "78690d72c67960d4600889d7dd7da2069f14658ed6791c8838dccdd33fe3971f     2        1000000000 lovelace + TxOutDatumNone\n"
     ]
    }
   ],
   "source": [
    "cardano-cli query utxo --testnet-magic \"$CARDANO_TESTNET_MAGIC\" --address \"$BORROWER_ADDR\""
   ]
  },
  {
   "cell_type": "markdown",
   "id": "038e042c-2638-415c-ad7b-de390a82416b",
   "metadata": {},
   "source": [
    "One can view the address on a Cardano explorer. It sometimes takes thirty seconds or so for the transaction to be visible in an explorer."
   ]
  },
  {
   "cell_type": "code",
   "execution_count": 7,
   "id": "3455b47d-45f9-4d31-aebe-ab0ea7b36aa9",
   "metadata": {
    "tags": [],
    "vscode": {
     "languageId": "shellscript"
    }
   },
   "outputs": [
    {
     "name": "stdout",
     "output_type": "stream",
     "text": [
      "https://preprod.cardanoscan.io/address/addr_test1vpy4n4peh4suv0y55yptur0066j5kds8r4ncnuzm0vpzfgg0dhz6d\n"
     ]
    }
   ],
   "source": [
    "echo \"$EXPLORER_URL/address/$BORROWER_ADDR\""
   ]
  },
  {
   "cell_type": "markdown",
   "id": "b0f231be-b01f-4b30-a086-a3371eda42a3",
   "metadata": {},
   "source": [
    "## Design the contract\n",
    "\n",
    "The zero-coupon bond contract can be downloaded from the [Marlowe Playground](https://play.marlowe-finance.io/) as a JSON file, or it can be generated using [Marlowe CLI](https://github.com/input-output-hk/marlowe-cardano/tree/main/marlowe-cli#readme) using the `marlowe-cli template` command.\n",
    "\n",
    "Here we generate the contract using Marlowe CLI.\n",
    "\n",
    "First, set the loan's principal to 80 ada and its interest to 5 ada."
   ]
  },
  {
   "cell_type": "code",
   "execution_count": 8,
   "id": "4c959ebc-7c73-49ef-a1f9-a32771cc9ec9",
   "metadata": {
    "vscode": {
     "languageId": "shellscript"
    }
   },
   "outputs": [
    {
     "name": "stdout",
     "output_type": "stream",
     "text": [
      "PRINCIPAL = 80000000 lovelace\n",
      "INTEREST = 5000000 lovelace\n"
     ]
    }
   ],
   "source": [
    "ADA=1000000  # 1 ada = 1,000,000 lovelace\n",
    "\n",
    "PRINCIPAL=$((80 * ADA))\n",
    "INTEREST=$((5 * ADA))\n",
    "\n",
    "echo \"PRINCIPAL = $PRINCIPAL lovelace\"\n",
    "echo \"INTEREST = $INTEREST lovelace\""
   ]
  },
  {
   "cell_type": "markdown",
   "id": "ca6f1da3-5a16-4dc4-a310-90812c4936b6",
   "metadata": {},
   "source": [
    "On the Cardano blockchain, the protocol parameters require that each UTxO contain at least some ada. Here we will start the contract with 2 ada."
   ]
  },
  {
   "cell_type": "code",
   "execution_count": 9,
   "id": "aa229f08-6907-4f7b-b458-5fd18e0b9596",
   "metadata": {
    "vscode": {
     "languageId": "shellscript"
    }
   },
   "outputs": [
    {
     "name": "stdout",
     "output_type": "stream",
     "text": [
      "MIN_LOVELACE = 2000000 lovelace\n"
     ]
    }
   ],
   "source": [
    "MIN_LOVELACE=\"$((2 * ADA))\"\n",
    "echo \"MIN_LOVELACE = $MIN_LOVELACE lovelace\""
   ]
  },
  {
   "cell_type": "markdown",
   "id": "5a65904b-e1eb-4185-a973-dd1ba3a3e93a",
   "metadata": {},
   "source": [
    "Next find the current time, measured in [POSIX milliseconds](https://en.wikipedia.org/wiki/Unix_time)."
   ]
  },
  {
   "cell_type": "code",
   "execution_count": 10,
   "id": "30ec2929-27e1-4ae7-8ee0-82e710f15b6c",
   "metadata": {
    "vscode": {
     "languageId": "shellscript"
    }
   },
   "outputs": [
    {
     "name": "stdout",
     "output_type": "stream",
     "text": [
      "NOW = 1678902170000 POSIX milliseconds = Wed Mar 15 11:42:50 AM MDT 2023\n"
     ]
    }
   ],
   "source": [
    "SECOND=1000 # 1 second = 1000 milliseconds\n",
    "MINUTE=$((60 * SECOND)) # 1 minute = 60 seconds\n",
    "HOUR=$((60 * MINUTE)) # 1 hour = 60 minutes\n",
    "\n",
    "NOW=\"$(($(date -u +%s) * SECOND))\"\n",
    "echo \"NOW = $NOW POSIX milliseconds = $(date -d @$((NOW / SECOND)))\""
   ]
  },
  {
   "cell_type": "markdown",
   "id": "4806318e-46e9-4c17-88b7-966098d25771",
   "metadata": {},
   "source": [
    "The contract has a lending deadline and a repayment deadline. For convenience in this example, set the deadlines to the near future."
   ]
  },
  {
   "cell_type": "code",
   "execution_count": 11,
   "id": "2ac3ad1d-060f-4ff5-b055-c96011f724a0",
   "metadata": {
    "vscode": {
     "languageId": "shellscript"
    }
   },
   "outputs": [
    {
     "name": "stdout",
     "output_type": "stream",
     "text": [
      "LENDER_DEADLINE = 1678905770000 POSIX milliseconds = Wed Mar 15 12:42:50 PM MDT 2023\n",
      "BORROWER_DEADLINE = 1678912970000 POSIX milliseconds = Wed Mar 15 02:42:50 PM MDT 2023\n"
     ]
    }
   ],
   "source": [
    "LENDER_DEADLINE=\"$((NOW + 1 * HOUR))\"\n",
    "BORROWER_DEADLINE=\"$((NOW + 3 * HOUR))\"\n",
    "echo \"LENDER_DEADLINE = $LENDER_DEADLINE POSIX milliseconds = $(date -d @$((LENDER_DEADLINE / SECOND)))\"\n",
    "echo \"BORROWER_DEADLINE = $BORROWER_DEADLINE POSIX milliseconds = $(date -d @$((BORROWER_DEADLINE / SECOND)))\""
   ]
  },
  {
   "cell_type": "markdown",
   "id": "56db086f-bba1-40ba-94a3-aa9a7f9a3e45",
   "metadata": {},
   "source": [
    "Now create the JSON file for the contract, `zcb-contract.json`."
   ]
  },
  {
   "cell_type": "code",
   "execution_count": 12,
   "id": "5b4b87af-265c-4d2c-bfe3-281614311fa8",
   "metadata": {
    "vscode": {
     "languageId": "shellscript"
    }
   },
   "outputs": [],
   "source": [
    "marlowe-cli template zcb \\\n",
    "  --minimum-ada \"$MIN_LOVELACE\" \\\n",
    "  --lender \"$LENDER_ADDR\" \\\n",
    "  --borrower \"$BORROWER_ADDR\" \\\n",
    "  --principal \"$PRINCIPAL\" \\\n",
    "  --interest \"$INTEREST\" \\\n",
    "  --lending-deadline \"$LENDER_DEADLINE\" \\\n",
    "  --repayment-deadline \"$BORROWER_DEADLINE\" \\\n",
    "  --out-contract-file zcb-contract.json \\\n",
    "  --out-state-file zcb-state.json"
   ]
  },
  {
   "cell_type": "markdown",
   "id": "29c63a36-8cd9-4ee4-893c-f77a2ea15a4a",
   "metadata": {},
   "source": [
    "The various command-line options are described by the help system."
   ]
  },
  {
   "cell_type": "code",
   "execution_count": 13,
   "id": "36d8e09d-b426-4889-91f8-3a6842f9727b",
   "metadata": {
    "tags": [],
    "vscode": {
     "languageId": "shellscript"
    }
   },
   "outputs": [
    {
     "name": "stdout",
     "output_type": "stream",
     "text": [
      "Usage: marlowe-cli template zcb --minimum-ada INTEGER --lender PARTY\n",
      "                                --borrower PARTY --principal INTEGER\n",
      "                                --interest INTEGER --lending-deadline TIMEOUT\n",
      "                                --repayment-deadline TIMEOUT\n",
      "\n",
      "  Create a zero-coupon bond.\n",
      "\n",
      "Available options:\n",
      "  --minimum-ada INTEGER    Lovelace that the lender contributes to the initial\n",
      "                           state.\n",
      "  --lender PARTY           The lender.\n",
      "  --borrower PARTY         The borrower.\n",
      "  --principal INTEGER      The principal, in lovelace.\n",
      "  --interest INTEGER       The interest, in lovelace.\n",
      "  --lending-deadline TIMEOUT\n",
      "                           The lending deadline. POSIX milliseconds or duration:\n",
      "                           `INTEGER[s|m|d|w|h]`.\n",
      "  --repayment-deadline TIMEOUT\n",
      "                           The repayment deadline. POSIX milliseconds or\n",
      "                           duration: `INTEGER[s|m|d|w|h]`.\n",
      "  -h,--help                Show this help text\n"
     ]
    }
   ],
   "source": [
    "marlowe-cli template zcb --help"
   ]
  },
  {
   "cell_type": "markdown",
   "id": "a1f0813f-86ae-4209-9a78-cd533fca9857",
   "metadata": {},
   "source": [
    "## Examine the contract\n",
    "\n",
    "View the contract file as YAML."
   ]
  },
  {
   "cell_type": "code",
   "execution_count": 14,
   "id": "112824a7-635f-4134-b133-a20e63660b35",
   "metadata": {
    "vscode": {
     "languageId": "shellscript"
    }
   },
   "outputs": [
    {
     "name": "stdout",
     "output_type": "stream",
     "text": [
      "timeout: 1678905770000\n",
      "timeout_continuation: close\n",
      "when:\n",
      "- case:\n",
      "    deposits: 80000000\n",
      "    into_account:\n",
      "      address: addr_test1vqd3yrtjyx49uld43lvwqaf7z4k03su8gf2x4yr7syzvckgfzm4ck\n",
      "    of_token:\n",
      "      currency_symbol: ''\n",
      "      token_name: ''\n",
      "    party:\n",
      "      address: addr_test1vqd3yrtjyx49uld43lvwqaf7z4k03su8gf2x4yr7syzvckgfzm4ck\n",
      "  then:\n",
      "    from_account:\n",
      "      address: addr_test1vqd3yrtjyx49uld43lvwqaf7z4k03su8gf2x4yr7syzvckgfzm4ck\n",
      "    pay: 80000000\n",
      "    then:\n",
      "      timeout: 1678912970000\n",
      "      timeout_continuation: close\n",
      "      when:\n",
      "      - case:\n",
      "          deposits:\n",
      "            add: 80000000\n",
      "            and: 5000000\n",
      "          into_account:\n",
      "            address: addr_test1vpy4n4peh4suv0y55yptur0066j5kds8r4ncnuzm0vpzfgg0dhz6d\n",
      "          of_token:\n",
      "            currency_symbol: ''\n",
      "            token_name: ''\n",
      "          party:\n",
      "            address: addr_test1vpy4n4peh4suv0y55yptur0066j5kds8r4ncnuzm0vpzfgg0dhz6d\n",
      "        then:\n",
      "          from_account:\n",
      "            address: addr_test1vpy4n4peh4suv0y55yptur0066j5kds8r4ncnuzm0vpzfgg0dhz6d\n",
      "          pay:\n",
      "            add: 80000000\n",
      "            and: 5000000\n",
      "          then: close\n",
      "          to:\n",
      "            party:\n",
      "              address: addr_test1vqd3yrtjyx49uld43lvwqaf7z4k03su8gf2x4yr7syzvckgfzm4ck\n",
      "          token:\n",
      "            currency_symbol: ''\n",
      "            token_name: ''\n",
      "    to:\n",
      "      party:\n",
      "        address: addr_test1vpy4n4peh4suv0y55yptur0066j5kds8r4ncnuzm0vpzfgg0dhz6d\n",
      "    token:\n",
      "      currency_symbol: ''\n",
      "      token_name: ''\n"
     ]
    }
   ],
   "source": [
    "json2yaml zcb-contract.json"
   ]
  },
  {
   "cell_type": "markdown",
   "id": "00f357bf-ebf0-4459-adb9-32c5a1140759",
   "metadata": {},
   "source": [
    "### \\[Optional\\] Check the safety of the contract\n",
    "\n",
    "If we were running the contract on the Cardano `mainnet`, then we\\'d want to check its safety before creating it, so that there is no chance that we might lose funds.\n",
    "\n",
    "Here are the steps for checking the safety of a contract:\n",
    "\n",
    "1. Understand the [Marlowe Language](https://marlowe-finance.io/).\n",
    "2. Understand Cardano\\'s [Extended UTxO Model](https://docs.cardano.org/learn/eutxo-explainer).\n",
    "3. Read and understand the [Marlowe Best Practices Guide](https://github.com/input-output-hk/marlowe-cardano/blob/main/marlowe/best-practices.md).\n",
    "4. Read and understand the [Marlowe Security Guide](https://github.com/input-output-hk/marlowe-cardano/blob/main/marlowe/security.md).\n",
    "5. Use [Marlowe Playground](https://play.marlowe-finance.io/) to flag warnings, perform static analysis, and simulate the contract.\n",
    "6. Use [Marlowe CLI\\'s](https://github.com/input-output-hk/marlowe-cardano/blob/main/marlowe-cli/ReadMe.md) `marlowe-cli run analyze` tool to study whether the contract can run on a Cardano network.\n",
    "7. Run *all execution paths* of the contract on a [Cardano testnet](https://docs.cardano.org/cardano-testnet/overview).\n",
    "\n",
    "Here we\\'ll perform step 6. First we bundle the contract and its initial state into a single file."
   ]
  },
  {
   "cell_type": "code",
   "execution_count": 15,
   "id": "f2c5f0ad-8c56-486a-9107-8abfa61ab68f",
   "metadata": {
    "vscode": {
     "languageId": "shellscript"
    }
   },
   "outputs": [],
   "source": [
    "marlowe-cli run initialize \\\n",
    "  --permanently-without-staking \\\n",
    "  --contract-file zcb-contract.json \\\n",
    "  --state-file zcb-state.json \\\n",
    "  --out-file zcb-marlowe.json"
   ]
  },
  {
   "cell_type": "markdown",
   "id": "f86ee195-d7a0-4e2e-8cc6-0155112f9c56",
   "metadata": {},
   "source": [
    "Now we analyze the contract and its execution paths."
   ]
  },
  {
   "cell_type": "code",
   "execution_count": 16,
   "id": "bb0789a1-3e56-4e5a-91aa-33417e957c9f",
   "metadata": {
    "vscode": {
     "languageId": "shellscript"
    }
   },
   "outputs": [
    {
     "name": "stdout",
     "output_type": "stream",
     "text": [
      "Note that path-based analysis ignore the initial state of the contract and instead start with an empty state.\n",
      "Starting search for execution paths . . .\n",
      " . . . found 3 execution paths.\n",
      "- Preconditions:\n",
      "    Duplicate accounts: []\n",
      "    Duplicate bound values: []\n",
      "    Duplicate choices: []\n",
      "    Invalid account parties: []\n",
      "    Invalid account tokens: []\n",
      "    Invalid choice parties: []\n",
      "    Invalid roles currency: false\n",
      "    Non-positive account balances: []\n",
      "- Role names:\n",
      "    Blank role names: false\n",
      "    Invalid role names: []\n",
      "- Tokens:\n",
      "    Invalid tokens: []\n",
      "- Maximum value:\n",
      "    Actual: 88\n",
      "    Invalid: false\n",
      "    Maximum: 5000\n",
      "    Percentage: 1.76\n",
      "    Unit: byte\n",
      "- Minimum UTxO:\n",
      "    Requirement:\n",
      "      lovelace: 1120600\n",
      "- Execution cost:\n",
      "    Memory:\n",
      "      Actual: 6588250\n",
      "      Invalid: false\n",
      "      Maximum: 14000000\n",
      "      Percentage: 47.058928571428574\n",
      "    Steps:\n",
      "      Actual: 1767311958\n",
      "      Invalid: false\n",
      "      Maximum: 10000000000\n",
      "      Percentage: 17.67311958\n",
      "- Transaction size:\n",
      "    Actual: 1630\n",
      "    Invalid: false\n",
      "    Maximum: 16384\n",
      "    Percentage: 9.94873046875\n"
     ]
    }
   ],
   "source": [
    "marlowe-cli run analyze \\\n",
    "  --marlowe-file zcb-marlowe.json"
   ]
  },
  {
   "cell_type": "markdown",
   "id": "2eae4910-05cf-4eca-ad15-be285ee3c782",
   "metadata": {},
   "source": [
    "In the above report, we see that the contract doesn\\'t have any duplicate or invalid values, and it does not exceed any of the blockchain\\'s protocol parameters. In particular, note that our previously chosen `MIN_LOVELACE` value of 2 ada is greater than the 1.120600 ada that the analysis tool says is needed. Thus, it is safe to execute any path in the contract."
   ]
  },
  {
   "cell_type": "markdown",
   "id": "fcbdcc02-7ffe-46a4-8732-10a3e7b93865",
   "metadata": {},
   "source": [
    "## Transaction 1. Create the Contract"
   ]
  },
  {
   "cell_type": "markdown",
   "id": "6fad0f1b-a918-4c56-867e-29600be217f4",
   "metadata": {},
   "source": [
    "Marlowe Runtime\\'s command `marlowe create` will build the creation transaction for a Marlowe contract. We provide it the JSON file containing the contract and tell it the `MIN_LOVELACE` value that we previously chose. Anyone could create the contract, but in this example the lender will be doing so, so we provide their address to fund the transaction and to receive the change from it."
   ]
  },
  {
   "cell_type": "code",
   "execution_count": 17,
   "id": "87672246-de07-4356-8cee-3692eeb36572",
   "metadata": {
    "tags": [],
    "vscode": {
     "languageId": "shellscript"
    }
   },
   "outputs": [
    {
     "name": "stdout",
     "output_type": "stream",
     "text": [
      "Usage: marlowe create --change-address ADDRESS [-a|--address ADDRESS] \n",
      "                      [--collateral-utxo UTXO] --manual-sign FILE_PATH \n",
      "                      [-m|--metadata-file FILE_PATH] [--tags-file FILE_PATH] \n",
      "                      [--v1] \n",
      "                      [(-r|--role ROLE=ADDRESS) | \n",
      "                        --roles-config-file FILE_PATH | \n",
      "                        --role-token-policy-id POLICY_ID] \n",
      "                      (--core-file FILE_PATH | --contract-file FILE_PATH \n",
      "                        [--args-file FILE_PATH | \n",
      "                          [--timeout-arg NAME=POSIX_TIMESTAMP] \n",
      "                          [--value-arg NAME=INTEGER]]) --min-utxo LOVELACE\n",
      "\n",
      "  Create a new Marlowe Contract\n",
      "\n",
      "Available options:\n",
      "  --change-address ADDRESS The address to which the change of the transaction\n",
      "                           should be sent.\n",
      "  -a,--address ADDRESS     An address whose UTXOs can be used as inputs to the\n",
      "                           transaction\n",
      "  --collateral-utxo UTXO   A UTXO which may be used as a collateral input\n",
      "  --manual-sign FILE_PATH  Sign the transaction manually. Writes the CBOR bytes\n",
      "                           of the unsigned transaction to the specified file for\n",
      "                           manual signing. Use the submit command to submit the\n",
      "                           signed transaction.\n",
      "  -m,--metadata-file FILE_PATH\n",
      "                           A JSON file containing a map of integer indexes to\n",
      "                           arbitrary JSON values that will be added to the\n",
      "                           transaction's metadata.\n",
      "  --tags-file FILE_PATH    A JSON file containing a map of tags indexes to\n",
      "                           optional JSON-encoded metadata values that will be\n",
      "                           added to the transaction's 1564 metadata key. Note\n",
      "                           that the entire 1564 key will be overridden if also\n",
      "                           specified in --metadata-file.\n",
      "  --v1                     Run command in Marlowe V1\n",
      "  -r,--role ROLE=ADDRESS   The name of a role in the contract with the address\n",
      "                           to send the token to\n",
      "  --roles-config-file FILE_PATH\n",
      "                           A JSON file containing a map of role token names to a\n",
      "                           roles configuration object. The roles configuration\n",
      "                           object has two keys, \"address\" and \"metadata\", where\n",
      "                           \"address\" is the address to send the newly minted\n",
      "                           role token and \"metadata\" is the CIP-25 metadata\n",
      "                           object to associate with the token.\n",
      "  --role-token-policy-id POLICY_ID\n",
      "                           The hexadecimal-encoded policy ID of the role tokens\n",
      "                           for this contract. This option is used to support\n",
      "                           role tokens minted in a separate transaction.\n",
      "  --core-file FILE_PATH    A file containing the Core Marlowe JSON definition of\n",
      "                           the contract to create.\n",
      "  --contract-file FILE_PATH\n",
      "                           A file containing the Extended Marlowe JSON\n",
      "                           definition of the contract to create.\n",
      "  --args-file FILE_PATH    A file containing the Extended Marlowe arguments to\n",
      "                           apply to the contract.\n",
      "  --timeout-arg NAME=POSIX_TIMESTAMP\n",
      "                           The name of a timeout parameter in the contract and a\n",
      "                           value to assign to it (in POSIX milliseconds).\n",
      "  --value-arg NAME=INTEGER The name of a numeric parameter in the contract and a\n",
      "                           value to assign to it.\n",
      "  --min-utxo LOVELACE      An amount which should be used as min ADA requirement\n",
      "                           for the Contract UTxO.\n",
      "  -h,--help                Show this help text\n"
     ]
    }
   ],
   "source": [
    "marlowe create --help"
   ]
  },
  {
   "cell_type": "code",
   "execution_count": 18,
   "id": "f8c85b72-afe2-460c-a48a-6e347ace520c",
   "metadata": {
    "vscode": {
     "languageId": "shellscript"
    }
   },
   "outputs": [
    {
     "name": "stdout",
     "output_type": "stream",
     "text": [
      "CONTRACT_ID = b7797f9b7bc63361a30f84bb61ea9759bc0bbf105ceb4adcb08fef63b1e8d952#1\n"
     ]
    }
   ],
   "source": [
    "CONTRACT_ID=$(\n",
    "marlowe create \\\n",
    "  --core-file zcb-contract.json \\\n",
    "  --min-utxo \"$MIN_LOVELACE\" \\\n",
    "  --change-address \"$LENDER_ADDR\" \\\n",
    "  --manual-sign tx-1.unsigned \\\n",
    "| jq -r 'fromjson | .contractId' \\\n",
    ")\n",
    "echo \"CONTRACT_ID = $CONTRACT_ID\""
   ]
  },
  {
   "cell_type": "markdown",
   "id": "fb633e68-7177-44ac-a46b-009539093419",
   "metadata": {},
   "source": [
    "Marlowe Runtime uses the first (creation) UTxO of the contract to identify it throughout its lifecycle.\n",
    "\n",
    "The result of building the transaction is the identifier for the contract and the file `tx-1.unsigned`, which contains the Cardano unsigned transaction for creating the contract, in text-envelope format."
   ]
  },
  {
   "cell_type": "code",
   "execution_count": 19,
   "id": "43ddbc79-cc07-45e6-9266-aac7447b7fe3",
   "metadata": {
    "vscode": {
     "languageId": "shellscript"
    }
   },
   "outputs": [
    {
     "name": "stdout",
     "output_type": "stream",
     "text": [
      "cborHex: 86a4008182582078690d72c67960d4600889d7dd7da2069f14658ed6791c8838dccdd33fe3971f010182a200581d601b120d7221aa5e7db58fd8e0753e156cf8c38742546a907e8104cc59011a3b793fffa300581d702ed2631dbb277c84334453c5c437b86325d371f0835a28b910a91a6e011a001e848002820058206328e20e31ca15459cd77edcabaaa25b6ae91e31bdc99c709aca77b77cc5fe30021a000305810b58208a0a2a9096cdece9c5ebe0a09489bdcf3d929459ab07c58d56d902ab41a44a749fff81d8799fd8799f40ffd8799fa1d8799fd8799fd87980d8799fd8799f581c1b120d7221aa5e7db58fd8e0753e156cf8c38742546a907e8104cc59ffd87a80ffffd8799f4040ffff1a001e8480a0a000ffd87c9f9fd8799fd8799fd8799fd87980d8799fd8799f581c1b120d7221aa5e7db58fd8e0753e156cf8c38742546a907e8104cc59ffd87a80ffffd8799fd87980d8799fd8799f581c1b120d7221aa5e7db58fd8e0753e156cf8c38742546a907e8104cc59ffd87a80ffffd8799f4040ffd87a9f1a04c4b400ffffd87a9fd8799fd87980d8799fd8799f581c1b120d7221aa5e7db58fd8e0753e156cf8c38742546a907e8104cc59ffd87a80ffffd87a9fd8799fd87980d8799fd8799f581c4959d439bd61c63c94a102be0defd6a54b36071d6789f05b7b0224a1ffd87a80ffffffd8799f4040ffd87a9f1a04c4b400ffd87c9f9fd8799fd8799fd8799fd87980d8799fd8799f581c4959d439bd61c63c94a102be0defd6a54b36071d6789f05b7b0224a1ffd87a80ffffd8799fd87980d8799fd8799f581c4959d439bd61c63c94a102be0defd6a54b36071d6789f05b7b0224a1ffd87a80ffffd8799f4040ffd87c9fd87a9f1a04c4b400ffd87a9f1a004c4b40ffffffd87a9fd8799fd87980d8799fd8799f581c4959d439bd61c63c94a102be0defd6a54b36071d6789f05b7b0224a1ffd87a80ffffd87a9fd8799fd87980d8799fd8799f581c1b120d7221aa5e7db58fd8e0753e156cf8c38742546a907e8104cc59ffd87a80ffffffd8799f4040ffd87c9fd87a9f1a04c4b400ffd87a9f1a004c4b40ffffd87980ffffff1b00000186e702dd10d87980ffffffff1b00000186e6950010d87980ffff80f5f6\n",
      "description: ''\n",
      "type: TxBodyBabbage\n"
     ]
    }
   ],
   "source": [
    "json2yaml tx-1.unsigned"
   ]
  },
  {
   "cell_type": "markdown",
   "id": "1f0d00de-4fd7-41bd-a933-170de9ef2688",
   "metadata": {},
   "source": [
    "There are many ways to sign and submit Cardano transactions:\n",
    "- `cardano-cli` at the command line\n",
    "- `cardano-wallet` at the command line or as a REST service\n",
    "- `cardano-hw-cli` for a hardware wallet at the command line\n",
    "- a Babbage-compatible CIP-30 wallet in a web browser\n",
    "- `marlowe-cli` at the command line\n",
    "\n",
    "For convenience, here we use `marlowe-cli transaction submit`. One may have to wait a minute or so for the transactions to be confirmed on the blockchain."
   ]
  },
  {
   "cell_type": "code",
   "execution_count": 20,
   "id": "ae1f6a5f-b4f7-452f-9d1b-f0545135deb5",
   "metadata": {
    "vscode": {
     "languageId": "shellscript"
    }
   },
   "outputs": [
    {
     "name": "stdout",
     "output_type": "stream",
     "text": [
      "TX_1 = b7797f9b7bc63361a30f84bb61ea9759bc0bbf105ceb4adcb08fef63b1e8d952\n"
     ]
    }
   ],
   "source": [
    "TX_1=$(\n",
    "marlowe-cli transaction submit \\\n",
    "  --tx-body-file tx-1.unsigned \\\n",
    "  --required-signer \"$LENDER_SKEY\" \\\n",
    "  --timeout 600 \\\n",
    "| sed -e 's/^TxId \"\\(.*\\)\"$/\\1/' \\\n",
    ")\n",
    "echo \"TX_1 = $TX_1\""
   ]
  },
  {
   "cell_type": "markdown",
   "id": "aa349a31-4e44-42c9-8c3d-e910f195325d",
   "metadata": {},
   "source": [
    "One can view the transaction on a Cardano explorer. It sometimes takes thirty seconds or so for the transaction to be visible in an explorer."
   ]
  },
  {
   "cell_type": "code",
   "execution_count": 21,
   "id": "72115506-5bfd-480f-b3f0-47520dca84c1",
   "metadata": {
    "vscode": {
     "languageId": "shellscript"
    }
   },
   "outputs": [
    {
     "name": "stdout",
     "output_type": "stream",
     "text": [
      "https://preprod.cardanoscan.io/transaction/b7797f9b7bc63361a30f84bb61ea9759bc0bbf105ceb4adcb08fef63b1e8d952?tab=utxo\n"
     ]
    }
   ],
   "source": [
    "echo \"$EXPLORER_URL/transaction/$TX_1?tab=utxo\""
   ]
  },
  {
   "cell_type": "markdown",
   "id": "3b3dae70-a556-4621-bab9-fd92b9f165eb",
   "metadata": {},
   "source": [
    "One can also examine the contract's UTxO using `cardano-cli`."
   ]
  },
  {
   "cell_type": "code",
   "execution_count": 22,
   "id": "c4af1000-9220-4f31-92e8-ee5eb405df0b",
   "metadata": {
    "vscode": {
     "languageId": "shellscript"
    }
   },
   "outputs": [
    {
     "name": "stdout",
     "output_type": "stream",
     "text": [
      "                           TxHash                                 TxIx        Amount\n",
      "--------------------------------------------------------------------------------------\n",
      "b7797f9b7bc63361a30f84bb61ea9759bc0bbf105ceb4adcb08fef63b1e8d952     1        2000000 lovelace + TxOutDatumHash ScriptDataInBabbageEra \"6328e20e31ca15459cd77edcabaaa25b6ae91e31bdc99c709aca77b77cc5fe30\"\n"
     ]
    }
   ],
   "source": [
    "cardano-cli query utxo --testnet-magic \"$CARDANO_TESTNET_MAGIC\" --tx-in \"$TX_1#1\""
   ]
  },
  {
   "cell_type": "markdown",
   "id": "c42fef94-fbf9-4208-90c3-3f93a2eb5290",
   "metadata": {},
   "source": [
    "## View the details of the contract on the blockchain\n",
    "\n",
    "Marlowe Runtime\\'s command `marlowe log` can fetch a contract from the blockchain and print information about it."
   ]
  },
  {
   "cell_type": "code",
   "execution_count": 23,
   "id": "a753938c-92bb-43aa-bb13-d09a112939c6",
   "metadata": {
    "vscode": {
     "languageId": "shellscript"
    }
   },
   "outputs": [
    {
     "name": "stdout",
     "output_type": "stream",
     "text": [
      "\u001b[93mtransaction b7797f9b7bc63361a30f84bb61ea9759bc0bbf105ceb4adcb08fef63b1e8d952 (creation)\n",
      "\u001b[0mContractId:      b7797f9b7bc63361a30f84bb61ea9759bc0bbf105ceb4adcb08fef63b1e8d952#1\n",
      "SlotNo:          23219009\n",
      "BlockNo:         728217\n",
      "BlockId:         da20a13cbb6005d39b728a7db51aa732559447d62bcd3937fffa5693e0c1cb23\n",
      "ScriptAddress:   addr_test1wqhdyccahvnheppng3fut3phhp3jt5m37zp4529ezz535ms2u9jqv\n",
      "Marlowe Version: 1\n",
      "\n",
      "    When [\n",
      "      (Case\n",
      "         (Deposit (Address \"addr_test1vqd3yrtjyx49uld43lvwqaf7z4k03su8gf2x4yr7syzvckgfzm4ck\") (Address \"addr_test1vqd3yrtjyx49uld43lvwqaf7z4k03su8gf2x4yr7syzvckgfzm4ck\")\n",
      "            (Token \"\" \"\")\n",
      "            (Constant 80000000))\n",
      "         (Pay (Address \"addr_test1vqd3yrtjyx49uld43lvwqaf7z4k03su8gf2x4yr7syzvckgfzm4ck\")\n",
      "            (Party (Address \"addr_test1vpy4n4peh4suv0y55yptur0066j5kds8r4ncnuzm0vpzfgg0dhz6d\"))\n",
      "            (Token \"\" \"\")\n",
      "            (Constant 80000000)\n",
      "            (When [\n",
      "               (Case\n",
      "                  (Deposit (Address \"addr_test1vpy4n4peh4suv0y55yptur0066j5kds8r4ncnuzm0vpzfgg0dhz6d\") (Address \"addr_test1vpy4n4peh4suv0y55yptur0066j5kds8r4ncnuzm0vpzfgg0dhz6d\")\n",
      "                     (Token \"\" \"\")\n",
      "                     (AddValue\n",
      "                        (Constant 80000000)\n",
      "                        (Constant 5000000)))\n",
      "                  (Pay (Address \"addr_test1vpy4n4peh4suv0y55yptur0066j5kds8r4ncnuzm0vpzfgg0dhz6d\")\n",
      "                     (Party (Address \"addr_test1vqd3yrtjyx49uld43lvwqaf7z4k03su8gf2x4yr7syzvckgfzm4ck\"))\n",
      "                     (Token \"\" \"\")\n",
      "                     (AddValue\n",
      "                        (Constant 80000000)\n",
      "                        (Constant 5000000)) Close))] 1678912970000 Close)))] 1678905770000 Close\n",
      "\n"
     ]
    }
   ],
   "source": [
    "marlowe log --show-contract \"$CONTRACT_ID\""
   ]
  },
  {
   "cell_type": "markdown",
   "id": "d44441bd-5679-498a-a4f0-156b7087a2b9",
   "metadata": {},
   "source": [
    "More detail can be retrieved using `marlowe-pipe`."
   ]
  },
  {
   "cell_type": "code",
   "execution_count": 24,
   "id": "2ea93a41-ad4a-4040-842a-6c2eec4ba4ae",
   "metadata": {
    "vscode": {
     "languageId": "shellscript"
    }
   },
   "outputs": [
    {
     "name": "stdout",
     "output_type": "stream",
     "text": [
      "creation:\n",
      "  output:\n",
      "    address: 702ed2631dbb277c84334453c5c437b86325d371f0835a28b910a91a6e\n",
      "    assets:\n",
      "      ada: 2000000\n",
      "      tokens: []\n",
      "    datum:\n",
      "      marloweContract:\n",
      "        timeout: 1678905770000\n",
      "        timeout_continuation: close\n",
      "        when:\n",
      "        - case:\n",
      "            deposits: 80000000\n",
      "            into_account:\n",
      "              address: addr_test1vqd3yrtjyx49uld43lvwqaf7z4k03su8gf2x4yr7syzvckgfzm4ck\n",
      "            of_token:\n",
      "              currency_symbol: ''\n",
      "              token_name: ''\n",
      "            party:\n",
      "              address: addr_test1vqd3yrtjyx49uld43lvwqaf7z4k03su8gf2x4yr7syzvckgfzm4ck\n",
      "          then:\n",
      "            from_account:\n",
      "              address: addr_test1vqd3yrtjyx49uld43lvwqaf7z4k03su8gf2x4yr7syzvckgfzm4ck\n",
      "            pay: 80000000\n",
      "            then:\n",
      "              timeout: 1678912970000\n",
      "              timeout_continuation: close\n",
      "              when:\n",
      "              - case:\n",
      "                  deposits:\n",
      "                    add: 80000000\n",
      "                    and: 5000000\n",
      "                  into_account:\n",
      "                    address: addr_test1vpy4n4peh4suv0y55yptur0066j5kds8r4ncnuzm0vpzfgg0dhz6d\n",
      "                  of_token:\n",
      "                    currency_symbol: ''\n",
      "                    token_name: ''\n",
      "                  party:\n",
      "                    address: addr_test1vpy4n4peh4suv0y55yptur0066j5kds8r4ncnuzm0vpzfgg0dhz6d\n",
      "                then:\n",
      "                  from_account:\n",
      "                    address: addr_test1vpy4n4peh4suv0y55yptur0066j5kds8r4ncnuzm0vpzfgg0dhz6d\n",
      "                  pay:\n",
      "                    add: 80000000\n",
      "                    and: 5000000\n",
      "                  then: close\n",
      "                  to:\n",
      "                    party:\n",
      "                      address: addr_test1vqd3yrtjyx49uld43lvwqaf7z4k03su8gf2x4yr7syzvckgfzm4ck\n",
      "                  token:\n",
      "                    currency_symbol: ''\n",
      "                    token_name: ''\n",
      "            to:\n",
      "              party:\n",
      "                address: addr_test1vpy4n4peh4suv0y55yptur0066j5kds8r4ncnuzm0vpzfgg0dhz6d\n",
      "            token:\n",
      "              currency_symbol: ''\n",
      "              token_name: ''\n",
      "      marloweParams:\n",
      "        rolesCurrency: ''\n",
      "      marloweState:\n",
      "        accounts:\n",
      "        - - - address: addr_test1vqd3yrtjyx49uld43lvwqaf7z4k03su8gf2x4yr7syzvckgfzm4ck\n",
      "            - currency_symbol: ''\n",
      "              token_name: ''\n",
      "          - 2000000\n",
      "        boundValues: []\n",
      "        choices: []\n",
      "        minTime: 0\n",
      "    utxo:\n",
      "      txId: b7797f9b7bc63361a30f84bb61ea9759bc0bbf105ceb4adcb08fef63b1e8d952\n",
      "      txIx: 1\n",
      "  payoutValidatorHash: e165610232235bbbbeff5b998b233daae42979dec92a6722d9cda989\n",
      "response: info\n",
      "steps: []\n"
     ]
    }
   ],
   "source": [
    "echo '{\"request\" : \"get\", \"contractId\" : \"'\"$CONTRACT_ID\"'\"}' | marlowe-pipe 2> /dev/null | json2yaml"
   ]
  },
  {
   "cell_type": "markdown",
   "id": "cd4fa3da-0f75-4b96-a911-0ba5bea722f8",
   "metadata": {},
   "source": [
    "## Transaction 2. The lender deposits the principal\n",
    "\n",
    "The lender deposits their 80 ada of principal into the contract using Marlowe Runtime\\'s `marlowe deposit` command. The lender is providing the funding for and receiving the change from this transaction, so we provide their address. We provide the contract identifier and save the unsigned transaction in the file `tx-2.unsigned`."
   ]
  },
  {
   "cell_type": "code",
   "execution_count": 25,
   "id": "bf42d7d0-be81-42a1-8da7-5ff07b9611ee",
   "metadata": {
    "tags": [],
    "vscode": {
     "languageId": "shellscript"
    }
   },
   "outputs": [
    {
     "name": "stdout",
     "output_type": "stream",
     "text": [
      "Usage: marlowe deposit --change-address ADDRESS [-a|--address ADDRESS] \n",
      "                       [--collateral-utxo UTXO] --manual-sign FILE_PATH \n",
      "                       [-m|--metadata-file FILE_PATH] [--tags-file FILE_PATH]\n",
      "                       (-c|--contract CONTRACT_ID) --to-party ROLE_NAME|ADDRESS\n",
      "                       --from-party ROLE_NAME|ADDRESS \n",
      "                       ((-c|--currency MINTING_POLICY_ID)\n",
      "                         (-n|--token-name TOKEN_NAME) (-q|--quantity INTEGER) |\n",
      "                         (-l|--lovelace INTEGER)) \n",
      "                       [--continuation-file FILE_PATH] \n",
      "                       [-l|--validity-lower-bound TIMESTAMP] \n",
      "                       [-u|--validity-upper-bound TIMESTAMP]\n",
      "\n",
      "  Deposit funds into a contract\n",
      "\n",
      "Available options:\n",
      "  --change-address ADDRESS The address to which the change of the transaction\n",
      "                           should be sent.\n",
      "  -a,--address ADDRESS     An address whose UTXOs can be used as inputs to the\n",
      "                           transaction\n",
      "  --collateral-utxo UTXO   A UTXO which may be used as a collateral input\n",
      "  --manual-sign FILE_PATH  Sign the transaction manually. Writes the CBOR bytes\n",
      "                           of the unsigned transaction to the specified file for\n",
      "                           manual signing. Use the submit command to submit the\n",
      "                           signed transaction.\n",
      "  -m,--metadata-file FILE_PATH\n",
      "                           A JSON file containing a map of integer indexes to\n",
      "                           arbitrary JSON values that will be added to the\n",
      "                           transaction's metadata.\n",
      "  --tags-file FILE_PATH    A JSON file containing a map of tags indexes to\n",
      "                           optional JSON-encoded metadata values that will be\n",
      "                           added to the transaction's 1564 metadata key. Note\n",
      "                           that the entire 1564 key will be overridden if also\n",
      "                           specified in --metadata-file.\n",
      "  -c,--contract CONTRACT_ID\n",
      "                           The ID of the Marlowe contract to deposit funds into\n",
      "  --to-party ROLE_NAME|ADDRESS\n",
      "                           The party into whose account to deposit the funds.\n",
      "  --from-party ROLE_NAME|ADDRESS\n",
      "                           The party depositing the funds.\n",
      "  -c,--currency MINTING_POLICY_ID\n",
      "                           The minting policy ID of the token(s) to deposit.\n",
      "  -n,--token-name TOKEN_NAME\n",
      "                           The name of the token(s) to deposit.\n",
      "  -q,--quantity INTEGER    The quantity of tokens to deposit.\n",
      "  -l,--lovelace INTEGER    The quantity of lovelace to deposit.\n",
      "  --continuation-file FILE_PATH\n",
      "                           A file containing the continuation contract JSON for\n",
      "                           making a choice in a Merkleized contract.\n",
      "  -l,--validity-lower-bound TIMESTAMP\n",
      "                           The lower bound of the transaction validity interval\n",
      "                           in POSIX milliseconds. If not specified, the current\n",
      "                           time (as determined by the Cardano node) will be\n",
      "                           used.\n",
      "  -u,--validity-upper-bound TIMESTAMP\n",
      "                           The upper bound of the transaction validity interval\n",
      "                           in POSIX milliseconds. If not specified, the next\n",
      "                           timeout in the contract will be used (bounded by the\n",
      "                           maximum value allowed by the Cardano node).\n",
      "  -h,--help                Show this help text\n"
     ]
    }
   ],
   "source": [
    "marlowe deposit --help"
   ]
  },
  {
   "cell_type": "code",
   "execution_count": 26,
   "id": "96e0b7b9-4816-46d3-ad2c-580dd7547b07",
   "metadata": {
    "vscode": {
     "languageId": "shellscript"
    }
   },
   "outputs": [
    {
     "name": "stdout",
     "output_type": "stream",
     "text": [
      "TX_2 = 49d47a1daccd37f21260c4c5da2242a3a3ca571ef9db38e8760a1597f4b08202\n"
     ]
    }
   ],
   "source": [
    "TX_2=$(\n",
    "marlowe deposit \\\n",
    "  --contract \"$CONTRACT_ID\" \\\n",
    "  --from-party \"$LENDER_ADDR\" \\\n",
    "  --to-party \"$LENDER_ADDR\" \\\n",
    "  --lovelace \"$PRINCIPAL\" \\\n",
    "  --change-address \"$LENDER_ADDR\" \\\n",
    "  --manual-sign tx-2.unsigned \\\n",
    "| jq -r 'fromjson | .txId' \\\n",
    ")\n",
    "echo \"TX_2 = $TX_2\""
   ]
  },
  {
   "cell_type": "markdown",
   "id": "d888ede9-b756-4ab4-bd8a-f9090870d8ca",
   "metadata": {},
   "source": [
    "Note that if the transaction would violate the logic of the Marlowe contract, one would receive an error message. For example, let\\'s say that we deposit the incorrect amount or deposit it to the wrong party\\'s internal account."
   ]
  },
  {
   "cell_type": "code",
   "execution_count": 27,
   "id": "28c51136-8e5a-483b-891a-e9345f1a6be5",
   "metadata": {
    "vscode": {
     "languageId": "shellscript"
    }
   },
   "outputs": [
    {
     "name": "stdout",
     "output_type": "stream",
     "text": [
      "ApplyFailed (ApplyInputsConstraintsBuildupFailed (MarloweComputeTransactionFailed \"TEApplyNoMatchError\"))\n"
     ]
    },
    {
     "ename": "",
     "evalue": "1",
     "output_type": "error",
     "traceback": []
    }
   ],
   "source": [
    "marlowe deposit \\\n",
    "  --contract \"$CONTRACT_ID\" \\\n",
    "  --from-party \"$LENDER_ADDR\" \\\n",
    "  --to-party \"$LENDER_ADDR\" \\\n",
    "  --lovelace 80 \\\n",
    "  --change-address \"$LENDER_ADDR\" \\\n",
    "  --manual-sign /dev/null"
   ]
  },
  {
   "cell_type": "code",
   "execution_count": 28,
   "id": "ab45188c-ab07-4918-96f2-79da42ab92f8",
   "metadata": {
    "vscode": {
     "languageId": "shellscript"
    }
   },
   "outputs": [
    {
     "name": "stdout",
     "output_type": "stream",
     "text": [
      "ApplyFailed (ApplyInputsConstraintsBuildupFailed (MarloweComputeTransactionFailed \"TEApplyNoMatchError\"))\n"
     ]
    },
    {
     "ename": "",
     "evalue": "1",
     "output_type": "error",
     "traceback": []
    }
   ],
   "source": [
    "marlowe deposit \\\n",
    "  --contract \"$CONTRACT_ID\" \\\n",
    "  --from-party \"$LENDER_ADDR\" \\\n",
    "  --to-party \"$BORROWER_ADDR\" \\\n",
    "  --lovelace \"$PRINCIPAL\"\\\n",
    "  --change-address \"$LENDER_ADDR\" \\\n",
    "  --manual-sign /dev/null"
   ]
  },
  {
   "cell_type": "markdown",
   "id": "a75dc0f2-9be5-4f3c-bce4-ec902063967d",
   "metadata": {},
   "source": [
    "The [Marlowe Debugging Cookbook](https://github.com/input-output-hk/marlowe-cardano/blob/main/marlowe/debugging-cookbook.md) guides interpretation of error messages. Also, one can determine the possible actions for the contract at its current stage of execution by studing the contract\\'s current state or by using Marlowe playground to simulate the contract.\n",
    "\n",
    "![Simulation of zero-coupon bond contract in Marlowe Playground](../images/zcb-simulation.png)"
   ]
  },
  {
   "cell_type": "markdown",
   "id": "877807a1-7e62-4258-8d3c-b82664821dc9",
   "metadata": {},
   "source": [
    "Once again, use `marlowe-cli` to submit the transaction and then wait for confirmation."
   ]
  },
  {
   "cell_type": "code",
   "execution_count": 29,
   "id": "bb1b0e65-3cf7-42e1-9495-ce45007e331a",
   "metadata": {
    "vscode": {
     "languageId": "shellscript"
    }
   },
   "outputs": [
    {
     "name": "stdout",
     "output_type": "stream",
     "text": [
      "TxId \"49d47a1daccd37f21260c4c5da2242a3a3ca571ef9db38e8760a1597f4b08202\"\n"
     ]
    }
   ],
   "source": [
    "marlowe-cli transaction submit \\\n",
    "  --tx-body-file tx-2.unsigned \\\n",
    "  --required-signer \"$LENDER_SKEY\" \\\n",
    "  --timeout 600"
   ]
  },
  {
   "cell_type": "markdown",
   "id": "eed6b35f-7aa9-4266-98d2-ac7320ccaf69",
   "metadata": {},
   "source": [
    "One can view the transaction on a Cardano explorer. It sometimes takes thirty seconds or so for the transaction to be visible in an explorer."
   ]
  },
  {
   "cell_type": "code",
   "execution_count": 30,
   "id": "bb813544-092a-4831-bff5-5ea7ce8a9259",
   "metadata": {
    "vscode": {
     "languageId": "shellscript"
    }
   },
   "outputs": [
    {
     "name": "stdout",
     "output_type": "stream",
     "text": [
      "https://preprod.cardanoscan.io/transaction/49d47a1daccd37f21260c4c5da2242a3a3ca571ef9db38e8760a1597f4b08202?tab=utxo\n"
     ]
    }
   ],
   "source": [
    "echo \"$EXPLORER_URL/transaction/$TX_2?tab=utxo\""
   ]
  },
  {
   "cell_type": "markdown",
   "id": "44cd316b-d4db-4d2b-87a7-eb38b95f5fb3",
   "metadata": {},
   "source": [
    "One can see that the lender has 82 ada less than originally. Two ada were deposited in the contract when it was created and 80 ada were paid to the borrower in the second transaction."
   ]
  },
  {
   "cell_type": "code",
   "execution_count": 31,
   "id": "b45dc15d-f54f-49cb-a36d-0524f47fd70e",
   "metadata": {
    "vscode": {
     "languageId": "shellscript"
    }
   },
   "outputs": [
    {
     "name": "stdout",
     "output_type": "stream",
     "text": [
      "                           TxHash                                 TxIx        Amount\n",
      "--------------------------------------------------------------------------------------\n",
      "49d47a1daccd37f21260c4c5da2242a3a3ca571ef9db38e8760a1597f4b08202     0        917043702 lovelace + TxOutDatumNone\n"
     ]
    }
   ],
   "source": [
    "cardano-cli query utxo --testnet-magic \"$CARDANO_TESTNET_MAGIC\" --address \"$LENDER_ADDR\""
   ]
  },
  {
   "cell_type": "markdown",
   "id": "8538b320-c3d6-45cb-88f7-aab77f77b78b",
   "metadata": {},
   "source": [
    "The borrower has an additional 80 ada (the loan's principal) now."
   ]
  },
  {
   "cell_type": "code",
   "execution_count": 32,
   "id": "304baf28-2a07-4ca7-8576-c10c8a960fcd",
   "metadata": {
    "vscode": {
     "languageId": "shellscript"
    }
   },
   "outputs": [
    {
     "name": "stdout",
     "output_type": "stream",
     "text": [
      "                           TxHash                                 TxIx        Amount\n",
      "--------------------------------------------------------------------------------------\n",
      "49d47a1daccd37f21260c4c5da2242a3a3ca571ef9db38e8760a1597f4b08202     2        80000000 lovelace + TxOutDatumNone\n",
      "78690d72c67960d4600889d7dd7da2069f14658ed6791c8838dccdd33fe3971f     2        1000000000 lovelace + TxOutDatumNone\n"
     ]
    }
   ],
   "source": [
    "cardano-cli query utxo --testnet-magic \"$CARDANO_TESTNET_MAGIC\" --address \"$BORROWER_ADDR\""
   ]
  },
  {
   "cell_type": "markdown",
   "id": "369f3945-299b-41dd-9cbf-f3864002b6aa",
   "metadata": {},
   "source": [
    "The Marlowe contract still has the 2 ada from its creation."
   ]
  },
  {
   "cell_type": "code",
   "execution_count": 33,
   "id": "6485d605-dec4-4bab-86f6-81bf002041ed",
   "metadata": {
    "vscode": {
     "languageId": "shellscript"
    }
   },
   "outputs": [
    {
     "name": "stdout",
     "output_type": "stream",
     "text": [
      "                           TxHash                                 TxIx        Amount\n",
      "--------------------------------------------------------------------------------------\n",
      "49d47a1daccd37f21260c4c5da2242a3a3ca571ef9db38e8760a1597f4b08202     1        2000000 lovelace + TxOutDatumHash ScriptDataInBabbageEra \"e31176d1805035fa5d2ead40ea09a9f672926d29081d3ec2764372b11c06c34f\"\n"
     ]
    }
   ],
   "source": [
    "cardano-cli query utxo --testnet-magic \"$CARDANO_TESTNET_MAGIC\" --tx-in \"$TX_2#1\""
   ]
  },
  {
   "cell_type": "markdown",
   "id": "3eb0d02e-c30c-4845-86b5-602c2279b518",
   "metadata": {},
   "source": [
    "## View the further progress of the contract on the blockchain\n",
    "\n",
    "Marlowe Runtime\\'s command `marlowe log` can fetch a contract from the blockchain and print information about it."
   ]
  },
  {
   "cell_type": "code",
   "execution_count": 34,
   "id": "e0461725-7f2b-4256-ac83-8e681ecb3e35",
   "metadata": {
    "vscode": {
     "languageId": "shellscript"
    }
   },
   "outputs": [
    {
     "name": "stdout",
     "output_type": "stream",
     "text": [
      "\u001b[93mtransaction b7797f9b7bc63361a30f84bb61ea9759bc0bbf105ceb4adcb08fef63b1e8d952 (creation)\n",
      "\u001b[0mContractId:      b7797f9b7bc63361a30f84bb61ea9759bc0bbf105ceb4adcb08fef63b1e8d952#1\n",
      "SlotNo:          23219009\n",
      "BlockNo:         728217\n",
      "BlockId:         da20a13cbb6005d39b728a7db51aa732559447d62bcd3937fffa5693e0c1cb23\n",
      "ScriptAddress:   addr_test1wqhdyccahvnheppng3fut3phhp3jt5m37zp4529ezz535ms2u9jqv\n",
      "Marlowe Version: 1\n",
      "\n",
      "    When [\n",
      "      (Case\n",
      "         (Deposit (Address \"addr_test1vqd3yrtjyx49uld43lvwqaf7z4k03su8gf2x4yr7syzvckgfzm4ck\") (Address \"addr_test1vqd3yrtjyx49uld43lvwqaf7z4k03su8gf2x4yr7syzvckgfzm4ck\")\n",
      "            (Token \"\" \"\")\n",
      "            (Constant 80000000))\n",
      "         (Pay (Address \"addr_test1vqd3yrtjyx49uld43lvwqaf7z4k03su8gf2x4yr7syzvckgfzm4ck\")\n",
      "            (Party (Address \"addr_test1vpy4n4peh4suv0y55yptur0066j5kds8r4ncnuzm0vpzfgg0dhz6d\"))\n",
      "            (Token \"\" \"\")\n",
      "            (Constant 80000000)\n",
      "            (When [\n",
      "               (Case\n",
      "                  (Deposit (Address \"addr_test1vpy4n4peh4suv0y55yptur0066j5kds8r4ncnuzm0vpzfgg0dhz6d\") (Address \"addr_test1vpy4n4peh4suv0y55yptur0066j5kds8r4ncnuzm0vpzfgg0dhz6d\")\n",
      "                     (Token \"\" \"\")\n",
      "                     (AddValue\n",
      "                        (Constant 80000000)\n",
      "                        (Constant 5000000)))\n",
      "                  (Pay (Address \"addr_test1vpy4n4peh4suv0y55yptur0066j5kds8r4ncnuzm0vpzfgg0dhz6d\")\n",
      "                     (Party (Address \"addr_test1vqd3yrtjyx49uld43lvwqaf7z4k03su8gf2x4yr7syzvckgfzm4ck\"))\n",
      "                     (Token \"\" \"\")\n",
      "                     (AddValue\n",
      "                        (Constant 80000000)\n",
      "                        (Constant 5000000)) Close))] 1678912970000 Close)))] 1678905770000 Close\n",
      "\n",
      "\u001b[93mtransaction 49d47a1daccd37f21260c4c5da2242a3a3ca571ef9db38e8760a1597f4b08202\n",
      "\u001b[0mContractId: b7797f9b7bc63361a30f84bb61ea9759bc0bbf105ceb4adcb08fef63b1e8d952#1\n",
      "SlotNo:     23219128\n",
      "BlockNo:    728220\n",
      "BlockId:    7cf6dd918aba1e937db400a1649c819736e45fdb5cfdb40cff40ace92381b555\n",
      "Inputs:     [NormalInput (IDeposit \"\\\"addr_test1vqd3yrtjyx49uld43lvwqaf7z4k03su8gf2x4yr7syzvckgfzm4ck\\\"\" \"\\\"addr_test1vqd3yrtjyx49uld43lvwqaf7z4k03su8gf2x4yr7syzvckgfzm4ck\\\"\" (Token \"\" \"\") 80000000)]\n",
      "\n",
      "    When [\n",
      "      (Case\n",
      "         (Deposit (Address \"addr_test1vpy4n4peh4suv0y55yptur0066j5kds8r4ncnuzm0vpzfgg0dhz6d\") (Address \"addr_test1vpy4n4peh4suv0y55yptur0066j5kds8r4ncnuzm0vpzfgg0dhz6d\")\n",
      "            (Token \"\" \"\")\n",
      "            (AddValue\n",
      "               (Constant 80000000)\n",
      "               (Constant 5000000)))\n",
      "         (Pay (Address \"addr_test1vpy4n4peh4suv0y55yptur0066j5kds8r4ncnuzm0vpzfgg0dhz6d\")\n",
      "            (Party (Address \"addr_test1vqd3yrtjyx49uld43lvwqaf7z4k03su8gf2x4yr7syzvckgfzm4ck\"))\n",
      "            (Token \"\" \"\")\n",
      "            (AddValue\n",
      "               (Constant 80000000)\n",
      "               (Constant 5000000)) Close))] 1678912970000 Close\n",
      "\n"
     ]
    }
   ],
   "source": [
    "marlowe log --show-contract \"$CONTRACT_ID\""
   ]
  },
  {
   "cell_type": "markdown",
   "id": "488eb566-c1d7-49a5-91bd-09922aa8493c",
   "metadata": {},
   "source": [
    "More detail can be retrieved using `marlowe-pipe`."
   ]
  },
  {
   "cell_type": "code",
   "execution_count": 35,
   "id": "d373efd1-9947-4ce9-837e-ba0796d89146",
   "metadata": {
    "vscode": {
     "languageId": "shellscript"
    }
   },
   "outputs": [
    {
     "name": "stdout",
     "output_type": "stream",
     "text": [
      "creation:\n",
      "  output:\n",
      "    address: 702ed2631dbb277c84334453c5c437b86325d371f0835a28b910a91a6e\n",
      "    assets:\n",
      "      ada: 2000000\n",
      "      tokens: []\n",
      "    datum:\n",
      "      marloweContract:\n",
      "        timeout: 1678905770000\n",
      "        timeout_continuation: close\n",
      "        when:\n",
      "        - case:\n",
      "            deposits: 80000000\n",
      "            into_account:\n",
      "              address: addr_test1vqd3yrtjyx49uld43lvwqaf7z4k03su8gf2x4yr7syzvckgfzm4ck\n",
      "            of_token:\n",
      "              currency_symbol: ''\n",
      "              token_name: ''\n",
      "            party:\n",
      "              address: addr_test1vqd3yrtjyx49uld43lvwqaf7z4k03su8gf2x4yr7syzvckgfzm4ck\n",
      "          then:\n",
      "            from_account:\n",
      "              address: addr_test1vqd3yrtjyx49uld43lvwqaf7z4k03su8gf2x4yr7syzvckgfzm4ck\n",
      "            pay: 80000000\n",
      "            then:\n",
      "              timeout: 1678912970000\n",
      "              timeout_continuation: close\n",
      "              when:\n",
      "              - case:\n",
      "                  deposits:\n",
      "                    add: 80000000\n",
      "                    and: 5000000\n",
      "                  into_account:\n",
      "                    address: addr_test1vpy4n4peh4suv0y55yptur0066j5kds8r4ncnuzm0vpzfgg0dhz6d\n",
      "                  of_token:\n",
      "                    currency_symbol: ''\n",
      "                    token_name: ''\n",
      "                  party:\n",
      "                    address: addr_test1vpy4n4peh4suv0y55yptur0066j5kds8r4ncnuzm0vpzfgg0dhz6d\n",
      "                then:\n",
      "                  from_account:\n",
      "                    address: addr_test1vpy4n4peh4suv0y55yptur0066j5kds8r4ncnuzm0vpzfgg0dhz6d\n",
      "                  pay:\n",
      "                    add: 80000000\n",
      "                    and: 5000000\n",
      "                  then: close\n",
      "                  to:\n",
      "                    party:\n",
      "                      address: addr_test1vqd3yrtjyx49uld43lvwqaf7z4k03su8gf2x4yr7syzvckgfzm4ck\n",
      "                  token:\n",
      "                    currency_symbol: ''\n",
      "                    token_name: ''\n",
      "            to:\n",
      "              party:\n",
      "                address: addr_test1vpy4n4peh4suv0y55yptur0066j5kds8r4ncnuzm0vpzfgg0dhz6d\n",
      "            token:\n",
      "              currency_symbol: ''\n",
      "              token_name: ''\n",
      "      marloweParams:\n",
      "        rolesCurrency: ''\n",
      "      marloweState:\n",
      "        accounts:\n",
      "        - - - address: addr_test1vqd3yrtjyx49uld43lvwqaf7z4k03su8gf2x4yr7syzvckgfzm4ck\n",
      "            - currency_symbol: ''\n",
      "              token_name: ''\n",
      "          - 2000000\n",
      "        boundValues: []\n",
      "        choices: []\n",
      "        minTime: 0\n",
      "    utxo:\n",
      "      txId: b7797f9b7bc63361a30f84bb61ea9759bc0bbf105ceb4adcb08fef63b1e8d952\n",
      "      txIx: 1\n",
      "  payoutValidatorHash: e165610232235bbbbeff5b998b233daae42979dec92a6722d9cda989\n",
      "response: info\n",
      "steps:\n",
      "- contractId: b7797f9b7bc63361a30f84bb61ea9759bc0bbf105ceb4adcb08fef63b1e8d952#1\n",
      "  payouts: []\n",
      "  redeemer:\n",
      "  - input_from_party:\n",
      "      address: addr_test1vqd3yrtjyx49uld43lvwqaf7z4k03su8gf2x4yr7syzvckgfzm4ck\n",
      "    into_account:\n",
      "      address: addr_test1vqd3yrtjyx49uld43lvwqaf7z4k03su8gf2x4yr7syzvckgfzm4ck\n",
      "    of_token:\n",
      "      currency_symbol: ''\n",
      "      token_name: ''\n",
      "    that_deposits: 80000000\n",
      "  scriptOutput:\n",
      "    address: 702ed2631dbb277c84334453c5c437b86325d371f0835a28b910a91a6e\n",
      "    assets:\n",
      "      ada: 2000000\n",
      "      tokens: []\n",
      "    datum:\n",
      "      marloweContract:\n",
      "        timeout: 1678912970000\n",
      "        timeout_continuation: close\n",
      "        when:\n",
      "        - case:\n",
      "            deposits:\n",
      "              add: 80000000\n",
      "              and: 5000000\n",
      "            into_account:\n",
      "              address: addr_test1vpy4n4peh4suv0y55yptur0066j5kds8r4ncnuzm0vpzfgg0dhz6d\n",
      "            of_token:\n",
      "              currency_symbol: ''\n",
      "              token_name: ''\n",
      "            party:\n",
      "              address: addr_test1vpy4n4peh4suv0y55yptur0066j5kds8r4ncnuzm0vpzfgg0dhz6d\n",
      "          then:\n",
      "            from_account:\n",
      "              address: addr_test1vpy4n4peh4suv0y55yptur0066j5kds8r4ncnuzm0vpzfgg0dhz6d\n",
      "            pay:\n",
      "              add: 80000000\n",
      "              and: 5000000\n",
      "            then: close\n",
      "            to:\n",
      "              party:\n",
      "                address: addr_test1vqd3yrtjyx49uld43lvwqaf7z4k03su8gf2x4yr7syzvckgfzm4ck\n",
      "            token:\n",
      "              currency_symbol: ''\n",
      "              token_name: ''\n",
      "      marloweParams:\n",
      "        rolesCurrency: ''\n",
      "      marloweState:\n",
      "        accounts:\n",
      "        - - - address: addr_test1vqd3yrtjyx49uld43lvwqaf7z4k03su8gf2x4yr7syzvckgfzm4ck\n",
      "            - currency_symbol: ''\n",
      "              token_name: ''\n",
      "          - 2000000\n",
      "        boundValues: []\n",
      "        choices: []\n",
      "        minTime: 1678902224000\n",
      "    utxo:\n",
      "      txId: 49d47a1daccd37f21260c4c5da2242a3a3ca571ef9db38e8760a1597f4b08202\n",
      "      txIx: 1\n",
      "  step: apply\n",
      "  txId: 49d47a1daccd37f21260c4c5da2242a3a3ca571ef9db38e8760a1597f4b08202\n"
     ]
    }
   ],
   "source": [
    "echo '{\"request\" : \"get\", \"contractId\" : \"'\"$CONTRACT_ID\"'\"}' | marlowe-pipe 2> /dev/null | json2yaml"
   ]
  },
  {
   "cell_type": "markdown",
   "id": "e7c652f6-02da-4786-a54d-755d59e4aba9",
   "metadata": {},
   "source": [
    "## Transaction 3. The borrower repays the loan\n",
    "\n",
    "After some time passes, the borrower repays principal plus interest. Thus, they fund the transaction and receive the change at their address."
   ]
  },
  {
   "cell_type": "code",
   "execution_count": 36,
   "id": "9756dcb3-a357-4b7d-b132-9c85105f0387",
   "metadata": {
    "vscode": {
     "languageId": "shellscript"
    }
   },
   "outputs": [
    {
     "name": "stdout",
     "output_type": "stream",
     "text": [
      "TX_3 = 16c757192c0e32bed9a89d48fdf7705f5557430ee8bc6b4ee9e122f57519e286\n"
     ]
    }
   ],
   "source": [
    "TX_3=$(\n",
    "marlowe deposit \\\n",
    "  --contract \"$CONTRACT_ID\" \\\n",
    "  --from-party \"$BORROWER_ADDR\" \\\n",
    "  --to-party \"$BORROWER_ADDR\" \\\n",
    "  --lovelace \"$((PRINCIPAL+INTEREST))\" \\\n",
    "  --change-address \"$BORROWER_ADDR\" \\\n",
    "  --manual-sign tx-3.unsigned \\\n",
    "| jq -r 'fromjson | .txId' \\\n",
    ")\n",
    "echo \"TX_3 = $TX_3\""
   ]
  },
  {
   "cell_type": "markdown",
   "id": "ccdcc822-ba62-41cb-bde1-55bfc661ce16",
   "metadata": {},
   "source": [
    "Once again, use `marlowe-cli` to submit the transaction and then wait for confirmation."
   ]
  },
  {
   "cell_type": "code",
   "execution_count": 37,
   "id": "5fa86263-3fde-4995-be45-9625cbb35237",
   "metadata": {
    "vscode": {
     "languageId": "shellscript"
    }
   },
   "outputs": [
    {
     "name": "stdout",
     "output_type": "stream",
     "text": [
      "TxId \"16c757192c0e32bed9a89d48fdf7705f5557430ee8bc6b4ee9e122f57519e286\"\n"
     ]
    }
   ],
   "source": [
    "marlowe-cli transaction submit \\\n",
    "  --tx-body-file tx-3.unsigned \\\n",
    "  --required-signer \"$BORROWER_SKEY\" \\\n",
    "  --timeout 600"
   ]
  },
  {
   "cell_type": "markdown",
   "id": "3ef67b53-b30a-4408-a43e-97f1f0715ed0",
   "metadata": {},
   "source": [
    "One can view the transaction on a Cardano explorer. It sometimes takes thirty seconds or so for the transaction to be visible in an explorer."
   ]
  },
  {
   "cell_type": "code",
   "execution_count": 38,
   "id": "94e9f529-529b-4777-b829-dcab0a5fc3b8",
   "metadata": {
    "vscode": {
     "languageId": "shellscript"
    }
   },
   "outputs": [
    {
     "name": "stdout",
     "output_type": "stream",
     "text": [
      "https://preprod.cardanoscan.io/transaction/16c757192c0e32bed9a89d48fdf7705f5557430ee8bc6b4ee9e122f57519e286?tab=utxo\n"
     ]
    }
   ],
   "source": [
    "echo \"$EXPLORER_URL/transaction/$TX_3?tab=utxo\""
   ]
  },
  {
   "cell_type": "markdown",
   "id": "af13b1f3-d5e2-4ebc-8023-f0fd5875c0a5",
   "metadata": {},
   "source": [
    "One can see that the lender received back the 80 ada of principal and the 2 ada deposited when the contract was created, along with the additional 5 ada of interest, totallying 87 ada."
   ]
  },
  {
   "cell_type": "code",
   "execution_count": 39,
   "id": "492de5e8-7f07-437c-9f88-80ccdf00636f",
   "metadata": {
    "vscode": {
     "languageId": "shellscript"
    }
   },
   "outputs": [
    {
     "name": "stdout",
     "output_type": "stream",
     "text": [
      "                           TxHash                                 TxIx        Amount\n",
      "--------------------------------------------------------------------------------------\n",
      "16c757192c0e32bed9a89d48fdf7705f5557430ee8bc6b4ee9e122f57519e286     1        87000000 lovelace + TxOutDatumNone\n",
      "49d47a1daccd37f21260c4c5da2242a3a3ca571ef9db38e8760a1597f4b08202     0        917043702 lovelace + TxOutDatumNone\n"
     ]
    }
   ],
   "source": [
    "cardano-cli query utxo --testnet-magic \"$CARDANO_TESTNET_MAGIC\" --address \"$LENDER_ADDR\""
   ]
  },
  {
   "cell_type": "markdown",
   "id": "1196c641-e92e-4848-a20b-b673d7fcbc71",
   "metadata": {},
   "source": [
    "The borrower now has about 5 ada (the loan's interest) less than originally."
   ]
  },
  {
   "cell_type": "code",
   "execution_count": 40,
   "id": "3e8f27e3-e94a-4332-94a2-2f8af8800d56",
   "metadata": {
    "vscode": {
     "languageId": "shellscript"
    }
   },
   "outputs": [
    {
     "name": "stdout",
     "output_type": "stream",
     "text": [
      "                           TxHash                                 TxIx        Amount\n",
      "--------------------------------------------------------------------------------------\n",
      "16c757192c0e32bed9a89d48fdf7705f5557430ee8bc6b4ee9e122f57519e286     0        914430494 lovelace + TxOutDatumNone\n",
      "49d47a1daccd37f21260c4c5da2242a3a3ca571ef9db38e8760a1597f4b08202     2        80000000 lovelace + TxOutDatumNone\n"
     ]
    }
   ],
   "source": [
    "cardano-cli query utxo --testnet-magic \"$CARDANO_TESTNET_MAGIC\" --address \"$BORROWER_ADDR\""
   ]
  },
  {
   "cell_type": "markdown",
   "id": "8b4951f7-58bb-4399-a09a-2029f4e2dfe4",
   "metadata": {},
   "source": [
    "The Marlowe contract has closed, so there is no output to its script address."
   ]
  },
  {
   "cell_type": "markdown",
   "id": "bbe2049a-1507-45c1-888f-2079619be474",
   "metadata": {},
   "source": [
    "## View the completion of the contract on the blockchain\n",
    "\n",
    "Marlowe Runtime\\'s command `marlowe log` can fetch a contract from the blockchain and print information about it."
   ]
  },
  {
   "cell_type": "code",
   "execution_count": 41,
   "id": "14a0a55a-f0f4-40e7-9cc6-9bcc6600d7b1",
   "metadata": {
    "vscode": {
     "languageId": "shellscript"
    }
   },
   "outputs": [
    {
     "name": "stdout",
     "output_type": "stream",
     "text": [
      "\u001b[93mtransaction b7797f9b7bc63361a30f84bb61ea9759bc0bbf105ceb4adcb08fef63b1e8d952 (creation)\n",
      "\u001b[0mContractId:      b7797f9b7bc63361a30f84bb61ea9759bc0bbf105ceb4adcb08fef63b1e8d952#1\n",
      "SlotNo:          23219009\n",
      "BlockNo:         728217\n",
      "BlockId:         da20a13cbb6005d39b728a7db51aa732559447d62bcd3937fffa5693e0c1cb23\n",
      "ScriptAddress:   addr_test1wqhdyccahvnheppng3fut3phhp3jt5m37zp4529ezz535ms2u9jqv\n",
      "Marlowe Version: 1\n",
      "\n",
      "    When [\n",
      "      (Case\n",
      "         (Deposit (Address \"addr_test1vqd3yrtjyx49uld43lvwqaf7z4k03su8gf2x4yr7syzvckgfzm4ck\") (Address \"addr_test1vqd3yrtjyx49uld43lvwqaf7z4k03su8gf2x4yr7syzvckgfzm4ck\")\n",
      "            (Token \"\" \"\")\n",
      "            (Constant 80000000))\n",
      "         (Pay (Address \"addr_test1vqd3yrtjyx49uld43lvwqaf7z4k03su8gf2x4yr7syzvckgfzm4ck\")\n",
      "            (Party (Address \"addr_test1vpy4n4peh4suv0y55yptur0066j5kds8r4ncnuzm0vpzfgg0dhz6d\"))\n",
      "            (Token \"\" \"\")\n",
      "            (Constant 80000000)\n",
      "            (When [\n",
      "               (Case\n",
      "                  (Deposit (Address \"addr_test1vpy4n4peh4suv0y55yptur0066j5kds8r4ncnuzm0vpzfgg0dhz6d\") (Address \"addr_test1vpy4n4peh4suv0y55yptur0066j5kds8r4ncnuzm0vpzfgg0dhz6d\")\n",
      "                     (Token \"\" \"\")\n",
      "                     (AddValue\n",
      "                        (Constant 80000000)\n",
      "                        (Constant 5000000)))\n",
      "                  (Pay (Address \"addr_test1vpy4n4peh4suv0y55yptur0066j5kds8r4ncnuzm0vpzfgg0dhz6d\")\n",
      "                     (Party (Address \"addr_test1vqd3yrtjyx49uld43lvwqaf7z4k03su8gf2x4yr7syzvckgfzm4ck\"))\n",
      "                     (Token \"\" \"\")\n",
      "                     (AddValue\n",
      "                        (Constant 80000000)\n",
      "                        (Constant 5000000)) Close))] 1678912970000 Close)))] 1678905770000 Close\n",
      "\n",
      "\u001b[93mtransaction 49d47a1daccd37f21260c4c5da2242a3a3ca571ef9db38e8760a1597f4b08202\n",
      "\u001b[0mContractId: b7797f9b7bc63361a30f84bb61ea9759bc0bbf105ceb4adcb08fef63b1e8d952#1\n",
      "SlotNo:     23219128\n",
      "BlockNo:    728220\n",
      "BlockId:    7cf6dd918aba1e937db400a1649c819736e45fdb5cfdb40cff40ace92381b555\n",
      "Inputs:     [NormalInput (IDeposit \"\\\"addr_test1vqd3yrtjyx49uld43lvwqaf7z4k03su8gf2x4yr7syzvckgfzm4ck\\\"\" \"\\\"addr_test1vqd3yrtjyx49uld43lvwqaf7z4k03su8gf2x4yr7syzvckgfzm4ck\\\"\" (Token \"\" \"\") 80000000)]\n",
      "\n",
      "    When [\n",
      "      (Case\n",
      "         (Deposit (Address \"addr_test1vpy4n4peh4suv0y55yptur0066j5kds8r4ncnuzm0vpzfgg0dhz6d\") (Address \"addr_test1vpy4n4peh4suv0y55yptur0066j5kds8r4ncnuzm0vpzfgg0dhz6d\")\n",
      "            (Token \"\" \"\")\n",
      "            (AddValue\n",
      "               (Constant 80000000)\n",
      "               (Constant 5000000)))\n",
      "         (Pay (Address \"addr_test1vpy4n4peh4suv0y55yptur0066j5kds8r4ncnuzm0vpzfgg0dhz6d\")\n",
      "            (Party (Address \"addr_test1vqd3yrtjyx49uld43lvwqaf7z4k03su8gf2x4yr7syzvckgfzm4ck\"))\n",
      "            (Token \"\" \"\")\n",
      "            (AddValue\n",
      "               (Constant 80000000)\n",
      "               (Constant 5000000)) Close))] 1678912970000 Close\n",
      "\n",
      "\u001b[93mtransaction 16c757192c0e32bed9a89d48fdf7705f5557430ee8bc6b4ee9e122f57519e286 (close)\n",
      "\u001b[0mContractId: b7797f9b7bc63361a30f84bb61ea9759bc0bbf105ceb4adcb08fef63b1e8d952#1\n",
      "SlotNo:     23219158\n",
      "BlockNo:    728221\n",
      "BlockId:    c240fb7d53e97db326dd6fdcb18f3e3ba1d1876f7836f0a9680160c35a9142c7\n",
      "Inputs:     [NormalInput (IDeposit \"\\\"addr_test1vpy4n4peh4suv0y55yptur0066j5kds8r4ncnuzm0vpzfgg0dhz6d\\\"\" \"\\\"addr_test1vpy4n4peh4suv0y55yptur0066j5kds8r4ncnuzm0vpzfgg0dhz6d\\\"\" (Token \"\" \"\") 85000000)]\n",
      "\n",
      "\n"
     ]
    }
   ],
   "source": [
    "marlowe log --show-contract \"$CONTRACT_ID\""
   ]
  },
  {
   "cell_type": "markdown",
   "id": "cfb3e13d-91b3-4db5-8cde-2277d7a71008",
   "metadata": {},
   "source": [
    "More detail can be retrieved using `marlowe-pipe`."
   ]
  },
  {
   "cell_type": "code",
   "execution_count": 42,
   "id": "bf25d4d4-ca3b-4d61-b4f9-546a44bbcddc",
   "metadata": {
    "vscode": {
     "languageId": "shellscript"
    }
   },
   "outputs": [
    {
     "name": "stdout",
     "output_type": "stream",
     "text": [
      "creation:\n",
      "  output:\n",
      "    address: 702ed2631dbb277c84334453c5c437b86325d371f0835a28b910a91a6e\n",
      "    assets:\n",
      "      ada: 2000000\n",
      "      tokens: []\n",
      "    datum:\n",
      "      marloweContract:\n",
      "        timeout: 1678905770000\n",
      "        timeout_continuation: close\n",
      "        when:\n",
      "        - case:\n",
      "            deposits: 80000000\n",
      "            into_account:\n",
      "              address: addr_test1vqd3yrtjyx49uld43lvwqaf7z4k03su8gf2x4yr7syzvckgfzm4ck\n",
      "            of_token:\n",
      "              currency_symbol: ''\n",
      "              token_name: ''\n",
      "            party:\n",
      "              address: addr_test1vqd3yrtjyx49uld43lvwqaf7z4k03su8gf2x4yr7syzvckgfzm4ck\n",
      "          then:\n",
      "            from_account:\n",
      "              address: addr_test1vqd3yrtjyx49uld43lvwqaf7z4k03su8gf2x4yr7syzvckgfzm4ck\n",
      "            pay: 80000000\n",
      "            then:\n",
      "              timeout: 1678912970000\n",
      "              timeout_continuation: close\n",
      "              when:\n",
      "              - case:\n",
      "                  deposits:\n",
      "                    add: 80000000\n",
      "                    and: 5000000\n",
      "                  into_account:\n",
      "                    address: addr_test1vpy4n4peh4suv0y55yptur0066j5kds8r4ncnuzm0vpzfgg0dhz6d\n",
      "                  of_token:\n",
      "                    currency_symbol: ''\n",
      "                    token_name: ''\n",
      "                  party:\n",
      "                    address: addr_test1vpy4n4peh4suv0y55yptur0066j5kds8r4ncnuzm0vpzfgg0dhz6d\n",
      "                then:\n",
      "                  from_account:\n",
      "                    address: addr_test1vpy4n4peh4suv0y55yptur0066j5kds8r4ncnuzm0vpzfgg0dhz6d\n",
      "                  pay:\n",
      "                    add: 80000000\n",
      "                    and: 5000000\n",
      "                  then: close\n",
      "                  to:\n",
      "                    party:\n",
      "                      address: addr_test1vqd3yrtjyx49uld43lvwqaf7z4k03su8gf2x4yr7syzvckgfzm4ck\n",
      "                  token:\n",
      "                    currency_symbol: ''\n",
      "                    token_name: ''\n",
      "            to:\n",
      "              party:\n",
      "                address: addr_test1vpy4n4peh4suv0y55yptur0066j5kds8r4ncnuzm0vpzfgg0dhz6d\n",
      "            token:\n",
      "              currency_symbol: ''\n",
      "              token_name: ''\n",
      "      marloweParams:\n",
      "        rolesCurrency: ''\n",
      "      marloweState:\n",
      "        accounts:\n",
      "        - - - address: addr_test1vqd3yrtjyx49uld43lvwqaf7z4k03su8gf2x4yr7syzvckgfzm4ck\n",
      "            - currency_symbol: ''\n",
      "              token_name: ''\n",
      "          - 2000000\n",
      "        boundValues: []\n",
      "        choices: []\n",
      "        minTime: 0\n",
      "    utxo:\n",
      "      txId: b7797f9b7bc63361a30f84bb61ea9759bc0bbf105ceb4adcb08fef63b1e8d952\n",
      "      txIx: 1\n",
      "  payoutValidatorHash: e165610232235bbbbeff5b998b233daae42979dec92a6722d9cda989\n",
      "response: info\n",
      "steps:\n",
      "- contractId: b7797f9b7bc63361a30f84bb61ea9759bc0bbf105ceb4adcb08fef63b1e8d952#1\n",
      "  payouts: []\n",
      "  redeemer:\n",
      "  - input_from_party:\n",
      "      address: addr_test1vqd3yrtjyx49uld43lvwqaf7z4k03su8gf2x4yr7syzvckgfzm4ck\n",
      "    into_account:\n",
      "      address: addr_test1vqd3yrtjyx49uld43lvwqaf7z4k03su8gf2x4yr7syzvckgfzm4ck\n",
      "    of_token:\n",
      "      currency_symbol: ''\n",
      "      token_name: ''\n",
      "    that_deposits: 80000000\n",
      "  scriptOutput:\n",
      "    address: 702ed2631dbb277c84334453c5c437b86325d371f0835a28b910a91a6e\n",
      "    assets:\n",
      "      ada: 2000000\n",
      "      tokens: []\n",
      "    datum:\n",
      "      marloweContract:\n",
      "        timeout: 1678912970000\n",
      "        timeout_continuation: close\n",
      "        when:\n",
      "        - case:\n",
      "            deposits:\n",
      "              add: 80000000\n",
      "              and: 5000000\n",
      "            into_account:\n",
      "              address: addr_test1vpy4n4peh4suv0y55yptur0066j5kds8r4ncnuzm0vpzfgg0dhz6d\n",
      "            of_token:\n",
      "              currency_symbol: ''\n",
      "              token_name: ''\n",
      "            party:\n",
      "              address: addr_test1vpy4n4peh4suv0y55yptur0066j5kds8r4ncnuzm0vpzfgg0dhz6d\n",
      "          then:\n",
      "            from_account:\n",
      "              address: addr_test1vpy4n4peh4suv0y55yptur0066j5kds8r4ncnuzm0vpzfgg0dhz6d\n",
      "            pay:\n",
      "              add: 80000000\n",
      "              and: 5000000\n",
      "            then: close\n",
      "            to:\n",
      "              party:\n",
      "                address: addr_test1vqd3yrtjyx49uld43lvwqaf7z4k03su8gf2x4yr7syzvckgfzm4ck\n",
      "            token:\n",
      "              currency_symbol: ''\n",
      "              token_name: ''\n",
      "      marloweParams:\n",
      "        rolesCurrency: ''\n",
      "      marloweState:\n",
      "        accounts:\n",
      "        - - - address: addr_test1vqd3yrtjyx49uld43lvwqaf7z4k03su8gf2x4yr7syzvckgfzm4ck\n",
      "            - currency_symbol: ''\n",
      "              token_name: ''\n",
      "          - 2000000\n",
      "        boundValues: []\n",
      "        choices: []\n",
      "        minTime: 1678902224000\n",
      "    utxo:\n",
      "      txId: 49d47a1daccd37f21260c4c5da2242a3a3ca571ef9db38e8760a1597f4b08202\n",
      "      txIx: 1\n",
      "  step: apply\n",
      "  txId: 49d47a1daccd37f21260c4c5da2242a3a3ca571ef9db38e8760a1597f4b08202\n",
      "- contractId: b7797f9b7bc63361a30f84bb61ea9759bc0bbf105ceb4adcb08fef63b1e8d952#1\n",
      "  payouts: []\n",
      "  redeemer:\n",
      "  - input_from_party:\n",
      "      address: addr_test1vpy4n4peh4suv0y55yptur0066j5kds8r4ncnuzm0vpzfgg0dhz6d\n",
      "    into_account:\n",
      "      address: addr_test1vpy4n4peh4suv0y55yptur0066j5kds8r4ncnuzm0vpzfgg0dhz6d\n",
      "    of_token:\n",
      "      currency_symbol: ''\n",
      "      token_name: ''\n",
      "    that_deposits: 85000000\n",
      "  scriptOutput: null\n",
      "  step: apply\n",
      "  txId: 16c757192c0e32bed9a89d48fdf7705f5557430ee8bc6b4ee9e122f57519e286\n"
     ]
    }
   ],
   "source": [
    "echo '{\"request\" : \"get\", \"contractId\" : \"'\"$CONTRACT_ID\"'\"}' | marlowe-pipe 2> /dev/null | json2yaml"
   ]
  }
 ],
 "metadata": {
  "kernelspec": {
   "display_name": "Bash",
   "language": "bash",
   "name": "bash"
  },
  "language_info": {
   "name": "bash"
  }
 },
 "nbformat": 4,
 "nbformat_minor": 5
}
