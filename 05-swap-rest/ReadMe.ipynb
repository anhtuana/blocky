{
 "cells": [
  {
   "cell_type": "markdown",
   "id": "a8b9d3ec-9b61-4c11-8465-504673116f9d",
   "metadata": {},
   "source": [
    "# Token Swap Using Marlowe Runtime\\'s REST API\n",
    "\n",
    "The token-swap contract example is a simple Marlowe contract that lets parties trade ada for a token.\n",
    "\n",
    "In this demonsration we use Marlowe Runtime\\'s REST API, served via `marlowe-web-server`, to run this contract on Cardano\\'s `preprod` public testnet. Marlowe contracts may use either addresses or role tokens for authorization: here we use role tokens and we have Marlowe Runtime mint them.\n",
    "\n",
    "In [Marlowe Playground](https://play.marlowe-finance.io/), the contract looks like this in Blockly format.\n",
    "\n",
    "![Marlowe contract for swapping tokens](../images/swap-playground.png)\n",
    "\n",
    "In Marlowe format it appears as\n",
    "```\n",
    "When\n",
    "    [Case\n",
    "        (Deposit\n",
    "            (Role \"Ada provider\")\n",
    "            (Role \"Ada provider\")\n",
    "            (Token \"\" \"\")\n",
    "            (MulValue\n",
    "                (Constant 1000000)\n",
    "                (ConstantParam \"Amount of Ada\")\n",
    "            )\n",
    "        )\n",
    "        (When\n",
    "            [Case\n",
    "                (Deposit\n",
    "                    (Role \"Dollar provider\")\n",
    "                    (Role \"Dollar provider\")\n",
    "                    (Token \"9772ff715b691c0444f333ba1db93b055c0864bec48fff92d1f2a7fe\" \"Djed_testMicroUSD\")\n",
    "                    (ConstantParam \"Amount of dollars\")\n",
    "                )\n",
    "                (Pay\n",
    "                    (Role \"Ada provider\")\n",
    "                    (Party (Role \"Dollar provider\"))\n",
    "                    (Token \"\" \"\")\n",
    "                    (MulValue\n",
    "                        (Constant 1000000)\n",
    "                        (ConstantParam \"Amount of Ada\")\n",
    "                    )\n",
    "                    (Pay\n",
    "                        (Role \"Dollar provider\")\n",
    "                        (Party (Role \"Ada provider\"))\n",
    "                        (Token \"9772ff715b691c0444f333ba1db93b055c0864bec48fff92d1f2a7fe\" \"Djed_testMicroUSD\")\n",
    "                        (ConstantParam \"Amount of dollars\")\n",
    "                        Close \n",
    "                    )\n",
    "                )]\n",
    "            (TimeParam \"Timeout for dollar deposit\")\n",
    "            Close \n",
    "        )]\n",
    "    (TimeParam \"Timeout for Ada deposit\")\n",
    "    Close\n",
    "```"
   ]
  },
  {
   "cell_type": "markdown",
   "id": "f128e27a-afe6-4d03-8c46-ef6e5753e4a8",
   "metadata": {},
   "source": [
    "## Prelminaries\n",
    "\n",
    "See [Lesson 0. Preliminaries](../00-preliminaries.ipynb) for information on setting up one's environment for using this tutorial.\n",
    "\n",
    "The lesson assumes that the following environment variables have been set.\n",
    "- `CARDANO_NODE_SOCKET_PATH`: location of Cardano node's socket.\n",
    "- `CARDANO_TESTNET_MAGIC`: testnet magic number.\n",
    "- `CARDANO_RT_WEBSERVER_HOST`: IP address of the Marlowe Runtime web server.\n",
    "- `CARDANO_RT_WEBSERVER_PORT`: Port number for the Marlowe Runtime web server.\n",
    "\n",
    "It also assumes that the parties have addresses, signing keys, and funds.\n",
    "- Ada Provider\n",
    "    - [../keys/lender.address](../keys/lender.address): Cardano address for the ada provider\n",
    "    - [../keys/lender.skey](../keys/lender.skey): location of signing key file for the ada provider\n",
    "- Dollar Provider\n",
    "    - [../keys/borrower.address](../keys/borrower.address): Cardano address for the dollar provider\n",
    "    - [../keys/borrower.skey](../keys/borrower.skey): location of signing key file for the dollar provider"
   ]
  },
  {
   "cell_type": "markdown",
   "id": "053cac6c-9bfc-4c47-ba48-c5cc145734d7",
   "metadata": {},
   "source": [
    "### Access to Cardano node and Marlowe Runtime\n",
    "\n",
    "***One can skip this section if one is using [demeter.run](https://demeter.run/)'s Cardano Marlowe Runtime extension.***\n",
    "\n",
    "If we're using [demeter.run](https://demeter.run/)'s Cardano Marlowe Runtime extension, then we already have access to Cardano Node and Marlowe Runtime. If not, set the required environment variables to use a local docker deployment on the default ports."
   ]
  },
  {
   "cell_type": "code",
   "execution_count": 1,
   "id": "e1859d35-ded3-4e16-be43-b1ef030d7f16",
   "metadata": {
    "tags": [],
    "vscode": {
     "languageId": "shellscript"
    }
   },
   "outputs": [
    {
     "name": "stdout",
     "output_type": "stream",
     "text": [
      "CARDANO_NODE_SOCKET_PATH = /home/bbush/.local/share/containers/storage/volumes/marlowe-compose_shared/_data/node.socket\n",
      "CARDANO_TESTNET_MAGIC = 1\n",
      "MARLOWE_RT_WEBSERVER_HOST = 127.0.0.1\n",
      "MARLOWE_RT_WEBSERVER_PORT = 3780\n",
      "MARLOWE_RT_WEBSERVER_URL = http://127.0.0.1:3780\n"
     ]
    }
   ],
   "source": [
    "if [[ -z \"$MARLOWE_RT_WEBSERVER_PORT\" ]]\n",
    "then\n",
    "\n",
    "  if command -v podman > /dev/null\n",
    "  then\n",
    "    DOCKER_CLI=podman\n",
    "  else\n",
    "    DOCKER_CLI=docker\n",
    "  fi\n",
    "  \n",
    "  # Only required for `marlowe-cli` and `cardano-cli`.\n",
    "  export CARDANO_NODE_SOCKET_PATH=\"$($DOCKER_CLI volume inspect marlowe-compose_shared | jq -r '.[0].Mountpoint')/node.socket\"\n",
    "  export CARDANO_TESTNET_MAGIC=1 # Note that preprod=1 and preview=2. Do not set this variable if using mainnet.\n",
    "\n",
    "  # Only required for `marlowe`.\n",
    "  export MARLOWE_RT_WEBSERVER_HOST=\"127.0.0.1\"\n",
    "  export MARLOWE_RT_WEBSERVER_PORT=3780\n",
    "\n",
    "fi\n",
    "\n",
    "case \"$CARDANO_TESTNET_MAGIC\" in\n",
    "  1)\n",
    "    export \"EXPLORER_URL=https://preprod.cardanoscan.io\"\n",
    "    ;;\n",
    "  2)\n",
    "    export \"EXPLORER_URL=https://preview.cardanoscan.io\"\n",
    "    ;;\n",
    "  *)\n",
    "    # Use `mainnet` as the default.\n",
    "    export \"EXPLORER_URL=https://cardanoscan.io\"\n",
    "    ;;\n",
    "esac\n",
    "\n",
    "MARLOWE_RT_WEBSERVER_URL=\"http://$MARLOWE_RT_WEBSERVER_HOST:$MARLOWE_RT_WEBSERVER_PORT\"\n",
    "\n",
    "echo \"CARDANO_NODE_SOCKET_PATH = $CARDANO_NODE_SOCKET_PATH\"\n",
    "echo \"CARDANO_TESTNET_MAGIC = $CARDANO_TESTNET_MAGIC\"\n",
    "echo \"MARLOWE_RT_WEBSERVER_HOST = $MARLOWE_RT_WEBSERVER_HOST\"\n",
    "echo \"MARLOWE_RT_WEBSERVER_PORT = $MARLOWE_RT_WEBSERVER_PORT\"\n",
    "echo \"MARLOWE_RT_WEBSERVER_URL = $MARLOWE_RT_WEBSERVER_URL\""
   ]
  },
  {
   "cell_type": "markdown",
   "id": "1f209e22-2e7c-444c-a72b-aa88d676e0f8",
   "metadata": {
    "tags": []
   },
   "source": [
    "### Ada Provider address and funds\n",
    "\n",
    "Check that an address and key has been created for the ada provider. If not, see \"Creating Addresses and Signing Keys\" in [Lesson 0. Preliminaries](../00-preliminaries.ipynb)."
   ]
  },
  {
   "cell_type": "code",
   "execution_count": 2,
   "id": "38d0bad1-3b9e-4d80-9aec-a4357c8dc79a",
   "metadata": {
    "tags": [],
    "vscode": {
     "languageId": "shellscript"
    }
   },
   "outputs": [
    {
     "name": "stdout",
     "output_type": "stream",
     "text": [
      "ADA_PROVIDER_ADDR = addr_test1vqd3yrtjyx49uld43lvwqaf7z4k03su8gf2x4yr7syzvckgfzm4ck\n"
     ]
    }
   ],
   "source": [
    "ADA_PROVIDER_SKEY=../keys/lender.skey\n",
    "ADA_PROVIDER_ADDR=$(cat ../keys/lender.address)\n",
    "echo \"ADA_PROVIDER_ADDR = $ADA_PROVIDER_ADDR\""
   ]
  },
  {
   "cell_type": "markdown",
   "id": "112cbd18-2567-4563-a452-e4a5c529a171",
   "metadata": {},
   "source": [
    "Check that the ada provider has at least three hundred ada."
   ]
  },
  {
   "cell_type": "code",
   "execution_count": 3,
   "id": "a16fd543-cabf-4540-879c-ed0594ca5ff1",
   "metadata": {
    "tags": [],
    "vscode": {
     "languageId": "shellscript"
    }
   },
   "outputs": [
    {
     "name": "stdout",
     "output_type": "stream",
     "text": [
      "                           TxHash                                 TxIx        Amount\n",
      "--------------------------------------------------------------------------------------\n",
      "ffdd8bc307959deabcac84f45491da513f5c35cc594e58957ade541a5b86d290     1        1000000000 lovelace + TxOutDatumNone\n"
     ]
    }
   ],
   "source": [
    "cardano-cli query utxo --testnet-magic \"$CARDANO_TESTNET_MAGIC\" --address \"$ADA_PROVIDER_ADDR\""
   ]
  },
  {
   "cell_type": "markdown",
   "id": "d23a2695-2d68-4fa3-80cb-3afe5afe2196",
   "metadata": {},
   "source": [
    "One can view the address on a Cardano explorer. It sometimes takes thirty seconds or so for the transaction to be visible in an explorer."
   ]
  },
  {
   "cell_type": "code",
   "execution_count": 4,
   "id": "b1d78493-a1a1-4739-b911-02b901c73bda",
   "metadata": {
    "tags": [],
    "vscode": {
     "languageId": "shellscript"
    }
   },
   "outputs": [
    {
     "name": "stdout",
     "output_type": "stream",
     "text": [
      "https://preprod.cardanoscan.io/address/addr_test1vqd3yrtjyx49uld43lvwqaf7z4k03su8gf2x4yr7syzvckgfzm4ck\n"
     ]
    }
   ],
   "source": [
    "echo \"$EXPLORER_URL/address/$ADA_PROVIDER_ADDR\""
   ]
  },
  {
   "cell_type": "markdown",
   "id": "754f546b-b42d-434c-ad78-b4e1fada39b9",
   "metadata": {
    "tags": []
   },
   "source": [
    "### Dollar Provider address and funds\n",
    "\n",
    "Check that an address and key has been created for the dollar provider. If not, see \"Creating Addresses and Signing Keys\" in [Lesson 0. Preliminaries](../00-preliminaries.ipynb)."
   ]
  },
  {
   "cell_type": "code",
   "execution_count": 5,
   "id": "5103b793-05a7-4a9c-bb5b-ed250bcbcc1e",
   "metadata": {
    "tags": [],
    "vscode": {
     "languageId": "shellscript"
    }
   },
   "outputs": [
    {
     "name": "stdout",
     "output_type": "stream",
     "text": [
      "USD_PROVIDER_ADDR = addr_test1vpy4n4peh4suv0y55yptur0066j5kds8r4ncnuzm0vpzfgg0dhz6d\n"
     ]
    }
   ],
   "source": [
    "USD_PROVIDER_SKEY=../keys/borrower.skey\n",
    "USD_PROVIDER_ADDR=$(cat ../keys/borrower.address)\n",
    "echo \"USD_PROVIDER_ADDR = $USD_PROVIDER_ADDR\""
   ]
  },
  {
   "cell_type": "markdown",
   "id": "41a004a6-8681-4ce1-b07e-6d6d07ee1b38",
   "metadata": {},
   "source": [
    "Check that the dollar provider has at least one hundred USD tokens."
   ]
  },
  {
   "cell_type": "code",
   "execution_count": 6,
   "id": "3af7a962-3038-4b55-a31a-cd7ade94b5ec",
   "metadata": {
    "tags": [],
    "vscode": {
     "languageId": "shellscript"
    }
   },
   "outputs": [
    {
     "name": "stdout",
     "output_type": "stream",
     "text": [
      "                           TxHash                                 TxIx        Amount\n",
      "--------------------------------------------------------------------------------------\n",
      "ef77bc0cad935d34eba162c983b4d5235c620fffef62c2b846e6bb7f7457854c     2        2000000 lovelace + 100000000 9772ff715b691c0444f333ba1db93b055c0864bec48fff92d1f2a7fe.446a65645f746573744d6963726f555344 + TxOutDatumNone\n",
      "ffdd8bc307959deabcac84f45491da513f5c35cc594e58957ade541a5b86d290     2        1000000000 lovelace + TxOutDatumNone\n"
     ]
    }
   ],
   "source": [
    "cardano-cli query utxo --testnet-magic \"$CARDANO_TESTNET_MAGIC\" --address \"$USD_PROVIDER_ADDR\""
   ]
  },
  {
   "cell_type": "markdown",
   "id": "0bf7ec49-14c5-4f3a-9eb7-c97cd38fcfcf",
   "metadata": {},
   "source": [
    "One can view the address on a Cardano explorer. It sometimes takes thirty seconds or so for the transaction to be visible in an explorer."
   ]
  },
  {
   "cell_type": "code",
   "execution_count": 7,
   "id": "3455b47d-45f9-4d31-aebe-ab0ea7b36aa9",
   "metadata": {
    "tags": [],
    "vscode": {
     "languageId": "shellscript"
    }
   },
   "outputs": [
    {
     "name": "stdout",
     "output_type": "stream",
     "text": [
      "https://preprod.cardanoscan.io/address/addr_test1vpy4n4peh4suv0y55yptur0066j5kds8r4ncnuzm0vpzfgg0dhz6d\n"
     ]
    }
   ],
   "source": [
    "echo \"$EXPLORER_URL/address/$USD_PROVIDER_ADDR\""
   ]
  },
  {
   "cell_type": "markdown",
   "id": "00396fbb-ce2d-4666-9bac-85a8ccd7945b",
   "metadata": {},
   "source": [
    "## Design the contract\n",
    "\n",
    "The swap contract can be downloaded from the [Marlowe Playground](https://play.marlowe-finance.io/) as a JSON file, or it can be generated using [Marlowe CLI](https://github.com/input-output-hk/marlowe-cardano/tree/main/marlowe-cli#readme) using the `marlowe-cli template` command.\n",
    "\n",
    "Set the ada amount to 294 and the dollar amount to 100.000000."
   ]
  },
  {
   "cell_type": "code",
   "execution_count": 8,
   "id": "8d28fcbc-c73f-4c27-8d68-069d8ebe98ce",
   "metadata": {
    "vscode": {
     "languageId": "shellscript"
    }
   },
   "outputs": [
    {
     "name": "stdout",
     "output_type": "stream",
     "text": [
      "LOVELACE_AMOUNT = 294000000 lovelace\n",
      "MICROUSD_AMOUNT = 100000000 µUSD\n"
     ]
    }
   ],
   "source": [
    "ADA=1000000  # 1 ada = 1,000,000 lovelace\n",
    "LOVELACE_AMOUNT=$((294 * ADA))\n",
    "MICROUSD_AMOUNT=$((100 * 1000000))\n",
    "echo \"LOVELACE_AMOUNT = $LOVELACE_AMOUNT lovelace\"\n",
    "echo \"MICROUSD_AMOUNT = $MICROUSD_AMOUNT µUSD\""
   ]
  },
  {
   "cell_type": "markdown",
   "id": "5a11195d-000f-44e4-a217-50e5d7de01ed",
   "metadata": {},
   "source": [
    "On the Cardano blockchain, the protocol parameters require that each UTxO contain at least some ada. Here we will start the contract with 2 ada."
   ]
  },
  {
   "cell_type": "code",
   "execution_count": 9,
   "id": "8f699238-b0a0-4626-b04f-e93d93b0f458",
   "metadata": {
    "vscode": {
     "languageId": "shellscript"
    }
   },
   "outputs": [
    {
     "name": "stdout",
     "output_type": "stream",
     "text": [
      "MIN_LOVELACE = 2000000 lovelace\n"
     ]
    }
   ],
   "source": [
    "MIN_LOVELACE=\"$((2 * ADA))\"\n",
    "echo \"MIN_LOVELACE = $MIN_LOVELACE lovelace\""
   ]
  },
  {
   "cell_type": "markdown",
   "id": "0b4c28e3-3f4b-4fa8-8dd4-aa7b51921132",
   "metadata": {},
   "source": [
    "Later in the example we will need some constants for converting times."
   ]
  },
  {
   "cell_type": "code",
   "execution_count": 10,
   "id": "d06a9229-9e53-4a00-accf-ae06b115ff39",
   "metadata": {
    "tags": [],
    "vscode": {
     "languageId": "shellscript"
    }
   },
   "outputs": [],
   "source": [
    "SECOND=1000 # 1 second = 1000 milliseconds\n",
    "MINUTE=$((60 * SECOND)) # 1 minute = 60 seconds\n",
    "HOUR=$((60 * MINUTE)) # 1 hour = 60 minutes"
   ]
  },
  {
   "cell_type": "markdown",
   "id": "94d3ddb1-35e9-49ff-9062-1854febca9b7",
   "metadata": {},
   "source": [
    "Now design the contract.\n",
    "\n",
    "1. Visit https://play.marlowe-finance.io/ in a web browser.\n",
    "2. Select \"Open an Example\".\n",
    "3. Select \"Marlowe\" or \"Blockly\" under \"Swap\".\n",
    "4. Edit the contract so that the dollar token has the policy ID and name for the dollar token. In this example we use test djed, which has policy ID `9772ff715b691c0444f333ba1db93b055c0864bec48fff92d1f2a7fe` and token name `Djed_testMicroUSD`.\n",
    "5. Select \"Send to Simulator\".\n",
    "6. Set the \"Timeout for ada deposit\" to one hour into the future.\n",
    "7. Set the \"Timeout for dollar deposit\" to two hours into the future\n",
    "8. Set \"Amount of Ada\" to 294.\n",
    "9. Set \"Amount of dollars\" to 100,000,000, since the units of measure are millionths.\n",
    "10. Select \"Download as JSON\", set the file name to \"swap-contract.json\", and store the file in this folder, namely [marlowe-starter-kit/05-swap-rest/](.).\n",
    "\n",
    "![Setting parameters for the swap contract in Marlowe Playground](../images/swap-simulation.png)"
   ]
  },
  {
   "cell_type": "markdown",
   "id": "b158c36f-c316-4a08-8db5-8464645f2466",
   "metadata": {},
   "source": [
    "## Examine the contract\n",
    "\n",
    "View the contract file as YAML."
   ]
  },
  {
   "cell_type": "code",
   "execution_count": 11,
   "id": "58855a22-decd-4730-bac7-800d0f766034",
   "metadata": {
    "vscode": {
     "languageId": "shellscript"
    }
   },
   "outputs": [
    {
     "name": "stdout",
     "output_type": "stream",
     "text": [
      "timeout: 1679069863000\n",
      "timeout_continuation: close\n",
      "when:\n",
      "- case:\n",
      "    deposits:\n",
      "      multiply: 1000000\n",
      "      times: 294\n",
      "    into_account:\n",
      "      role_token: Ada provider\n",
      "    of_token:\n",
      "      currency_symbol: ''\n",
      "      token_name: ''\n",
      "    party:\n",
      "      role_token: Ada provider\n",
      "  then:\n",
      "    timeout: 1679077063000\n",
      "    timeout_continuation: close\n",
      "    when:\n",
      "    - case:\n",
      "        deposits: 100000000\n",
      "        into_account:\n",
      "          role_token: Dollar provider\n",
      "        of_token:\n",
      "          currency_symbol: 9772ff715b691c0444f333ba1db93b055c0864bec48fff92d1f2a7fe\n",
      "          token_name: Djed_testMicroUSD\n",
      "        party:\n",
      "          role_token: Dollar provider\n",
      "      then:\n",
      "        from_account:\n",
      "          role_token: Ada provider\n",
      "        pay:\n",
      "          multiply: 1000000\n",
      "          times: 294\n",
      "        then:\n",
      "          from_account:\n",
      "            role_token: Dollar provider\n",
      "          pay: 100000000\n",
      "          then: close\n",
      "          to:\n",
      "            party:\n",
      "              role_token: Ada provider\n",
      "          token:\n",
      "            currency_symbol: 9772ff715b691c0444f333ba1db93b055c0864bec48fff92d1f2a7fe\n",
      "            token_name: Djed_testMicroUSD\n",
      "        to:\n",
      "          party:\n",
      "            role_token: Dollar provider\n",
      "        token:\n",
      "          currency_symbol: ''\n",
      "          token_name: ''\n"
     ]
    }
   ],
   "source": [
    "json2yaml swap-contract.json"
   ]
  },
  {
   "cell_type": "markdown",
   "id": "4c4c1547-2bb6-4517-ba71-bf1ff35ad973",
   "metadata": {},
   "source": [
    "### \\[Optional\\] Check the safety of the contract\n",
    "\n",
    "If we were running the contract on the Cardano `mainnet`, then we\\'d want to check its safety before creating it, so that there is no chance that we might lose funds.\n",
    "\n",
    "Here are the steps for checking the safety of a contract:\n",
    "\n",
    "1. Understand the [Marlowe Language](https://marlowe-finance.io/).\n",
    "2. Understand Cardano\\'s [Extended UTxO Model](https://docs.cardano.org/learn/eutxo-explainer).\n",
    "3. Read and understand the [Marlowe Best Practices Guide](https://github.com/input-output-hk/marlowe-cardano/blob/main/marlowe/best-practices.md).\n",
    "4. Read and understand the [Marlowe Security Guide](https://github.com/input-output-hk/marlowe-cardano/blob/main/marlowe/security.md).\n",
    "5. Use [Marlowe Playground](https://play.marlowe-finance.io/) to flag warnings, perform static analysis, and simulate the contract.\n",
    "6. Use [Marlowe CLI\\'s](https://github.com/input-output-hk/marlowe-cardano/blob/main/marlowe-cli/ReadMe.md) `marlowe-cli run analyze` tool to study whether the contract can run on a Cardano network.\n",
    "7. Run *all execution paths* of the contract on a [Cardano testnet](https://docs.cardano.org/cardano-testnet/overview).\n",
    "\n",
    "See [Lesson 1](../01-runtime-cli/ReadMe.ipynb) for an example of performing step 6."
   ]
  },
  {
   "cell_type": "markdown",
   "id": "87bb70c0-a8ed-4a9a-b0b7-732c40f0cad6",
   "metadata": {},
   "source": [
    "## Transaction 1: Ada provider Creates Swap Contract with Initial ADA\n",
    "\n",
    "A `HTTP` `POST` request to Marlowe Runtime\\'s `/contracts` endpoint will build the creation transaction for a Marlowe contract. We provide it the JSON file containing the contract and tell it the `MIN_LOVELACE` value that we previously chose. Anyone could create the contract, but in this example the lender will be doing so, so we provide their address to fund the transaction and to receive the change from it.\n",
    "\n",
    "First we create the JSON body of the request to build the creation transaction."
   ]
  },
  {
   "cell_type": "code",
   "execution_count": 12,
   "id": "4314ece0-462f-4df8-b739-f9db58cbc6a9",
   "metadata": {
    "vscode": {
     "languageId": "shellscript"
    }
   },
   "outputs": [
    {
     "name": "stdout",
     "output_type": "stream",
     "text": [
      "{\"contract\":{\"timeout\":1679069863000,\"timeout_continuation\":\"close\",\"when\":[{\"case\":{\"deposits\":{\"multiply\":1000000,\"times\":294},\"into_account\":{\"role_token\":\"Ada provider\"},\"of_token\":{\"currency_symbol\":\"\",\"token_name\":\"\"},\"party\":{\"role_token\":\"Ada provider\"}},\"then\":{\"timeout\":1679077063000,\"timeout_continuation\":\"close\",\"when\":[{\"case\":{\"deposits\":100000000,\"into_account\":{\"role_token\":\"Dollar provider\"},\"of_token\":{\"currency_symbol\":\"9772ff715b691c0444f333ba1db93b055c0864bec48fff92d1f2a7fe\",\"token_name\":\"Djed_testMicroUSD\"},\"party\":{\"role_token\":\"Dollar provider\"}},\"then\":{\"from_account\":{\"role_token\":\"Ada provider\"},\"pay\":{\"multiply\":1000000,\"times\":294},\"then\":{\"from_account\":{\"role_token\":\"Dollar provider\"},\"pay\":100000000,\"then\":\"close\",\"to\":{\"party\":{\"role_token\":\"Ada provider\"}},\"token\":{\"currency_symbol\":\"9772ff715b691c0444f333ba1db93b055c0864bec48fff92d1f2a7fe\",\"token_name\":\"Djed_testMicroUSD\"}},\"to\":{\"party\":{\"role_token\":\"Dollar provider\"}},\"token\":{\"currency_symbol\":\"\",\"token_name\":\"\"}}}]}}]},\"metadata\":{},\"minUTxODeposit\":2000000,\"roles\":{\"Ada provider\":\"addr_test1vqd3yrtjyx49uld43lvwqaf7z4k03su8gf2x4yr7syzvckgfzm4ck\",\"Dollar provider\":\"addr_test1vpy4n4peh4suv0y55yptur0066j5kds8r4ncnuzm0vpzfgg0dhz6d\"},\"tags\":{},\"version\":\"v1\"}\n"
     ]
    }
   ],
   "source": [
    "yaml2json << EOI > request-1.json\n",
    "version: v1\n",
    "contract: $(cat swap-contract.json)\n",
    "roles:\n",
    "  Ada provider: $ADA_PROVIDER_ADDR\n",
    "  Dollar provider: $USD_PROVIDER_ADDR\n",
    "minUTxODeposit: $MIN_LOVELACE\n",
    "metadata: {}\n",
    "tags: {}\n",
    "EOI\n",
    "cat request-1.json"
   ]
  },
  {
   "cell_type": "markdown",
   "id": "6b04626a-20d3-4b72-9cf0-0465e818311b",
   "metadata": {},
   "source": [
    "Next we post the request and view the response."
   ]
  },
  {
   "cell_type": "code",
   "execution_count": 13,
   "id": "5843b85f-f87e-46d2-a6e8-2550328bb6c6",
   "metadata": {
    "vscode": {
     "languageId": "shellscript"
    }
   },
   "outputs": [
    {
     "name": "stdout",
     "output_type": "stream",
     "text": [
      "links:\n",
      "  contract: contracts/b4cb5da44351b04e0fadc63896982684aef39b2c4ce6ab1c7416cfe013041a67%231\n",
      "resource:\n",
      "  contractId: b4cb5da44351b04e0fadc63896982684aef39b2c4ce6ab1c7416cfe013041a67#1\n",
      "  txBody:\n",
      "    cborHex: 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\n",
      "    description: ''\n",
      "    type: TxBodyBabbage\n"
     ]
    }
   ],
   "source": [
    "curl \"$MARLOWE_RT_WEBSERVER_URL/contracts\" \\\n",
    "  -X POST \\\n",
    "  -H 'Content-Type: application/json' \\\n",
    "  -H \"X-Change-Address: $ADA_PROVIDER_ADDR\" \\\n",
    "  -d @request-1.json \\\n",
    "  -o response-1.json \\\n",
    "  -sS\n",
    "json2yaml response-1.json"
   ]
  },
  {
   "cell_type": "markdown",
   "id": "fde4adcb-8e68-4cae-bc3a-c3ef077ff47c",
   "metadata": {},
   "source": [
    "The identifier for the contract is embedded in the response."
   ]
  },
  {
   "cell_type": "code",
   "execution_count": 14,
   "id": "2e882a2e-07a0-4bf7-891d-cf99651c8c5a",
   "metadata": {
    "vscode": {
     "languageId": "shellscript"
    }
   },
   "outputs": [
    {
     "name": "stdout",
     "output_type": "stream",
     "text": [
      "CONTRACT_ID = b4cb5da44351b04e0fadc63896982684aef39b2c4ce6ab1c7416cfe013041a67#1\n"
     ]
    }
   ],
   "source": [
    "CONTRACT_ID=\"$(jq -r '.resource.contractId' response-1.json)\"\n",
    "echo \"CONTRACT_ID = $CONTRACT_ID\""
   ]
  },
  {
   "cell_type": "markdown",
   "id": "c1be0970-cd75-484d-a745-6e88208b612a",
   "metadata": {},
   "source": [
    "The CBOR serialization (in text-envelope format) is also embedded in the response."
   ]
  },
  {
   "cell_type": "code",
   "execution_count": 15,
   "id": "fb237371-071c-4b70-baca-c67f0751ac3e",
   "metadata": {
    "vscode": {
     "languageId": "shellscript"
    }
   },
   "outputs": [],
   "source": [
    "jq '.resource.txBody' response-1.json > tx-1.unsigned"
   ]
  },
  {
   "cell_type": "markdown",
   "id": "a59332a1-b1a0-4264-a84e-6b613eb20d72",
   "metadata": {},
   "source": [
    "There are many ways to sign and submit Cardano transactions:\n",
    "- `cardano-cli` at the command line\n",
    "- `cardano-wallet` at the command line or as a REST service\n",
    "- `cardano-hw-cli` for a hardware wallet at the command line\n",
    "- a Babbage-compatible CIP-30 wallet in a web browser\n",
    "- `marlowe-cli` at the command line\n",
    "\n",
    "For convenience, here we use `marlowe-cli transaction submit`. One may have to wait a minute or so for the transactions to be confirmed on the blockchain."
   ]
  },
  {
   "cell_type": "code",
   "execution_count": 16,
   "id": "89bb49ae-2353-4d85-9ae5-ad805061f2cd",
   "metadata": {
    "vscode": {
     "languageId": "shellscript"
    }
   },
   "outputs": [
    {
     "name": "stdout",
     "output_type": "stream",
     "text": [
      "TX_1 = b4cb5da44351b04e0fadc63896982684aef39b2c4ce6ab1c7416cfe013041a67\n"
     ]
    }
   ],
   "source": [
    "TX_1=$(\n",
    "marlowe-cli transaction submit \\\n",
    "  --tx-body-file tx-1.unsigned \\\n",
    "  --required-signer \"$ADA_PROVIDER_SKEY\" \\\n",
    "  --timeout 600 \\\n",
    "| sed -e 's/^TxId \"\\(.*\\)\"$/\\1/' \\\n",
    ")\n",
    "echo \"TX_1 = $TX_1\""
   ]
  },
  {
   "cell_type": "markdown",
   "id": "df082e87-eeaf-4924-b55b-94a4ba50c327",
   "metadata": {},
   "source": [
    "One can view the transaction on a Cardano explorer and see that the contract has been created and the parties have received their role tokens. It sometimes takes thirty seconds or so for the transaction to be visible in an explorer."
   ]
  },
  {
   "cell_type": "code",
   "execution_count": 17,
   "id": "006ca411-2088-439f-b735-b49892de22e8",
   "metadata": {
    "vscode": {
     "languageId": "shellscript"
    }
   },
   "outputs": [
    {
     "name": "stdout",
     "output_type": "stream",
     "text": [
      "https://preprod.cardanoscan.io/transaction/b4cb5da44351b04e0fadc63896982684aef39b2c4ce6ab1c7416cfe013041a67?tab=utxo\n"
     ]
    }
   ],
   "source": [
    "echo \"$EXPLORER_URL/transaction/$TX_1?tab=utxo\""
   ]
  },
  {
   "cell_type": "markdown",
   "id": "9a1f44ce-de67-4b87-95d8-c1e052cc308a",
   "metadata": {},
   "source": [
    "In particular, we see that the Marlowe contract holds the 2 ada that was set as `MINIMUM_LOVELACE`."
   ]
  },
  {
   "cell_type": "code",
   "execution_count": 18,
   "id": "bc7b2078-d23c-47f4-9f12-697de8469ce1",
   "metadata": {
    "vscode": {
     "languageId": "shellscript"
    }
   },
   "outputs": [
    {
     "name": "stdout",
     "output_type": "stream",
     "text": [
      "                           TxHash                                 TxIx        Amount\n",
      "--------------------------------------------------------------------------------------\n",
      "b4cb5da44351b04e0fadc63896982684aef39b2c4ce6ab1c7416cfe013041a67     1        2000000 lovelace + TxOutDatumHash ScriptDataInBabbageEra \"e6f7a6ccfd9fba58d3b1f91b946df657e5907b1d36ae6be4e16a4cbf252541fe\"\n"
     ]
    }
   ],
   "source": [
    "cardano-cli query utxo --testnet-magic \"$CARDANO_TESTNET_MAGIC\" --tx-in \"$CONTRACT_ID\""
   ]
  },
  {
   "cell_type": "markdown",
   "id": "9ce2b5b3-4c0b-4c53-ab6d-a1373499097c",
   "metadata": {},
   "source": [
    "One can see that the ada and dollar providers have received their role tokens. Note that `4164612070726f7669646572 = \"Ada provider`, `4275796572 = Buyer`, and `446f6c6c61722070726f7669646572 = \"Dollar provider\"` in hexadecimal notation. Also note that `446a65645f746573744d696372 = Djed_testMicroUSD`."
   ]
  },
  {
   "cell_type": "code",
   "execution_count": 19,
   "id": "613f0751-3bc5-4ca7-b208-ef5830eef61d",
   "metadata": {
    "tags": [],
    "vscode": {
     "languageId": "shellscript"
    }
   },
   "outputs": [
    {
     "name": "stdout",
     "output_type": "stream",
     "text": [
      "                           TxHash                                 TxIx        Amount\n",
      "--------------------------------------------------------------------------------------\n",
      "b4cb5da44351b04e0fadc63896982684aef39b2c4ce6ab1c7416cfe013041a67     0        995413303 lovelace + TxOutDatumNone\n",
      "b4cb5da44351b04e0fadc63896982684aef39b2c4ce6ab1c7416cfe013041a67     2        1060260 lovelace + 1 85af75ce4fabc39b37453d3af6be6dad8c95ecfae2b43f0aa6a4efb0.4164612070726f7669646572 + TxOutDatumNone\n"
     ]
    }
   ],
   "source": [
    "cardano-cli query utxo --testnet-magic \"$CARDANO_TESTNET_MAGIC\" --address \"$ADA_PROVIDER_ADDR\""
   ]
  },
  {
   "cell_type": "code",
   "execution_count": 20,
   "id": "7f6d2b5e-86c2-4f53-ba20-8f95b43c3145",
   "metadata": {
    "tags": [],
    "vscode": {
     "languageId": "shellscript"
    }
   },
   "outputs": [
    {
     "name": "stdout",
     "output_type": "stream",
     "text": [
      "                           TxHash                                 TxIx        Amount\n",
      "--------------------------------------------------------------------------------------\n",
      "b4cb5da44351b04e0fadc63896982684aef39b2c4ce6ab1c7416cfe013041a67     3        1073190 lovelace + 1 85af75ce4fabc39b37453d3af6be6dad8c95ecfae2b43f0aa6a4efb0.446f6c6c61722070726f7669646572 + TxOutDatumNone\n",
      "ef77bc0cad935d34eba162c983b4d5235c620fffef62c2b846e6bb7f7457854c     2        2000000 lovelace + 100000000 9772ff715b691c0444f333ba1db93b055c0864bec48fff92d1f2a7fe.446a65645f746573744d6963726f555344 + TxOutDatumNone\n",
      "ffdd8bc307959deabcac84f45491da513f5c35cc594e58957ade541a5b86d290     2        1000000000 lovelace + TxOutDatumNone\n"
     ]
    }
   ],
   "source": [
    "cardano-cli query utxo --testnet-magic \"$CARDANO_TESTNET_MAGIC\" --address \"$USD_PROVIDER_ADDR\""
   ]
  },
  {
   "cell_type": "markdown",
   "id": "3a7f985a-dba3-4b5f-aab8-8418270c5dda",
   "metadata": {},
   "source": [
    "## View the details of the contract on the blockchain\n",
    "\n",
    "Marlowe Runtime\\'s `HTTP` `GET` endpoint `/contracts/{contractId}` can fetch a contract from the blockchain and return information about it."
   ]
  },
  {
   "cell_type": "code",
   "execution_count": 21,
   "id": "8328b458-43fb-4e53-8060-1740d25cf93b",
   "metadata": {
    "vscode": {
     "languageId": "shellscript"
    }
   },
   "outputs": [
    {
     "name": "stdout",
     "output_type": "stream",
     "text": [
      "CONTRACT_URL = http://127.0.0.1:3780/contracts/b4cb5da44351b04e0fadc63896982684aef39b2c4ce6ab1c7416cfe013041a67%231\n"
     ]
    }
   ],
   "source": [
    "CONTRACT_URL=\"$MARLOWE_RT_WEBSERVER_URL/$(jq -r '.links.contract' response-1.json)\"\n",
    "echo \"CONTRACT_URL = $CONTRACT_URL\""
   ]
  },
  {
   "cell_type": "code",
   "execution_count": 22,
   "id": "e805f893-bcd8-4169-a2da-90f1cfa080b2",
   "metadata": {
    "vscode": {
     "languageId": "shellscript"
    }
   },
   "outputs": [
    {
     "name": "stdout",
     "output_type": "stream",
     "text": [
      "links:\n",
      "  transactions: contracts/b4cb5da44351b04e0fadc63896982684aef39b2c4ce6ab1c7416cfe013041a67%231/transactions\n",
      "resource:\n",
      "  block:\n",
      "    blockHeaderHash: 9aac7ea5251e763d21dc9c53d0ddea983f1c67fcf905c3fa9c16019735cd9e5a\n",
      "    blockNo: 734431\n",
      "    slotNo: 23381135\n",
      "  continuations: null\n",
      "  contractId: b4cb5da44351b04e0fadc63896982684aef39b2c4ce6ab1c7416cfe013041a67#1\n",
      "  currentContract:\n",
      "    timeout: 1679069863000\n",
      "    timeout_continuation: close\n",
      "    when:\n",
      "    - case:\n",
      "        deposits:\n",
      "          multiply: 1000000\n",
      "          times: 294\n",
      "        into_account:\n",
      "          role_token: Ada provider\n",
      "        of_token:\n",
      "          currency_symbol: ''\n",
      "          token_name: ''\n",
      "        party:\n",
      "          role_token: Ada provider\n",
      "      then:\n",
      "        timeout: 1679077063000\n",
      "        timeout_continuation: close\n",
      "        when:\n",
      "        - case:\n",
      "            deposits: 100000000\n",
      "            into_account:\n",
      "              role_token: Dollar provider\n",
      "            of_token:\n",
      "              currency_symbol: 9772ff715b691c0444f333ba1db93b055c0864bec48fff92d1f2a7fe\n",
      "              token_name: Djed_testMicroUSD\n",
      "            party:\n",
      "              role_token: Dollar provider\n",
      "          then:\n",
      "            from_account:\n",
      "              role_token: Ada provider\n",
      "            pay:\n",
      "              multiply: 1000000\n",
      "              times: 294\n",
      "            then:\n",
      "              from_account:\n",
      "                role_token: Dollar provider\n",
      "              pay: 100000000\n",
      "              then: close\n",
      "              to:\n",
      "                party:\n",
      "                  role_token: Ada provider\n",
      "              token:\n",
      "                currency_symbol: 9772ff715b691c0444f333ba1db93b055c0864bec48fff92d1f2a7fe\n",
      "                token_name: Djed_testMicroUSD\n",
      "            to:\n",
      "              party:\n",
      "                role_token: Dollar provider\n",
      "            token:\n",
      "              currency_symbol: ''\n",
      "              token_name: ''\n",
      "  initialContract:\n",
      "    timeout: 1679069863000\n",
      "    timeout_continuation: close\n",
      "    when:\n",
      "    - case:\n",
      "        deposits:\n",
      "          multiply: 1000000\n",
      "          times: 294\n",
      "        into_account:\n",
      "          role_token: Ada provider\n",
      "        of_token:\n",
      "          currency_symbol: ''\n",
      "          token_name: ''\n",
      "        party:\n",
      "          role_token: Ada provider\n",
      "      then:\n",
      "        timeout: 1679077063000\n",
      "        timeout_continuation: close\n",
      "        when:\n",
      "        - case:\n",
      "            deposits: 100000000\n",
      "            into_account:\n",
      "              role_token: Dollar provider\n",
      "            of_token:\n",
      "              currency_symbol: 9772ff715b691c0444f333ba1db93b055c0864bec48fff92d1f2a7fe\n",
      "              token_name: Djed_testMicroUSD\n",
      "            party:\n",
      "              role_token: Dollar provider\n",
      "          then:\n",
      "            from_account:\n",
      "              role_token: Ada provider\n",
      "            pay:\n",
      "              multiply: 1000000\n",
      "              times: 294\n",
      "            then:\n",
      "              from_account:\n",
      "                role_token: Dollar provider\n",
      "              pay: 100000000\n",
      "              then: close\n",
      "              to:\n",
      "                party:\n",
      "                  role_token: Ada provider\n",
      "              token:\n",
      "                currency_symbol: 9772ff715b691c0444f333ba1db93b055c0864bec48fff92d1f2a7fe\n",
      "                token_name: Djed_testMicroUSD\n",
      "            to:\n",
      "              party:\n",
      "                role_token: Dollar provider\n",
      "            token:\n",
      "              currency_symbol: ''\n",
      "              token_name: ''\n",
      "  metadata: {}\n",
      "  roleTokenMintingPolicyId: 85af75ce4fabc39b37453d3af6be6dad8c95ecfae2b43f0aa6a4efb0\n",
      "  state:\n",
      "    accounts:\n",
      "    - - - address: addr_test1vqd3yrtjyx49uld43lvwqaf7z4k03su8gf2x4yr7syzvckgfzm4ck\n",
      "        - currency_symbol: ''\n",
      "          token_name: ''\n",
      "      - 2000000\n",
      "    boundValues: []\n",
      "    choices: []\n",
      "    minTime: 0\n",
      "  status: confirmed\n",
      "  tags: {}\n",
      "  txBody: null\n",
      "  utxo: b4cb5da44351b04e0fadc63896982684aef39b2c4ce6ab1c7416cfe013041a67#1\n",
      "  version: v1\n"
     ]
    }
   ],
   "source": [
    "curl -sS \"$CONTRACT_URL\" | json2yaml"
   ]
  },
  {
   "cell_type": "markdown",
   "id": "e2166e0c-108b-40e5-b720-00043d697e1a",
   "metadata": {},
   "source": [
    "## Transaction 2: The Ada Provider Deposits 294 Ada into the Contract\n",
    "\n",
    "The ada provider deposits their 294 ada into the contract using Marlowe Runtime\\'s `HTTP` `POST` `/contract/{contractId}/transactions` endpoint. The buyer is providing the funding for and receiving the change from this transaction, so we provide their address.\n",
    "\n",
    "The deposit is represented as JSON input to the contract. The `marlowe-cli input deposit` tool conveniently formats the correct JSON for a deposit."
   ]
  },
  {
   "cell_type": "code",
   "execution_count": 23,
   "id": "3c8a6076-f342-489c-939c-e9c017b6b445",
   "metadata": {
    "vscode": {
     "languageId": "shellscript"
    }
   },
   "outputs": [
    {
     "name": "stdout",
     "output_type": "stream",
     "text": [
      "input_from_party:\n",
      "  role_token: Ada provider\n",
      "into_account:\n",
      "  role_token: Ada provider\n",
      "of_token:\n",
      "  currency_symbol: ''\n",
      "  token_name: ''\n",
      "that_deposits: 294000000\n"
     ]
    }
   ],
   "source": [
    "marlowe-cli input deposit \\\n",
    "  --deposit-party 'Ada provider' \\\n",
    "  --deposit-account 'Ada provider' \\\n",
    "  --deposit-amount \"$LOVELACE_AMOUNT\" \\\n",
    "  --out-file input-2.json\n",
    "json2yaml input-2.json"
   ]
  },
  {
   "cell_type": "code",
   "execution_count": 24,
   "id": "4fc16b02-358c-438f-9e5b-7d709da7eac5",
   "metadata": {
    "vscode": {
     "languageId": "shellscript"
    }
   },
   "outputs": [
    {
     "name": "stdout",
     "output_type": "stream",
     "text": [
      "{\"inputs\":[{\"input_from_party\":{\"role_token\":\"Ada provider\"},\"into_account\":{\"role_token\":\"Ada provider\"},\"of_token\":{\"currency_symbol\":\"\",\"token_name\":\"\"},\"that_deposits\":294000000}],\"metadata\":{},\"tags\":{},\"version\":\"v1\"}\n"
     ]
    }
   ],
   "source": [
    "yaml2json << EOI > request-2.json\n",
    "version: v1\n",
    "inputs: [$(cat input-2.json)]\n",
    "metadata: {}\n",
    "tags: {}\n",
    "EOI\n",
    "cat request-2.json"
   ]
  },
  {
   "cell_type": "markdown",
   "id": "7f66252b-23fc-47e3-825d-7aba51a86368",
   "metadata": {},
   "source": [
    "Next we post the request and store the response."
   ]
  },
  {
   "cell_type": "code",
   "execution_count": 25,
   "id": "465152a1-eaaa-4dab-9035-aa306c0022fa",
   "metadata": {
    "vscode": {
     "languageId": "shellscript"
    }
   },
   "outputs": [
    {
     "name": "stdout",
     "output_type": "stream",
     "text": [
      "links:\n",
      "  transaction: contracts/b4cb5da44351b04e0fadc63896982684aef39b2c4ce6ab1c7416cfe013041a67%231/transactions/0ea14eca50455206862f39f2e3d62bd12524bdec78a4a322a3852db546222dae\n",
      "resource:\n",
      "  contractId: b4cb5da44351b04e0fadc63896982684aef39b2c4ce6ab1c7416cfe013041a67#1\n",
      "  transactionId: 0ea14eca50455206862f39f2e3d62bd12524bdec78a4a322a3852db546222dae\n",
      "  txBody:\n",
      "    cborHex: 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\n",
      "    description: ''\n",
      "    type: TxBodyBabbage\n"
     ]
    }
   ],
   "source": [
    "curl \"$CONTRACT_URL/transactions\" \\\n",
    "  -X POST \\\n",
    "  -H 'Content-Type: application/json' \\\n",
    "  -H \"X-Change-Address: $ADA_PROVIDER_ADDR\" \\\n",
    "  -d @request-2.json \\\n",
    "  -o response-2.json \\\n",
    "  -sS\n",
    "json2yaml response-2.json"
   ]
  },
  {
   "cell_type": "markdown",
   "id": "69e4024a-c61f-4e5a-8272-d1f958f82a15",
   "metadata": {},
   "source": [
    "Once again, use `marlowe-cli` to submit the transaction and then wait for confirmation."
   ]
  },
  {
   "cell_type": "code",
   "execution_count": 26,
   "id": "6fb5d4c0-c158-434b-8dac-b2160f426e01",
   "metadata": {
    "vscode": {
     "languageId": "shellscript"
    }
   },
   "outputs": [],
   "source": [
    "jq '.resource.txBody' response-2.json > tx-2.unsigned"
   ]
  },
  {
   "cell_type": "code",
   "execution_count": 27,
   "id": "b2aa2f81-d6b7-4994-b90b-0812d5fb3fca",
   "metadata": {
    "vscode": {
     "languageId": "shellscript"
    }
   },
   "outputs": [
    {
     "name": "stdout",
     "output_type": "stream",
     "text": [
      "TX_2 = 0ea14eca50455206862f39f2e3d62bd12524bdec78a4a322a3852db546222dae\n"
     ]
    }
   ],
   "source": [
    "TX_2=$(\n",
    "marlowe-cli transaction submit \\\n",
    "  --tx-body-file tx-2.unsigned \\\n",
    "  --required-signer \"$ADA_PROVIDER_SKEY\" \\\n",
    "  --timeout 600 \\\n",
    "| sed -e 's/^TxId \"\\(.*\\)\"$/\\1/' \\\n",
    ")\n",
    "echo \"TX_2 = $TX_2\""
   ]
  },
  {
   "cell_type": "markdown",
   "id": "b7d1ac41-f3c3-47b0-b192-e0f8ad53fdfa",
   "metadata": {},
   "source": [
    "One can view the transaction on a Cardano explorer. It sometimes takes thirty seconds or so for the transaction to be visible in an explorer."
   ]
  },
  {
   "cell_type": "code",
   "execution_count": 28,
   "id": "9b994073-d1b9-44a4-8149-9b307a69a4e4",
   "metadata": {
    "vscode": {
     "languageId": "shellscript"
    }
   },
   "outputs": [
    {
     "name": "stdout",
     "output_type": "stream",
     "text": [
      "https://preprod.cardanoscan.io/transaction/0ea14eca50455206862f39f2e3d62bd12524bdec78a4a322a3852db546222dae?tab=utxo\n"
     ]
    }
   ],
   "source": [
    "echo \"$EXPLORER_URL/transaction/$TX_2?tab=utxo\""
   ]
  },
  {
   "cell_type": "markdown",
   "id": "664d2826-7d6c-4564-9ef9-6b12e3e76f53",
   "metadata": {},
   "source": [
    "One can see that the ada provider has approximately 294 ada less than originally."
   ]
  },
  {
   "cell_type": "code",
   "execution_count": 29,
   "id": "b45dc15d-f54f-49cb-a36d-0524f47fd70e",
   "metadata": {
    "vscode": {
     "languageId": "shellscript"
    }
   },
   "outputs": [
    {
     "name": "stdout",
     "output_type": "stream",
     "text": [
      "                           TxHash                                 TxIx        Amount\n",
      "--------------------------------------------------------------------------------------\n",
      "0ea14eca50455206862f39f2e3d62bd12524bdec78a4a322a3852db546222dae     0        700685264 lovelace + TxOutDatumNone\n",
      "0ea14eca50455206862f39f2e3d62bd12524bdec78a4a322a3852db546222dae     2        1060260 lovelace + 1 85af75ce4fabc39b37453d3af6be6dad8c95ecfae2b43f0aa6a4efb0.4164612070726f7669646572 + TxOutDatumNone\n"
     ]
    }
   ],
   "source": [
    "cardano-cli query utxo --testnet-magic \"$CARDANO_TESTNET_MAGIC\" --address \"$ADA_PROVIDER_ADDR\""
   ]
  },
  {
   "cell_type": "markdown",
   "id": "4d2574d2-587f-46f7-8129-431694172296",
   "metadata": {},
   "source": [
    "The Marlowe contract still has the 2 ada from its creation and an additional 294 ada."
   ]
  },
  {
   "cell_type": "code",
   "execution_count": 30,
   "id": "6485d605-dec4-4bab-86f6-81bf002041ed",
   "metadata": {
    "vscode": {
     "languageId": "shellscript"
    }
   },
   "outputs": [
    {
     "name": "stdout",
     "output_type": "stream",
     "text": [
      "                           TxHash                                 TxIx        Amount\n",
      "--------------------------------------------------------------------------------------\n",
      "0ea14eca50455206862f39f2e3d62bd12524bdec78a4a322a3852db546222dae     1        296000000 lovelace + TxOutDatumHash ScriptDataInBabbageEra \"0698aa2d2bcd606ebe10a057fc60b7e220c591a557e9e9dbe9c312241f15791f\"\n"
     ]
    }
   ],
   "source": [
    "cardano-cli query utxo --testnet-magic \"$CARDANO_TESTNET_MAGIC\" --tx-in \"$TX_2#1\""
   ]
  },
  {
   "cell_type": "markdown",
   "id": "2bbf4214-ecf6-4d4f-a8ea-acdb6ff8bcb7",
   "metadata": {},
   "source": [
    "## View the further progress of the contract on the blockchain\n",
    "\n",
    "Marlowe Runtime\\'s `HTTP` `GET` endpoint `/contracts/{contractId}/transactions/{transactionId}` can fetch a contract from the blockchain and return information about it."
   ]
  },
  {
   "cell_type": "code",
   "execution_count": 31,
   "id": "e0461725-7f2b-4256-ac83-8e681ecb3e35",
   "metadata": {
    "vscode": {
     "languageId": "shellscript"
    }
   },
   "outputs": [
    {
     "name": "stdout",
     "output_type": "stream",
     "text": [
      "links: {}\n",
      "resource:\n",
      "  block:\n",
      "    blockHeaderHash: 785af96d92d0d313f8503ab8a1524c03c5cb4fe1bf6f1759c261ff693a7161d3\n",
      "    blockNo: 734432\n",
      "    slotNo: 23381182\n",
      "  consumingTx: null\n",
      "  continuations: null\n",
      "  contractId: b4cb5da44351b04e0fadc63896982684aef39b2c4ce6ab1c7416cfe013041a67#1\n",
      "  inputUtxo: b4cb5da44351b04e0fadc63896982684aef39b2c4ce6ab1c7416cfe013041a67#1\n",
      "  inputs:\n",
      "  - input_from_party:\n",
      "      role_token: Ada provider\n",
      "    into_account:\n",
      "      role_token: Ada provider\n",
      "    of_token:\n",
      "      currency_symbol: ''\n",
      "      token_name: ''\n",
      "    that_deposits: 294000000\n",
      "  invalidBefore: 2023-03-17T14:45:35Z\n",
      "  invalidHereafter: 2023-03-17T16:17:43Z\n",
      "  metadata: {}\n",
      "  outputContract:\n",
      "    timeout: 1679077063000\n",
      "    timeout_continuation: close\n",
      "    when:\n",
      "    - case:\n",
      "        deposits: 100000000\n",
      "        into_account:\n",
      "          role_token: Dollar provider\n",
      "        of_token:\n",
      "          currency_symbol: 9772ff715b691c0444f333ba1db93b055c0864bec48fff92d1f2a7fe\n",
      "          token_name: Djed_testMicroUSD\n",
      "        party:\n",
      "          role_token: Dollar provider\n",
      "      then:\n",
      "        from_account:\n",
      "          role_token: Ada provider\n",
      "        pay:\n",
      "          multiply: 1000000\n",
      "          times: 294\n",
      "        then:\n",
      "          from_account:\n",
      "            role_token: Dollar provider\n",
      "          pay: 100000000\n",
      "          then: close\n",
      "          to:\n",
      "            party:\n",
      "              role_token: Ada provider\n",
      "          token:\n",
      "            currency_symbol: 9772ff715b691c0444f333ba1db93b055c0864bec48fff92d1f2a7fe\n",
      "            token_name: Djed_testMicroUSD\n",
      "        to:\n",
      "          party:\n",
      "            role_token: Dollar provider\n",
      "        token:\n",
      "          currency_symbol: ''\n",
      "          token_name: ''\n",
      "  outputState:\n",
      "    accounts:\n",
      "    - - - address: addr_test1vqd3yrtjyx49uld43lvwqaf7z4k03su8gf2x4yr7syzvckgfzm4ck\n",
      "        - currency_symbol: ''\n",
      "          token_name: ''\n",
      "      - 2000000\n",
      "    - - - role_token: Ada provider\n",
      "        - currency_symbol: ''\n",
      "          token_name: ''\n",
      "      - 294000000\n",
      "    boundValues: []\n",
      "    choices: []\n",
      "    minTime: 1679064335000\n",
      "  outputUtxo: 0ea14eca50455206862f39f2e3d62bd12524bdec78a4a322a3852db546222dae#1\n",
      "  status: confirmed\n",
      "  tags: {}\n",
      "  transactionId: 0ea14eca50455206862f39f2e3d62bd12524bdec78a4a322a3852db546222dae\n",
      "  txBody: null\n"
     ]
    }
   ],
   "source": [
    "curl -sS \"$CONTRACT_URL/transactions/$TX_2\" | json2yaml"
   ]
  },
  {
   "cell_type": "markdown",
   "id": "1a416c81-4ccb-4964-aab8-e2d76fc4512a",
   "metadata": {},
   "source": [
    "## Transaction 3: The Dollar Provider deposits 100 Djed into the Contract\n",
    "\n",
    "The dollar provider deposits their 100 djed into the contract using Marlowe Runtime\\'s `HTTP` `POST` `/contract/{contractId}/transactions` endpoint. The buyer is providing the funding for and receiving the change from this transaction, so we provide their address.\n",
    "\n",
    "The deposit is represented as JSON input to the contract. The `marlowe-cli input deposit` tool conveniently formats the correct JSON for a deposit."
   ]
  },
  {
   "cell_type": "code",
   "execution_count": 32,
   "id": "42aeee88-13e1-4170-b18a-727cd5cde877",
   "metadata": {
    "tags": [],
    "vscode": {
     "languageId": "shellscript"
    }
   },
   "outputs": [
    {
     "name": "stdout",
     "output_type": "stream",
     "text": [
      "input_from_party:\n",
      "  role_token: Dollar provider\n",
      "into_account:\n",
      "  role_token: Dollar provider\n",
      "of_token:\n",
      "  currency_symbol: 9772ff715b691c0444f333ba1db93b055c0864bec48fff92d1f2a7fe\n",
      "  token_name: Djed_testMicroUSD\n",
      "that_deposits: 100000000\n"
     ]
    }
   ],
   "source": [
    "marlowe-cli input deposit \\\n",
    "  --deposit-party 'Dollar provider' \\\n",
    "  --deposit-account 'Dollar provider' \\\n",
    "  --deposit-token 9772ff715b691c0444f333ba1db93b055c0864bec48fff92d1f2a7fe.Djed_testMicroUSD \\\n",
    "  --deposit-amount \"$MICROUSD_AMOUNT\" \\\n",
    "  --out-file input-3.json\n",
    "json2yaml input-3.json"
   ]
  },
  {
   "cell_type": "code",
   "execution_count": 33,
   "id": "3fee1c9b-c4d9-4ab4-9b47-061db363d31f",
   "metadata": {
    "vscode": {
     "languageId": "shellscript"
    }
   },
   "outputs": [
    {
     "name": "stdout",
     "output_type": "stream",
     "text": [
      "{\"inputs\":[{\"input_from_party\":{\"role_token\":\"Dollar provider\"},\"into_account\":{\"role_token\":\"Dollar provider\"},\"of_token\":{\"currency_symbol\":\"9772ff715b691c0444f333ba1db93b055c0864bec48fff92d1f2a7fe\",\"token_name\":\"Djed_testMicroUSD\"},\"that_deposits\":100000000}],\"metadata\":{},\"tags\":{},\"version\":\"v1\"}\n"
     ]
    }
   ],
   "source": [
    "yaml2json << EOI > request-3.json\n",
    "version: v1\n",
    "inputs: [$(cat input-3.json)]\n",
    "metadata: {}\n",
    "tags: {}\n",
    "EOI\n",
    "cat request-3.json"
   ]
  },
  {
   "cell_type": "markdown",
   "id": "8787ec8b-f045-4fbc-adfd-f68bc88303b4",
   "metadata": {},
   "source": [
    "Next we post the request and store the response."
   ]
  },
  {
   "cell_type": "code",
   "execution_count": 34,
   "id": "387362e6-8cb8-4a46-9222-4a065d964167",
   "metadata": {
    "vscode": {
     "languageId": "shellscript"
    }
   },
   "outputs": [
    {
     "name": "stdout",
     "output_type": "stream",
     "text": [
      "links:\n",
      "  transaction: contracts/b4cb5da44351b04e0fadc63896982684aef39b2c4ce6ab1c7416cfe013041a67%231/transactions/5ab310096864fb7c1d4e8dabbb95a16de2984b075a5510caff5df3d15ecbc6a3\n",
      "resource:\n",
      "  contractId: b4cb5da44351b04e0fadc63896982684aef39b2c4ce6ab1c7416cfe013041a67#1\n",
      "  transactionId: 5ab310096864fb7c1d4e8dabbb95a16de2984b075a5510caff5df3d15ecbc6a3\n",
      "  txBody:\n",
      "    cborHex: 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\n",
      "    description: ''\n",
      "    type: TxBodyBabbage\n"
     ]
    }
   ],
   "source": [
    "curl \"$CONTRACT_URL/transactions\" \\\n",
    "  -X POST \\\n",
    "  -H 'Content-Type: application/json' \\\n",
    "  -H \"X-Change-Address: $USD_PROVIDER_ADDR\" \\\n",
    "  -d @request-3.json \\\n",
    "  -o response-3.json \\\n",
    "  -sS\n",
    "json2yaml response-3.json"
   ]
  },
  {
   "cell_type": "markdown",
   "id": "29fe4142-1525-47ef-8270-571c3a5744fc",
   "metadata": {},
   "source": [
    "Once again, use `marlowe-cli` to submit the transaction and then wait for confirmation."
   ]
  },
  {
   "cell_type": "code",
   "execution_count": 35,
   "id": "57490822-4650-481c-b2a3-beb73075ae6b",
   "metadata": {
    "vscode": {
     "languageId": "shellscript"
    }
   },
   "outputs": [],
   "source": [
    "jq '.resource.txBody' response-3.json > tx-3.unsigned"
   ]
  },
  {
   "cell_type": "code",
   "execution_count": 36,
   "id": "61733dd3-cac6-4ef3-bee8-9cb7ec4362ff",
   "metadata": {
    "vscode": {
     "languageId": "shellscript"
    }
   },
   "outputs": [
    {
     "name": "stdout",
     "output_type": "stream",
     "text": [
      "TX_3 = 5ab310096864fb7c1d4e8dabbb95a16de2984b075a5510caff5df3d15ecbc6a3\n"
     ]
    }
   ],
   "source": [
    "TX_3=$(\n",
    "marlowe-cli transaction submit \\\n",
    "  --tx-body-file tx-3.unsigned \\\n",
    "  --required-signer \"$USD_PROVIDER_SKEY\" \\\n",
    "  --timeout 600 \\\n",
    "| sed -e 's/^TxId \"\\(.*\\)\"$/\\1/' \\\n",
    ")\n",
    "echo \"TX_3 = $TX_3\""
   ]
  },
  {
   "cell_type": "markdown",
   "id": "5aa0221d-485b-4c7f-b711-3dc2773d616d",
   "metadata": {},
   "source": [
    "One can view the transaction on a Cardano explorer. It sometimes takes thirty seconds or so for the transaction to be visible in an explorer."
   ]
  },
  {
   "cell_type": "code",
   "execution_count": 37,
   "id": "b7424735-4fba-433d-99ee-ae9b5ec91ab2",
   "metadata": {
    "vscode": {
     "languageId": "shellscript"
    }
   },
   "outputs": [
    {
     "name": "stdout",
     "output_type": "stream",
     "text": [
      "https://preprod.cardanoscan.io/transaction/5ab310096864fb7c1d4e8dabbb95a16de2984b075a5510caff5df3d15ecbc6a3?tab=utxo\n"
     ]
    }
   ],
   "source": [
    "echo \"$EXPLORER_URL/transaction/$TX_3?tab=utxo\""
   ]
  },
  {
   "cell_type": "markdown",
   "id": "39055157-6c46-4b48-94ea-42fa54ec2fb5",
   "metadata": {},
   "source": [
    "One can see that the dollar provider has exactly 100 djed less than originally."
   ]
  },
  {
   "cell_type": "code",
   "execution_count": 38,
   "id": "1f831ae4-36e9-4fb6-9c7b-c6a19e6f249f",
   "metadata": {
    "vscode": {
     "languageId": "shellscript"
    }
   },
   "outputs": [
    {
     "name": "stdout",
     "output_type": "stream",
     "text": [
      "                           TxHash                                 TxIx        Amount\n",
      "--------------------------------------------------------------------------------------\n",
      "5ab310096864fb7c1d4e8dabbb95a16de2984b075a5510caff5df3d15ecbc6a3     0        999834365 lovelace + TxOutDatumNone\n",
      "5ab310096864fb7c1d4e8dabbb95a16de2984b075a5510caff5df3d15ecbc6a3     1        1073190 lovelace + 1 85af75ce4fabc39b37453d3af6be6dad8c95ecfae2b43f0aa6a4efb0.446f6c6c61722070726f7669646572 + TxOutDatumNone\n"
     ]
    }
   ],
   "source": [
    "cardano-cli query utxo --testnet-magic \"$CARDANO_TESTNET_MAGIC\" --address \"$USD_PROVIDER_ADDR\""
   ]
  },
  {
   "cell_type": "markdown",
   "id": "3b092c43-548e-4ee4-8e0b-8898296d5cf5",
   "metadata": {},
   "source": [
    "The Marlowe contract has closed, but the roll-payout address holds 100 djed for the benefit of the ada provider."
   ]
  },
  {
   "cell_type": "code",
   "execution_count": 39,
   "id": "0020850f-5700-4a2e-a1b6-f3486ab9eb14",
   "metadata": {
    "vscode": {
     "languageId": "shellscript"
    }
   },
   "outputs": [
    {
     "name": "stdout",
     "output_type": "stream",
     "text": [
      "                           TxHash                                 TxIx        Amount\n",
      "--------------------------------------------------------------------------------------\n",
      "5ab310096864fb7c1d4e8dabbb95a16de2984b075a5510caff5df3d15ecbc6a3     2        1258520 lovelace + 100000000 9772ff715b691c0444f333ba1db93b055c0864bec48fff92d1f2a7fe.446a65645f746573744d6963726f555344 + TxOutDatumHash ScriptDataInBabbageEra \"d44f6000dbe06f425de399812eb6a111054dc807f637a1aef4603d3930fb9085\"\n"
     ]
    }
   ],
   "source": [
    "cardano-cli query utxo --testnet-magic \"$CARDANO_TESTNET_MAGIC\" --tx-in \"$TX_3#2\""
   ]
  },
  {
   "cell_type": "markdown",
   "id": "7b5be623-0611-464c-a2ac-51fddb6649d6",
   "metadata": {},
   "source": [
    "The roll-payout address also holds 294 ada for the benefit of the dollar provider."
   ]
  },
  {
   "cell_type": "code",
   "execution_count": 40,
   "id": "059097db-7be5-4c14-841b-8f208e915413",
   "metadata": {
    "vscode": {
     "languageId": "shellscript"
    }
   },
   "outputs": [
    {
     "name": "stdout",
     "output_type": "stream",
     "text": [
      "                           TxHash                                 TxIx        Amount\n",
      "--------------------------------------------------------------------------------------\n",
      "5ab310096864fb7c1d4e8dabbb95a16de2984b075a5510caff5df3d15ecbc6a3     3        294000000 lovelace + TxOutDatumHash ScriptDataInBabbageEra \"3c3a56e48a5c05c4977d745f423f5200953e0df7bb61cb6d96140f6efc95085b\"\n"
     ]
    }
   ],
   "source": [
    "cardano-cli query utxo --testnet-magic \"$CARDANO_TESTNET_MAGIC\" --tx-in \"$TX_3#3\""
   ]
  },
  {
   "cell_type": "markdown",
   "id": "4a2e8aac-9a19-48b9-97c7-5b0dc82e75c9",
   "metadata": {},
   "source": [
    "## View the further progress of the contract on the blockchain\n",
    "\n",
    "Marlowe Runtime\\'s `HTTP` `GET` endpoint `/contracts/{contractId}/transactions/{transactionId}` can fetch a contract from the blockchain and return information about it."
   ]
  },
  {
   "cell_type": "code",
   "execution_count": 41,
   "id": "b91dc7ca-2cf8-4d8d-81a7-3d0880aafd90",
   "metadata": {
    "vscode": {
     "languageId": "shellscript"
    }
   },
   "outputs": [
    {
     "name": "stdout",
     "output_type": "stream",
     "text": [
      "links:\n",
      "  previous: contracts/b4cb5da44351b04e0fadc63896982684aef39b2c4ce6ab1c7416cfe013041a67%231/transactions/0ea14eca50455206862f39f2e3d62bd12524bdec78a4a322a3852db546222dae\n",
      "resource:\n",
      "  block:\n",
      "    blockHeaderHash: 5871c976d8d282f1aed9b5501994b012d53d284a76cd886747b4b26c3d4715aa\n",
      "    blockNo: 734436\n",
      "    slotNo: 23381212\n",
      "  consumingTx: null\n",
      "  continuations: null\n",
      "  contractId: b4cb5da44351b04e0fadc63896982684aef39b2c4ce6ab1c7416cfe013041a67#1\n",
      "  inputUtxo: 0ea14eca50455206862f39f2e3d62bd12524bdec78a4a322a3852db546222dae#1\n",
      "  inputs:\n",
      "  - input_from_party:\n",
      "      role_token: Dollar provider\n",
      "    into_account:\n",
      "      role_token: Dollar provider\n",
      "    of_token:\n",
      "      currency_symbol: 9772ff715b691c0444f333ba1db93b055c0864bec48fff92d1f2a7fe\n",
      "      token_name: Djed_testMicroUSD\n",
      "    that_deposits: 100000000\n",
      "  invalidBefore: 2023-03-17T14:46:38Z\n",
      "  invalidHereafter: 2023-03-17T18:17:43Z\n",
      "  metadata: {}\n",
      "  outputContract: null\n",
      "  outputState: null\n",
      "  outputUtxo: null\n",
      "  status: confirmed\n",
      "  tags: {}\n",
      "  transactionId: 5ab310096864fb7c1d4e8dabbb95a16de2984b075a5510caff5df3d15ecbc6a3\n",
      "  txBody: null\n"
     ]
    }
   ],
   "source": [
    "curl -sS \"$CONTRACT_URL/transactions/$TX_3\" | json2yaml"
   ]
  },
  {
   "cell_type": "markdown",
   "id": "1111ac65-fd60-429a-811f-dfe3440e6b95",
   "metadata": {},
   "source": [
    "## Transaction 4: The Ada Provider Withdraws the Dollars\n",
    "\n",
    "The 100 djed is held at Marlowe's role-payout address for the benefit of the ada provider. The ada provider can withdraw these funds at any time. The contract ID and role name are included in the request body for a withdrawal."
   ]
  },
  {
   "cell_type": "code",
   "execution_count": 42,
   "id": "223cd7b7-30d5-4e7d-b99d-76a5926ff737",
   "metadata": {
    "tags": [],
    "vscode": {
     "languageId": "shellscript"
    }
   },
   "outputs": [
    {
     "name": "stdout",
     "output_type": "stream",
     "text": [
      "{\"contractId\":\"b4cb5da44351b04e0fadc63896982684aef39b2c4ce6ab1c7416cfe013041a67#1\",\"role\":\"Ada provider\"}\n"
     ]
    }
   ],
   "source": [
    "yaml2json << EOI > request-4.json\n",
    "contractId: \"$CONTRACT_ID\"\n",
    "role: \"Ada provider\"\n",
    "EOI\n",
    "cat request-4.json"
   ]
  },
  {
   "cell_type": "markdown",
   "id": "7b3c9b1f-b55a-4a09-b0da-6a33ec67fb2c",
   "metadata": {},
   "source": [
    "Next we post the request and store the response."
   ]
  },
  {
   "cell_type": "code",
   "execution_count": 43,
   "id": "fae22f06-a0b5-4366-88c1-4926948dfb50",
   "metadata": {
    "vscode": {
     "languageId": "shellscript"
    }
   },
   "outputs": [
    {
     "name": "stdout",
     "output_type": "stream",
     "text": [
      "links:\n",
      "  withdrawal: withdrawals/cdc9fec1bd70372b7e39db50b9acef9e8b7f06a0c9fecc6da452dc99b499ff24\n",
      "resource:\n",
      "  txBody:\n",
      "    cborHex: 86a800838258200ea14eca50455206862f39f2e3d62bd12524bdec78a4a322a3852db546222dae008258200ea14eca50455206862f39f2e3d62bd12524bdec78a4a322a3852db546222dae028258205ab310096864fb7c1d4e8dabbb95a16de2984b075a5510caff5df3d15ecbc6a3020d818258200ea14eca50455206862f39f2e3d62bd12524bdec78a4a322a3852db546222dae0012818258209a8a6f387a3330b4141e1cb019380b9ac5c72151c0abc52aa4266245d3c555cd020183a200581d601b120d7221aa5e7db58fd8e0753e156cf8c38742546a907e8104cc59011a29c06caea200581d601b120d7221aa5e7db58fd8e0753e156cf8c38742546a907e8104cc5901821a00102da4a1581c85af75ce4fabc39b37453d3af6be6dad8c95ecfae2b43f0aa6a4efb0a14c4164612070726f766964657201a200581d601b120d7221aa5e7db58fd8e0753e156cf8c38742546a907e8104cc5901821a0010c52aa1581c9772ff715b691c0444f333ba1db93b055c0864bec48fff92d1f2a7fea151446a65645f746573744d6963726f5553441a05f5e10010a200581d601b120d7221aa5e7db58fd8e0753e156cf8c38742546a907e8104cc59011a29bb2eb8111a00086d18021a00059e100b5820dc95bfbfb82ce1a5eb0e2aea88ba6cf6f803369db7982bd045a24077ee44231e9fff81d8799f581c85af75ce4fabc39b37453d3af6be6dad8c95ecfae2b43f0aa6a4efb04c4164612070726f7669646572ff81840002d87980821a0021ee861a2463580df5f6\n",
      "    description: ''\n",
      "    type: TxBodyBabbage\n",
      "  withdrawalId: cdc9fec1bd70372b7e39db50b9acef9e8b7f06a0c9fecc6da452dc99b499ff24\n"
     ]
    }
   ],
   "source": [
    "curl \"$MARLOWE_RT_WEBSERVER_URL/withdrawals\" \\\n",
    "  -X POST \\\n",
    "  -H 'Content-Type: application/json' \\\n",
    "  -H \"X-Change-Address: $ADA_PROVIDER_ADDR\" \\\n",
    "  -d @request-4.json \\\n",
    "  -o response-4.json \\\n",
    "  -sS\n",
    "json2yaml response-4.json"
   ]
  },
  {
   "cell_type": "markdown",
   "id": "afefec57-7bba-4c88-82db-6a0f429bf6bb",
   "metadata": {},
   "source": [
    "Once again, use `marlowe-cli` to submit the transaction and then wait for confirmation."
   ]
  },
  {
   "cell_type": "code",
   "execution_count": 44,
   "id": "e5d6f45f-89cf-402b-8a17-520a85d9f757",
   "metadata": {
    "vscode": {
     "languageId": "shellscript"
    }
   },
   "outputs": [],
   "source": [
    "jq '.resource.txBody' response-4.json > tx-4.unsigned"
   ]
  },
  {
   "cell_type": "code",
   "execution_count": 45,
   "id": "c7fa907d-07d8-46b2-9ece-a6f52320e628",
   "metadata": {
    "vscode": {
     "languageId": "shellscript"
    }
   },
   "outputs": [
    {
     "name": "stdout",
     "output_type": "stream",
     "text": [
      "TX_4 = cdc9fec1bd70372b7e39db50b9acef9e8b7f06a0c9fecc6da452dc99b499ff24\n"
     ]
    }
   ],
   "source": [
    "TX_4=$(\n",
    "marlowe-cli transaction submit \\\n",
    "  --tx-body-file tx-4.unsigned \\\n",
    "  --required-signer \"$ADA_PROVIDER_SKEY\" \\\n",
    "  --timeout 600 \\\n",
    "| sed -e 's/^TxId \"\\(.*\\)\"$/\\1/' \\\n",
    ")\n",
    "echo \"TX_4 = $TX_4\""
   ]
  },
  {
   "cell_type": "markdown",
   "id": "89158154-d547-4378-806b-de1d7662503e",
   "metadata": {},
   "source": [
    "On can view the transaction on a Cardano explorer. It sometimes takes thirty seconds or so for the transaction to be visible in an explorer."
   ]
  },
  {
   "cell_type": "code",
   "execution_count": 46,
   "id": "331d652b-e7fa-4eb0-96a3-e5cfa565b1b9",
   "metadata": {
    "vscode": {
     "languageId": "shellscript"
    }
   },
   "outputs": [
    {
     "name": "stdout",
     "output_type": "stream",
     "text": [
      "https://preprod.cardanoscan.io/transaction/cdc9fec1bd70372b7e39db50b9acef9e8b7f06a0c9fecc6da452dc99b499ff24?tab=utxo\n"
     ]
    }
   ],
   "source": [
    "echo \"$EXPLORER_URL/transaction/$TX_4?tab=utxo\""
   ]
  },
  {
   "cell_type": "markdown",
   "id": "2dfa5c8a-938f-4d0d-a806-ca65b688ae32",
   "metadata": {},
   "source": [
    "The ada provider now has the 100 djed."
   ]
  },
  {
   "cell_type": "code",
   "execution_count": 47,
   "id": "18fabe44-1bd2-40ba-8764-f0b384fb5739",
   "metadata": {
    "vscode": {
     "languageId": "shellscript"
    }
   },
   "outputs": [
    {
     "name": "stdout",
     "output_type": "stream",
     "text": [
      "                           TxHash                                 TxIx        Amount\n",
      "--------------------------------------------------------------------------------------\n",
      "5ab310096864fb7c1d4e8dabbb95a16de2984b075a5510caff5df3d15ecbc6a3     4        2000000 lovelace + TxOutDatumNone\n",
      "cdc9fec1bd70372b7e39db50b9acef9e8b7f06a0c9fecc6da452dc99b499ff24     0        700476590 lovelace + TxOutDatumNone\n",
      "cdc9fec1bd70372b7e39db50b9acef9e8b7f06a0c9fecc6da452dc99b499ff24     1        1060260 lovelace + 1 85af75ce4fabc39b37453d3af6be6dad8c95ecfae2b43f0aa6a4efb0.4164612070726f7669646572 + TxOutDatumNone\n",
      "cdc9fec1bd70372b7e39db50b9acef9e8b7f06a0c9fecc6da452dc99b499ff24     2        1099050 lovelace + 100000000 9772ff715b691c0444f333ba1db93b055c0864bec48fff92d1f2a7fe.446a65645f746573744d6963726f555344 + TxOutDatumNone\n"
     ]
    }
   ],
   "source": [
    "cardano-cli query utxo --testnet-magic \"$CARDANO_TESTNET_MAGIC\" --address \"$ADA_PROVIDER_ADDR\""
   ]
  },
  {
   "cell_type": "markdown",
   "id": "97b64a91-527f-4456-9798-c214a8a795b8",
   "metadata": {},
   "source": [
    "## View the withdrawal\n",
    "\n",
    "Marlowe Runtime\\'s `HTTP` `GET` endpoint `/withdrawals/{transactionId}` can fetch a withdrawal from the blockchain and return information about it."
   ]
  },
  {
   "cell_type": "code",
   "execution_count": 48,
   "id": "72ca3c23-4074-4581-ac08-30f46fca17b4",
   "metadata": {
    "vscode": {
     "languageId": "shellscript"
    }
   },
   "outputs": [
    {
     "name": "stdout",
     "output_type": "stream",
     "text": [
      "block:\n",
      "  blockHeaderHash: 44e91d7aabbce5b859abd3e81a6de30e24f8b17f60c67877469c3f6f98e65e44\n",
      "  blockNo: 734437\n",
      "  slotNo: 23381256\n",
      "payouts:\n",
      "- contractId: b4cb5da44351b04e0fadc63896982684aef39b2c4ce6ab1c7416cfe013041a67#1\n",
      "  payout: 5ab310096864fb7c1d4e8dabbb95a16de2984b075a5510caff5df3d15ecbc6a3#2\n",
      "  role: Ada provider\n",
      "  roleTokenMintingPolicyId: 85af75ce4fabc39b37453d3af6be6dad8c95ecfae2b43f0aa6a4efb0\n",
      "status: confirmed\n",
      "withdrawalId: cdc9fec1bd70372b7e39db50b9acef9e8b7f06a0c9fecc6da452dc99b499ff24\n"
     ]
    }
   ],
   "source": [
    "curl -sS \"$MARLOWE_RT_WEBSERVER_URL/withdrawals/$TX_4\" | json2yaml"
   ]
  },
  {
   "cell_type": "markdown",
   "id": "bf69b83d-560a-433e-9f00-570dd5e75724",
   "metadata": {},
   "source": [
    "## Transaction 5: The Dollar Provider Withdraws the Ada\n",
    "\n",
    "The 294 ada is held at Marlowe's role-payout address for the benefit of the dollar provider. The dollar provider can withdraw these funds at any time. The contract ID and role name are included in the request body for a withdrawal."
   ]
  },
  {
   "cell_type": "code",
   "execution_count": 49,
   "id": "be3d3614-94a4-4ebc-af0c-b87b12180baf",
   "metadata": {
    "tags": [],
    "vscode": {
     "languageId": "shellscript"
    }
   },
   "outputs": [
    {
     "name": "stdout",
     "output_type": "stream",
     "text": [
      "{\"contractId\":\"b4cb5da44351b04e0fadc63896982684aef39b2c4ce6ab1c7416cfe013041a67#1\",\"role\":\"Dollar provider\"}\n"
     ]
    }
   ],
   "source": [
    "yaml2json << EOI > request-5.json\n",
    "contractId: \"$CONTRACT_ID\"\n",
    "role: \"Dollar provider\"\n",
    "EOI\n",
    "cat request-5.json"
   ]
  },
  {
   "cell_type": "markdown",
   "id": "4edc76dd-be00-4317-ad22-f885898a0903",
   "metadata": {},
   "source": [
    "Next we post the request and store the response."
   ]
  },
  {
   "cell_type": "code",
   "execution_count": 50,
   "id": "a4e151cb-0df7-4d70-a6b3-09da7066601a",
   "metadata": {
    "vscode": {
     "languageId": "shellscript"
    }
   },
   "outputs": [
    {
     "name": "stdout",
     "output_type": "stream",
     "text": [
      "links:\n",
      "  withdrawal: withdrawals/6a38f30a7d7a2f174962ea002341c2097c3f99b858cce7a8137f47e59d2a4625\n",
      "resource:\n",
      "  txBody:\n",
      "    cborHex: 86a800838258205ab310096864fb7c1d4e8dabbb95a16de2984b075a5510caff5df3d15ecbc6a3008258205ab310096864fb7c1d4e8dabbb95a16de2984b075a5510caff5df3d15ecbc6a3018258205ab310096864fb7c1d4e8dabbb95a16de2984b075a5510caff5df3d15ecbc6a3030d818258205ab310096864fb7c1d4e8dabbb95a16de2984b075a5510caff5df3d15ecbc6a30012818258209a8a6f387a3330b4141e1cb019380b9ac5c72151c0abc52aa4266245d3c555cd020182a200581d604959d439bd61c63c94a102be0defd6a54b36071d6789f05b7b0224a1011a4d194643a200581d604959d439bd61c63c94a102be0defd6a54b36071d6789f05b7b0224a101821a00106026a1581c85af75ce4fabc39b37453d3af6be6dad8c95ecfae2b43f0aa6a4efb0a14f446f6c6c61722070726f76696465720110a200581d604959d439bd61c63c94a102be0defd6a54b36071d6789f05b7b0224a1011a3b90a7a6111a00079b57021a0005123a0b5820f5d906af87b1ec63dc7a0076c6a80fe3863221ac788eb958d430702078f824ff9fff81d8799f581c85af75ce4fabc39b37453d3af6be6dad8c95ecfae2b43f0aa6a4efb04f446f6c6c61722070726f7669646572ff81840002d87980821a001b8ea21a1df568ebf5f6\n",
      "    description: ''\n",
      "    type: TxBodyBabbage\n",
      "  withdrawalId: 6a38f30a7d7a2f174962ea002341c2097c3f99b858cce7a8137f47e59d2a4625\n"
     ]
    }
   ],
   "source": [
    "curl \"$MARLOWE_RT_WEBSERVER_URL/withdrawals\" \\\n",
    "  -X POST \\\n",
    "  -H 'Content-Type: application/json' \\\n",
    "  -H \"X-Change-Address: $USD_PROVIDER_ADDR\" \\\n",
    "  -d @request-5.json \\\n",
    "  -o response-5.json \\\n",
    "  -sS\n",
    "json2yaml response-5.json"
   ]
  },
  {
   "cell_type": "markdown",
   "id": "f0278141-5eb1-40ae-be06-f89de14f371a",
   "metadata": {},
   "source": [
    "Once again, use `marlowe-cli` to submit the transaction and then wait for confirmation."
   ]
  },
  {
   "cell_type": "code",
   "execution_count": 51,
   "id": "476ccaa4-2da7-4f83-8bda-085f4574a6f7",
   "metadata": {
    "vscode": {
     "languageId": "shellscript"
    }
   },
   "outputs": [],
   "source": [
    "jq '.resource.txBody' response-5.json > tx-5.unsigned"
   ]
  },
  {
   "cell_type": "code",
   "execution_count": 52,
   "id": "a40b3d0d-01d4-4c08-998f-5649446fc7fe",
   "metadata": {
    "vscode": {
     "languageId": "shellscript"
    }
   },
   "outputs": [
    {
     "name": "stdout",
     "output_type": "stream",
     "text": [
      "TX_5 = 6a38f30a7d7a2f174962ea002341c2097c3f99b858cce7a8137f47e59d2a4625\n"
     ]
    }
   ],
   "source": [
    "TX_5=$(\n",
    "marlowe-cli transaction submit \\\n",
    "  --tx-body-file tx-5.unsigned \\\n",
    "  --required-signer \"$USD_PROVIDER_SKEY\" \\\n",
    "  --timeout 600 \\\n",
    "| sed -e 's/^TxId \"\\(.*\\)\"$/\\1/' \\\n",
    ")\n",
    "echo \"TX_5 = $TX_5\""
   ]
  },
  {
   "cell_type": "markdown",
   "id": "0f92114c-dc21-426c-a9e7-c9bed8d1183e",
   "metadata": {},
   "source": [
    "On can view the transaction on a Cardano explorer. It sometimes takes thirty seconds or so for the transaction to be visible in an explorer."
   ]
  },
  {
   "cell_type": "code",
   "execution_count": 53,
   "id": "55f05104-8def-4817-b68a-5da197d131d0",
   "metadata": {
    "vscode": {
     "languageId": "shellscript"
    }
   },
   "outputs": [
    {
     "name": "stdout",
     "output_type": "stream",
     "text": [
      "https://preprod.cardanoscan.io/transaction/6a38f30a7d7a2f174962ea002341c2097c3f99b858cce7a8137f47e59d2a4625?tab=utxo\n"
     ]
    }
   ],
   "source": [
    "echo \"$EXPLORER_URL/transaction/$TX_5?tab=utxo\""
   ]
  },
  {
   "cell_type": "markdown",
   "id": "57b69ece-3691-438a-b2fb-c6ace506b949",
   "metadata": {},
   "source": [
    "The dollar provider now has about an additional 294 ada."
   ]
  },
  {
   "cell_type": "code",
   "execution_count": 54,
   "id": "daa35baf-eade-49c5-8d3f-d204f31a5600",
   "metadata": {
    "vscode": {
     "languageId": "shellscript"
    }
   },
   "outputs": [
    {
     "name": "stdout",
     "output_type": "stream",
     "text": [
      "                           TxHash                                 TxIx        Amount\n",
      "--------------------------------------------------------------------------------------\n",
      "6a38f30a7d7a2f174962ea002341c2097c3f99b858cce7a8137f47e59d2a4625     0        1293502019 lovelace + TxOutDatumNone\n",
      "6a38f30a7d7a2f174962ea002341c2097c3f99b858cce7a8137f47e59d2a4625     1        1073190 lovelace + 1 85af75ce4fabc39b37453d3af6be6dad8c95ecfae2b43f0aa6a4efb0.446f6c6c61722070726f7669646572 + TxOutDatumNone\n"
     ]
    }
   ],
   "source": [
    "cardano-cli query utxo --testnet-magic \"$CARDANO_TESTNET_MAGIC\" --address \"$USD_PROVIDER_ADDR\""
   ]
  },
  {
   "cell_type": "markdown",
   "id": "aedb161e-cfa9-4657-a7bf-a93eea800013",
   "metadata": {},
   "source": [
    "## View the withdrawal\n",
    "\n",
    "Marlowe Runtime\\'s `HTTP` `GET` endpoint `/withdrawals/{transactionId}` can fetch a withdrawal from the blockchain and return information about it."
   ]
  },
  {
   "cell_type": "code",
   "execution_count": 55,
   "id": "6fda49c9-f5f1-4cc9-95aa-7ab9a9df2b12",
   "metadata": {
    "vscode": {
     "languageId": "shellscript"
    }
   },
   "outputs": [
    {
     "name": "stdout",
     "output_type": "stream",
     "text": [
      "block:\n",
      "  blockHeaderHash: cc329768acb043c1c2b84269e1404b443b51103e72cafe70951a41b8f5871197\n",
      "  blockNo: 734439\n",
      "  slotNo: 23381296\n",
      "payouts:\n",
      "- contractId: b4cb5da44351b04e0fadc63896982684aef39b2c4ce6ab1c7416cfe013041a67#1\n",
      "  payout: 5ab310096864fb7c1d4e8dabbb95a16de2984b075a5510caff5df3d15ecbc6a3#3\n",
      "  role: Dollar provider\n",
      "  roleTokenMintingPolicyId: 85af75ce4fabc39b37453d3af6be6dad8c95ecfae2b43f0aa6a4efb0\n",
      "status: confirmed\n",
      "withdrawalId: 6a38f30a7d7a2f174962ea002341c2097c3f99b858cce7a8137f47e59d2a4625\n"
     ]
    }
   ],
   "source": [
    "curl -sS \"$MARLOWE_RT_WEBSERVER_URL/withdrawals/$TX_5\" | json2yaml"
   ]
  }
 ],
 "metadata": {
  "kernelspec": {
   "display_name": "Bash",
   "language": "bash",
   "name": "bash"
  },
  "language_info": {
   "name": "bash"
  }
 },
 "nbformat": 4,
 "nbformat_minor": 5
}
