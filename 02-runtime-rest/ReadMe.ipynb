{
 "cells": [
  {
   "cell_type": "markdown",
   "id": "caa144a8-d3d7-42de-bfdd-8b27cf4c5cbe",
   "metadata": {},
   "source": [
    "# Zero-Coupon Bond Using Marlowe Runtime\\'s REST API\n",
    "\n",
    "The zero-coupon bond example is a simple Marlowe contract where a lender provides principal to a borrower who repays it back with interest.\n",
    "\n",
    "In this demonsration we use Marlowe Runtime\\'s REST API, served via `marlowe-web-server`, to run this contract on Cardano\\'s `preprod` public testnet. Marlowe contracts may use either addresses or role tokens for authorization: here we use role tokens and we have Marlowe Runtime mint them.\n",
    "\n",
    "In [Marlowe Playground](https://play.marlowe-finance.io/), the contract looks like this in Blockly format.\n",
    "\n",
    "![Zero-coupon bond Marlowe contract](zcb-contract.png)\n",
    "\n",
    "In Marlowe format it appears as\n",
    "```\n",
    "When\n",
    "    [Case\n",
    "        (Deposit\n",
    "            (Role \"Lender\")\n",
    "            (Role \"Lender\")\n",
    "            (Token \"\" \"\")\n",
    "            (ConstantParam \"$PRINCIPAL\")\n",
    "        )\n",
    "        (Pay\n",
    "            (Role \"Lender\")\n",
    "            (Party (Role \"Borrower\"))\n",
    "            (Token \"\" \"\")\n",
    "            (ConstantParam \"$PRINCIPAL\")\n",
    "            (When\n",
    "                [Case\n",
    "                    (Deposit\n",
    "                        (Role \"Borrower\")\n",
    "                        (Role \"Borrower\")\n",
    "                        (Token \"\" \"\")\n",
    "                        (AddValue\n",
    "                            (ConstantParam \"$INTEREST\")\n",
    "                            (ConstantParam \"$PRINCIPAL\")\n",
    "                        )\n",
    "                    )\n",
    "                    (Pay\n",
    "                        (Role \"Borrower\")\n",
    "                        (Party (Role \"Lender\"))\n",
    "                        (Token \"\" \"\")\n",
    "                        (AddValue\n",
    "                            (ConstantParam \"$INTEREST\")\n",
    "                            (ConstantParam \"$PRINCIPAL\")\n",
    "                        )\n",
    "                        Close \n",
    "                    )]\n",
    "                (TimeParam \"$BORROWER_DEADLINE\")\n",
    "                Close \n",
    "            )\n",
    "        )]\n",
    "    (TimeParam \"$LENDER_DEADLINE\")\n",
    "    Close\n",
    "```"
   ]
  },
  {
   "cell_type": "markdown",
   "id": "f4dc8b07-1958-48da-b2b2-481b6b4598d9",
   "metadata": {},
   "source": [
    "## Prelminaries\n",
    "\n",
    "See [Lesson 0. Preliminaries](../00-preliminaries.ipynb) for information on setting up one's environment for using this tutorial.\n",
    "\n",
    "The lesson assumes that the following environment variables have been set.\n",
    "- `CARDANO_NODE_SOCKET_PATH`: location of Cardano node's socket.\n",
    "- `CARDANO_TESTNET_MAGIC`: testnet magic number.\n",
    "- `CARDANO_RT_WEBSERVER_HOST`: IP address of the Marlowe Runtime web server.\n",
    "- `CARDANO_RT_WEBSERVER_PORT`: Port number for the Marlowe Runtime web server.\n",
    "\n",
    "It also assumes that the Lender and Borrower parties have addresses, signing keys, and funds.\n",
    "- Lender\n",
    "    - [../keys/lender.address](../keys/lender.address): Cardano address for the lender\n",
    "    - [../keys/lender.skey](../keys/lender.skey): location of signing key file for the lender\n",
    "- Borrower\n",
    "    - [../keys/borrower.address](../keys/borrower.address): Cardano address for the borrower\n",
    "    - [../keys/borrower.skey](../keys/borrower.skey): location of signing key file for the borrower"
   ]
  },
  {
   "cell_type": "markdown",
   "id": "c4296d2d-1afc-4a81-a7ed-9df9d5ab772e",
   "metadata": {},
   "source": [
    "### Access to Cardano node and Marlowe Runtime\n",
    "\n",
    "***One can skip this section if one is using [demeter.run](https://demeter.run/)'s Cardano Marlowe Runtime extension.***\n",
    "\n",
    "If we're using [demeter.run](https://demeter.run/)'s Cardano Marlowe Runtime extension, then we already have access to Cardano Node and Marlowe Runtime. If not, set the required environment variables to use a local docker deployment on the default ports."
   ]
  },
  {
   "cell_type": "code",
   "execution_count": 60,
   "id": "e1859d35-ded3-4e16-be43-b1ef030d7f16",
   "metadata": {
    "tags": [],
    "vscode": {
     "languageId": "shellscript"
    }
   },
   "outputs": [
    {
     "name": "stdout",
     "output_type": "stream",
     "text": [
      "CARDANO_NODE_SOCKET_PATH = /home/bbush/.local/share/containers/storage/volumes/marlowe-compose_shared/_data/node.socket\n",
      "CARDANO_TESTNET_MAGIC = 1\n",
      "MARLOWE_RT_WEBSERVER_HOST = 127.0.0.1\n",
      "MARLOWE_RT_WEBSERVER_PORT = 3780\n",
      "MARLOWE_RT_WEBSERVER_URL = http://127.0.0.1:3780\n"
     ]
    }
   ],
   "source": [
    "if [[ -z \"$MARLOWE_RT_WEBSERVER_PORT\" ]]\n",
    "then\n",
    "\n",
    "  if command -v podman > /dev/null\n",
    "  then\n",
    "    DOCKER_CLI=podman\n",
    "  else\n",
    "    DOCKER_CLI=docker\n",
    "  fi\n",
    "  \n",
    "  # Only required for `marlowe-cli` and `cardano-cli`.\n",
    "  export CARDANO_NODE_SOCKET_PATH=\"$($DOCKER_CLI volume inspect marlowe-compose_shared | jq -r '.[0].Mountpoint')/node.socket\"\n",
    "  export CARDANO_TESTNET_MAGIC=1 # Note that preprod=1 and preview=2. Do not set this variable if using mainnet.\n",
    "\n",
    "  # Only required for `marlowe`.\n",
    "  export MARLOWE_RT_WEBSERVER_HOST=\"127.0.0.1\"\n",
    "  export MARLOWE_RT_WEBSERVER_PORT=3780\n",
    "\n",
    "fi\n",
    "\n",
    "case \"$CARDANO_TESTNET_MAGIC\" in\n",
    "  1)\n",
    "    export \"EXPLORER_URL=https://preprod.cardanoscan.io\"\n",
    "    ;;\n",
    "  2)\n",
    "    export \"EXPLORER_URL=https://preview.cardanoscan.io\"\n",
    "    ;;\n",
    "  *)\n",
    "    # Use `mainnet` as the default.\n",
    "    export \"EXPLORER_URL=https://cardanoscan.io\"\n",
    "    ;;\n",
    "esac\n",
    "\n",
    "MARLOWE_RT_WEBSERVER_URL=\"http://$MARLOWE_RT_WEBSERVER_HOST:$MARLOWE_RT_WEBSERVER_PORT\"\n",
    "\n",
    "echo \"CARDANO_NODE_SOCKET_PATH = $CARDANO_NODE_SOCKET_PATH\"\n",
    "echo \"CARDANO_TESTNET_MAGIC = $CARDANO_TESTNET_MAGIC\"\n",
    "echo \"MARLOWE_RT_WEBSERVER_HOST = $MARLOWE_RT_WEBSERVER_HOST\"\n",
    "echo \"MARLOWE_RT_WEBSERVER_PORT = $MARLOWE_RT_WEBSERVER_PORT\"\n",
    "echo \"MARLOWE_RT_WEBSERVER_URL = $MARLOWE_RT_WEBSERVER_URL\""
   ]
  },
  {
   "cell_type": "markdown",
   "id": "2a165e54-16e4-4bc6-9d68-39ebbdf8c11a",
   "metadata": {
    "tags": []
   },
   "source": [
    "### Lender address and funds\n",
    "\n",
    "Check that an address and key has been created for the lender. If not, see \"Creating Addresses and Signing Keys\" in [Lesson 0. Preliminaries](../00-preliminaries.ipynb)."
   ]
  },
  {
   "cell_type": "code",
   "execution_count": 61,
   "id": "38d0bad1-3b9e-4d80-9aec-a4357c8dc79a",
   "metadata": {
    "tags": [],
    "vscode": {
     "languageId": "shellscript"
    }
   },
   "outputs": [
    {
     "name": "stdout",
     "output_type": "stream",
     "text": [
      "LENDER_ADDR = addr_test1vqd3yrtjyx49uld43lvwqaf7z4k03su8gf2x4yr7syzvckgfzm4ck\n"
     ]
    }
   ],
   "source": [
    "LENDER_SKEY=../keys/lender.skey\n",
    "LENDER_ADDR=$(cat ../keys/lender.address)\n",
    "echo \"LENDER_ADDR = $LENDER_ADDR\""
   ]
  },
  {
   "cell_type": "markdown",
   "id": "34252c78-51e2-402d-9d81-1e2741122dbc",
   "metadata": {},
   "source": [
    "Check that the lender has at least one hundred ada."
   ]
  },
  {
   "cell_type": "code",
   "execution_count": 62,
   "id": "a16fd543-cabf-4540-879c-ed0594ca5ff1",
   "metadata": {
    "tags": [],
    "vscode": {
     "languageId": "shellscript"
    }
   },
   "outputs": [
    {
     "name": "stdout",
     "output_type": "stream",
     "text": [
      "                           TxHash                                 TxIx        Amount\n",
      "--------------------------------------------------------------------------------------\n",
      "dc380bc79a628167244f785e32a7750b007dd0084970a19fc58e22ca2ce190b5     2        1000000000 lovelace + TxOutDatumNone\n"
     ]
    }
   ],
   "source": [
    "cardano-cli query utxo --testnet-magic \"$CARDANO_TESTNET_MAGIC\" --address \"$LENDER_ADDR\""
   ]
  },
  {
   "cell_type": "markdown",
   "id": "da2dd15a-97e5-41cf-827a-8811d734bf8e",
   "metadata": {},
   "source": [
    "One can view the address on a Cardano explorer. It sometimes takes thirty seconds or so for the transaction to be visible in an explorer."
   ]
  },
  {
   "cell_type": "code",
   "execution_count": 63,
   "id": "b1d78493-a1a1-4739-b911-02b901c73bda",
   "metadata": {
    "tags": [],
    "vscode": {
     "languageId": "shellscript"
    }
   },
   "outputs": [
    {
     "name": "stdout",
     "output_type": "stream",
     "text": [
      "https://preprod.cardanoscan.io/address/addr_test1vqd3yrtjyx49uld43lvwqaf7z4k03su8gf2x4yr7syzvckgfzm4ck\n"
     ]
    }
   ],
   "source": [
    "echo \"$EXPLORER_URL/address/$LENDER_ADDR\""
   ]
  },
  {
   "cell_type": "markdown",
   "id": "f9cc8f9b-344a-4886-adaf-5a417d89fe73",
   "metadata": {
    "tags": []
   },
   "source": [
    "### Borrower address and funds\n",
    "\n",
    "Check that an address and key has been created for the borrower. If not, see \"Creating Addresses and Signing Keys\" in [Lesson 0. Preliminaries](../00-preliminaries.ipynb)."
   ]
  },
  {
   "cell_type": "code",
   "execution_count": 64,
   "id": "5103b793-05a7-4a9c-bb5b-ed250bcbcc1e",
   "metadata": {
    "tags": [],
    "vscode": {
     "languageId": "shellscript"
    }
   },
   "outputs": [
    {
     "name": "stdout",
     "output_type": "stream",
     "text": [
      "BORROWER_ADDR = addr_test1vpy4n4peh4suv0y55yptur0066j5kds8r4ncnuzm0vpzfgg0dhz6d\n"
     ]
    }
   ],
   "source": [
    "BORROWER_SKEY=../keys/borrower.skey\n",
    "BORROWER_ADDR=$(cat ../keys/borrower.address)\n",
    "echo \"BORROWER_ADDR = $BORROWER_ADDR\""
   ]
  },
  {
   "cell_type": "markdown",
   "id": "88bc3a36-b5b9-4cba-9b6f-4e42a645959d",
   "metadata": {},
   "source": [
    "Check that the borrower has at least one hundred ada."
   ]
  },
  {
   "cell_type": "code",
   "execution_count": 65,
   "id": "3af7a962-3038-4b55-a31a-cd7ade94b5ec",
   "metadata": {
    "tags": [],
    "vscode": {
     "languageId": "shellscript"
    }
   },
   "outputs": [
    {
     "name": "stdout",
     "output_type": "stream",
     "text": [
      "                           TxHash                                 TxIx        Amount\n",
      "--------------------------------------------------------------------------------------\n",
      "dc380bc79a628167244f785e32a7750b007dd0084970a19fc58e22ca2ce190b5     3        1000000000 lovelace + TxOutDatumNone\n"
     ]
    }
   ],
   "source": [
    "cardano-cli query utxo --testnet-magic \"$CARDANO_TESTNET_MAGIC\" --address \"$BORROWER_ADDR\""
   ]
  },
  {
   "cell_type": "markdown",
   "id": "b396581e-9822-415f-836f-8caf27e10750",
   "metadata": {},
   "source": [
    "One can view the address on a Cardano explorer. It sometimes takes thirty seconds or so for the transaction to be visible in an explorer."
   ]
  },
  {
   "cell_type": "code",
   "execution_count": 66,
   "id": "3455b47d-45f9-4d31-aebe-ab0ea7b36aa9",
   "metadata": {
    "tags": [],
    "vscode": {
     "languageId": "shellscript"
    }
   },
   "outputs": [
    {
     "name": "stdout",
     "output_type": "stream",
     "text": [
      "https://preprod.cardanoscan.io/address/addr_test1vpy4n4peh4suv0y55yptur0066j5kds8r4ncnuzm0vpzfgg0dhz6d\n"
     ]
    }
   ],
   "source": [
    "echo \"$EXPLORER_URL/address/$BORROWER_ADDR\""
   ]
  },
  {
   "cell_type": "markdown",
   "id": "0421d494-9e2c-436f-bf88-08bc74e14faf",
   "metadata": {},
   "source": [
    "## Design the contract\n",
    "\n",
    "The zero-coupon bond contract can be downloaded from the [Marlowe Playground](https://play.marlowe-finance.io/) as a JSON file, or it can be generated using [Marlowe CLI](https://github.com/input-output-hk/marlowe-cardano/tree/main/marlowe-cli#readme) using the `marlowe-cli template` command.\n",
    "\n",
    "Set the loan's principal to 80 ada and it's interest to 5 ada."
   ]
  },
  {
   "cell_type": "code",
   "execution_count": 67,
   "id": "8d28fcbc-c73f-4c27-8d68-069d8ebe98ce",
   "metadata": {
    "vscode": {
     "languageId": "shellscript"
    }
   },
   "outputs": [
    {
     "name": "stdout",
     "output_type": "stream",
     "text": [
      "PRINCIPAL = 80000000 lovelace\n",
      "INTEREST = 5000000 lovelace\n"
     ]
    }
   ],
   "source": [
    "ADA=1000000  # 1 ada = 1,000,000 lovelace\n",
    "PRINCIPAL=$((80 * ADA))\n",
    "INTEREST=$((5 * ADA))\n",
    "echo \"PRINCIPAL = $PRINCIPAL lovelace\"\n",
    "echo \"INTEREST = $INTEREST lovelace\""
   ]
  },
  {
   "cell_type": "markdown",
   "id": "d3f8b9be-8bdf-4c69-8f87-e1bec603df0a",
   "metadata": {},
   "source": [
    "On the Cardano blockchain, the protocol parameters require that each UTxO contain at least some ada. Here we will start the contract with 2 ada."
   ]
  },
  {
   "cell_type": "code",
   "execution_count": 68,
   "id": "8f699238-b0a0-4626-b04f-e93d93b0f458",
   "metadata": {
    "vscode": {
     "languageId": "shellscript"
    }
   },
   "outputs": [
    {
     "name": "stdout",
     "output_type": "stream",
     "text": [
      "MIN_LOVELACE = 2000000 lovelace\n"
     ]
    }
   ],
   "source": [
    "MIN_LOVELACE=\"$((2 * ADA))\"\n",
    "echo \"MIN_LOVELACE = $MIN_LOVELACE lovelace\""
   ]
  },
  {
   "cell_type": "markdown",
   "id": "61fe6ced-f987-487d-8c1d-308c68afe3ae",
   "metadata": {},
   "source": [
    "Later in the example we will need some constants for converting times."
   ]
  },
  {
   "cell_type": "code",
   "execution_count": 69,
   "id": "d06a9229-9e53-4a00-accf-ae06b115ff39",
   "metadata": {
    "tags": [],
    "vscode": {
     "languageId": "shellscript"
    }
   },
   "outputs": [],
   "source": [
    "SECOND=1000 # 1 second = 1000 milliseconds\n",
    "MINUTE=$((60 * SECOND)) # 1 minute = 60 seconds\n",
    "HOUR=$((60 * MINUTE)) # 1 hour = 60 minutes"
   ]
  },
  {
   "cell_type": "markdown",
   "id": "bf224f13-e27c-4f54-bedd-c46e8127445a",
   "metadata": {},
   "source": [
    "### *Alternative 1:* Use Marlowe Playground to design the contract\n",
    "\n",
    "If you want to create the contract in Marlowe Playground, do the following:\n",
    "\n",
    "1. Visit https://play.marlowe-finance.io/ in a web browser.\n",
    "2. Select \"Open an Example\".\n",
    "3. Select \"Marlowe\" or \"Blockly\" under \"Zero Coupon Bond\".\n",
    "4. Select \"Send to Simulator\".\n",
    "5. Set the \"Loan Deadline\" to one hour into the future.\n",
    "6. Set the \"Payback Deadline\" to three hours into the future.\n",
    "7. Set the \"Principal\" to 80 ada.\n",
    "8. Set the \"Interest\" to 5 ada.\n",
    "9. Select \"Download as JSON\", set the file name to \"zcb-contract.json\", and store the file in this folder, namely [marlowe-starter-kit/01-runtime-rest/](.).\n",
    "\n",
    "![Setting parameters for the zero-coupon bond contract in Marlowe Playground](../images/zcb-playground.png)"
   ]
  },
  {
   "cell_type": "markdown",
   "id": "8e228d4e-b36f-40d8-a1df-97986c2693f5",
   "metadata": {},
   "source": [
    "### *Alternative 2:* Use Marlowe CLI to generate the contract\n",
    "\n",
    "Below we generate the contract using Marlowe CLI.\n",
    "\n",
    "First find the current time, measured in [POSIX milliseconds](https://en.wikipedia.org/wiki/Unix_time)."
   ]
  },
  {
   "cell_type": "code",
   "execution_count": 70,
   "id": "327df025-16bf-4f69-acfc-02e3ce56e795",
   "metadata": {
    "vscode": {
     "languageId": "shellscript"
    }
   },
   "outputs": [
    {
     "name": "stdout",
     "output_type": "stream",
     "text": [
      "NOW = 1678903540000 POSIX milliseconds = Wed Mar 15 12:05:40 PM MDT 2023\n"
     ]
    }
   ],
   "source": [
    "NOW=\"$(($(date -u +%s) * SECOND))\"\n",
    "echo \"NOW = $NOW POSIX milliseconds = $(date -d @$((NOW / SECOND)))\""
   ]
  },
  {
   "cell_type": "markdown",
   "id": "d0692af8-498a-407f-bd02-cf4b893f65b2",
   "metadata": {},
   "source": [
    "The contract has a lending deadline and a repayment deadline. For convenience in this example, set the deadlines to the near future."
   ]
  },
  {
   "cell_type": "code",
   "execution_count": 71,
   "id": "f1797871-350b-400b-b12f-5bc877efca94",
   "metadata": {
    "vscode": {
     "languageId": "shellscript"
    }
   },
   "outputs": [
    {
     "name": "stdout",
     "output_type": "stream",
     "text": [
      "LENDER_DEADLINE = 1678907140000 POSIX milliseconds = Wed Mar 15 01:05:40 PM MDT 2023\n",
      "BORROWER_DEADLINE = 1678914340000 POSIX milliseconds = Wed Mar 15 03:05:40 PM MDT 2023\n"
     ]
    }
   ],
   "source": [
    "LENDER_DEADLINE=\"$((NOW + 1 * HOUR))\"\n",
    "BORROWER_DEADLINE=\"$((NOW + 3 * HOUR))\"\n",
    "echo \"LENDER_DEADLINE = $LENDER_DEADLINE POSIX milliseconds = $(date -d @$((LENDER_DEADLINE / SECOND)))\"\n",
    "echo \"BORROWER_DEADLINE = $BORROWER_DEADLINE POSIX milliseconds = $(date -d @$((BORROWER_DEADLINE / SECOND)))\""
   ]
  },
  {
   "cell_type": "markdown",
   "id": "0ce999b9-989c-446f-8396-f32227c73d22",
   "metadata": {},
   "source": [
    "Now create the JSON file for the contract, `zcb-contract.json`."
   ]
  },
  {
   "cell_type": "code",
   "execution_count": 72,
   "id": "3301ffcf-635e-4c31-bbc9-38189a6fb3c8",
   "metadata": {
    "vscode": {
     "languageId": "shellscript"
    }
   },
   "outputs": [],
   "source": [
    "marlowe-cli template zcb \\\n",
    "  --minimum-ada \"$MIN_LOVELACE\" \\\n",
    "  --lender Lender \\\n",
    "  --borrower Borrower \\\n",
    "  --principal \"$PRINCIPAL\" \\\n",
    "  --interest \"$INTEREST\" \\\n",
    "  --lending-deadline \"$LENDER_DEADLINE\" \\\n",
    "  --repayment-deadline \"$BORROWER_DEADLINE\" \\\n",
    "  --out-contract-file zcb-contract.json \\\n",
    "  --out-state-file /dev/null"
   ]
  },
  {
   "cell_type": "markdown",
   "id": "e3ed8fb8-623b-46f3-8723-9b195b26e504",
   "metadata": {},
   "source": [
    "The various command-line options are described by the help system."
   ]
  },
  {
   "cell_type": "code",
   "execution_count": 73,
   "id": "4b7754a1-3e13-4d54-81a3-9b98be4c87c9",
   "metadata": {
    "tags": [],
    "vscode": {
     "languageId": "shellscript"
    }
   },
   "outputs": [
    {
     "name": "stdout",
     "output_type": "stream",
     "text": [
      "Usage: marlowe-cli template zcb --minimum-ada INTEGER --lender PARTY\n",
      "                                --borrower PARTY --principal INTEGER\n",
      "                                --interest INTEGER --lending-deadline TIMEOUT\n",
      "                                --repayment-deadline TIMEOUT\n",
      "\n",
      "  Create a zero-coupon bond.\n",
      "\n",
      "Available options:\n",
      "  --minimum-ada INTEGER    Lovelace that the lender contributes to the initial\n",
      "                           state.\n",
      "  --lender PARTY           The lender.\n",
      "  --borrower PARTY         The borrower.\n",
      "  --principal INTEGER      The principal, in lovelace.\n",
      "  --interest INTEGER       The interest, in lovelace.\n",
      "  --lending-deadline TIMEOUT\n",
      "                           The lending deadline. POSIX milliseconds or duration:\n",
      "                           `INTEGER[s|m|d|w|h]`.\n",
      "  --repayment-deadline TIMEOUT\n",
      "                           The repayment deadline. POSIX milliseconds or\n",
      "                           duration: `INTEGER[s|m|d|w|h]`.\n",
      "  -h,--help                Show this help text\n"
     ]
    }
   ],
   "source": [
    "marlowe-cli template zcb --help"
   ]
  },
  {
   "cell_type": "markdown",
   "id": "fe62d6ec-5e55-4053-a386-f5e1024732d9",
   "metadata": {},
   "source": [
    "## Examine the contract\n",
    "\n",
    "View the contract file as YAML."
   ]
  },
  {
   "cell_type": "code",
   "execution_count": 74,
   "id": "bf449c31-b594-4d80-811e-80cc0b8db14a",
   "metadata": {
    "vscode": {
     "languageId": "shellscript"
    }
   },
   "outputs": [
    {
     "name": "stdout",
     "output_type": "stream",
     "text": [
      "timeout: 1678907140000\n",
      "timeout_continuation: close\n",
      "when:\n",
      "- case:\n",
      "    deposits: 80000000\n",
      "    into_account:\n",
      "      role_token: Lender\n",
      "    of_token:\n",
      "      currency_symbol: ''\n",
      "      token_name: ''\n",
      "    party:\n",
      "      role_token: Lender\n",
      "  then:\n",
      "    from_account:\n",
      "      role_token: Lender\n",
      "    pay: 80000000\n",
      "    then:\n",
      "      timeout: 1678914340000\n",
      "      timeout_continuation: close\n",
      "      when:\n",
      "      - case:\n",
      "          deposits:\n",
      "            add: 80000000\n",
      "            and: 5000000\n",
      "          into_account:\n",
      "            role_token: Borrower\n",
      "          of_token:\n",
      "            currency_symbol: ''\n",
      "            token_name: ''\n",
      "          party:\n",
      "            role_token: Borrower\n",
      "        then:\n",
      "          from_account:\n",
      "            role_token: Borrower\n",
      "          pay:\n",
      "            add: 80000000\n",
      "            and: 5000000\n",
      "          then: close\n",
      "          to:\n",
      "            party:\n",
      "              role_token: Lender\n",
      "          token:\n",
      "            currency_symbol: ''\n",
      "            token_name: ''\n",
      "    to:\n",
      "      party:\n",
      "        role_token: Borrower\n",
      "    token:\n",
      "      currency_symbol: ''\n",
      "      token_name: ''\n"
     ]
    }
   ],
   "source": [
    "json2yaml zcb-contract.json"
   ]
  },
  {
   "cell_type": "markdown",
   "id": "6669fc88-c8ca-408f-af25-b8ef8f6e4374",
   "metadata": {},
   "source": [
    "### \\[Optional\\] Check the safety of the contract\n",
    "\n",
    "If we were running the contract on the Cardano `mainnet`, then we\\'d want to check its safety before creating it, so that there is no chance that we might lose funds.\n",
    "\n",
    "Here are the steps for checking the safety of a contract:\n",
    "\n",
    "1. Understand the [Marlowe Language](https://marlowe-finance.io/).\n",
    "2. Understand Cardano\\'s [Extended UTxO Model](https://docs.cardano.org/learn/eutxo-explainer).\n",
    "3. Read and understand the [Marlowe Best Practices Guide](https://github.com/input-output-hk/marlowe-cardano/blob/main/marlowe/best-practices.md).\n",
    "4. Read and understand the [Marlowe Security Guide](https://github.com/input-output-hk/marlowe-cardano/blob/main/marlowe/security.md).\n",
    "5. Use [Marlowe Playground](https://play.marlowe-finance.io/) to flag warnings, perform static analysis, and simulate the contract.\n",
    "6. Use [Marlowe CLI\\'s](https://github.com/input-output-hk/marlowe-cardano/blob/main/marlowe-cli/ReadMe.md) `marlowe-cli run analyze` tool to study whether the contract can run on a Cardano network.\n",
    "7. Run *all execution paths* of the contract on a [Cardano testnet](https://docs.cardano.org/cardano-testnet/overview).\n",
    "\n",
    "See [Lesson 1](../01-runtime-cli/ReadMe.ipynb) for an example of performing step 6."
   ]
  },
  {
   "cell_type": "markdown",
   "id": "fcbdcc02-7ffe-46a4-8732-10a3e7b93865",
   "metadata": {},
   "source": [
    "## Transaction 1. Create the Contract"
   ]
  },
  {
   "cell_type": "markdown",
   "id": "6fad0f1b-a918-4c56-867e-29600be217f4",
   "metadata": {},
   "source": [
    "A `HTTP` `POST` request to Marlowe Runtime\\'s `/contracts` endpoint will build the creation transaction for a Marlowe contract. We provide it the JSON file containing the contract and tell it the `MIN_LOVELACE` value that we previously chose. Anyone could create the contract, but in this example the lender will be doing so, so we provide their address to fund the transaction and to receive the change from it.\n",
    "\n",
    "First we create the JSON body of the request to build the creation transaction."
   ]
  },
  {
   "cell_type": "code",
   "execution_count": 75,
   "id": "69abcbb8-6a8e-470b-9dd3-365f15c1f04b",
   "metadata": {
    "vscode": {
     "languageId": "shellscript"
    }
   },
   "outputs": [
    {
     "name": "stdout",
     "output_type": "stream",
     "text": [
      "{\"contract\":{\"timeout\":1678907140000,\"timeout_continuation\":\"close\",\"when\":[{\"case\":{\"deposits\":80000000,\"into_account\":{\"role_token\":\"Lender\"},\"of_token\":{\"currency_symbol\":\"\",\"token_name\":\"\"},\"party\":{\"role_token\":\"Lender\"}},\"then\":{\"from_account\":{\"role_token\":\"Lender\"},\"pay\":80000000,\"then\":{\"timeout\":1678914340000,\"timeout_continuation\":\"close\",\"when\":[{\"case\":{\"deposits\":{\"add\":80000000,\"and\":5000000},\"into_account\":{\"role_token\":\"Borrower\"},\"of_token\":{\"currency_symbol\":\"\",\"token_name\":\"\"},\"party\":{\"role_token\":\"Borrower\"}},\"then\":{\"from_account\":{\"role_token\":\"Borrower\"},\"pay\":{\"add\":80000000,\"and\":5000000},\"then\":\"close\",\"to\":{\"party\":{\"role_token\":\"Lender\"}},\"token\":{\"currency_symbol\":\"\",\"token_name\":\"\"}}}]},\"to\":{\"party\":{\"role_token\":\"Borrower\"}},\"token\":{\"currency_symbol\":\"\",\"token_name\":\"\"}}}]},\"metadata\":{},\"minUTxODeposit\":2000000,\"roles\":{\"Borrower\":\"addr_test1vpy4n4peh4suv0y55yptur0066j5kds8r4ncnuzm0vpzfgg0dhz6d\",\"Lender\":\"addr_test1vqd3yrtjyx49uld43lvwqaf7z4k03su8gf2x4yr7syzvckgfzm4ck\"},\"tags\":{},\"version\":\"v1\"}\n"
     ]
    }
   ],
   "source": [
    "yaml2json << EOI > request-1.json\n",
    "version: v1\n",
    "contract: $(cat zcb-contract.json)\n",
    "roles:\n",
    "  Lender: $LENDER_ADDR\n",
    "  Borrower: $BORROWER_ADDR\n",
    "minUTxODeposit: $MIN_LOVELACE\n",
    "metadata: {}\n",
    "tags: {}\n",
    "EOI\n",
    "cat request-1.json"
   ]
  },
  {
   "cell_type": "markdown",
   "id": "57ecf6fd-6d89-495a-a66b-adc7437e8c29",
   "metadata": {},
   "source": [
    "Next we post the request and view the response."
   ]
  },
  {
   "cell_type": "code",
   "execution_count": 76,
   "id": "d88f4f44-49a1-4548-ac97-6fe95fb6059b",
   "metadata": {
    "vscode": {
     "languageId": "shellscript"
    }
   },
   "outputs": [
    {
     "name": "stdout",
     "output_type": "stream",
     "text": [
      "links:\n",
      "  contract: contracts/97739128440fb360b009d3acbd0eb36a6e5a47da464843413452fd83610282aa%231\n",
      "resource:\n",
      "  contractId: 97739128440fb360b009d3acbd0eb36a6e5a47da464843413452fd83610282aa#1\n",
      "  txBody:\n",
      "    cborHex: 86a80081825820dc380bc79a628167244f785e32a7750b007dd0084970a19fc58e22ca2ce190b5020d81825820dc380bc79a628167244f785e32a7750b007dd0084970a19fc58e22ca2ce190b5020184a200581d601b120d7221aa5e7db58fd8e0753e156cf8c38742546a907e8104cc59011a3b55c4daa300581d702ed2631dbb277c84334453c5c437b86325d371f0835a28b910a91a6e011a001e848002820058205e40641b9b037b9f920f3346f15db6f9ba0943cdf733cc86ac6ce4d2af968e37a200581d604959d439bd61c63c94a102be0defd6a54b36071d6789f05b7b0224a101821a000fea4ca1581c68d0f8d36ea149b49d28dfa0f631748e41e72d62d46ece4d431ad597a148426f72726f77657201a200581d601b120d7221aa5e7db58fd8e0753e156cf8c38742546a907e8104cc5901821a000fc8a0a1581c68d0f8d36ea149b49d28dfa0f631748e41e72d62d46ece4d431ad597a1464c656e6465720110a200581d601b120d7221aa5e7db58fd8e0753e156cf8c38742546a907e8104cc59011a3b909569111a000a3497021a0006cdba09a1581c68d0f8d36ea149b49d28dfa0f631748e41e72d62d46ece4d431ad597a248426f72726f77657201464c656e646572010b5820b09eb596be6ef620b1e5807944df6c9510511d0ebffac920dd1b9e7b447318dd9f8202590ddd590dda01000033323233223232323232332232323232323232323322323232323232323233322232323232323232322223223232325335001102813263202d33573892010350543500028323232533500313300b49010b4275726e206661696c656400323235004223335530101200132335012223335003220020020013500122001123300101b02e2350012222533530080032103210323500222222222222200a3200135503322533500115021221350022253353301700200713502600113006003300f0021335502c300b49010b4d696e74206661696c656400330163232323500322222222222233355301b120013233501d2233350032200200200135001220011233001225335002103b100103825335333573466e3c03cd400488d4008880080e40e04ccd5cd19b8700e35001223500222001039038103800c3500b220013500a22002500133010335502c33555017237246ecccdd2a400066ae80dd398170009bb102f3355501725335333355300d1200133500e22230033002001200122533500121350032235003223500222350295335333573466e3c0080180cc0c84cd540eccd540ec008cdc0000802801899aa81d80499a81c80200189a81119aa81a001281999919191919191919118011803800990009aa81d11299a800898011801a81d110a99a800880111098031803802990009aa81c91299a8008a81c910a99a800880191099a81e198038020011803000990009aa81c111299a8010800910a99a8018802110a999a99806002001099a81e00219803801802899a81e00119803803000899a81e002198038018029a8019110009a8011110011a80091100199918008009119091a990919980091a801911180180211a801911180100211a8019111800802091a98018021a8020008009801001091111998021299a80089a80a89119801281c800910a99a80089a80b89119801002800910a999a998050020010999803001119a81d80280080089998038011a80c891198010030008008999803001119a81d802800800911299a800899a81c19a81c0018011803281c910a999a99805002801099a81d19a81d0028021804001899980380119a81d002802000899a81d19a81d002802180400191119299a80109800a4c442a666a6601600c004266600e0044600c66a07800e002002260069309998038011180319a81e003800800919a81c98019a80c0911980100300098038011919111a801111a80191912999a999a80d8048028018999a80d8040020008a8010a8010999a80c80380180099999999a80a11199ab9a3370e00400205a05844a66a666ae68cdc3801000816816080c8a99a999ab9a3371200400205a058202e203044666ae68cdc400100081681611199ab9a3371200400205a05844666ae68cdc480100081601691199ab9a3371000400205805a44a66a666ae68cdc48010008168160800880111299a999ab9a3371200400205a0582004200266666666a02602244a66a666ae68cdc7801000816015880c0a99a999ab9a33722004002058056202c202e44666ae68cdc800100081601591199ab9a3372200400205805644666ae68cdc880100081581611199ab9a3372000400205605844a66a666ae68cdc88010008160158800880111299a999ab9a3372200400205805620042002002a03e426a0024466a0660040022a062400266aa05866aaa02e644a66a002420022004a06066aaa02e646446004002640026aa06644a66a0022a0424426a00444a66a6602e00400e26a04c0022600c006601e00466aaa02e400246a002444444444444010a00201426a002440046666ae68cdc39aab9d5003480008cc8848cc00400c008c8c8c8c8c8c8c8c8c8c8c8c8c8cccd5cd19b8735573aa018900011999999999999111111111110919999999999980080680600580500480400380300280200180119a8128131aba1500c33502502635742a01666a04a04e6ae854028ccd540a5d728141aba150093335502975ca0506ae854020cd40940c0d5d0a803999aa814818bad35742a00c6464646666ae68cdc39aab9d5002480008cc8848cc00400c008c8c8c8cccd5cd19b8735573aa004900011991091980080180119a81dbad35742a00460786ae84d5d1280111931902219ab9c04003f042135573ca00226ea8004d5d0a8011919191999ab9a3370e6aae754009200023322123300100300233503b75a6ae854008c0f0d5d09aba2500223263204433573808007e08426aae7940044dd50009aba135744a004464c6408066ae700f00ec0f84d55cf280089baa00135742a00a66a04aeb8d5d0a802199aa81481690009aba150033335502975c40026ae854008c0bcd5d09aba2500223263203c33573807006e07426ae8940044d5d1280089aba25001135744a00226ae8940044d5d1280089aba25001135744a00226ae8940044d5d1280089aab9e5001137540026ae85400cc07cd5d09aba2500323263202e3357380540520586666ae68cdc3a80224004424400446666ae68cdc3a802a40004244002464c6405c66ae700a80a40b00ac4d55cf280089baa001135573a6ea8004894cd400440804cd5ce00100f990009aa8131108911299a80089a80191000910999a802910011802001199aa98038900080280200089109198008018010919a800a811281191a800911999a80091931901219ab9c4901024c680001f20012326320243357389201024c680001f2326320243357389201024c680001f22333573466e3c00800406c06848d40048888888801c48888888848cccccccc00402402001c01801401000c008488800c48880084888004894cd400840044050444888c00cc00800448c88c008dd6000990009aa80d911999aab9f0012501c233501b30043574200460066ae880080548c8c8cccd5cd19b8735573aa004900011991091980080180118061aba150023005357426ae8940088c98c8068cd5ce00b00a80c09aab9e5001137540024646464646666ae68cdc39aab9d5004480008cccc888848cccc00401401000c008c8c8c8cccd5cd19b8735573aa0049000119910919800801801180a9aba1500233500d014357426ae8940088c98c807ccd5ce00d80d00e89aab9e5001137540026ae854010ccd54021d728039aba150033232323333573466e1d4005200423212223002004357426aae79400c8cccd5cd19b875002480088c84888c004010dd71aba135573ca00846666ae68cdc3a801a400042444006464c6404266ae7007407007c0780744d55cea80089baa00135742a00466a012eb8d5d09aba2500223263201b33573802e02c03226ae8940044d5d1280089aab9e500113754002266aa002eb9d6889119118011bab00132001355018223233335573e0044a034466a03266aa036600c6aae754008c014d55cf280118021aba200301313574200224464646666ae68cdc3a800a400046a00e600a6ae84d55cf280191999ab9a3370ea00490011280391931900c19ab9c014013016015135573aa00226ea800448488c00800c44880048c8c8cccd5cd19b875001480188c848888c010014c01cd5d09aab9e500323333573466e1d400920042321222230020053009357426aae7940108cccd5cd19b875003480088c848888c004014c01cd5d09aab9e500523333573466e1d40112000232122223003005375c6ae84d55cf280311931900b19ab9c012011014013012011135573aa00226ea80048c8c8cccd5cd19b8735573aa004900011991091980080180118029aba15002375a6ae84d5d1280111931900919ab9c00e00d010135573ca00226ea80048c8cccd5cd19b8735573aa002900011bae357426aae7940088c98c8040cd5ce00600580709baa001232323232323333573466e1d4005200c21222222200323333573466e1d4009200a21222222200423333573466e1d400d2008233221222222233001009008375c6ae854014dd69aba135744a00a46666ae68cdc3a8022400c4664424444444660040120106eb8d5d0a8039bae357426ae89401c8cccd5cd19b875005480108cc8848888888cc018024020c030d5d0a8049bae357426ae8940248cccd5cd19b875006480088c848888888c01c020c034d5d09aab9e500b23333573466e1d401d2000232122222223005008300e357426aae7940308c98c8064cd5ce00a80a00b80b00a80a00980900889aab9d5004135573ca00626aae7940084d55cf280089baa0012323232323333573466e1d400520022333222122333001005004003375a6ae854010dd69aba15003375a6ae84d5d1280191999ab9a3370ea0049000119091180100198041aba135573ca00c464c6402466ae7003803404003c4d55cea80189aba25001135573ca00226ea80048c8c8cccd5cd19b875001480088c8488c00400cdd71aba135573ca00646666ae68cdc3a8012400046424460040066eb8d5d09aab9e500423263200f33573801601401a01826aae7540044dd500089119191999ab9a3370ea00290021091100091999ab9a3370ea00490011190911180180218031aba135573ca00846666ae68cdc3a801a400042444004464c6402066ae7003002c0380340304d55cea80089baa0012323333573466e1d40052002200523333573466e1d40092000200523263200c33573801000e01401226aae74dd500089100109100089000a481035054310011223002001320013550052253350011376200644266ae80d400888cdd2a400066ae80dd480119aba037500026ec401cc010005261122002122122330010040031122123300100300211232300100122330033002002001489201b356f4b4821ed7eaabb9db7965e0043e08cbfbff07decc4b411e6f39923203b003351223300248920dc380bc79a628167244f785e32a7750b007dd0084970a19fc58e22ca2ce190b500480108848cc00400c0088005ff81d8799fd8799f581c68d0f8d36ea149b49d28dfa0f631748e41e72d62d46ece4d431ad597ffd8799fa1d8799fd8799fd87980d8799fd8799f581c1b120d7221aa5e7db58fd8e0753e156cf8c38742546a907e8104cc59ffd87a80ffffd8799f4040ffff1a001e8480a0a000ffd87c9f9fd8799fd8799fd87a9f464c656e646572ffd87a9f464c656e646572ffd8799f4040ffd87a9f1a04c4b400ffffd87a9fd87a9f464c656e646572ffd87a9fd87a9f48426f72726f776572ffffd8799f4040ffd87a9f1a04c4b400ffd87c9f9fd8799fd8799fd87a9f48426f72726f776572ffd87a9f48426f72726f776572ffd8799f4040ffd87c9fd87a9f1a04c4b400ffd87a9f1a004c4b40ffffffd87a9fd87a9f48426f72726f776572ffd87a9fd87a9f464c656e646572ffffd8799f4040ffd87c9fd87a9f1a04c4b400ffd87a9f1a004c4b40ffffd87980ffffff1b00000186e717c4a0d87980ffffffff1b00000186e6a9e7a0d87980ffff81840100d87980821a00100af61a1396d150f5f6\n",
      "    description: ''\n",
      "    type: TxBodyBabbage\n"
     ]
    }
   ],
   "source": [
    "curl \"$MARLOWE_RT_WEBSERVER_URL/contracts\" \\\n",
    "  -X POST \\\n",
    "  -H 'Content-Type: application/json' \\\n",
    "  -H \"X-Change-Address: $LENDER_ADDR\" \\\n",
    "  -d @request-1.json \\\n",
    "  -o response-1.json \\\n",
    "  -sS\n",
    "json2yaml response-1.json"
   ]
  },
  {
   "cell_type": "markdown",
   "id": "72b2de72-9fc8-45dd-b870-a0aff7877733",
   "metadata": {},
   "source": [
    "The identifier for the contract is embedded in the response."
   ]
  },
  {
   "cell_type": "code",
   "execution_count": 77,
   "id": "f446b742-efe7-49bc-96a0-49b4b604bd9b",
   "metadata": {
    "vscode": {
     "languageId": "shellscript"
    }
   },
   "outputs": [
    {
     "name": "stdout",
     "output_type": "stream",
     "text": [
      "CONTRACT_ID = 97739128440fb360b009d3acbd0eb36a6e5a47da464843413452fd83610282aa#1\n"
     ]
    }
   ],
   "source": [
    "CONTRACT_ID=\"$(jq -r '.resource.contractId' response-1.json)\"\n",
    "echo \"CONTRACT_ID = $CONTRACT_ID\""
   ]
  },
  {
   "cell_type": "markdown",
   "id": "6e1fa8f5-4de3-4d99-8721-60c1e2230484",
   "metadata": {},
   "source": [
    "The CBOR serialization (in text-envelope format) is also embedded in the response."
   ]
  },
  {
   "cell_type": "code",
   "execution_count": 78,
   "id": "18b60f01-ae10-415d-96bf-9dba0070b752",
   "metadata": {
    "vscode": {
     "languageId": "shellscript"
    }
   },
   "outputs": [],
   "source": [
    "jq '.resource.txBody' response-1.json > tx-1.unsigned"
   ]
  },
  {
   "cell_type": "markdown",
   "id": "cedbb7f9-6e56-4524-b364-3f59711c2f02",
   "metadata": {},
   "source": [
    "There are many ways to sign and submit Cardano transactions:\n",
    "- `cardano-cli` at the command line\n",
    "- `cardano-wallet` at the command line or as a REST service\n",
    "- `cardano-hw-cli` for a hardware wallet at the command line\n",
    "- a Babbage-compatible CIP-30 wallet in a web browser\n",
    "- `marlowe-cli` at the command line\n",
    "\n",
    "For convenience, here we use `marlowe-cli transaction submit`. One may have to wait a minute or so for the transactions to be confirmed on the blockchain."
   ]
  },
  {
   "cell_type": "code",
   "execution_count": 79,
   "id": "500d6e54-6f2a-478a-a715-5149ebe057a2",
   "metadata": {
    "vscode": {
     "languageId": "shellscript"
    }
   },
   "outputs": [
    {
     "name": "stdout",
     "output_type": "stream",
     "text": [
      "TX_1 = 97739128440fb360b009d3acbd0eb36a6e5a47da464843413452fd83610282aa\n"
     ]
    }
   ],
   "source": [
    "TX_1=$(\n",
    "marlowe-cli transaction submit \\\n",
    "  --tx-body-file tx-1.unsigned \\\n",
    "  --required-signer \"$LENDER_SKEY\" \\\n",
    "  --timeout 600 \\\n",
    "| sed -e 's/^TxId \"\\(.*\\)\"$/\\1/' \\\n",
    ")\n",
    "echo \"TX_1 = $TX_1\""
   ]
  },
  {
   "cell_type": "markdown",
   "id": "8379871a-4aba-4134-8aa4-29b04de301d3",
   "metadata": {},
   "source": [
    "One can view the transaction on a Cardano explorer and see that the contract has been created and the parties have received their role tokens. It sometimes takes thirty seconds or so for the transaction to be visible in an explorer."
   ]
  },
  {
   "cell_type": "code",
   "execution_count": 80,
   "id": "72115506-5bfd-480f-b3f0-47520dca84c1",
   "metadata": {
    "vscode": {
     "languageId": "shellscript"
    }
   },
   "outputs": [
    {
     "name": "stdout",
     "output_type": "stream",
     "text": [
      "https://preprod.cardanoscan.io/transaction/97739128440fb360b009d3acbd0eb36a6e5a47da464843413452fd83610282aa?tab=utxo\n"
     ]
    }
   ],
   "source": [
    "echo \"$EXPLORER_URL/transaction/$TX_1?tab=utxo\""
   ]
  },
  {
   "cell_type": "markdown",
   "id": "bc370be1-0648-4d98-919d-20424f97f953",
   "metadata": {},
   "source": [
    "In particular, we see that the Marlowe contract holds the 2 ada that was set as `MINIMUM_LOVELACE`."
   ]
  },
  {
   "cell_type": "code",
   "execution_count": 81,
   "id": "6413cea3-50cc-4537-a8ed-707f4d6b2ba9",
   "metadata": {
    "vscode": {
     "languageId": "shellscript"
    }
   },
   "outputs": [
    {
     "name": "stdout",
     "output_type": "stream",
     "text": [
      "                           TxHash                                 TxIx        Amount\n",
      "--------------------------------------------------------------------------------------\n",
      "97739128440fb360b009d3acbd0eb36a6e5a47da464843413452fd83610282aa     1        2000000 lovelace + TxOutDatumHash ScriptDataInBabbageEra \"5e40641b9b037b9f920f3346f15db6f9ba0943cdf733cc86ac6ce4d2af968e37\"\n"
     ]
    }
   ],
   "source": [
    "cardano-cli query utxo --testnet-magic \"$CARDANO_TESTNET_MAGIC\" --tx-in \"$CONTRACT_ID\""
   ]
  },
  {
   "cell_type": "markdown",
   "id": "e1d48599-ee16-433c-9664-ed5e8583a6e8",
   "metadata": {},
   "source": [
    "One can see that the lender and borrower have received their role tokens. Note that `4c656e646572 = Lender` and `426f72726f776572 = Borrower` in hexadecimal notation."
   ]
  },
  {
   "cell_type": "code",
   "execution_count": 82,
   "id": "dc8bc919-7114-46fe-93b3-b32802667636",
   "metadata": {
    "tags": [],
    "vscode": {
     "languageId": "shellscript"
    }
   },
   "outputs": [
    {
     "name": "stdout",
     "output_type": "stream",
     "text": [
      "                           TxHash                                 TxIx        Amount\n",
      "--------------------------------------------------------------------------------------\n",
      "97739128440fb360b009d3acbd0eb36a6e5a47da464843413452fd83610282aa     0        995476698 lovelace + TxOutDatumNone\n",
      "97739128440fb360b009d3acbd0eb36a6e5a47da464843413452fd83610282aa     3        1034400 lovelace + 1 68d0f8d36ea149b49d28dfa0f631748e41e72d62d46ece4d431ad597.4c656e646572 + TxOutDatumNone\n"
     ]
    }
   ],
   "source": [
    "cardano-cli query utxo --testnet-magic \"$CARDANO_TESTNET_MAGIC\" --address \"$LENDER_ADDR\""
   ]
  },
  {
   "cell_type": "code",
   "execution_count": 83,
   "id": "8aebb77c-2cfd-4d62-8a2f-0fea8a61a7af",
   "metadata": {
    "tags": [],
    "vscode": {
     "languageId": "shellscript"
    }
   },
   "outputs": [
    {
     "name": "stdout",
     "output_type": "stream",
     "text": [
      "                           TxHash                                 TxIx        Amount\n",
      "--------------------------------------------------------------------------------------\n",
      "97739128440fb360b009d3acbd0eb36a6e5a47da464843413452fd83610282aa     2        1043020 lovelace + 1 68d0f8d36ea149b49d28dfa0f631748e41e72d62d46ece4d431ad597.426f72726f776572 + TxOutDatumNone\n",
      "dc380bc79a628167244f785e32a7750b007dd0084970a19fc58e22ca2ce190b5     3        1000000000 lovelace + TxOutDatumNone\n"
     ]
    }
   ],
   "source": [
    "cardano-cli query utxo --testnet-magic \"$CARDANO_TESTNET_MAGIC\" --address \"$BORROWER_ADDR\""
   ]
  },
  {
   "cell_type": "markdown",
   "id": "4fde972a-1f26-4ad8-81af-2799adf11b83",
   "metadata": {},
   "source": [
    "## View the details of the contract on the blockchain\n",
    "\n",
    "Marlowe Runtime\\'s `HTTP` `GET` endpoint `/contracts/{contractId}` can fetch a contract from the blockchain and return information about it."
   ]
  },
  {
   "cell_type": "code",
   "execution_count": 84,
   "id": "8328b458-43fb-4e53-8060-1740d25cf93b",
   "metadata": {
    "vscode": {
     "languageId": "shellscript"
    }
   },
   "outputs": [
    {
     "name": "stdout",
     "output_type": "stream",
     "text": [
      "CONTRACT_URL = http://127.0.0.1:3780/contracts/97739128440fb360b009d3acbd0eb36a6e5a47da464843413452fd83610282aa%231\n"
     ]
    }
   ],
   "source": [
    "CONTRACT_URL=\"$MARLOWE_RT_WEBSERVER_URL/$(jq -r '.links.contract' response-1.json)\"\n",
    "echo \"CONTRACT_URL = $CONTRACT_URL\""
   ]
  },
  {
   "cell_type": "code",
   "execution_count": 85,
   "id": "e805f893-bcd8-4169-a2da-90f1cfa080b2",
   "metadata": {
    "vscode": {
     "languageId": "shellscript"
    }
   },
   "outputs": [
    {
     "name": "stdout",
     "output_type": "stream",
     "text": [
      "links:\n",
      "  transactions: contracts/97739128440fb360b009d3acbd0eb36a6e5a47da464843413452fd83610282aa%231/transactions\n",
      "resource:\n",
      "  block:\n",
      "    blockHeaderHash: 89ac1a96f734eab3ed8723292576be23867da464f85d0789d8453a662c2cacfe\n",
      "    blockNo: 728272\n",
      "    slotNo: 23220386\n",
      "  continuations: null\n",
      "  contractId: 97739128440fb360b009d3acbd0eb36a6e5a47da464843413452fd83610282aa#1\n",
      "  currentContract:\n",
      "    timeout: 1678907140000\n",
      "    timeout_continuation: close\n",
      "    when:\n",
      "    - case:\n",
      "        deposits: 80000000\n",
      "        into_account:\n",
      "          role_token: Lender\n",
      "        of_token:\n",
      "          currency_symbol: ''\n",
      "          token_name: ''\n",
      "        party:\n",
      "          role_token: Lender\n",
      "      then:\n",
      "        from_account:\n",
      "          role_token: Lender\n",
      "        pay: 80000000\n",
      "        then:\n",
      "          timeout: 1678914340000\n",
      "          timeout_continuation: close\n",
      "          when:\n",
      "          - case:\n",
      "              deposits:\n",
      "                add: 80000000\n",
      "                and: 5000000\n",
      "              into_account:\n",
      "                role_token: Borrower\n",
      "              of_token:\n",
      "                currency_symbol: ''\n",
      "                token_name: ''\n",
      "              party:\n",
      "                role_token: Borrower\n",
      "            then:\n",
      "              from_account:\n",
      "                role_token: Borrower\n",
      "              pay:\n",
      "                add: 80000000\n",
      "                and: 5000000\n",
      "              then: close\n",
      "              to:\n",
      "                party:\n",
      "                  role_token: Lender\n",
      "              token:\n",
      "                currency_symbol: ''\n",
      "                token_name: ''\n",
      "        to:\n",
      "          party:\n",
      "            role_token: Borrower\n",
      "        token:\n",
      "          currency_symbol: ''\n",
      "          token_name: ''\n",
      "  initialContract:\n",
      "    timeout: 1678907140000\n",
      "    timeout_continuation: close\n",
      "    when:\n",
      "    - case:\n",
      "        deposits: 80000000\n",
      "        into_account:\n",
      "          role_token: Lender\n",
      "        of_token:\n",
      "          currency_symbol: ''\n",
      "          token_name: ''\n",
      "        party:\n",
      "          role_token: Lender\n",
      "      then:\n",
      "        from_account:\n",
      "          role_token: Lender\n",
      "        pay: 80000000\n",
      "        then:\n",
      "          timeout: 1678914340000\n",
      "          timeout_continuation: close\n",
      "          when:\n",
      "          - case:\n",
      "              deposits:\n",
      "                add: 80000000\n",
      "                and: 5000000\n",
      "              into_account:\n",
      "                role_token: Borrower\n",
      "              of_token:\n",
      "                currency_symbol: ''\n",
      "                token_name: ''\n",
      "              party:\n",
      "                role_token: Borrower\n",
      "            then:\n",
      "              from_account:\n",
      "                role_token: Borrower\n",
      "              pay:\n",
      "                add: 80000000\n",
      "                and: 5000000\n",
      "              then: close\n",
      "              to:\n",
      "                party:\n",
      "                  role_token: Lender\n",
      "              token:\n",
      "                currency_symbol: ''\n",
      "                token_name: ''\n",
      "        to:\n",
      "          party:\n",
      "            role_token: Borrower\n",
      "        token:\n",
      "          currency_symbol: ''\n",
      "          token_name: ''\n",
      "  metadata: {}\n",
      "  roleTokenMintingPolicyId: 68d0f8d36ea149b49d28dfa0f631748e41e72d62d46ece4d431ad597\n",
      "  state:\n",
      "    accounts:\n",
      "    - - - address: addr_test1vqd3yrtjyx49uld43lvwqaf7z4k03su8gf2x4yr7syzvckgfzm4ck\n",
      "        - currency_symbol: ''\n",
      "          token_name: ''\n",
      "      - 2000000\n",
      "    boundValues: []\n",
      "    choices: []\n",
      "    minTime: 0\n",
      "  status: confirmed\n",
      "  tags: {}\n",
      "  txBody: null\n",
      "  utxo: 97739128440fb360b009d3acbd0eb36a6e5a47da464843413452fd83610282aa#1\n",
      "  version: v1\n"
     ]
    }
   ],
   "source": [
    "curl -sS \"$CONTRACT_URL\" | json2yaml"
   ]
  },
  {
   "cell_type": "markdown",
   "id": "cd4fa3da-0f75-4b96-a911-0ba5bea722f8",
   "metadata": {},
   "source": [
    "## Transaction 2. The lender deposits the principal\n",
    "\n",
    "The lender deposits their 80 ada of principal into the contract using Marlowe Runtime\\'s `HTTP` `POST` `/contract/{contractId}/transactions` endpoint. The lender is providing the funding for and receiving the change from this transaction, so we provide their address.\n",
    "\n",
    "The deposit is represented as JSON input to the contract. The `marlowe-cli input deposit` tool conveniently formats the correct JSON for a deposit."
   ]
  },
  {
   "cell_type": "code",
   "execution_count": 86,
   "id": "1fbf5b90-ba80-44b9-83f5-791a7a10b2ab",
   "metadata": {
    "tags": [],
    "vscode": {
     "languageId": "shellscript"
    }
   },
   "outputs": [
    {
     "name": "stdout",
     "output_type": "stream",
     "text": [
      "Usage: marlowe-cli input deposit --deposit-account PARTY --deposit-party PARTY \n",
      "                                 [--deposit-token TOKEN]\n",
      "                                 --deposit-amount INTEGER \n",
      "                                 [--out-file OUTPUT_FILE]\n",
      "\n",
      "  Create Marlowe input for a deposit.\n",
      "\n",
      "Available options:\n",
      "  --deposit-account PARTY  The account for the deposit.\n",
      "  --deposit-party PARTY    The party making the deposit.\n",
      "  --deposit-token TOKEN    The token being deposited, if not Ada.\n",
      "  --deposit-amount INTEGER The amount of token being deposited.\n",
      "  --out-file OUTPUT_FILE   JSON output file for contract input.\n",
      "  -h,--help                Show this help text\n"
     ]
    }
   ],
   "source": [
    "marlowe-cli input deposit --help"
   ]
  },
  {
   "cell_type": "code",
   "execution_count": 87,
   "id": "3c8a6076-f342-489c-939c-e9c017b6b445",
   "metadata": {
    "vscode": {
     "languageId": "shellscript"
    }
   },
   "outputs": [
    {
     "name": "stdout",
     "output_type": "stream",
     "text": [
      "input_from_party:\n",
      "  role_token: Lender\n",
      "into_account:\n",
      "  role_token: Lender\n",
      "of_token:\n",
      "  currency_symbol: ''\n",
      "  token_name: ''\n",
      "that_deposits: 80000000\n"
     ]
    }
   ],
   "source": [
    "marlowe-cli input deposit \\\n",
    "  --deposit-party Lender \\\n",
    "  --deposit-account Lender \\\n",
    "  --deposit-amount \"$PRINCIPAL\" \\\n",
    "  --out-file input-2.json\n",
    "json2yaml input-2.json"
   ]
  },
  {
   "cell_type": "markdown",
   "id": "ad93d832-bf8c-47af-8d80-31a20eef344b",
   "metadata": {},
   "source": [
    "This input is included in the JSON request."
   ]
  },
  {
   "cell_type": "code",
   "execution_count": 88,
   "id": "4fc16b02-358c-438f-9e5b-7d709da7eac5",
   "metadata": {
    "vscode": {
     "languageId": "shellscript"
    }
   },
   "outputs": [
    {
     "name": "stdout",
     "output_type": "stream",
     "text": [
      "{\"inputs\":[{\"input_from_party\":{\"role_token\":\"Lender\"},\"into_account\":{\"role_token\":\"Lender\"},\"of_token\":{\"currency_symbol\":\"\",\"token_name\":\"\"},\"that_deposits\":80000000}],\"metadata\":{},\"tags\":{},\"version\":\"v1\"}\n"
     ]
    }
   ],
   "source": [
    "yaml2json << EOI > request-2.json\n",
    "version: v1\n",
    "inputs: [$(cat input-2.json)]\n",
    "metadata: {}\n",
    "tags: {}\n",
    "EOI\n",
    "cat request-2.json"
   ]
  },
  {
   "cell_type": "markdown",
   "id": "c13f2307-ae38-4052-84ad-394159b3394d",
   "metadata": {},
   "source": [
    "Next we post the request and store the response."
   ]
  },
  {
   "cell_type": "code",
   "execution_count": 89,
   "id": "465152a1-eaaa-4dab-9035-aa306c0022fa",
   "metadata": {
    "vscode": {
     "languageId": "shellscript"
    }
   },
   "outputs": [
    {
     "name": "stdout",
     "output_type": "stream",
     "text": [
      "links:\n",
      "  transaction: contracts/97739128440fb360b009d3acbd0eb36a6e5a47da464843413452fd83610282aa%231/transactions/dddc53341eab8f18ff910179912330e95a3a71f5e524e2312e21e38e68d1c9bc\n",
      "resource:\n",
      "  contractId: 97739128440fb360b009d3acbd0eb36a6e5a47da464843413452fd83610282aa#1\n",
      "  transactionId: dddc53341eab8f18ff910179912330e95a3a71f5e524e2312e21e38e68d1c9bc\n",
      "  txBody:\n",
      "    cborHex: 86aa008382582097739128440fb360b009d3acbd0eb36a6e5a47da464843413452fd83610282aa0082582097739128440fb360b009d3acbd0eb36a6e5a47da464843413452fd83610282aa0182582097739128440fb360b009d3acbd0eb36a6e5a47da464843413452fd83610282aa030d8182582097739128440fb360b009d3acbd0eb36a6e5a47da464843413452fd83610282aa0012818258209a8a6f387a3330b4141e1cb019380b9ac5c72151c0abc52aa4266245d3c555cd010184a200581d601b120d7221aa5e7db58fd8e0753e156cf8c38742546a907e8104cc59011a36844ba7a300581d702ed2631dbb277c84334453c5c437b86325d371f0835a28b910a91a6e011a001e848002820058203c74acfcff4466c5b7cd05427375b900ccfa74a4d058d3fffe1f1cbdfc95aa5fa200581d601b120d7221aa5e7db58fd8e0753e156cf8c38742546a907e8104cc5901821a000fc8a0a1581c68d0f8d36ea149b49d28dfa0f631748e41e72d62d46ece4d431ad597a1464c656e64657201a300581d70e165610232235bbbbeff5b998b233daae42979dec92a6722d9cda989011a04c4b40002820058207ebb64002f2b303771515baeecce5eb15069b90fbe6393fd3a8cba1c5607214f10a200581d601b120d7221aa5e7db58fd8e0753e156cf8c38742546a907e8104cc59011a3b429d0d111a001327cd021a000cc533031a01625e84081a016250be0b5820f1e5f9a0266d99bd87675df3b2263b87387d25b1f7ab701bad4bef291c6daa7f9fff83d8799fd8799f581c68d0f8d36ea149b49d28dfa0f631748e41e72d62d46ece4d431ad597ffd8799fa1d8799fd8799fd87980d8799fd8799f581c1b120d7221aa5e7db58fd8e0753e156cf8c38742546a907e8104cc59ffd87a80ffffd8799f4040ffff1a001e8480a0a01b00000186e6741a30ffd87c9f9fd8799fd8799fd87a9f48426f72726f776572ffd87a9f48426f72726f776572ffd8799f4040ffd87c9fd87a9f1a04c4b400ffd87a9f1a004c4b40ffffffd87a9fd87a9f48426f72726f776572ffd87a9fd87a9f464c656e646572ffffd8799f4040ffd87c9fd87a9f1a04c4b400ffd87a9f1a004c4b40ffffd87980ffffff1b00000186e717c4a0d87980ffffd8799fd8799f581c68d0f8d36ea149b49d28dfa0f631748e41e72d62d46ece4d431ad597ffd8799fa1d8799fd8799fd87980d8799fd8799f581c1b120d7221aa5e7db58fd8e0753e156cf8c38742546a907e8104cc59ffd87a80ffffd8799f4040ffff1a001e8480a0a000ffd87c9f9fd8799fd8799fd87a9f464c656e646572ffd87a9f464c656e646572ffd8799f4040ffd87a9f1a04c4b400ffffd87a9fd87a9f464c656e646572ffd87a9fd87a9f48426f72726f776572ffffd8799f4040ffd87a9f1a04c4b400ffd87c9f9fd8799fd8799fd87a9f48426f72726f776572ffd87a9f48426f72726f776572ffd8799f4040ffd87c9fd87a9f1a04c4b400ffd87a9f1a004c4b40ffffffd87a9fd87a9f48426f72726f776572ffd87a9fd87a9f464c656e646572ffffd8799f4040ffd87c9fd87a9f1a04c4b400ffd87a9f1a004c4b40ffffd87980ffffff1b00000186e717c4a0d87980ffffffff1b00000186e6a9e7a0d87980ffffd8799f581c68d0f8d36ea149b49d28dfa0f631748e41e72d62d46ece4d431ad59748426f72726f776572ff818400019fd8799fd8799fd87a9f464c656e646572ffd87a9f464c656e646572ffd8799f4040ff1a04c4b400ffffff821a007969e61a7c375fbdf5f6\n",
      "    description: ''\n",
      "    type: TxBodyBabbage\n"
     ]
    }
   ],
   "source": [
    "curl \"$CONTRACT_URL/transactions\" \\\n",
    "  -X POST \\\n",
    "  -H 'Content-Type: application/json' \\\n",
    "  -H \"X-Change-Address: $LENDER_ADDR\" \\\n",
    "  -d @request-2.json \\\n",
    "  -o response-2.json \\\n",
    "  -sS\n",
    "json2yaml response-2.json"
   ]
  },
  {
   "cell_type": "markdown",
   "id": "a53aa30a-f631-4714-af72-fdb1df93f12e",
   "metadata": {},
   "source": [
    "Once again, use `marlowe-cli` to submit the transaction and then wait for confirmation."
   ]
  },
  {
   "cell_type": "code",
   "execution_count": 90,
   "id": "6fb5d4c0-c158-434b-8dac-b2160f426e01",
   "metadata": {
    "vscode": {
     "languageId": "shellscript"
    }
   },
   "outputs": [],
   "source": [
    "jq '.resource.txBody' response-2.json > tx-2.unsigned"
   ]
  },
  {
   "cell_type": "code",
   "execution_count": 91,
   "id": "b2aa2f81-d6b7-4994-b90b-0812d5fb3fca",
   "metadata": {
    "vscode": {
     "languageId": "shellscript"
    }
   },
   "outputs": [
    {
     "name": "stdout",
     "output_type": "stream",
     "text": [
      "TX_2 = dddc53341eab8f18ff910179912330e95a3a71f5e524e2312e21e38e68d1c9bc\n"
     ]
    }
   ],
   "source": [
    "TX_2=$(\n",
    "marlowe-cli transaction submit \\\n",
    "  --tx-body-file tx-2.unsigned \\\n",
    "  --required-signer \"$LENDER_SKEY\" \\\n",
    "  --timeout 600 \\\n",
    "| sed -e 's/^TxId \"\\(.*\\)\"$/\\1/' \\\n",
    ")\n",
    "echo \"TX_2 = $TX_2\""
   ]
  },
  {
   "cell_type": "markdown",
   "id": "166c77e3-d2ec-4961-b1c9-59b882a9c7b7",
   "metadata": {},
   "source": [
    "One can view the transaction on a Cardano explorer. It sometimes takes thirty seconds or so for the transaction to be visible in an explorer."
   ]
  },
  {
   "cell_type": "code",
   "execution_count": 92,
   "id": "9b994073-d1b9-44a4-8149-9b307a69a4e4",
   "metadata": {
    "vscode": {
     "languageId": "shellscript"
    }
   },
   "outputs": [
    {
     "name": "stdout",
     "output_type": "stream",
     "text": [
      "https://preprod.cardanoscan.io/transaction/dddc53341eab8f18ff910179912330e95a3a71f5e524e2312e21e38e68d1c9bc?tab=utxo\n"
     ]
    }
   ],
   "source": [
    "echo \"$EXPLORER_URL/transaction/$TX_2?tab=utxo\""
   ]
  },
  {
   "cell_type": "markdown",
   "id": "44cd316b-d4db-4d2b-87a7-eb38b95f5fb3",
   "metadata": {},
   "source": [
    "One can see that the lender has approximately 83 ada less than originally. Two ada were deposited in the contract when it was created and 80 ada were paid to the borrower in the second transaction; another 1 ada was attached to the role token that was sent to the borrower. The lender also holds their own role token."
   ]
  },
  {
   "cell_type": "code",
   "execution_count": 93,
   "id": "b45dc15d-f54f-49cb-a36d-0524f47fd70e",
   "metadata": {
    "vscode": {
     "languageId": "shellscript"
    }
   },
   "outputs": [
    {
     "name": "stdout",
     "output_type": "stream",
     "text": [
      "                           TxHash                                 TxIx        Amount\n",
      "--------------------------------------------------------------------------------------\n",
      "dddc53341eab8f18ff910179912330e95a3a71f5e524e2312e21e38e68d1c9bc     0        914639783 lovelace + TxOutDatumNone\n",
      "dddc53341eab8f18ff910179912330e95a3a71f5e524e2312e21e38e68d1c9bc     2        1034400 lovelace + 1 68d0f8d36ea149b49d28dfa0f631748e41e72d62d46ece4d431ad597.4c656e646572 + TxOutDatumNone\n"
     ]
    }
   ],
   "source": [
    "cardano-cli query utxo --testnet-magic \"$CARDANO_TESTNET_MAGIC\" --address \"$LENDER_ADDR\""
   ]
  },
  {
   "cell_type": "markdown",
   "id": "369f3945-299b-41dd-9cbf-f3864002b6aa",
   "metadata": {},
   "source": [
    "The Marlowe contract still has the 2 ada from its creation."
   ]
  },
  {
   "cell_type": "code",
   "execution_count": 94,
   "id": "6485d605-dec4-4bab-86f6-81bf002041ed",
   "metadata": {
    "vscode": {
     "languageId": "shellscript"
    }
   },
   "outputs": [
    {
     "name": "stdout",
     "output_type": "stream",
     "text": [
      "                           TxHash                                 TxIx        Amount\n",
      "--------------------------------------------------------------------------------------\n",
      "dddc53341eab8f18ff910179912330e95a3a71f5e524e2312e21e38e68d1c9bc     1        2000000 lovelace + TxOutDatumHash ScriptDataInBabbageEra \"3c74acfcff4466c5b7cd05427375b900ccfa74a4d058d3fffe1f1cbdfc95aa5f\"\n"
     ]
    }
   ],
   "source": [
    "cardano-cli query utxo --testnet-magic \"$CARDANO_TESTNET_MAGIC\" --tx-in \"$TX_2#1\""
   ]
  },
  {
   "cell_type": "markdown",
   "id": "42835790-b1b7-4c03-a935-dda6addd4f19",
   "metadata": {},
   "source": [
    "Marlowe\\'s role-payout address holds the 80 ada on behalf of the borrower."
   ]
  },
  {
   "cell_type": "code",
   "execution_count": 95,
   "id": "82e3a33e-7ce1-4aa3-824c-59cbfe881ba9",
   "metadata": {
    "vscode": {
     "languageId": "shellscript"
    }
   },
   "outputs": [
    {
     "name": "stdout",
     "output_type": "stream",
     "text": [
      "                           TxHash                                 TxIx        Amount\n",
      "--------------------------------------------------------------------------------------\n",
      "dddc53341eab8f18ff910179912330e95a3a71f5e524e2312e21e38e68d1c9bc     3        80000000 lovelace + TxOutDatumHash ScriptDataInBabbageEra \"7ebb64002f2b303771515baeecce5eb15069b90fbe6393fd3a8cba1c5607214f\"\n"
     ]
    }
   ],
   "source": [
    "cardano-cli query utxo --testnet-magic \"$CARDANO_TESTNET_MAGIC\" --tx-in \"$TX_2#3\""
   ]
  },
  {
   "cell_type": "markdown",
   "id": "3eb0d02e-c30c-4845-86b5-602c2279b518",
   "metadata": {},
   "source": [
    "## View the further progress of the contract on the blockchain\n",
    "\n",
    "Marlowe Runtime\\'s `HTTP` `GET` endpoint `/contracts/{contractId}/transactions/{transactionId}` can fetch a contract from the blockchain and return information about it."
   ]
  },
  {
   "cell_type": "code",
   "execution_count": 96,
   "id": "e0461725-7f2b-4256-ac83-8e681ecb3e35",
   "metadata": {
    "vscode": {
     "languageId": "shellscript"
    }
   },
   "outputs": [
    {
     "name": "stdout",
     "output_type": "stream",
     "text": [
      "links: {}\n",
      "resource:\n",
      "  block:\n",
      "    blockHeaderHash: 6ba6ee90728b334ddf70a06ea434899a345bda598fe334194dea801856d873a1\n",
      "    blockNo: 728274\n",
      "    slotNo: 23220478\n",
      "  consumingTx: null\n",
      "  continuations: null\n",
      "  contractId: 97739128440fb360b009d3acbd0eb36a6e5a47da464843413452fd83610282aa#1\n",
      "  inputUtxo: 97739128440fb360b009d3acbd0eb36a6e5a47da464843413452fd83610282aa#1\n",
      "  inputs:\n",
      "  - input_from_party:\n",
      "      role_token: Lender\n",
      "    into_account:\n",
      "      role_token: Lender\n",
      "    of_token:\n",
      "      currency_symbol: ''\n",
      "      token_name: ''\n",
      "    that_deposits: 80000000\n",
      "  invalidBefore: 2023-03-15T18:06:54Z\n",
      "  invalidHereafter: 2023-03-15T19:05:40Z\n",
      "  metadata: {}\n",
      "  outputContract:\n",
      "    timeout: 1678914340000\n",
      "    timeout_continuation: close\n",
      "    when:\n",
      "    - case:\n",
      "        deposits:\n",
      "          add: 80000000\n",
      "          and: 5000000\n",
      "        into_account:\n",
      "          role_token: Borrower\n",
      "        of_token:\n",
      "          currency_symbol: ''\n",
      "          token_name: ''\n",
      "        party:\n",
      "          role_token: Borrower\n",
      "      then:\n",
      "        from_account:\n",
      "          role_token: Borrower\n",
      "        pay:\n",
      "          add: 80000000\n",
      "          and: 5000000\n",
      "        then: close\n",
      "        to:\n",
      "          party:\n",
      "            role_token: Lender\n",
      "        token:\n",
      "          currency_symbol: ''\n",
      "          token_name: ''\n",
      "  outputState:\n",
      "    accounts:\n",
      "    - - - address: addr_test1vqd3yrtjyx49uld43lvwqaf7z4k03su8gf2x4yr7syzvckgfzm4ck\n",
      "        - currency_symbol: ''\n",
      "          token_name: ''\n",
      "      - 2000000\n",
      "    boundValues: []\n",
      "    choices: []\n",
      "    minTime: 1678903614000\n",
      "  outputUtxo: dddc53341eab8f18ff910179912330e95a3a71f5e524e2312e21e38e68d1c9bc#1\n",
      "  status: confirmed\n",
      "  tags: {}\n",
      "  transactionId: dddc53341eab8f18ff910179912330e95a3a71f5e524e2312e21e38e68d1c9bc\n",
      "  txBody: null\n"
     ]
    }
   ],
   "source": [
    "curl -sS \"$CONTRACT_URL/transactions/$TX_2\" | json2yaml"
   ]
  },
  {
   "cell_type": "markdown",
   "id": "0b17395e-b9bf-4d65-87be-52003df285cc",
   "metadata": {},
   "source": [
    "## Transaction 3. The borrower withdraws the principal\n",
    "\n",
    "The principal of 80 ada is held at Marlowe's role-payout address for the benefit of the borrower. The borrower can withdraw these funds at any time. The contract ID and role name are included in the request body for a withdrawal."
   ]
  },
  {
   "cell_type": "code",
   "execution_count": 97,
   "id": "87bf77eb-ba6f-4981-b7a6-453c63685a76",
   "metadata": {
    "tags": [],
    "vscode": {
     "languageId": "shellscript"
    }
   },
   "outputs": [
    {
     "name": "stdout",
     "output_type": "stream",
     "text": [
      "{\"contractId\":\"97739128440fb360b009d3acbd0eb36a6e5a47da464843413452fd83610282aa#1\",\"role\":\"Borrower\"}\n"
     ]
    }
   ],
   "source": [
    "yaml2json << EOI > request-3.json\n",
    "contractId: \"$CONTRACT_ID\"\n",
    "role: Borrower\n",
    "EOI\n",
    "cat request-3.json"
   ]
  },
  {
   "cell_type": "markdown",
   "id": "5d015904-3a3b-4ae3-bb31-526789648e46",
   "metadata": {},
   "source": [
    "Next we post the request and store the response."
   ]
  },
  {
   "cell_type": "code",
   "execution_count": 98,
   "id": "42a6ba19-7618-417f-a9f2-9c4380a67c8b",
   "metadata": {
    "vscode": {
     "languageId": "shellscript"
    }
   },
   "outputs": [
    {
     "name": "stdout",
     "output_type": "stream",
     "text": [
      "links:\n",
      "  withdrawal: withdrawals/b450ee66c27ebeaa0ae1928e7163628b27462f33c7c9316c47058185038c2416\n",
      "resource:\n",
      "  txBody:\n",
      "    cborHex: 86a8008382582097739128440fb360b009d3acbd0eb36a6e5a47da464843413452fd83610282aa02825820dc380bc79a628167244f785e32a7750b007dd0084970a19fc58e22ca2ce190b503825820dddc53341eab8f18ff910179912330e95a3a71f5e524e2312e21e38e68d1c9bc030d81825820dc380bc79a628167244f785e32a7750b007dd0084970a19fc58e22ca2ce190b50312818258209a8a6f387a3330b4141e1cb019380b9ac5c72151c0abc52aa4266245d3c555cd020182a200581d604959d439bd61c63c94a102be0defd6a54b36071d6789f05b7b0224a1011a405a8383a200581d604959d439bd61c63c94a102be0defd6a54b36071d6789f05b7b0224a101821a000fea4ca1581c68d0f8d36ea149b49d28dfa0f631748e41e72d62d46ece4d431ad597a148426f72726f7765720110a200581d604959d439bd61c63c94a102be0defd6a54b36071d6789f05b7b0224a1011a3b935244111a000777bc021a0004fa7d0b582008647a69a8cf493d8673849f35d61d87a24bb4f8ea871d6fcf5743f6bbcdbcb59fff81d8799f581c68d0f8d36ea149b49d28dfa0f631748e41e72d62d46ece4d431ad59748426f72726f776572ff81840002d87980821a001a71761a1ced183ef5f6\n",
      "    description: ''\n",
      "    type: TxBodyBabbage\n",
      "  withdrawalId: b450ee66c27ebeaa0ae1928e7163628b27462f33c7c9316c47058185038c2416\n"
     ]
    }
   ],
   "source": [
    "curl \"$MARLOWE_RT_WEBSERVER_URL/withdrawals\" \\\n",
    "  -X POST \\\n",
    "  -H 'Content-Type: application/json' \\\n",
    "  -H \"X-Change-Address: $BORROWER_ADDR\" \\\n",
    "  -d @request-3.json \\\n",
    "  -o response-3.json \\\n",
    "  -sS\n",
    "json2yaml response-3.json"
   ]
  },
  {
   "cell_type": "markdown",
   "id": "63337199-839c-46a1-85ff-76a9b0cdec26",
   "metadata": {},
   "source": [
    "Once again, use `marlowe-cli` to submit the transaction and then wait for confirmation."
   ]
  },
  {
   "cell_type": "code",
   "execution_count": 99,
   "id": "c4858e39-8eb6-4407-bf68-985938162a74",
   "metadata": {
    "vscode": {
     "languageId": "shellscript"
    }
   },
   "outputs": [],
   "source": [
    "jq '.resource.txBody' response-3.json > tx-3.unsigned"
   ]
  },
  {
   "cell_type": "code",
   "execution_count": 100,
   "id": "a1e8ffa6-1a77-422b-8df3-aeeb78716942",
   "metadata": {
    "vscode": {
     "languageId": "shellscript"
    }
   },
   "outputs": [
    {
     "name": "stdout",
     "output_type": "stream",
     "text": [
      "TX_3 = b450ee66c27ebeaa0ae1928e7163628b27462f33c7c9316c47058185038c2416\n"
     ]
    }
   ],
   "source": [
    "TX_3=$(\n",
    "marlowe-cli transaction submit \\\n",
    "  --tx-body-file tx-3.unsigned \\\n",
    "  --required-signer \"$BORROWER_SKEY\" \\\n",
    "  --timeout 600 \\\n",
    "| sed -e 's/^TxId \"\\(.*\\)\"$/\\1/' \\\n",
    ")\n",
    "echo \"TX_3 = $TX_3\""
   ]
  },
  {
   "cell_type": "markdown",
   "id": "83cdba11-1c56-4bd4-8cfc-70240f562477",
   "metadata": {},
   "source": [
    "On can view the transaction on a Cardano explorer. It sometimes takes thirty seconds or so for the transaction to be visible in an explorer."
   ]
  },
  {
   "cell_type": "code",
   "execution_count": 101,
   "id": "b3df594b-eb21-4551-8c84-26eef2af54fd",
   "metadata": {
    "vscode": {
     "languageId": "shellscript"
    }
   },
   "outputs": [
    {
     "name": "stdout",
     "output_type": "stream",
     "text": [
      "https://preprod.cardanoscan.io/transaction/b450ee66c27ebeaa0ae1928e7163628b27462f33c7c9316c47058185038c2416?tab=utxo\n"
     ]
    }
   ],
   "source": [
    "echo \"$EXPLORER_URL/transaction/$TX_3?tab=utxo\""
   ]
  },
  {
   "cell_type": "markdown",
   "id": "26ef923e-2e12-4288-a213-1c05ee323f9c",
   "metadata": {},
   "source": [
    "The borrower now has about an additional 80 ada (the loan's principal). The borrower also holds their own role token."
   ]
  },
  {
   "cell_type": "code",
   "execution_count": 102,
   "id": "0c876c3c-381c-441d-92e9-b6bedbaf23a9",
   "metadata": {
    "vscode": {
     "languageId": "shellscript"
    }
   },
   "outputs": [
    {
     "name": "stdout",
     "output_type": "stream",
     "text": [
      "                           TxHash                                 TxIx        Amount\n",
      "--------------------------------------------------------------------------------------\n",
      "b450ee66c27ebeaa0ae1928e7163628b27462f33c7c9316c47058185038c2416     0        1079673731 lovelace + TxOutDatumNone\n",
      "b450ee66c27ebeaa0ae1928e7163628b27462f33c7c9316c47058185038c2416     1        1043020 lovelace + 1 68d0f8d36ea149b49d28dfa0f631748e41e72d62d46ece4d431ad597.426f72726f776572 + TxOutDatumNone\n"
     ]
    }
   ],
   "source": [
    "cardano-cli query utxo --testnet-magic \"$CARDANO_TESTNET_MAGIC\" --address \"$BORROWER_ADDR\""
   ]
  },
  {
   "cell_type": "markdown",
   "id": "e7c652f6-02da-4786-a54d-755d59e4aba9",
   "metadata": {
    "tags": []
   },
   "source": [
    "## Transaction 4. The borrower repays the loan\n",
    "\n",
    "After some time passes, the borrower repays principal plus interest. Thus, they fund the transaction and receive the change at their address.\n",
    "\n",
    "First build the input to deposit the funds to the contract."
   ]
  },
  {
   "cell_type": "code",
   "execution_count": 103,
   "id": "1eb38d8c-4e20-4172-9deb-4364680823db",
   "metadata": {
    "vscode": {
     "languageId": "shellscript"
    }
   },
   "outputs": [
    {
     "name": "stdout",
     "output_type": "stream",
     "text": [
      "input_from_party:\n",
      "  role_token: Borrower\n",
      "into_account:\n",
      "  role_token: Borrower\n",
      "of_token:\n",
      "  currency_symbol: ''\n",
      "  token_name: ''\n",
      "that_deposits: 85000000\n"
     ]
    }
   ],
   "source": [
    "marlowe-cli input deposit \\\n",
    "  --deposit-party Borrower \\\n",
    "  --deposit-account Borrower \\\n",
    "  --deposit-amount \"$((PRINCIPAL+INTEREST))\" \\\n",
    "  --out-file input-4.json\n",
    "json2yaml input-4.json"
   ]
  },
  {
   "cell_type": "markdown",
   "id": "a21b8c20-0207-40c1-a999-937ceb508e9d",
   "metadata": {},
   "source": [
    "Next build the request."
   ]
  },
  {
   "cell_type": "code",
   "execution_count": 104,
   "id": "9e0e83d1-cd70-4c42-a350-242e0b5fdd06",
   "metadata": {
    "vscode": {
     "languageId": "shellscript"
    }
   },
   "outputs": [
    {
     "name": "stdout",
     "output_type": "stream",
     "text": [
      "{\"inputs\":[{\"input_from_party\":{\"role_token\":\"Borrower\"},\"into_account\":{\"role_token\":\"Borrower\"},\"of_token\":{\"currency_symbol\":\"\",\"token_name\":\"\"},\"that_deposits\":85000000}],\"metadata\":{},\"tags\":{},\"version\":\"v1\"}\n"
     ]
    }
   ],
   "source": [
    "yaml2json << EOI > request-4.json\n",
    "version: v1\n",
    "inputs: [$(cat input-4.json)]\n",
    "metadata: {}\n",
    "tags: {}\n",
    "EOI\n",
    "cat request-4.json"
   ]
  },
  {
   "cell_type": "markdown",
   "id": "8ae5b15b-b43a-492b-83c7-5b7693c61348",
   "metadata": {},
   "source": [
    "Now post the request to Marlowe Runtime."
   ]
  },
  {
   "cell_type": "code",
   "execution_count": 105,
   "id": "dc569d98-d5a0-4c40-bafb-6018ce4084ed",
   "metadata": {
    "vscode": {
     "languageId": "shellscript"
    }
   },
   "outputs": [
    {
     "name": "stdout",
     "output_type": "stream",
     "text": [
      "links:\n",
      "  transaction: contracts/97739128440fb360b009d3acbd0eb36a6e5a47da464843413452fd83610282aa%231/transactions/540291520e2ad39961a3043e19d40e1b7195809980c0e7c22733e9a84dc494bd\n",
      "resource:\n",
      "  contractId: 97739128440fb360b009d3acbd0eb36a6e5a47da464843413452fd83610282aa#1\n",
      "  transactionId: 540291520e2ad39961a3043e19d40e1b7195809980c0e7c22733e9a84dc494bd\n",
      "  txBody:\n",
      "    cborHex: 86aa0083825820b450ee66c27ebeaa0ae1928e7163628b27462f33c7c9316c47058185038c241600825820b450ee66c27ebeaa0ae1928e7163628b27462f33c7c9316c47058185038c241601825820dddc53341eab8f18ff910179912330e95a3a71f5e524e2312e21e38e68d1c9bc010d81825820b450ee66c27ebeaa0ae1928e7163628b27462f33c7c9316c47058185038c24160012818258209a8a6f387a3330b4141e1cb019380b9ac5c72151c0abc52aa4266245d3c555cd010184a200581d604959d439bd61c63c94a102be0defd6a54b36071d6789f05b7b0224a1011a3b3f8180a200581d604959d439bd61c63c94a102be0defd6a54b36071d6789f05b7b0224a101821a000fea4ca1581c68d0f8d36ea149b49d28dfa0f631748e41e72d62d46ece4d431ad597a148426f72726f77657201a300581d70e165610232235bbbbeff5b998b233daae42979dec92a6722d9cda989011a0510ff40028200582045f5647eb6ccae98c4f391da5d74b0ccc6bc4aaaca08cf78d3bbe6deb0c77b9da200581d601b120d7221aa5e7db58fd8e0753e156cf8c38742546a907e8104cc59011a001e848010a200581d604959d439bd61c63c94a102be0defd6a54b36071d6789f05b7b0224a1011a404b7f5e111a000f0425021a000a02c3031a01627aa4081a0162513b0b5820cd73c9b02b10e96cf14ede8d6015d48d8e9254b75c9beb445e8ce129f6b7cd689fff82d8799fd8799f581c68d0f8d36ea149b49d28dfa0f631748e41e72d62d46ece4d431ad597ffd8799fa1d8799fd8799fd87980d8799fd8799f581c1b120d7221aa5e7db58fd8e0753e156cf8c38742546a907e8104cc59ffd87a80ffffd8799f4040ffff1a001e8480a0a01b00000186e6741a30ffd87c9f9fd8799fd8799fd87a9f48426f72726f776572ffd87a9f48426f72726f776572ffd8799f4040ffd87c9fd87a9f1a04c4b400ffd87a9f1a004c4b40ffffffd87a9fd87a9f48426f72726f776572ffd87a9fd87a9f464c656e646572ffffd8799f4040ffd87c9fd87a9f1a04c4b400ffd87a9f1a004c4b40ffffd87980ffffff1b00000186e717c4a0d87980ffffd8799f581c68d0f8d36ea149b49d28dfa0f631748e41e72d62d46ece4d431ad597464c656e646572ff818400029fd8799fd8799fd87a9f48426f72726f776572ffd87a9f48426f72726f776572ffd8799f4040ff1a0510ff40ffffff821a0058b6081a5b4f3cadf5f6\n",
      "    description: ''\n",
      "    type: TxBodyBabbage\n"
     ]
    }
   ],
   "source": [
    "curl \"$CONTRACT_URL/transactions\" \\\n",
    "  -X POST \\\n",
    "  -H 'Content-Type: application/json' \\\n",
    "  -H \"X-Change-Address: $BORROWER_ADDR\" \\\n",
    "  -d @request-4.json \\\n",
    "  -o response-4.json \\\n",
    "  -sS\n",
    "json2yaml response-4.json"
   ]
  },
  {
   "cell_type": "markdown",
   "id": "b2e54a32-15b1-436f-a793-4c30fa048436",
   "metadata": {},
   "source": [
    "Once again, use `marlowe-cli` to submit the transaction and then wait for confirmation."
   ]
  },
  {
   "cell_type": "code",
   "execution_count": 106,
   "id": "b6f04318-bfb8-47d5-b681-0abb90d62640",
   "metadata": {
    "vscode": {
     "languageId": "shellscript"
    }
   },
   "outputs": [],
   "source": [
    "jq '.resource.txBody' response-4.json > tx-4.unsigned"
   ]
  },
  {
   "cell_type": "code",
   "execution_count": 107,
   "id": "0faa8cd4-902d-4399-8621-03dac811deda",
   "metadata": {
    "vscode": {
     "languageId": "shellscript"
    }
   },
   "outputs": [
    {
     "name": "stdout",
     "output_type": "stream",
     "text": [
      "TX_4 = 540291520e2ad39961a3043e19d40e1b7195809980c0e7c22733e9a84dc494bd\n"
     ]
    }
   ],
   "source": [
    "TX_4=$(\n",
    "marlowe-cli transaction submit \\\n",
    "  --tx-body-file tx-4.unsigned \\\n",
    "  --required-signer \"$BORROWER_SKEY\" \\\n",
    "  --timeout 600 \\\n",
    "| sed -e 's/^TxId \"\\(.*\\)\"$/\\1/' \\\n",
    ")\n",
    "echo \"TX_4 = $TX_4\""
   ]
  },
  {
   "cell_type": "markdown",
   "id": "0a24c60d-e470-487b-b607-fa94fc243314",
   "metadata": {},
   "source": [
    "One can view the transaction on a Cardano explorer. It sometimes takes thirty seconds or so for the transaction to be visible in an explorer."
   ]
  },
  {
   "cell_type": "code",
   "execution_count": 108,
   "id": "53279d7a-c775-422e-a258-e4077df1e2b4",
   "metadata": {
    "vscode": {
     "languageId": "shellscript"
    }
   },
   "outputs": [
    {
     "name": "stdout",
     "output_type": "stream",
     "text": [
      "https://preprod.cardanoscan.io/transaction/540291520e2ad39961a3043e19d40e1b7195809980c0e7c22733e9a84dc494bd?tab=utxo\n"
     ]
    }
   ],
   "source": [
    "echo \"$EXPLORER_URL/transaction/$TX_4?tab=utxo\""
   ]
  },
  {
   "cell_type": "markdown",
   "id": "1196c641-e92e-4848-a20b-b673d7fcbc71",
   "metadata": {},
   "source": [
    "The borrower now has a total of about 5 ada (the loan's interest) less than originally."
   ]
  },
  {
   "cell_type": "code",
   "execution_count": 109,
   "id": "3e8f27e3-e94a-4332-94a2-2f8af8800d56",
   "metadata": {
    "vscode": {
     "languageId": "shellscript"
    }
   },
   "outputs": [
    {
     "name": "stdout",
     "output_type": "stream",
     "text": [
      "                           TxHash                                 TxIx        Amount\n",
      "--------------------------------------------------------------------------------------\n",
      "540291520e2ad39961a3043e19d40e1b7195809980c0e7c22733e9a84dc494bd     0        994017664 lovelace + TxOutDatumNone\n",
      "540291520e2ad39961a3043e19d40e1b7195809980c0e7c22733e9a84dc494bd     1        1043020 lovelace + 1 68d0f8d36ea149b49d28dfa0f631748e41e72d62d46ece4d431ad597.426f72726f776572 + TxOutDatumNone\n"
     ]
    }
   ],
   "source": [
    "cardano-cli query utxo --testnet-magic \"$CARDANO_TESTNET_MAGIC\" --address \"$BORROWER_ADDR\""
   ]
  },
  {
   "cell_type": "markdown",
   "id": "b21ad2f2-9666-4baa-bbde-76d7b32f5be9",
   "metadata": {},
   "source": [
    "The 85 ada are at Marlowe\\'s role-payout address, held for the benefit of the lender."
   ]
  },
  {
   "cell_type": "code",
   "execution_count": 110,
   "id": "6d7bd817-4174-42c1-bc15-29e00f05645b",
   "metadata": {
    "vscode": {
     "languageId": "shellscript"
    }
   },
   "outputs": [
    {
     "name": "stdout",
     "output_type": "stream",
     "text": [
      "                           TxHash                                 TxIx        Amount\n",
      "--------------------------------------------------------------------------------------\n",
      "540291520e2ad39961a3043e19d40e1b7195809980c0e7c22733e9a84dc494bd     2        85000000 lovelace + TxOutDatumHash ScriptDataInBabbageEra \"45f5647eb6ccae98c4f391da5d74b0ccc6bc4aaaca08cf78d3bbe6deb0c77b9d\"\n"
     ]
    }
   ],
   "source": [
    "cardano-cli query utxo --testnet-magic \"$CARDANO_TESTNET_MAGIC\" --tx-in \"$TX_4#2\""
   ]
  },
  {
   "cell_type": "markdown",
   "id": "8b4951f7-58bb-4399-a09a-2029f4e2dfe4",
   "metadata": {},
   "source": [
    "The Marlowe contract has closed, so there is no output to its script address."
   ]
  },
  {
   "cell_type": "markdown",
   "id": "236043d5-5559-42a6-bf86-4171d80af4d4",
   "metadata": {},
   "source": [
    "## View the completion of the contract on the blockchain\n",
    "\n",
    "Marlowe Runtime\\'s `HTTP` `GET` endpoint `/contracts/{contractId}/transactions/{transactionId}` can fetch a contract from the blockchain and return information about it."
   ]
  },
  {
   "cell_type": "code",
   "execution_count": 111,
   "id": "f6f164ae-2fca-4e9f-9368-d2ffe8ce83b9",
   "metadata": {
    "vscode": {
     "languageId": "shellscript"
    }
   },
   "outputs": [
    {
     "name": "stdout",
     "output_type": "stream",
     "text": [
      "links:\n",
      "  previous: contracts/97739128440fb360b009d3acbd0eb36a6e5a47da464843413452fd83610282aa%231/transactions/dddc53341eab8f18ff910179912330e95a3a71f5e524e2312e21e38e68d1c9bc\n",
      "resource:\n",
      "  block:\n",
      "    blockHeaderHash: c393c51801695106acd0bc329a864fec9d8bae8ffbc1c72adfbfb9e55b8a570d\n",
      "    blockNo: 728277\n",
      "    slotNo: 23220567\n",
      "  consumingTx: null\n",
      "  continuations: null\n",
      "  contractId: 97739128440fb360b009d3acbd0eb36a6e5a47da464843413452fd83610282aa#1\n",
      "  inputUtxo: dddc53341eab8f18ff910179912330e95a3a71f5e524e2312e21e38e68d1c9bc#1\n",
      "  inputs:\n",
      "  - input_from_party:\n",
      "      role_token: Borrower\n",
      "    into_account:\n",
      "      role_token: Borrower\n",
      "    of_token:\n",
      "      currency_symbol: ''\n",
      "      token_name: ''\n",
      "    that_deposits: 85000000\n",
      "  invalidBefore: 2023-03-15T18:08:59Z\n",
      "  invalidHereafter: 2023-03-15T21:05:40Z\n",
      "  metadata: {}\n",
      "  outputContract: null\n",
      "  outputState: null\n",
      "  outputUtxo: null\n",
      "  status: confirmed\n",
      "  tags: {}\n",
      "  transactionId: 540291520e2ad39961a3043e19d40e1b7195809980c0e7c22733e9a84dc494bd\n",
      "  txBody: null\n"
     ]
    }
   ],
   "source": [
    "curl -sS \"$CONTRACT_URL/transactions/$TX_4\" | json2yaml"
   ]
  },
  {
   "cell_type": "markdown",
   "id": "12fc02fa-a082-4ec2-8683-c48e1a0e0020",
   "metadata": {},
   "source": [
    "## Transaction 5. The lender withdraws their principal and interest\n",
    "\n",
    "Here again we withdraw funds from the Marlowe role-payout address."
   ]
  },
  {
   "cell_type": "code",
   "execution_count": 112,
   "id": "6c1cabad-cde9-4086-bc9b-6bc33fe4fba3",
   "metadata": {
    "tags": [],
    "vscode": {
     "languageId": "shellscript"
    }
   },
   "outputs": [
    {
     "name": "stdout",
     "output_type": "stream",
     "text": [
      "{\"contractId\":\"97739128440fb360b009d3acbd0eb36a6e5a47da464843413452fd83610282aa#1\",\"role\":\"Lender\"}\n"
     ]
    }
   ],
   "source": [
    "yaml2json << EOI > request-5.json\n",
    "contractId: \"$CONTRACT_ID\"\n",
    "role: Lender\n",
    "EOI\n",
    "cat request-5.json"
   ]
  },
  {
   "cell_type": "markdown",
   "id": "2a93c3e3-0418-48c3-a54f-31678ed94252",
   "metadata": {},
   "source": [
    "Next we post the request and store the response."
   ]
  },
  {
   "cell_type": "code",
   "execution_count": 113,
   "id": "0a07552a-52db-4d24-a757-c2e93aec456b",
   "metadata": {
    "vscode": {
     "languageId": "shellscript"
    }
   },
   "outputs": [
    {
     "name": "stdout",
     "output_type": "stream",
     "text": [
      "links:\n",
      "  withdrawal: withdrawals/b09e57eda993ca5a81b1aab3ba5588ea5efaab614a2382f02a7eb170afb872cf\n",
      "resource:\n",
      "  txBody:\n",
      "    cborHex: 86a80083825820540291520e2ad39961a3043e19d40e1b7195809980c0e7c22733e9a84dc494bd02825820540291520e2ad39961a3043e19d40e1b7195809980c0e7c22733e9a84dc494bd03825820dddc53341eab8f18ff910179912330e95a3a71f5e524e2312e21e38e68d1c9bc020d81825820dddc53341eab8f18ff910179912330e95a3a71f5e524e2312e21e38e68d1c9bc0012818258209a8a6f387a3330b4141e1cb019380b9ac5c72151c0abc52aa4266245d3c555cd020182a200581d601b120d7221aa5e7db58fd8e0753e156cf8c38742546a907e8104cc59011a052a64c0a200581d601b120d7221aa5e7db58fd8e0753e156cf8c38742546a907e8104cc5901821a000fc8a0a1581c68d0f8d36ea149b49d28dfa0f631748e41e72d62d46ece4d431ad597a1464c656e6465720110a200581d601b120d7221aa5e7db58fd8e0753e156cf8c38742546a907e8104cc59011a367c9d27111a0007ae80021a00051f000b58205507767388bce735e60d8f2c753346ac039cd5d9f029ee3acd35b6b3b81438469fff81d8799f581c68d0f8d36ea149b49d28dfa0f631748e41e72d62d46ece4d431ad597464c656e646572ff81840000d87980821a001c64b21a1eb3e9a8f5f6\n",
      "    description: ''\n",
      "    type: TxBodyBabbage\n",
      "  withdrawalId: b09e57eda993ca5a81b1aab3ba5588ea5efaab614a2382f02a7eb170afb872cf\n"
     ]
    }
   ],
   "source": [
    "curl \"$MARLOWE_RT_WEBSERVER_URL/withdrawals\" \\\n",
    "  -X POST \\\n",
    "  -H 'Content-Type: application/json' \\\n",
    "  -H \"X-Change-Address: $LENDER_ADDR\" \\\n",
    "  -d @request-5.json \\\n",
    "  -o response-5.json \\\n",
    "  -sS\n",
    "json2yaml response-5.json"
   ]
  },
  {
   "cell_type": "markdown",
   "id": "6e2e7970-05d0-4f63-9bca-68737d39700d",
   "metadata": {},
   "source": [
    "Once again, use `marlowe-cli` to submit the transaction and then wait for confirmation."
   ]
  },
  {
   "cell_type": "code",
   "execution_count": 114,
   "id": "aa048a7f-6619-4e12-9cf1-98791744b430",
   "metadata": {
    "vscode": {
     "languageId": "shellscript"
    }
   },
   "outputs": [],
   "source": [
    "jq '.resource.txBody' response-5.json > tx-5.unsigned"
   ]
  },
  {
   "cell_type": "code",
   "execution_count": 115,
   "id": "a0ac6dc2-1ffd-43f8-991e-c6108b100606",
   "metadata": {
    "vscode": {
     "languageId": "shellscript"
    }
   },
   "outputs": [
    {
     "name": "stdout",
     "output_type": "stream",
     "text": [
      "TX_5 = b09e57eda993ca5a81b1aab3ba5588ea5efaab614a2382f02a7eb170afb872cf\n"
     ]
    }
   ],
   "source": [
    "TX_5=$(\n",
    "marlowe-cli transaction submit \\\n",
    "  --tx-body-file tx-5.unsigned \\\n",
    "  --required-signer \"$LENDER_SKEY\" \\\n",
    "  --timeout 600 \\\n",
    "| sed -e 's/^TxId \"\\(.*\\)\"$/\\1/' \\\n",
    ")\n",
    "echo \"TX_5 = $TX_5\""
   ]
  },
  {
   "cell_type": "markdown",
   "id": "2776f365-9ba9-481a-ac1e-79f7e9cc60bc",
   "metadata": {},
   "source": [
    "One can view the transaction on a Cardano explorer. It sometimes takes thirty seconds or so for the transaction to be visible in an explorer."
   ]
  },
  {
   "cell_type": "code",
   "execution_count": 116,
   "id": "0465596a-9141-476b-84e2-003f2c55eefa",
   "metadata": {
    "vscode": {
     "languageId": "shellscript"
    }
   },
   "outputs": [
    {
     "name": "stdout",
     "output_type": "stream",
     "text": [
      "https://preprod.cardanoscan.io/transaction/b09e57eda993ca5a81b1aab3ba5588ea5efaab614a2382f02a7eb170afb872cf?tab=utxo\n"
     ]
    }
   ],
   "source": [
    "echo \"$EXPLORER_URL/transaction/$TX_5?tab=utxo\""
   ]
  },
  {
   "cell_type": "markdown",
   "id": "dee709f4-b59a-4411-abd3-defc4031f942",
   "metadata": {},
   "source": [
    "The lender now has an additional 5 ada (the loan's interest), minus fees, compared to their original balance before the contract started."
   ]
  },
  {
   "cell_type": "code",
   "execution_count": 117,
   "id": "98ac7654-f649-42dd-972f-103c3b55ad4f",
   "metadata": {
    "vscode": {
     "languageId": "shellscript"
    }
   },
   "outputs": [
    {
     "name": "stdout",
     "output_type": "stream",
     "text": [
      "                           TxHash                                 TxIx        Amount\n",
      "--------------------------------------------------------------------------------------\n",
      "b09e57eda993ca5a81b1aab3ba5588ea5efaab614a2382f02a7eb170afb872cf     0        86664384 lovelace + TxOutDatumNone\n",
      "b09e57eda993ca5a81b1aab3ba5588ea5efaab614a2382f02a7eb170afb872cf     1        1034400 lovelace + 1 68d0f8d36ea149b49d28dfa0f631748e41e72d62d46ece4d431ad597.4c656e646572 + TxOutDatumNone\n",
      "dddc53341eab8f18ff910179912330e95a3a71f5e524e2312e21e38e68d1c9bc     0        914639783 lovelace + TxOutDatumNone\n"
     ]
    }
   ],
   "source": [
    "cardano-cli query utxo --testnet-magic \"$CARDANO_TESTNET_MAGIC\" --address \"$LENDER_ADDR\""
   ]
  },
  {
   "cell_type": "markdown",
   "id": "facfe24b-dd7a-44fe-896b-da2b6c6be5b2",
   "metadata": {},
   "source": [
    "## *Appendix:* OpenApi Description of Marlowe Web Services\n",
    "\n",
    "Here is the OpenApi description of endpoints and types provided by `marlowe-web-server`."
   ]
  },
  {
   "cell_type": "code",
   "execution_count": 118,
   "id": "9f2104c6-6463-4ce5-a1b9-e86e066a08ce",
   "metadata": {
    "vscode": {
     "languageId": "shellscript"
    }
   },
   "outputs": [
    {
     "name": "stdout",
     "output_type": "stream",
     "text": [
      "components:\n",
      "  schemas:\n",
      "    Action:\n",
      "      description: A contract which becomes active when an action occurs.\n",
      "      oneOf:\n",
      "      - properties:\n",
      "          deposits:\n",
      "            $ref: '#/components/schemas/Value'\n",
      "          into_account:\n",
      "            $ref: '#/components/schemas/Party'\n",
      "          of_token:\n",
      "            $ref: '#/components/schemas/Token'\n",
      "          party:\n",
      "            $ref: '#/components/schemas/Party'\n",
      "        required:\n",
      "        - party\n",
      "        - deposits\n",
      "        - of_token\n",
      "        - into_account\n",
      "        type: object\n",
      "      - properties:\n",
      "          choose_between:\n",
      "            items:\n",
      "              $ref: '#/components/schemas/Bound'\n",
      "            type: array\n",
      "          for_choice:\n",
      "            $ref: '#/components/schemas/ChoiceId'\n",
      "        required:\n",
      "        - for_choice\n",
      "        - choose_between\n",
      "        type: object\n",
      "      - properties:\n",
      "          notify_if:\n",
      "            $ref: '#/components/schemas/Observation'\n",
      "        required:\n",
      "        - notify_if\n",
      "        type: object\n",
      "    Address:\n",
      "      description: A cardano address\n",
      "      type: string\n",
      "    ApplyInputsTxBody:\n",
      "      properties:\n",
      "        contractId:\n",
      "          $ref: '#/components/schemas/TxOutRef'\n",
      "        transactionId:\n",
      "          $ref: '#/components/schemas/TxId'\n",
      "        txBody:\n",
      "          $ref: '#/components/schemas/TextEnvelope'\n",
      "      required:\n",
      "      - contractId\n",
      "      - transactionId\n",
      "      - txBody\n",
      "      type: object\n",
      "    BlockHeader:\n",
      "      properties:\n",
      "        blockHeaderHash:\n",
      "          type: string\n",
      "        blockNo:\n",
      "          format: int64\n",
      "          maximum: 18446744073709551615\n",
      "          minimum: 0\n",
      "          type: integer\n",
      "        slotNo:\n",
      "          format: int64\n",
      "          maximum: 18446744073709551615\n",
      "          minimum: 0\n",
      "          type: integer\n",
      "      required:\n",
      "      - slotNo\n",
      "      - blockNo\n",
      "      - blockHeaderHash\n",
      "      type: object\n",
      "    Bound:\n",
      "      description: An inclusive range of values for a choice.\n",
      "      properties:\n",
      "        from:\n",
      "          type: integer\n",
      "        to:\n",
      "          type: integer\n",
      "      required:\n",
      "      - from\n",
      "      - to\n",
      "      type: object\n",
      "    Case:\n",
      "      description: A contract which becomes active when an action occurs.\n",
      "      oneOf:\n",
      "      - properties:\n",
      "          case:\n",
      "            $ref: '#/components/schemas/Action'\n",
      "          then:\n",
      "            $ref: '#/components/schemas/Contract'\n",
      "        required:\n",
      "        - case\n",
      "        - then\n",
      "        type: object\n",
      "      - properties:\n",
      "          case:\n",
      "            $ref: '#/components/schemas/Action'\n",
      "          merkleized_then:\n",
      "            type: string\n",
      "        required:\n",
      "        - case\n",
      "        - merkleized_then\n",
      "        type: object\n",
      "    ChoiceId:\n",
      "      description: Refers to a party by role name.\n",
      "      properties:\n",
      "        choice_name:\n",
      "          type: string\n",
      "        choice_owner:\n",
      "          $ref: '#/components/schemas/Party'\n",
      "      required:\n",
      "      - choice_name\n",
      "      - choice_owner\n",
      "      type: object\n",
      "    Contract:\n",
      "      description: Contract terms specified in Marlowe\n",
      "      oneOf:\n",
      "      - description: No more payments will be sent and the balance of the contract\n",
      "          is 0.\n",
      "        enum:\n",
      "        - close\n",
      "        type: string\n",
      "      - description: A payment will be sent from an account to a payee.\n",
      "        properties:\n",
      "          from_account:\n",
      "            $ref: '#/components/schemas/Party'\n",
      "          pay:\n",
      "            $ref: '#/components/schemas/Value'\n",
      "          then:\n",
      "            $ref: '#/components/schemas/Contract'\n",
      "          to:\n",
      "            $ref: '#/components/schemas/Payee'\n",
      "          token:\n",
      "            $ref: '#/components/schemas/Token'\n",
      "        required:\n",
      "        - from_account\n",
      "        - to\n",
      "        - token\n",
      "        - pay\n",
      "        - then\n",
      "        type: object\n",
      "      - description: If an observation is true, the first contract applies, otherwise\n",
      "          the second contract applies.\n",
      "        properties:\n",
      "          else:\n",
      "            $ref: '#/components/schemas/Contract'\n",
      "          if:\n",
      "            $ref: '#/components/schemas/Observation'\n",
      "          then:\n",
      "            $ref: '#/components/schemas/Contract'\n",
      "        required:\n",
      "        - if\n",
      "        - then\n",
      "        - else\n",
      "        type: object\n",
      "      - description: Wait for an action to be performed and apply the matching contract\n",
      "          when it does. Apply the timeout contract if no actions have been performed\n",
      "          in the timeout period.\n",
      "        properties:\n",
      "          timeout:\n",
      "            type: integer\n",
      "          timeout_continuation:\n",
      "            $ref: '#/components/schemas/Contract'\n",
      "          when:\n",
      "            items:\n",
      "              $ref: '#/components/schemas/Case'\n",
      "            type: array\n",
      "        required:\n",
      "        - when\n",
      "        - timeout\n",
      "        - timeout_continuation\n",
      "        type: object\n",
      "      - description: Bind a value to a name within the scope of a sub-contract.\n",
      "        properties:\n",
      "          be:\n",
      "            $ref: '#/components/schemas/Value'\n",
      "          let:\n",
      "            type: string\n",
      "          then:\n",
      "            $ref: '#/components/schemas/Contract'\n",
      "        required:\n",
      "        - let\n",
      "        - be\n",
      "        - then\n",
      "        type: object\n",
      "      - description: Check an observation and produce a warning if it is false.\n",
      "        properties:\n",
      "          assert:\n",
      "            $ref: '#/components/schemas/Observation'\n",
      "          then:\n",
      "            $ref: '#/components/schemas/Contract'\n",
      "        required:\n",
      "        - assert\n",
      "        - then\n",
      "        type: object\n",
      "    ContractHeader:\n",
      "      properties:\n",
      "        block:\n",
      "          $ref: '#/components/schemas/BlockHeader'\n",
      "        continuations:\n",
      "          type: string\n",
      "        contractId:\n",
      "          $ref: '#/components/schemas/TxOutRef'\n",
      "        metadata:\n",
      "          additionalProperties:\n",
      "            $ref: '#/components/schemas/Metadata'\n",
      "          type: object\n",
      "        roleTokenMintingPolicyId:\n",
      "          $ref: '#/components/schemas/PolicyId'\n",
      "        status:\n",
      "          $ref: '#/components/schemas/TxStatusHeader'\n",
      "        tags:\n",
      "          additionalProperties:\n",
      "            $ref: '#/components/schemas/Metadata'\n",
      "          type: object\n",
      "        version:\n",
      "          $ref: '#/components/schemas/MarloweVersion'\n",
      "      required:\n",
      "      - contractId\n",
      "      - roleTokenMintingPolicyId\n",
      "      - version\n",
      "      - tags\n",
      "      - metadata\n",
      "      - status\n",
      "      type: object\n",
      "    ContractState:\n",
      "      properties:\n",
      "        block:\n",
      "          $ref: '#/components/schemas/BlockHeader'\n",
      "        continuations:\n",
      "          type: string\n",
      "        contractId:\n",
      "          $ref: '#/components/schemas/TxOutRef'\n",
      "        currentContract:\n",
      "          $ref: '#/components/schemas/Contract'\n",
      "        initialContract:\n",
      "          $ref: '#/components/schemas/Contract'\n",
      "        metadata:\n",
      "          additionalProperties:\n",
      "            $ref: '#/components/schemas/Metadata'\n",
      "          type: object\n",
      "        roleTokenMintingPolicyId:\n",
      "          $ref: '#/components/schemas/PolicyId'\n",
      "        state:\n",
      "          $ref: '#/components/schemas/MarloweState'\n",
      "        status:\n",
      "          $ref: '#/components/schemas/TxStatusHeader'\n",
      "        tags:\n",
      "          additionalProperties:\n",
      "            $ref: '#/components/schemas/Metadata'\n",
      "          type: object\n",
      "        txBody:\n",
      "          $ref: '#/components/schemas/TextEnvelope'\n",
      "        utxo:\n",
      "          $ref: '#/components/schemas/TxOutRef'\n",
      "        version:\n",
      "          $ref: '#/components/schemas/MarloweVersion'\n",
      "      required:\n",
      "      - contractId\n",
      "      - roleTokenMintingPolicyId\n",
      "      - version\n",
      "      - tags\n",
      "      - metadata\n",
      "      - status\n",
      "      - initialContract\n",
      "      type: object\n",
      "    CreateTxBody:\n",
      "      properties:\n",
      "        contractId:\n",
      "          $ref: '#/components/schemas/TxOutRef'\n",
      "        txBody:\n",
      "          $ref: '#/components/schemas/TextEnvelope'\n",
      "      required:\n",
      "      - contractId\n",
      "      - txBody\n",
      "      type: object\n",
      "    Input:\n",
      "      description: An input to a Marlowe transaction\n",
      "      oneOf:\n",
      "      - description: Notify a contract to check a condition and provide the continuation\n",
      "          of the contract\n",
      "        properties:\n",
      "          continuation_hash:\n",
      "            type: string\n",
      "          merkleized_continuation:\n",
      "            $ref: '#/components/schemas/Contract'\n",
      "        required:\n",
      "        - merkleized_continuation\n",
      "        - continuation_hash\n",
      "        type: object\n",
      "      - description: Notify a contract to check a condition\n",
      "        enum:\n",
      "        - input_notify\n",
      "        type: string\n",
      "      - description: Make a choice in a contract and provide the continuation of the\n",
      "          contract\n",
      "        properties:\n",
      "          continuation_hash:\n",
      "            type: string\n",
      "          for_choice_id:\n",
      "            $ref: '#/components/schemas/ChoiceId'\n",
      "          input_that_chooses_num:\n",
      "            type: integer\n",
      "          merkleized_continuation:\n",
      "            $ref: '#/components/schemas/Contract'\n",
      "        required:\n",
      "        - input_that_chooses_num\n",
      "        - for_choice_id\n",
      "        - merkleized_continuation\n",
      "        - continuation_hash\n",
      "        type: object\n",
      "      - description: Make a choice in a contract\n",
      "        properties:\n",
      "          for_choice_id:\n",
      "            $ref: '#/components/schemas/ChoiceId'\n",
      "          input_that_chooses_num:\n",
      "            type: integer\n",
      "        required:\n",
      "        - input_that_chooses_num\n",
      "        - for_choice_id\n",
      "        type: object\n",
      "      - description: Deposit funds into an account in a contract and provide the continuation\n",
      "          of the contract\n",
      "        properties:\n",
      "          continuation_hash:\n",
      "            type: string\n",
      "          input_from_party:\n",
      "            $ref: '#/components/schemas/Party'\n",
      "          into_account:\n",
      "            $ref: '#/components/schemas/Party'\n",
      "          merkleized_continuation:\n",
      "            $ref: '#/components/schemas/Contract'\n",
      "          of_token:\n",
      "            $ref: '#/components/schemas/Token'\n",
      "          that_deposits:\n",
      "            type: integer\n",
      "        required:\n",
      "        - input_from_party\n",
      "        - that_deposits\n",
      "        - of_token\n",
      "        - into_account\n",
      "        - merkleized_continuation\n",
      "        - continuation_hash\n",
      "        type: object\n",
      "      - description: Deposit funds into an account in a contract\n",
      "        properties:\n",
      "          input_from_party:\n",
      "            $ref: '#/components/schemas/Party'\n",
      "          into_account:\n",
      "            $ref: '#/components/schemas/Party'\n",
      "          of_token:\n",
      "            $ref: '#/components/schemas/Token'\n",
      "          that_deposits:\n",
      "            type: integer\n",
      "        required:\n",
      "        - input_from_party\n",
      "        - that_deposits\n",
      "        - of_token\n",
      "        - into_account\n",
      "        type: object\n",
      "    ListObject_(WithLink_\"transaction\"_TxHeader):\n",
      "      properties:\n",
      "        results:\n",
      "          items:\n",
      "            properties:\n",
      "              links:\n",
      "                properties:\n",
      "                  transaction:\n",
      "                    type: string\n",
      "                type: object\n",
      "              resource:\n",
      "                $ref: '#/components/schemas/TxHeader'\n",
      "            required:\n",
      "            - resource\n",
      "            - links\n",
      "            type: object\n",
      "          type: array\n",
      "      required:\n",
      "      - results\n",
      "      type: object\n",
      "    ListObject_(WithLink_\"transactions\"_(WithLink_\"contract\"_ContractHeader)):\n",
      "      properties:\n",
      "        results:\n",
      "          items:\n",
      "            properties:\n",
      "              links:\n",
      "                properties:\n",
      "                  contract:\n",
      "                    type: string\n",
      "                  transactions:\n",
      "                    type: string\n",
      "                type: object\n",
      "              resource:\n",
      "                $ref: '#/components/schemas/ContractHeader'\n",
      "            required:\n",
      "            - resource\n",
      "            - links\n",
      "            type: object\n",
      "          type: array\n",
      "      required:\n",
      "      - results\n",
      "      type: object\n",
      "    ListObject_(WithLink_\"withdrawal\"_WithdrawalHeader):\n",
      "      properties:\n",
      "        results:\n",
      "          items:\n",
      "            properties:\n",
      "              links:\n",
      "                properties:\n",
      "                  withdrawal:\n",
      "                    type: string\n",
      "                type: object\n",
      "              resource:\n",
      "                $ref: '#/components/schemas/WithdrawalHeader'\n",
      "            required:\n",
      "            - resource\n",
      "            - links\n",
      "            type: object\n",
      "          type: array\n",
      "      required:\n",
      "      - results\n",
      "      type: object\n",
      "    MarloweState:\n",
      "      description: The on-chain state of a Marlowe contract.\n",
      "      properties:\n",
      "        accounts:\n",
      "          items:\n",
      "            items:\n",
      "            - items:\n",
      "              - $ref: '#/components/schemas/Party'\n",
      "              - $ref: '#/components/schemas/Token'\n",
      "              maxItems: 2\n",
      "              minItems: 2\n",
      "              type: array\n",
      "            - type: integer\n",
      "            maxItems: 2\n",
      "            minItems: 2\n",
      "            type: array\n",
      "          type: array\n",
      "        boundValues:\n",
      "          items:\n",
      "            items:\n",
      "            - type: string\n",
      "            - type: integer\n",
      "            maxItems: 2\n",
      "            minItems: 2\n",
      "            type: array\n",
      "          type: array\n",
      "        choices:\n",
      "          items:\n",
      "            items:\n",
      "            - $ref: '#/components/schemas/ChoiceId'\n",
      "            - type: integer\n",
      "            maxItems: 2\n",
      "            minItems: 2\n",
      "            type: array\n",
      "          type: array\n",
      "        minTime:\n",
      "          type: integer\n",
      "      required:\n",
      "      - accounts\n",
      "      - choices\n",
      "      - boundValues\n",
      "      - minTime\n",
      "      type: object\n",
      "    MarloweVersion:\n",
      "      description: A version of the Marlowe language.\n",
      "      enum:\n",
      "      - v1\n",
      "      type: string\n",
      "    Metadata:\n",
      "      description: An arbitrary JSON value for storage in a metadata key\n",
      "    Observation:\n",
      "      description: A time-varying expression that evaluates to an integer\n",
      "      oneOf:\n",
      "      - type: boolean\n",
      "      - properties:\n",
      "          and:\n",
      "            $ref: '#/components/schemas/Observation'\n",
      "          both:\n",
      "            $ref: '#/components/schemas/Observation'\n",
      "        required:\n",
      "        - both\n",
      "        - and\n",
      "        type: object\n",
      "      - properties:\n",
      "          either:\n",
      "            $ref: '#/components/schemas/Observation'\n",
      "          or:\n",
      "            $ref: '#/components/schemas/Observation'\n",
      "        required:\n",
      "        - either\n",
      "        - or\n",
      "        type: object\n",
      "      - properties:\n",
      "          not:\n",
      "            $ref: '#/components/schemas/Observation'\n",
      "        required:\n",
      "        - not\n",
      "        type: object\n",
      "      - properties:\n",
      "          chose_something_for:\n",
      "            $ref: '#/components/schemas/ChoiceId'\n",
      "        required:\n",
      "        - chose_something_for\n",
      "        type: object\n",
      "      - properties:\n",
      "          ge_than:\n",
      "            $ref: '#/components/schemas/Value'\n",
      "          value:\n",
      "            $ref: '#/components/schemas/Value'\n",
      "        required:\n",
      "        - value\n",
      "        - ge_than\n",
      "        type: object\n",
      "      - properties:\n",
      "          gt:\n",
      "            $ref: '#/components/schemas/Value'\n",
      "          value:\n",
      "            $ref: '#/components/schemas/Value'\n",
      "        required:\n",
      "        - value\n",
      "        - gt\n",
      "        type: object\n",
      "      - properties:\n",
      "          lt:\n",
      "            $ref: '#/components/schemas/Value'\n",
      "          value:\n",
      "            $ref: '#/components/schemas/Value'\n",
      "        required:\n",
      "        - value\n",
      "        - lt\n",
      "        type: object\n",
      "      - properties:\n",
      "          le_than:\n",
      "            $ref: '#/components/schemas/Value'\n",
      "          value:\n",
      "            $ref: '#/components/schemas/Value'\n",
      "        required:\n",
      "        - value\n",
      "        - le_than\n",
      "        type: object\n",
      "      - properties:\n",
      "          equal_to:\n",
      "            $ref: '#/components/schemas/Value'\n",
      "          value:\n",
      "            $ref: '#/components/schemas/Value'\n",
      "        required:\n",
      "        - value\n",
      "        - equal_to\n",
      "        type: object\n",
      "    Party:\n",
      "      description: A participant in a contract\n",
      "      oneOf:\n",
      "      - description: Refers to a party by role name.\n",
      "        properties:\n",
      "          role_token:\n",
      "            type: string\n",
      "        required:\n",
      "        - role_token\n",
      "        type: object\n",
      "      - description: Refers to a party by Cardano address.\n",
      "        properties:\n",
      "          address:\n",
      "            $ref: '#/components/schemas/Address'\n",
      "        required:\n",
      "        - address\n",
      "        type: object\n",
      "    Payee:\n",
      "      description: A recipient of a payment\n",
      "      oneOf:\n",
      "      - description: Pays funds into a party's account in the contract.\n",
      "        properties:\n",
      "          account:\n",
      "            $ref: '#/components/schemas/Party'\n",
      "        required:\n",
      "        - account\n",
      "        type: object\n",
      "      - description: Pays funds to a party.\n",
      "        properties:\n",
      "          party:\n",
      "            $ref: '#/components/schemas/Party'\n",
      "        required:\n",
      "        - party\n",
      "        type: object\n",
      "    PayoutRef:\n",
      "      properties:\n",
      "        contractId:\n",
      "          $ref: '#/components/schemas/TxOutRef'\n",
      "        payout:\n",
      "          $ref: '#/components/schemas/TxOutRef'\n",
      "        role:\n",
      "          type: string\n",
      "        roleTokenMintingPolicyId:\n",
      "          $ref: '#/components/schemas/PolicyId'\n",
      "      required:\n",
      "      - contractId\n",
      "      - payout\n",
      "      - roleTokenMintingPolicyId\n",
      "      - role\n",
      "      type: object\n",
      "    PolicyId:\n",
      "      description: The hex-encoded minting policy ID for a native Cardano token\n",
      "      pattern: ^[a-fA-F0-9]*$\n",
      "      type: string\n",
      "    PostContractsRequest:\n",
      "      properties:\n",
      "        contract:\n",
      "          $ref: '#/components/schemas/Contract'\n",
      "        metadata:\n",
      "          additionalProperties:\n",
      "            $ref: '#/components/schemas/Metadata'\n",
      "          type: object\n",
      "        minUTxODeposit:\n",
      "          format: int64\n",
      "          maximum: 18446744073709551615\n",
      "          minimum: 0\n",
      "          type: integer\n",
      "        roles:\n",
      "          $ref: '#/components/schemas/RolesConfig'\n",
      "        tags:\n",
      "          additionalProperties:\n",
      "            $ref: '#/components/schemas/Metadata'\n",
      "          type: object\n",
      "        version:\n",
      "          $ref: '#/components/schemas/MarloweVersion'\n",
      "      required:\n",
      "      - tags\n",
      "      - metadata\n",
      "      - version\n",
      "      - contract\n",
      "      - minUTxODeposit\n",
      "      type: object\n",
      "    PostTransactionsRequest:\n",
      "      properties:\n",
      "        inputs:\n",
      "          items:\n",
      "            $ref: '#/components/schemas/Input'\n",
      "          type: array\n",
      "        invalidBefore:\n",
      "          $ref: '#/components/schemas/UTCTime'\n",
      "        invalidHereafter:\n",
      "          $ref: '#/components/schemas/UTCTime'\n",
      "        metadata:\n",
      "          additionalProperties:\n",
      "            $ref: '#/components/schemas/Metadata'\n",
      "          type: object\n",
      "        tags:\n",
      "          additionalProperties:\n",
      "            $ref: '#/components/schemas/Metadata'\n",
      "          type: object\n",
      "        version:\n",
      "          $ref: '#/components/schemas/MarloweVersion'\n",
      "      required:\n",
      "      - version\n",
      "      - tags\n",
      "      - metadata\n",
      "      - inputs\n",
      "      type: object\n",
      "    PostWithdrawalsRequest:\n",
      "      properties:\n",
      "        contractId:\n",
      "          $ref: '#/components/schemas/TxOutRef'\n",
      "        role:\n",
      "          type: string\n",
      "      required:\n",
      "      - role\n",
      "      - contractId\n",
      "      type: object\n",
      "    RoleTokenConfig:\n",
      "      oneOf:\n",
      "      - $ref: '#/components/schemas/Address'\n",
      "      - properties:\n",
      "          address:\n",
      "            $ref: '#/components/schemas/Address'\n",
      "          metadata:\n",
      "            $ref: '#/components/schemas/TokenMetadata'\n",
      "        required:\n",
      "        - address\n",
      "        - metadata\n",
      "        type: object\n",
      "    RolesConfig:\n",
      "      oneOf:\n",
      "      - $ref: '#/components/schemas/PolicyId'\n",
      "      - additionalProperties:\n",
      "          $ref: '#/components/schemas/RoleTokenConfig'\n",
      "        type: object\n",
      "    TextEnvelope:\n",
      "      properties:\n",
      "        cborHex:\n",
      "          type: string\n",
      "        description:\n",
      "          type: string\n",
      "        type:\n",
      "          type: string\n",
      "      required:\n",
      "      - type\n",
      "      - description\n",
      "      - cborHex\n",
      "      type: object\n",
      "    Token:\n",
      "      description: A token with a currency symbol (minting policy ID) and token name.\n",
      "      properties:\n",
      "        currency_symbol:\n",
      "          type: string\n",
      "        token_name:\n",
      "          type: string\n",
      "      required:\n",
      "      - currency_symbol\n",
      "      - token_name\n",
      "      type: object\n",
      "    TokenMetadata:\n",
      "      additionalProperties: true\n",
      "      description: Metadata for an NFT, as described by https://cips.cardano.org/cips/cip25/\n",
      "      properties:\n",
      "        description:\n",
      "          type: string\n",
      "        files:\n",
      "          items:\n",
      "            $ref: '#/components/schemas/TokenMetadataFile'\n",
      "          type: array\n",
      "        image:\n",
      "          type: string\n",
      "        mediaType:\n",
      "          type: string\n",
      "        name:\n",
      "          type: string\n",
      "      required:\n",
      "      - name\n",
      "      - image\n",
      "      type: object\n",
      "    TokenMetadataFile:\n",
      "      additionalProperties: true\n",
      "      properties:\n",
      "        mediaType:\n",
      "          type: string\n",
      "        name:\n",
      "          type: string\n",
      "        src:\n",
      "          type: string\n",
      "      required:\n",
      "      - name\n",
      "      - src\n",
      "      - mediaType\n",
      "      type: object\n",
      "    Tx:\n",
      "      properties:\n",
      "        block:\n",
      "          $ref: '#/components/schemas/BlockHeader'\n",
      "        consumingTx:\n",
      "          $ref: '#/components/schemas/TxId'\n",
      "        continuations:\n",
      "          type: string\n",
      "        contractId:\n",
      "          $ref: '#/components/schemas/TxOutRef'\n",
      "        inputUtxo:\n",
      "          $ref: '#/components/schemas/TxOutRef'\n",
      "        inputs:\n",
      "          items:\n",
      "            $ref: '#/components/schemas/Input'\n",
      "          type: array\n",
      "        invalidBefore:\n",
      "          $ref: '#/components/schemas/UTCTime'\n",
      "        invalidHereafter:\n",
      "          $ref: '#/components/schemas/UTCTime'\n",
      "        metadata:\n",
      "          additionalProperties:\n",
      "            $ref: '#/components/schemas/Metadata'\n",
      "          type: object\n",
      "        outputContract:\n",
      "          $ref: '#/components/schemas/Contract'\n",
      "        outputState:\n",
      "          $ref: '#/components/schemas/MarloweState'\n",
      "        outputUtxo:\n",
      "          $ref: '#/components/schemas/TxOutRef'\n",
      "        status:\n",
      "          $ref: '#/components/schemas/TxStatusHeader'\n",
      "        tags:\n",
      "          additionalProperties:\n",
      "            $ref: '#/components/schemas/Metadata'\n",
      "          type: object\n",
      "        transactionId:\n",
      "          $ref: '#/components/schemas/TxId'\n",
      "        txBody:\n",
      "          $ref: '#/components/schemas/TextEnvelope'\n",
      "      required:\n",
      "      - contractId\n",
      "      - transactionId\n",
      "      - tags\n",
      "      - metadata\n",
      "      - status\n",
      "      - inputUtxo\n",
      "      - inputs\n",
      "      - invalidBefore\n",
      "      - invalidHereafter\n",
      "      type: object\n",
      "    TxHeader:\n",
      "      properties:\n",
      "        block:\n",
      "          $ref: '#/components/schemas/BlockHeader'\n",
      "        continuations:\n",
      "          type: string\n",
      "        contractId:\n",
      "          $ref: '#/components/schemas/TxOutRef'\n",
      "        metadata:\n",
      "          additionalProperties:\n",
      "            $ref: '#/components/schemas/Metadata'\n",
      "          type: object\n",
      "        status:\n",
      "          $ref: '#/components/schemas/TxStatusHeader'\n",
      "        tags:\n",
      "          additionalProperties:\n",
      "            $ref: '#/components/schemas/Metadata'\n",
      "          type: object\n",
      "        transactionId:\n",
      "          $ref: '#/components/schemas/TxId'\n",
      "        utxo:\n",
      "          $ref: '#/components/schemas/TxOutRef'\n",
      "      required:\n",
      "      - contractId\n",
      "      - transactionId\n",
      "      - tags\n",
      "      - metadata\n",
      "      - status\n",
      "      type: object\n",
      "    TxId:\n",
      "      description: The hex-encoded identifier of a Cardano transaction\n",
      "      pattern: ^[a-fA-F0-9]{64}$\n",
      "      type: string\n",
      "    TxOutRef:\n",
      "      description: A reference to a transaction output with a transaction ID and index.\n",
      "      example: 98d601c9307dd43307cf68a03aad0086d4e07a789b66919ccf9f7f7676577eb7#1\n",
      "      pattern: ^[a-fA-F0-9]{64}#[0-9]+$\n",
      "      type: string\n",
      "    TxStatusHeader:\n",
      "      description: A header of the status of a transaction on the local node.\n",
      "      enum:\n",
      "      - unsigned\n",
      "      - submitted\n",
      "      - confirmed\n",
      "      type: string\n",
      "    UTCTime:\n",
      "      example: 2016-07-22T00:00:00Z\n",
      "      format: yyyy-mm-ddThh:MM:ssZ\n",
      "      type: string\n",
      "    Value:\n",
      "      description: A time-varying expression that evaluates to a boolean\n",
      "      oneOf:\n",
      "      - properties:\n",
      "          amount_of_token:\n",
      "            $ref: '#/components/schemas/Token'\n",
      "          in_account:\n",
      "            $ref: '#/components/schemas/Party'\n",
      "        required:\n",
      "        - amount_of_token\n",
      "        - in_account\n",
      "        type: object\n",
      "      - format: int64\n",
      "        type: integer\n",
      "      - properties:\n",
      "          negate:\n",
      "            $ref: '#/components/schemas/Value'\n",
      "        required:\n",
      "        - negate\n",
      "        type: object\n",
      "      - properties:\n",
      "          add:\n",
      "            $ref: '#/components/schemas/Value'\n",
      "          and:\n",
      "            $ref: '#/components/schemas/Value'\n",
      "        required:\n",
      "        - add\n",
      "        - and\n",
      "        type: object\n",
      "      - properties:\n",
      "          minus:\n",
      "            $ref: '#/components/schemas/Value'\n",
      "          value:\n",
      "            $ref: '#/components/schemas/Value'\n",
      "        required:\n",
      "        - value\n",
      "        - minus\n",
      "        type: object\n",
      "      - properties:\n",
      "          multiply:\n",
      "            $ref: '#/components/schemas/Value'\n",
      "          times:\n",
      "            $ref: '#/components/schemas/Value'\n",
      "        required:\n",
      "        - multiply\n",
      "        - times\n",
      "        type: object\n",
      "      - properties:\n",
      "          by:\n",
      "            $ref: '#/components/schemas/Value'\n",
      "          divide:\n",
      "            $ref: '#/components/schemas/Value'\n",
      "        required:\n",
      "        - divide\n",
      "        - by\n",
      "        type: object\n",
      "      - properties:\n",
      "          value_of_choice:\n",
      "            $ref: '#/components/schemas/ChoiceId'\n",
      "        required:\n",
      "        - value_of_choice\n",
      "        type: object\n",
      "      - enum:\n",
      "        - time_interval_start\n",
      "        - time_interval_end\n",
      "        type: string\n",
      "      - properties:\n",
      "          use_value:\n",
      "            type: string\n",
      "        required:\n",
      "        - use_value\n",
      "        type: object\n",
      "      - properties:\n",
      "          else:\n",
      "            $ref: '#/components/schemas/Value'\n",
      "          if:\n",
      "            $ref: '#/components/schemas/Observation'\n",
      "          then:\n",
      "            $ref: '#/components/schemas/Value'\n",
      "        required:\n",
      "        - if\n",
      "        - then\n",
      "        - else\n",
      "        type: object\n",
      "    WithdrawTxBody:\n",
      "      properties:\n",
      "        txBody:\n",
      "          $ref: '#/components/schemas/TextEnvelope'\n",
      "        withdrawalId:\n",
      "          $ref: '#/components/schemas/TxId'\n",
      "      required:\n",
      "      - withdrawalId\n",
      "      - txBody\n",
      "      type: object\n",
      "    Withdrawal:\n",
      "      properties:\n",
      "        block:\n",
      "          $ref: '#/components/schemas/BlockHeader'\n",
      "        payouts:\n",
      "          items:\n",
      "            $ref: '#/components/schemas/PayoutRef'\n",
      "          type: array\n",
      "          uniqueItems: true\n",
      "        status:\n",
      "          $ref: '#/components/schemas/TxStatusHeader'\n",
      "        withdrawalId:\n",
      "          $ref: '#/components/schemas/TxId'\n",
      "      required:\n",
      "      - payouts\n",
      "      - withdrawalId\n",
      "      - status\n",
      "      type: object\n",
      "    WithdrawalHeader:\n",
      "      properties:\n",
      "        block:\n",
      "          $ref: '#/components/schemas/BlockHeader'\n",
      "        status:\n",
      "          $ref: '#/components/schemas/TxStatusHeader'\n",
      "        withdrawalId:\n",
      "          $ref: '#/components/schemas/TxId'\n",
      "      required:\n",
      "      - withdrawalId\n",
      "      - status\n",
      "      type: object\n",
      "info:\n",
      "  title: ''\n",
      "  version: ''\n",
      "openapi: 3.0.0\n",
      "paths:\n",
      "  /contracts:\n",
      "    get:\n",
      "      parameters:\n",
      "      - in: query\n",
      "        name: roleCurrency\n",
      "        schema:\n",
      "          items:\n",
      "            description: The hex-encoded minting policy ID for a native Cardano token\n",
      "            pattern: ^[a-fA-F0-9]*$\n",
      "            type: string\n",
      "          type: array\n",
      "      - in: query\n",
      "        name: tag\n",
      "        schema:\n",
      "          items:\n",
      "            type: string\n",
      "          type: array\n",
      "      - in: header\n",
      "        name: Range\n",
      "        required: false\n",
      "        schema:\n",
      "          type: string\n",
      "      responses:\n",
      "        '206':\n",
      "          content:\n",
      "            application/json;charset=utf-8:\n",
      "              schema:\n",
      "                $ref: '#/components/schemas/ListObject_(WithLink_\"transactions\"_(WithLink_\"contract\"_ContractHeader))'\n",
      "          description: ''\n",
      "          headers:\n",
      "            Accept-Ranges:\n",
      "              schema:\n",
      "                items:\n",
      "                  enum:\n",
      "                  - contractId\n",
      "                  type: string\n",
      "                type: array\n",
      "            Content-Range:\n",
      "              schema:\n",
      "                type: string\n",
      "            Next-Range:\n",
      "              schema:\n",
      "                type: string\n",
      "            Total-Count:\n",
      "              schema:\n",
      "                maximum: 9223372036854775807\n",
      "                minimum: -9223372036854775808\n",
      "                type: integer\n",
      "        '400':\n",
      "          description: Invalid `Range` or `tag` or `roleCurrency`\n",
      "    post:\n",
      "      parameters:\n",
      "      - in: header\n",
      "        name: X-Change-Address\n",
      "        required: true\n",
      "        schema:\n",
      "          description: A cardano address\n",
      "          example: addr1w94f8ywk4fg672xasahtk4t9k6w3aql943uxz5rt62d4dvq8evxaf\n",
      "          type: string\n",
      "      - in: header\n",
      "        name: X-Address\n",
      "        required: false\n",
      "        schema:\n",
      "          description: A comma-separated list of values\n",
      "          type: string\n",
      "      - in: header\n",
      "        name: X-Collateral-UTxO\n",
      "        required: false\n",
      "        schema:\n",
      "          description: A comma-separated list of values\n",
      "          type: string\n",
      "      requestBody:\n",
      "        content:\n",
      "          application/json;charset=utf-8:\n",
      "            schema:\n",
      "              $ref: '#/components/schemas/PostContractsRequest'\n",
      "      responses:\n",
      "        '201':\n",
      "          content:\n",
      "            application/json;charset=utf-8:\n",
      "              schema:\n",
      "                properties:\n",
      "                  links:\n",
      "                    properties:\n",
      "                      contract:\n",
      "                        type: string\n",
      "                    type: object\n",
      "                  resource:\n",
      "                    $ref: '#/components/schemas/CreateTxBody'\n",
      "                required:\n",
      "                - resource\n",
      "                - links\n",
      "                type: object\n",
      "          description: ''\n",
      "        '400':\n",
      "          description: Invalid `X-Collateral-UTxO` or `X-Address` or `X-Change-Address`\n",
      "            or `body`\n",
      "  /contracts/{contractId}:\n",
      "    get:\n",
      "      parameters:\n",
      "      - in: path\n",
      "        name: contractId\n",
      "        required: true\n",
      "        schema:\n",
      "          description: A reference to a transaction output with a transaction ID and\n",
      "            index.\n",
      "          example: 98d601c9307dd43307cf68a03aad0086d4e07a789b66919ccf9f7f7676577eb7#1\n",
      "          pattern: ^[a-fA-F0-9]{64}#[0-9]+$\n",
      "          type: string\n",
      "      responses:\n",
      "        '200':\n",
      "          content:\n",
      "            application/json;charset=utf-8:\n",
      "              schema:\n",
      "                properties:\n",
      "                  links:\n",
      "                    properties:\n",
      "                      transactions:\n",
      "                        type: string\n",
      "                    type: object\n",
      "                  resource:\n",
      "                    $ref: '#/components/schemas/ContractState'\n",
      "                required:\n",
      "                - resource\n",
      "                - links\n",
      "                type: object\n",
      "          description: ''\n",
      "        '404':\n",
      "          description: '`contractId` not found'\n",
      "    put:\n",
      "      parameters:\n",
      "      - in: path\n",
      "        name: contractId\n",
      "        required: true\n",
      "        schema:\n",
      "          description: A reference to a transaction output with a transaction ID and\n",
      "            index.\n",
      "          example: 98d601c9307dd43307cf68a03aad0086d4e07a789b66919ccf9f7f7676577eb7#1\n",
      "          pattern: ^[a-fA-F0-9]{64}#[0-9]+$\n",
      "          type: string\n",
      "      requestBody:\n",
      "        content:\n",
      "          application/json;charset=utf-8:\n",
      "            schema:\n",
      "              $ref: '#/components/schemas/TextEnvelope'\n",
      "      responses:\n",
      "        '202':\n",
      "          content:\n",
      "            application/json;charset=utf-8: {}\n",
      "          description: ''\n",
      "        '400':\n",
      "          description: Invalid `body`\n",
      "        '404':\n",
      "          description: '`contractId` not found'\n",
      "  /contracts/{contractId}/transactions:\n",
      "    get:\n",
      "      parameters:\n",
      "      - in: path\n",
      "        name: contractId\n",
      "        required: true\n",
      "        schema:\n",
      "          description: A reference to a transaction output with a transaction ID and\n",
      "            index.\n",
      "          example: 98d601c9307dd43307cf68a03aad0086d4e07a789b66919ccf9f7f7676577eb7#1\n",
      "          pattern: ^[a-fA-F0-9]{64}#[0-9]+$\n",
      "          type: string\n",
      "      - in: header\n",
      "        name: Range\n",
      "        required: false\n",
      "        schema:\n",
      "          type: string\n",
      "      responses:\n",
      "        '206':\n",
      "          content:\n",
      "            application/json;charset=utf-8:\n",
      "              schema:\n",
      "                $ref: '#/components/schemas/ListObject_(WithLink_\"transaction\"_TxHeader)'\n",
      "          description: ''\n",
      "          headers:\n",
      "            Accept-Ranges:\n",
      "              schema:\n",
      "                items:\n",
      "                  enum:\n",
      "                  - transactionId\n",
      "                  type: string\n",
      "                type: array\n",
      "            Content-Range:\n",
      "              schema:\n",
      "                type: string\n",
      "            Next-Range:\n",
      "              schema:\n",
      "                type: string\n",
      "            Total-Count:\n",
      "              schema:\n",
      "                maximum: 9223372036854775807\n",
      "                minimum: -9223372036854775808\n",
      "                type: integer\n",
      "        '400':\n",
      "          description: Invalid `Range`\n",
      "        '404':\n",
      "          description: '`contractId` not found'\n",
      "    post:\n",
      "      parameters:\n",
      "      - in: path\n",
      "        name: contractId\n",
      "        required: true\n",
      "        schema:\n",
      "          description: A reference to a transaction output with a transaction ID and\n",
      "            index.\n",
      "          example: 98d601c9307dd43307cf68a03aad0086d4e07a789b66919ccf9f7f7676577eb7#1\n",
      "          pattern: ^[a-fA-F0-9]{64}#[0-9]+$\n",
      "          type: string\n",
      "      - in: header\n",
      "        name: X-Change-Address\n",
      "        required: true\n",
      "        schema:\n",
      "          description: A cardano address\n",
      "          example: addr1w94f8ywk4fg672xasahtk4t9k6w3aql943uxz5rt62d4dvq8evxaf\n",
      "          type: string\n",
      "      - in: header\n",
      "        name: X-Address\n",
      "        required: false\n",
      "        schema:\n",
      "          description: A comma-separated list of values\n",
      "          type: string\n",
      "      - in: header\n",
      "        name: X-Collateral-UTxO\n",
      "        required: false\n",
      "        schema:\n",
      "          description: A comma-separated list of values\n",
      "          type: string\n",
      "      requestBody:\n",
      "        content:\n",
      "          application/json;charset=utf-8:\n",
      "            schema:\n",
      "              $ref: '#/components/schemas/PostTransactionsRequest'\n",
      "      responses:\n",
      "        '201':\n",
      "          content:\n",
      "            application/json;charset=utf-8:\n",
      "              schema:\n",
      "                properties:\n",
      "                  links:\n",
      "                    properties:\n",
      "                      transaction:\n",
      "                        type: string\n",
      "                    type: object\n",
      "                  resource:\n",
      "                    $ref: '#/components/schemas/ApplyInputsTxBody'\n",
      "                required:\n",
      "                - resource\n",
      "                - links\n",
      "                type: object\n",
      "          description: ''\n",
      "        '400':\n",
      "          description: Invalid `X-Collateral-UTxO` or `X-Address` or `X-Change-Address`\n",
      "            or `body`\n",
      "        '404':\n",
      "          description: '`contractId` not found'\n",
      "  /contracts/{contractId}/transactions/{transactionId}:\n",
      "    get:\n",
      "      parameters:\n",
      "      - in: path\n",
      "        name: contractId\n",
      "        required: true\n",
      "        schema:\n",
      "          description: A reference to a transaction output with a transaction ID and\n",
      "            index.\n",
      "          example: 98d601c9307dd43307cf68a03aad0086d4e07a789b66919ccf9f7f7676577eb7#1\n",
      "          pattern: ^[a-fA-F0-9]{64}#[0-9]+$\n",
      "          type: string\n",
      "      - in: path\n",
      "        name: transactionId\n",
      "        required: true\n",
      "        schema:\n",
      "          description: The hex-encoded identifier of a Cardano transaction\n",
      "          pattern: ^[a-fA-F0-9]{64}$\n",
      "          type: string\n",
      "      responses:\n",
      "        '200':\n",
      "          content:\n",
      "            application/json;charset=utf-8:\n",
      "              schema:\n",
      "                properties:\n",
      "                  links:\n",
      "                    properties:\n",
      "                      next:\n",
      "                        type: string\n",
      "                      previous:\n",
      "                        type: string\n",
      "                    type: object\n",
      "                  resource:\n",
      "                    $ref: '#/components/schemas/Tx'\n",
      "                required:\n",
      "                - resource\n",
      "                - links\n",
      "                type: object\n",
      "          description: ''\n",
      "        '404':\n",
      "          description: '`contractId` or `transactionId` not found'\n",
      "    put:\n",
      "      parameters:\n",
      "      - in: path\n",
      "        name: contractId\n",
      "        required: true\n",
      "        schema:\n",
      "          description: A reference to a transaction output with a transaction ID and\n",
      "            index.\n",
      "          example: 98d601c9307dd43307cf68a03aad0086d4e07a789b66919ccf9f7f7676577eb7#1\n",
      "          pattern: ^[a-fA-F0-9]{64}#[0-9]+$\n",
      "          type: string\n",
      "      - in: path\n",
      "        name: transactionId\n",
      "        required: true\n",
      "        schema:\n",
      "          description: The hex-encoded identifier of a Cardano transaction\n",
      "          pattern: ^[a-fA-F0-9]{64}$\n",
      "          type: string\n",
      "      requestBody:\n",
      "        content:\n",
      "          application/json;charset=utf-8:\n",
      "            schema:\n",
      "              $ref: '#/components/schemas/TextEnvelope'\n",
      "      responses:\n",
      "        '202':\n",
      "          content:\n",
      "            application/json;charset=utf-8: {}\n",
      "          description: ''\n",
      "        '400':\n",
      "          description: Invalid `body`\n",
      "        '404':\n",
      "          description: '`contractId` or `transactionId` not found'\n",
      "  /healthcheck:\n",
      "    get:\n",
      "      responses:\n",
      "        '200':\n",
      "          content:\n",
      "            application/json;charset=utf-8: {}\n",
      "          description: ''\n",
      "  /withdrawals:\n",
      "    get:\n",
      "      parameters:\n",
      "      - in: query\n",
      "        name: roleCurrency\n",
      "        schema:\n",
      "          items:\n",
      "            description: The hex-encoded minting policy ID for a native Cardano token\n",
      "            pattern: ^[a-fA-F0-9]*$\n",
      "            type: string\n",
      "          type: array\n",
      "      - in: header\n",
      "        name: Range\n",
      "        required: false\n",
      "        schema:\n",
      "          type: string\n",
      "      responses:\n",
      "        '206':\n",
      "          content:\n",
      "            application/json;charset=utf-8:\n",
      "              schema:\n",
      "                $ref: '#/components/schemas/ListObject_(WithLink_\"withdrawal\"_WithdrawalHeader)'\n",
      "          description: ''\n",
      "          headers:\n",
      "            Accept-Ranges:\n",
      "              schema:\n",
      "                items:\n",
      "                  enum:\n",
      "                  - withdrawalId\n",
      "                  type: string\n",
      "                type: array\n",
      "            Content-Range:\n",
      "              schema:\n",
      "                type: string\n",
      "            Next-Range:\n",
      "              schema:\n",
      "                type: string\n",
      "            Total-Count:\n",
      "              schema:\n",
      "                maximum: 9223372036854775807\n",
      "                minimum: -9223372036854775808\n",
      "                type: integer\n",
      "        '400':\n",
      "          description: Invalid `Range` or `roleCurrency`\n",
      "    post:\n",
      "      parameters:\n",
      "      - in: header\n",
      "        name: X-Change-Address\n",
      "        required: true\n",
      "        schema:\n",
      "          description: A cardano address\n",
      "          example: addr1w94f8ywk4fg672xasahtk4t9k6w3aql943uxz5rt62d4dvq8evxaf\n",
      "          type: string\n",
      "      - in: header\n",
      "        name: X-Address\n",
      "        required: false\n",
      "        schema:\n",
      "          description: A comma-separated list of values\n",
      "          type: string\n",
      "      - in: header\n",
      "        name: X-Collateral-UTxO\n",
      "        required: false\n",
      "        schema:\n",
      "          description: A comma-separated list of values\n",
      "          type: string\n",
      "      requestBody:\n",
      "        content:\n",
      "          application/json;charset=utf-8:\n",
      "            schema:\n",
      "              $ref: '#/components/schemas/PostWithdrawalsRequest'\n",
      "      responses:\n",
      "        '201':\n",
      "          content:\n",
      "            application/json;charset=utf-8:\n",
      "              schema:\n",
      "                properties:\n",
      "                  links:\n",
      "                    properties:\n",
      "                      withdrawal:\n",
      "                        type: string\n",
      "                    type: object\n",
      "                  resource:\n",
      "                    $ref: '#/components/schemas/WithdrawTxBody'\n",
      "                required:\n",
      "                - resource\n",
      "                - links\n",
      "                type: object\n",
      "          description: ''\n",
      "        '400':\n",
      "          description: Invalid `X-Collateral-UTxO` or `X-Address` or `X-Change-Address`\n",
      "            or `body`\n",
      "  /withdrawals/{withdrawalId}:\n",
      "    get:\n",
      "      parameters:\n",
      "      - in: path\n",
      "        name: withdrawalId\n",
      "        required: true\n",
      "        schema:\n",
      "          description: The hex-encoded identifier of a Cardano transaction\n",
      "          pattern: ^[a-fA-F0-9]{64}$\n",
      "          type: string\n",
      "      responses:\n",
      "        '200':\n",
      "          content:\n",
      "            application/json;charset=utf-8:\n",
      "              schema:\n",
      "                $ref: '#/components/schemas/Withdrawal'\n",
      "          description: ''\n",
      "        '404':\n",
      "          description: '`withdrawalId` not found'\n",
      "    put:\n",
      "      parameters:\n",
      "      - in: path\n",
      "        name: withdrawalId\n",
      "        required: true\n",
      "        schema:\n",
      "          description: The hex-encoded identifier of a Cardano transaction\n",
      "          pattern: ^[a-fA-F0-9]{64}$\n",
      "          type: string\n",
      "      requestBody:\n",
      "        content:\n",
      "          application/json;charset=utf-8:\n",
      "            schema:\n",
      "              $ref: '#/components/schemas/TextEnvelope'\n",
      "      responses:\n",
      "        '202':\n",
      "          content:\n",
      "            application/json;charset=utf-8: {}\n",
      "          description: ''\n",
      "        '400':\n",
      "          description: Invalid `body`\n",
      "        '404':\n",
      "          description: '`withdrawalId` not found'\n"
     ]
    }
   ],
   "source": [
    "curl -sS \"$MARLOWE_RT_WEBSERVER_URL/openapi.json\" | json2yaml"
   ]
  }
 ],
 "metadata": {
  "kernelspec": {
   "display_name": "Bash",
   "language": "bash",
   "name": "bash"
  },
  "language_info": {
   "name": "bash"
  }
 },
 "nbformat": 4,
 "nbformat_minor": 5
}
