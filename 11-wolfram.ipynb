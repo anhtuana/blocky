{
 "cells": [
  {
   "attachments": {},
   "cell_type": "markdown",
   "id": "caa144a8-d3d7-42de-bfdd-8b27cf4c5cbe",
   "metadata": {
    "tags": [],
    "vscode": {
     "languageId": "shellscript"
    }
   },
   "source": [
    "# Wolfram Oracle Bet example\n",
    "\n",
    "***Before running this notebook, you might want to use Jupyter's \"clear output\" function to erase the results of the previous execution of this notebook. That will make more apparent what has been executed in the current session.***\n",
    "\n",
    "\n",
    "In [Marlowe Playground](https://play.marlowe.iohk.io//), the contract looks like this in Blockly format.\n",
    "\n",
    "\n",
    "In Marlowe format it appears as\n",
    "```\n",
    "When\n",
    "    [Case\n",
    "        (Deposit\n",
    "            (Role \"Alice\")\n",
    "            (Role \"Alice\")\n",
    "            (Token \"\" \"\")\n",
    "            (Constant 1000)\n",
    "        )\n",
    "        (When\n",
    "            [Case\n",
    "                (Deposit\n",
    "                    (Role \"Bob\")\n",
    "                    (Role \"Bob\")\n",
    "                    (Token \"\" \"\")\n",
    "                    (Constant 1000)\n",
    "                )\n",
    "                (When\n",
    "                    [Case\n",
    "                        (Choice\n",
    "                            (ChoiceId\n",
    "                                \"WOLF_BTCUSD\"\n",
    "                                (Address \"addr_test1vrxx3rjangevudlrejgp9m508uc26jd02n7lmdz365n4wrca35y5j\")\n",
    "                            )\n",
    "                            [Bound 0 100000000]\n",
    "                        )\n",
    "                        (If\n",
    "                            (ValueLT\n",
    "                                (ChoiceValue\n",
    "                                    (ChoiceId\n",
    "                                        \"WOLF_BTCUSD\"\n",
    "                                        (Address \"addr_test1vrxx3rjangevudlrejgp9m508uc26jd02n7lmdz365n4wrca35y5j\")\n",
    "                                    ))\n",
    "                                (Constant 1000000)\n",
    "                            )\n",
    "                            (Pay\n",
    "                                (Role \"Alice\")\n",
    "                                (Party (Role \"Bob\"))\n",
    "                                (Token \"\" \"\")\n",
    "                                (Constant 1000)\n",
    "                                Close \n",
    "                            )\n",
    "                            (Pay\n",
    "                                (Role \"Bob\")\n",
    "                                (Party (Role \"Alice\"))\n",
    "                                (Token \"\" \"\")\n",
    "                                (Constant 1000)\n",
    "                                Close \n",
    "                            )\n",
    "                        )]\n",
    "                    431686350279989 Close \n",
    "                )]\n",
    "            216863500634957 Close \n",
    "        )]\n",
    "    21686350063495 Close \n",
    "```"
   ]
  },
  {
   "attachments": {},
   "cell_type": "markdown",
   "id": "b94d119b-6a78-4972-83be-bede23021187",
   "metadata": {},
   "source": [
    "## Preliminaries\n",
    "\n",
    "See [Lesson 0. Preliminaries](00-preliminaries.md) for information on setting up one's environment for using this tutorial.\n",
    "\n",
    "The lesson assumes that the following environment variables have been set.\n",
    "- `CARDANO_NODE_SOCKET_PATH`: location of Cardano node's socket.\n",
    "- `CARDANO_TESTNET_MAGIC`: testnet magic number.\n",
    "\n",
    "It also assumes that the Lender and Borrower parties have addresses, signing keys, and funds.\n",
    "- Lender\n",
    "    - [keys/alice.address](keys/alice.address): Cardano address for Alice\n",
    "    - [keys/alice.skey](keys/alice.skey): location of signing key file for Alice\n",
    "- Borrower\n",
    "    - [keys/bob.address](keys/borrower.address): Cardano address for Bob\n",
    "    - [keys/bob.skey](keys/borrower.skey): location of signing key file for Bob"
   ]
  },
  {
   "cell_type": "markdown",
   "id": "9fb26443-798a-4865-bd8e-21bbeee6522a",
   "metadata": {
    "tags": []
   },
   "source": [
    "### Access to Cardano node and Marlowe Runtime\n",
    "\n",
    "If we're using [demeter.run](https://demeter.run/)'s Cardano Marlowe Runtime extension, then we already have access to Cardano Node and Marlowe Runtime. The followind commands will set the required environment variables to use a local docker deployment on the default ports. It will also set some supplementary environment variables."
   ]
  },
  {
   "cell_type": "code",
   "execution_count": 2,
   "id": "cd27279f-12aa-4d66-92a7-5eb1224b1d90",
   "metadata": {
    "tags": [],
    "vscode": {
     "languageId": "shellscript"
    }
   },
   "outputs": [
    {
     "name": "stdout",
     "output_type": "stream",
     "text": [
      "CARDANO_NODE_SOCKET_PATH = /ipc/node.socket\n",
      "CARDANO_TESTNET_MAGIC = 2\n"
     ]
    }
   ],
   "source": [
    "if [[ -z \"$CARDANO_NODE_SOCKET_PATH\" ]]\n",
    "then\n",
    "\n",
    "  # Only required for `marlowe-cli` and `cardano-cli`.\n",
    "  export CARDANO_NODE_SOCKET_PATH=\"$(docker volume inspect marlowe-starter-kit_shared | jq -r '.[0].Mountpoint')/node.socket\"\n",
    "  export CARDANO_TESTNET_MAGIC=2 # Note that preprod=1 and preview=2. Do not set this variable if using mainnet.\n",
    "\n",
    "fi\n",
    "\n",
    "# FIXME: This should have been inherited from the parent environment.\n",
    "if [[ -z \"$CARDANO_NODE_SOCKET_PATH\" ]]\n",
    "then\n",
    "  export CARDANO_NODE_SOCKET_PATH=/ipc/node.socket\n",
    "fi\n",
    "\n",
    "# FIXME: This should have been set in the parent environment.\n",
    "if [[ -z \"$CARDANO_TESTNET_MAGIC\" ]]\n",
    "then\n",
    "  export CARDANO_TESTNET_MAGIC=$CARDANO_NODE_MAGIC\n",
    "fi\n",
    "\n",
    "case \"$CARDANO_TESTNET_MAGIC\" in\n",
    "  1)\n",
    "    export \"EXPLORER_URL=https://preprod.cardanoscan.io\"\n",
    "    ;;\n",
    "  2)\n",
    "    export \"EXPLORER_URL=https://preview.cardanoscan.io\"\n",
    "    ;;\n",
    "  *)\n",
    "    # Use `mainnet` as the default.\n",
    "    export \"EXPLORER_URL=https://cardanoscan.io\"\n",
    "    ;;\n",
    "esac\n",
    "\n",
    "echo \"CARDANO_NODE_SOCKET_PATH = $CARDANO_NODE_SOCKET_PATH\"\n",
    "echo \"CARDANO_TESTNET_MAGIC = $CARDANO_TESTNET_MAGIC\""
   ]
  },
  {
   "cell_type": "code",
   "execution_count": 65,
   "id": "abd316e0",
   "metadata": {
    "vscode": {
     "languageId": "shellscript"
    }
   },
   "outputs": [
    {
     "name": "stdout",
     "output_type": "stream",
     "text": [
      "NOW = 1686639290000 POSIX milliseconds = Tue Jun 13 06:54:50 AM UTC 2023\n"
     ]
    }
   ],
   "source": [
    "SECOND=1000 # 1 second = 1000 milliseconds\n",
    "MINUTE=$((60 * SECOND)) # 1 minute = 60 seconds\n",
    "HOUR=$((60 * MINUTE)) # 1 hour = 60 minutes\n",
    "\n",
    "NOW=\"$((`date -u +%s` * SECOND))\"\n",
    "echo NOW = \"$NOW\" POSIX milliseconds = \"`date -d @$((NOW / SECOND))`\""
   ]
  },
  {
   "cell_type": "markdown",
   "id": "ef8349f1-d164-4434-8c29-f19fd86201bc",
   "metadata": {
    "tags": []
   },
   "source": [
    "Note the test network magic number:\n",
    "- `preprod` = 1\n",
    "- `preview` = 2"
   ]
  },
  {
   "attachments": {},
   "cell_type": "markdown",
   "id": "6699e48f-cdb4-4532-9760-b080724142ef",
   "metadata": {
    "tags": [],
    "vscode": {
     "languageId": "shellscript"
    }
   },
   "source": [
    "### Alice's address and funds\n",
    "\n",
    "Check that an address and key has been created for the lender. If not, see \"Creating Addresses and Signing Keys\" in [Lesson 0. Preliminaries](00-preliminaries.md)."
   ]
  },
  {
   "cell_type": "code",
   "execution_count": 5,
   "id": "c7def6b8-c617-4049-872f-4974755d0cb0",
   "metadata": {
    "tags": [],
    "vscode": {
     "languageId": "shellscript"
    }
   },
   "outputs": [
    {
     "name": "stdout",
     "output_type": "stream",
     "text": [
      "ALICE_ADDR = addr_test1vrc79wasc0na5zglchugujuevu9ra9ehfjxwl4x9stgm9uc9dpguq\n"
     ]
    }
   ],
   "source": [
    "ALICE_SKEY=keys/alice.skey\n",
    "ALICE_ADDR=$(cat keys/alice.address)\n",
    "echo \"ALICE_ADDR = $ALICE_ADDR\""
   ]
  },
  {
   "cell_type": "markdown",
   "id": "31614d3b-10c1-4704-b49a-82aa924cba23",
   "metadata": {},
   "source": [
    "Check that the lender has at least one hundred ada."
   ]
  },
  {
   "cell_type": "code",
   "execution_count": 6,
   "id": "111e60bf-a7c8-41f1-b729-15d1defd27df",
   "metadata": {
    "tags": [],
    "vscode": {
     "languageId": "shellscript"
    }
   },
   "outputs": [
    {
     "name": "stdout",
     "output_type": "stream",
     "text": [
      "                           TxHash                                 TxIx        Amount\n",
      "--------------------------------------------------------------------------------------\n",
      "8e63791b885c98d18ea3dc1034531f5b7f9f16b4708fa5dc15c2c4938d7a3bd7     1        87000000 lovelace + TxOutDatumNone\n",
      "d7d3db5471e0ae38b60603613bf2a243dfa3857ab49807d1218fcdd33055af2d     0        917029304 lovelace + TxOutDatumNone\n"
     ]
    }
   ],
   "source": [
    "cardano-cli query utxo --testnet-magic \"$CARDANO_TESTNET_MAGIC\" --address \"$LENDER_ADDR\""
   ]
  },
  {
   "cell_type": "markdown",
   "id": "d1d47a97-8c70-47c8-9c80-90e6619ea37c",
   "metadata": {},
   "source": [
    "One can view the address on a Cardano explorer. It sometimes takes thirty seconds or so for the transaction to be visible in an explorer."
   ]
  },
  {
   "cell_type": "code",
   "execution_count": 7,
   "id": "d4eb8b9f-84a2-4fce-abec-8725dc67c46a",
   "metadata": {
    "tags": [],
    "vscode": {
     "languageId": "shellscript"
    }
   },
   "outputs": [
    {
     "name": "stdout",
     "output_type": "stream",
     "text": [
      "https://preview.cardanoscan.io/address/addr_test1vrc79wasc0na5zglchugujuevu9ra9ehfjxwl4x9stgm9uc9dpguq\n"
     ]
    }
   ],
   "source": [
    "echo \"$EXPLORER_URL\"/address/\"$ALICE_ADDR\""
   ]
  },
  {
   "attachments": {},
   "cell_type": "markdown",
   "id": "7cb22b51-b719-429d-ab8c-ef43973905a7",
   "metadata": {
    "tags": [],
    "vscode": {
     "languageId": "shellscript"
    }
   },
   "source": [
    "### Bob's address and funds\n",
    "\n",
    "Check that an address and key has been created for the borrower. If not, see \"Creating Addresses and Signing Keys\" in [Lesson 0. Preliminaries](00-preliminaries.md)."
   ]
  },
  {
   "cell_type": "code",
   "execution_count": 9,
   "id": "b60f9abe-4956-4783-86cf-1827bd076dfe",
   "metadata": {
    "tags": [],
    "vscode": {
     "languageId": "shellscript"
    }
   },
   "outputs": [
    {
     "name": "stdout",
     "output_type": "stream",
     "text": [
      "BOB_ADDR = addr_test1vrudhk63pclytll6vdt6hrda75al5a2jhtlkuqn0mh89ngsr929vf\n"
     ]
    }
   ],
   "source": [
    "BOB_SKEY=keys/bob.skey\n",
    "BOB_ADDR=$(cat keys/bob.address)\n",
    "echo \"BOB_ADDR = $BOB_ADDR\""
   ]
  },
  {
   "cell_type": "markdown",
   "id": "9d9e5126-619f-4f5b-b51b-d4b5c80b952f",
   "metadata": {},
   "source": [
    "Check that the borrower has at least one hundred ada."
   ]
  },
  {
   "cell_type": "code",
   "execution_count": 10,
   "id": "a4a8216e-c5d3-4706-8ab9-918252369263",
   "metadata": {
    "tags": [],
    "vscode": {
     "languageId": "shellscript"
    }
   },
   "outputs": [
    {
     "name": "stdout",
     "output_type": "stream",
     "text": [
      "                           TxHash                                 TxIx        Amount\n",
      "--------------------------------------------------------------------------------------\n",
      "8e63791b885c98d18ea3dc1034531f5b7f9f16b4708fa5dc15c2c4938d7a3bd7     0        914430747 lovelace + TxOutDatumNone\n",
      "d7d3db5471e0ae38b60603613bf2a243dfa3857ab49807d1218fcdd33055af2d     2        80000000 lovelace + TxOutDatumNone\n"
     ]
    }
   ],
   "source": [
    "cardano-cli query utxo --testnet-magic \"$CARDANO_TESTNET_MAGIC\" --address \"$BOB_ADDR\""
   ]
  },
  {
   "cell_type": "markdown",
   "id": "038e042c-2638-415c-ad7b-de390a82416b",
   "metadata": {},
   "source": [
    "One can view the address on a Cardano explorer. It sometimes takes thirty seconds or so for the transaction to be visible in an explorer."
   ]
  },
  {
   "cell_type": "code",
   "execution_count": 11,
   "id": "3455b47d-45f9-4d31-aebe-ab0ea7b36aa9",
   "metadata": {
    "tags": [],
    "vscode": {
     "languageId": "shellscript"
    }
   },
   "outputs": [
    {
     "name": "stdout",
     "output_type": "stream",
     "text": [
      "https://preview.cardanoscan.io/address/addr_test1vrudhk63pclytll6vdt6hrda75al5a2jhtlkuqn0mh89ngsr929vf\n"
     ]
    }
   ],
   "source": [
    "echo \"$EXPLORER_URL\"/address/\"$BOB_ADDR\""
   ]
  },
  {
   "cell_type": "markdown",
   "id": "a1f0813f-86ae-4209-9a78-cd533fca9857",
   "metadata": {},
   "source": [
    "## Examine the contract\n",
    "\n",
    "View the contract file as YAML."
   ]
  },
  {
   "cell_type": "code",
   "execution_count": 12,
   "id": "112824a7-635f-4134-b133-a20e63660b35",
   "metadata": {
    "vscode": {
     "languageId": "shellscript"
    }
   },
   "outputs": [
    {
     "name": "stdout",
     "output_type": "stream",
     "text": [
      "when:\n",
      "- then:\n",
      "    when:\n",
      "    - then:\n",
      "        when:\n",
      "        - then:\n",
      "            then:\n",
      "              token:\n",
      "                token_name: ''\n",
      "                currency_symbol: ''\n",
      "              to:\n",
      "                party:\n",
      "                  address: addr_test1vrudhk63pclytll6vdt6hrda75al5a2jhtlkuqn0mh89ngsr929vf\n",
      "              then: close\n",
      "              pay: 1000\n",
      "              from_account:\n",
      "                address: addr_test1vrc79wasc0na5zglchugujuevu9ra9ehfjxwl4x9stgm9uc9dpguq\n",
      "            if:\n",
      "              value:\n",
      "                value_of_choice:\n",
      "                  choice_owner:\n",
      "                    address: addr_test1vrxx3rjangevudlrejgp9m508uc26jd02n7lmdz365n4wrca35y5j\n",
      "                  choice_name: WOLF_BTCUSD\n",
      "              lt: 1000000\n",
      "            else:\n",
      "              token:\n",
      "                token_name: ''\n",
      "                currency_symbol: ''\n",
      "              to:\n",
      "                party:\n",
      "                  address: addr_test1vrc79wasc0na5zglchugujuevu9ra9ehfjxwl4x9stgm9uc9dpguq\n",
      "              then: close\n",
      "              pay: 1000\n",
      "              from_account:\n",
      "                address: addr_test1vrudhk63pclytll6vdt6hrda75al5a2jhtlkuqn0mh89ngsr929vf\n",
      "          case:\n",
      "            for_choice:\n",
      "              choice_owner:\n",
      "                address: addr_test1vrxx3rjangevudlrejgp9m508uc26jd02n7lmdz365n4wrca35y5j\n",
      "              choice_name: WOLF_BTCUSD\n",
      "            choose_between:\n",
      "            - to: 100000000\n",
      "              from: 0\n",
      "        timeout_continuation: close\n",
      "        timeout: 431686350279989\n",
      "      case:\n",
      "        party:\n",
      "          address: addr_test1vrudhk63pclytll6vdt6hrda75al5a2jhtlkuqn0mh89ngsr929vf\n",
      "        of_token:\n",
      "          token_name: ''\n",
      "          currency_symbol: ''\n",
      "        into_account:\n",
      "          address: addr_test1vrudhk63pclytll6vdt6hrda75al5a2jhtlkuqn0mh89ngsr929vf\n",
      "        deposits: 1000\n",
      "    timeout_continuation: close\n",
      "    timeout: 216863500634957\n",
      "  case:\n",
      "    party:\n",
      "      address: addr_test1vrc79wasc0na5zglchugujuevu9ra9ehfjxwl4x9stgm9uc9dpguq\n",
      "    of_token:\n",
      "      token_name: ''\n",
      "      currency_symbol: ''\n",
      "    into_account:\n",
      "      address: addr_test1vrc79wasc0na5zglchugujuevu9ra9ehfjxwl4x9stgm9uc9dpguq\n",
      "    deposits: 1000\n",
      "timeout_continuation: close\n",
      "timeout: 21686350063495\n"
     ]
    }
   ],
   "source": [
    "json2yaml wolfram-contract.json"
   ]
  },
  {
   "cell_type": "markdown",
   "id": "00f357bf-ebf0-4459-adb9-32c5a1140759",
   "metadata": {},
   "source": [
    "### \\[Optional, but recommended\\] Check the safety of the contract\n",
    "\n",
    "If we were running the contract on the Cardano `mainnet`, then we\\'d want to check its safety before creating it, so that there is no chance that we might lose funds.\n",
    "\n",
    "Here are the steps for checking the safety of a contract:\n",
    "\n",
    "1. Understand the [Marlowe Language](https://marlowe.iohk.io/).\n",
    "2. Understand Cardano\\'s [Extended UTxO Model](https://docs.cardano.org/learn/eutxo-explainer).\n",
    "3. Read and understand the [Marlowe Best Practices Guide](https://github.com/input-output-hk/marlowe-cardano/blob/main/marlowe/best-practices.md).\n",
    "4. Read and understand the [Marlowe Security Guide](https://github.com/input-output-hk/marlowe-cardano/blob/main/marlowe/security.md).\n",
    "5. Use [Marlowe Playground](https://https://play.marlowe.iohk.io//) to flag warnings, perform static analysis, and simulate the contract.\n",
    "6. Use [Marlowe CLI\\'s](https://github.com/input-output-hk/marlowe-cardano/blob/main/marlowe-cli/ReadMe.md) `marlowe-cli run analyze` tool to study whether the contract can run on a Cardano network.\n",
    "7. Run *all execution paths* of the contract on a [Cardano testnet](https://docs.cardano.org/cardano-testnet/overview).\n",
    "\n",
    "See [Lesson 1](01-runtime-cli.ipynb) for an example of performing step 6."
   ]
  },
  {
   "cell_type": "markdown",
   "id": "fcbdcc02-7ffe-46a4-8732-10a3e7b93865",
   "metadata": {},
   "source": [
    "## Transaction 1. Create the Contract"
   ]
  },
  {
   "cell_type": "markdown",
   "id": "6fad0f1b-a918-4c56-867e-29600be217f4",
   "metadata": {},
   "source": [
    "Marlowe CLI\\'s command `marlowe-cli run initialize` will build the creation information for a Marlowe contract. We provide it the JSON files containing the contract and initial state. Anyone could create the contract, but in this example the lender will be doing so, so we provide their address to fund the transaction and to receive the change from it."
   ]
  },
  {
   "cell_type": "code",
   "execution_count": 101,
   "id": "2053db7a-3244-4d30-a9e9-f5f1eb28ab45",
   "metadata": {
    "tags": [],
    "vscode": {
     "languageId": "shellscript"
    }
   },
   "outputs": [],
   "source": [
    "marlowe-cli run initialize \\\n",
    "  --permanently-without-staking \\\n",
    "  --contract-file wolfram-contract.json \\\n",
    "  --state-file wolfram-state.json \\\n",
    "  --out-file marlowe-1.json"
   ]
  },
  {
   "cell_type": "markdown",
   "id": "e8388b9b-b207-4925-9b98-f0803d84f882",
   "metadata": {},
   "source": [
    "We now use Marlowe CLI\\'s `marlowe-cli run auto-execute` command to construct and submit the creation transaction."
   ]
  },
  {
   "cell_type": "code",
   "execution_count": 102,
   "id": "c856072c-e31a-4363-8291-ef96292caedc",
   "metadata": {
    "tags": [],
    "vscode": {
     "languageId": "shellscript"
    }
   },
   "outputs": [
    {
     "name": "stdout",
     "output_type": "stream",
     "text": [
      "\n",
      "Fee: Lovelace 219445\n",
      "Size: 1106 / 16384 = 6%\n",
      "Execution units:\n",
      "  Memory: 0 / 14000000 = 0%\n",
      "  Steps: 0 / 10000000000 = 0%\n",
      "TX_1 = 06ab620ad60477c6c1c9c6658b57725012f470f3cb6181cfa191ad703c73c877\n"
     ]
    }
   ],
   "source": [
    "TX_1=$(\n",
    "marlowe-cli run auto-execute \\\n",
    "  --marlowe-out-file marlowe-1.json \\\n",
    "  --change-address \"$BOB_ADDR\" \\\n",
    "  --required-signer \"$BOB_SKEY\" \\\n",
    "  --out-file tx-1.signed \\\n",
    "  --submit 600 \\\n",
    "  --print-stats \\\n",
    "| sed -e 's/^TxId \"\\(.*\\)\"$/\\1/' \\\n",
    ")\n",
    "echo \"TX_1 = $TX_1\""
   ]
  },
  {
   "cell_type": "markdown",
   "id": "aa349a31-4e44-42c9-8c3d-e910f195325d",
   "metadata": {},
   "source": [
    "One can view the transaction on a Cardano explorer. It sometimes takes thirty seconds or so for the transaction to be visible in an explorer."
   ]
  },
  {
   "cell_type": "code",
   "execution_count": 36,
   "id": "72115506-5bfd-480f-b3f0-47520dca84c1",
   "metadata": {
    "vscode": {
     "languageId": "shellscript"
    }
   },
   "outputs": [
    {
     "name": "stdout",
     "output_type": "stream",
     "text": [
      "https://preview.cardanoscan.io/transaction/dcfbdc54d2f294cefddf5ddb8c81acf7c314cfba7e18759a9b49813db77b284d?tab=utxo\n"
     ]
    }
   ],
   "source": [
    "echo \"$EXPLORER_URL\"/transaction/\"$TX_1?tab=utxo\""
   ]
  },
  {
   "cell_type": "markdown",
   "id": "3b3dae70-a556-4621-bab9-fd92b9f165eb",
   "metadata": {},
   "source": [
    "One can also examine the contract's UTxO using `cardano-cli`."
   ]
  },
  {
   "cell_type": "code",
   "execution_count": 37,
   "id": "c4af1000-9220-4f31-92e8-ee5eb405df0b",
   "metadata": {
    "vscode": {
     "languageId": "shellscript"
    }
   },
   "outputs": [
    {
     "name": "stdout",
     "output_type": "stream",
     "text": [
      "                           TxHash                                 TxIx        Amount\n",
      "--------------------------------------------------------------------------------------\n",
      "dcfbdc54d2f294cefddf5ddb8c81acf7c314cfba7e18759a9b49813db77b284d     1        3000000 lovelace + TxOutDatumHash ScriptDataInBabbageEra \"6c2f2ed776359af18012c9225795e4aff9b158f213cbce627667c8908244495f\"\n"
     ]
    }
   ],
   "source": [
    "cardano-cli query utxo --testnet-magic \"$CARDANO_TESTNET_MAGIC\" --tx-in \"$TX_1#1\""
   ]
  },
  {
   "attachments": {},
   "cell_type": "markdown",
   "id": "cd4fa3da-0f75-4b96-a911-0ba5bea722f8",
   "metadata": {},
   "source": [
    "## Transaction 2. Alice deposit\n",
    "\n",
    "Alice is going to bet some valuable cash she was saving for a rainy day"
   ]
  },
  {
   "cell_type": "code",
   "execution_count": 103,
   "id": "d2fac183-6fbd-4d0a-80a4-6045a20a8f2d",
   "metadata": {
    "tags": [],
    "vscode": {
     "languageId": "shellscript"
    }
   },
   "outputs": [
    {
     "name": "stdout",
     "output_type": "stream",
     "text": [
      "Rounding  `TransactionInput` txInterval boundries to:(POSIXTime {getPOSIXTime = 1686641292000},POSIXTime {getPOSIXTime = 1686641652999})\n",
      "TransactionInput {txInterval = (POSIXTime {getPOSIXTime = 1686641292000},POSIXTime {getPOSIXTime = 1686641652999}), txInputs = [NormalInput (IDeposit \"\\\"addr_test1vrc79wasc0na5zglchugujuevu9ra9ehfjxwl4x9stgm9uc9dpguq\\\"\" \"\\\"addr_test1vrc79wasc0na5zglchugujuevu9ra9ehfjxwl4x9stgm9uc9dpguq\\\"\" (Token \"\" \"\") 1000000)]}\n"
     ]
    }
   ],
   "source": [
    "marlowe-cli run prepare \\\n",
    "  --deposit-account \"$ALICE_ADDR\" \\\n",
    "  --deposit-party \"$ALICE_ADDR\" \\\n",
    "  --deposit-amount \"1000000\" \\\n",
    "  --invalid-before \"$((`date -u +%s` * SECOND - 1 * MINUTE))\" \\\n",
    "  --invalid-hereafter \"$((`date -u +%s` * SECOND + 5 * MINUTE))\" \\\n",
    "  --marlowe-file marlowe-1.json \\\n",
    "  --out-file marlowe-2.json"
   ]
  },
  {
   "cell_type": "markdown",
   "id": "877807a1-7e62-4258-8d3c-b82664821dc9",
   "metadata": {},
   "source": [
    "Once again, use `marlowe-cli run auto-execute` to build and submit the transaction and then wait for confirmation."
   ]
  },
  {
   "cell_type": "code",
   "execution_count": 104,
   "id": "2e821767-d465-4051-96b6-f1128ec9cffc",
   "metadata": {
    "tags": [],
    "vscode": {
     "languageId": "shellscript"
    }
   },
   "outputs": [
    {
     "name": "stdout",
     "output_type": "stream",
     "text": [
      "\n",
      "Fee: Lovelace 696180\n",
      "Size: 2043 / 16384 = 12%\n",
      "Execution units:\n",
      "  Memory: 5608780 / 14000000 = 40%\n",
      "  Steps: 1550506015 / 10000000000 = 15%\n"
     ]
    }
   ],
   "source": [
    "TX_2=$(\n",
    "marlowe-cli run auto-execute \\\n",
    "  --tx-in-marlowe \"$TX_1#1\" \\\n",
    "  --marlowe-in-file marlowe-1.json \\\n",
    "  --marlowe-out-file marlowe-2.json \\\n",
    "  --change-address \"$ALICE_ADDR\" \\\n",
    "  --required-signer \"$ALICE_SKEY\" \\\n",
    "  --out-file tx-2.signed \\\n",
    "  --submit 600 \\\n",
    "  --print-stats \\\n",
    "| sed -e 's/^TxId \"\\(.*\\)\"$/\\1/' \\\n",
    ")\n",
    "echo \"TX_2 = $TX_2\""
   ]
  },
  {
   "cell_type": "markdown",
   "id": "eed6b35f-7aa9-4266-98d2-ac7320ccaf69",
   "metadata": {},
   "source": [
    "One can view the transaction on a Cardano explorer. It sometimes takes thirty seconds or so for the transaction to be visible in an explorer."
   ]
  },
  {
   "cell_type": "code",
   "execution_count": 28,
   "id": "bb813544-092a-4831-bff5-5ea7ce8a9259",
   "metadata": {
    "vscode": {
     "languageId": "shellscript"
    }
   },
   "outputs": [
    {
     "name": "stdout",
     "output_type": "stream",
     "text": [
      "https://preview.cardanoscan.io/transaction/d7d3db5471e0ae38b60603613bf2a243dfa3857ab49807d1218fcdd33055af2d?tab=utxo\n"
     ]
    }
   ],
   "source": [
    "echo \"$EXPLORER_URL\"/transaction/\"$TX_2?tab=utxo\""
   ]
  },
  {
   "attachments": {},
   "cell_type": "markdown",
   "id": "44cd316b-d4db-4d2b-87a7-eb38b95f5fb3",
   "metadata": {},
   "source": [
    "One can see that Alice has 1000 ada less than originally. "
   ]
  },
  {
   "cell_type": "code",
   "execution_count": 74,
   "id": "b45dc15d-f54f-49cb-a36d-0524f47fd70e",
   "metadata": {
    "vscode": {
     "languageId": "shellscript"
    }
   },
   "outputs": [
    {
     "name": "stdout",
     "output_type": "stream",
     "text": [
      "                           TxHash                                 TxIx        Amount\n",
      "--------------------------------------------------------------------------------------\n",
      "5c5328866aa0cf7af63ffbb68b5c3a99a4cf993c56d682be8b62fcf97fcc07f9     0        75683649 lovelace + TxOutDatumNone\n",
      "d7d3db5471e0ae38b60603613bf2a243dfa3857ab49807d1218fcdd33055af2d     0        917029304 lovelace + TxOutDatumNone\n"
     ]
    }
   ],
   "source": [
    "cardano-cli query utxo --testnet-magic \"$CARDANO_TESTNET_MAGIC\" --address \"$ALICE_ADDR\""
   ]
  },
  {
   "cell_type": "markdown",
   "id": "369f3945-299b-41dd-9cbf-f3864002b6aa",
   "metadata": {},
   "source": [
    "The Marlowe contract still has the 2 ada from its creation."
   ]
  },
  {
   "cell_type": "code",
   "execution_count": 78,
   "id": "6485d605-dec4-4bab-86f6-81bf002041ed",
   "metadata": {
    "vscode": {
     "languageId": "shellscript"
    }
   },
   "outputs": [
    {
     "name": "stdout",
     "output_type": "stream",
     "text": [
      "                           TxHash                                 TxIx        Amount\n",
      "--------------------------------------------------------------------------------------\n"
     ]
    }
   ],
   "source": [
    "cardano-cli query utxo --testnet-magic \"$CARDANO_TESTNET_MAGIC\" --tx-in \"$TX_2#1\""
   ]
  },
  {
   "attachments": {},
   "cell_type": "markdown",
   "id": "e7c652f6-02da-4786-a54d-755d59e4aba9",
   "metadata": {},
   "source": [
    "## Transaction 3. Bob deposit\n",
    "\n",
    "Bob is unemployed because of his gampling problems. This bet is his only chance to find a good therapist."
   ]
  },
  {
   "cell_type": "code",
   "execution_count": 79,
   "id": "10a49a12-18b5-4240-9d95-6bad4e82375d",
   "metadata": {
    "tags": [],
    "vscode": {
     "languageId": "shellscript"
    }
   },
   "outputs": [
    {
     "name": "stdout",
     "output_type": "stream",
     "text": [
      "Rounding  `TransactionInput` txInterval boundries to:(POSIXTime {getPOSIXTime = 1686639665000},POSIXTime {getPOSIXTime = 1686640025999})\n",
      "TransactionInput {txInterval = (POSIXTime {getPOSIXTime = 1686639665000},POSIXTime {getPOSIXTime = 1686640025999}), txInputs = [NormalInput (IDeposit \"\\\"addr_test1vrudhk63pclytll6vdt6hrda75al5a2jhtlkuqn0mh89ngsr929vf\\\"\" \"\\\"addr_test1vrudhk63pclytll6vdt6hrda75al5a2jhtlkuqn0mh89ngsr929vf\\\"\" (Token \"\" \"\") 1000000)]}\n"
     ]
    }
   ],
   "source": [
    "marlowe-cli run prepare \\\n",
    "  --deposit-account \"$BOB_ADDR\" \\\n",
    "  --deposit-party \"$BOB_ADDR\" \\\n",
    "  --deposit-amount \"1000000\" \\\n",
    "  --invalid-before \"$((`date -u +%s` * SECOND - 1 * MINUTE))\" \\\n",
    "  --invalid-hereafter \"$((`date -u +%s` * SECOND + 5 * MINUTE))\" \\\n",
    "  --marlowe-file marlowe-2.json \\\n",
    "  --out-file marlowe-3.json"
   ]
  },
  {
   "cell_type": "markdown",
   "id": "ccdcc822-ba62-41cb-bde1-55bfc661ce16",
   "metadata": {},
   "source": [
    "Once again, use `marlowe-cli run auto-execute` to build and submit the transaction and then wait for confirmation."
   ]
  },
  {
   "cell_type": "code",
   "execution_count": 100,
   "id": "7c405029-bf87-4eac-8b9e-630f64ddd53e",
   "metadata": {
    "tags": [],
    "vscode": {
     "languageId": "shellscript"
    }
   },
   "outputs": [
    {
     "name": "stdout",
     "output_type": "stream",
     "text": [
      "TxBodyScriptExecutionError [(ScriptWitnessIndexTxIn 1,ScriptErrorRedeemerPointsToUnknownScriptHash (ScriptWitnessIndexTxIn 1))]\n",
      "TX_3 = \n"
     ]
    }
   ],
   "source": [
    "TX_3=$(\n",
    "marlowe-cli run auto-execute \\\n",
    "  --tx-in-marlowe \"$TX_1#0\" \\\n",
    "  --marlowe-in-file marlowe-2.json \\\n",
    "  --marlowe-out-file marlowe-3.json \\\n",
    "  --change-address \"$BOB_ADDR\" \\\n",
    "  --required-signer \"$BOB_SKEY\" \\\n",
    "  --out-file tx-3.signed \\\n",
    "  --submit 600 \\\n",
    "  --print-stats \\\n",
    "| sed -e 's/^TxId \"\\(.*\\)\"$/\\1/' \\\n",
    ")\n",
    "echo \"TX_3 = $TX_3\""
   ]
  },
  {
   "cell_type": "markdown",
   "id": "3ef67b53-b30a-4408-a43e-97f1f0715ed0",
   "metadata": {},
   "source": [
    "One can view the transaction on a Cardano explorer. It sometimes takes thirty seconds or so for the transaction to be visible in an explorer."
   ]
  },
  {
   "cell_type": "code",
   "execution_count": 34,
   "id": "94e9f529-529b-4777-b829-dcab0a5fc3b8",
   "metadata": {
    "vscode": {
     "languageId": "shellscript"
    }
   },
   "outputs": [
    {
     "name": "stdout",
     "output_type": "stream",
     "text": [
      "https://preview.cardanoscan.io/transaction/8e63791b885c98d18ea3dc1034531f5b7f9f16b4708fa5dc15c2c4938d7a3bd7?tab=utxo\n"
     ]
    }
   ],
   "source": [
    "echo \"$EXPLORER_URL\"/transaction/\"$TX_3?tab=utxo\""
   ]
  },
  {
   "attachments": {},
   "cell_type": "markdown",
   "id": "af13b1f3-d5e2-4ebc-8023-f0fd5875c0a5",
   "metadata": {},
   "source": [
    "Now we wait for Oracle to decide the winner"
   ]
  },
  {
   "cell_type": "code",
   "execution_count": 90,
   "id": "492de5e8-7f07-437c-9f88-80ccdf00636f",
   "metadata": {
    "vscode": {
     "languageId": "shellscript"
    }
   },
   "outputs": [
    {
     "name": "stdout",
     "output_type": "stream",
     "text": [
      "                           TxHash                                 TxIx        Amount\n",
      "--------------------------------------------------------------------------------------\n",
      "5c5328866aa0cf7af63ffbb68b5c3a99a4cf993c56d682be8b62fcf97fcc07f9     0        75683649 lovelace + TxOutDatumNone\n",
      "d7d3db5471e0ae38b60603613bf2a243dfa3857ab49807d1218fcdd33055af2d     0        917029304 lovelace + TxOutDatumNone\n"
     ]
    }
   ],
   "source": [
    "cardano-cli query utxo --testnet-magic \"$CARDANO_TESTNET_MAGIC\" --address \"$ALICE_ADDR\""
   ]
  },
  {
   "cell_type": "markdown",
   "id": "1196c641-e92e-4848-a20b-b673d7fcbc71",
   "metadata": {},
   "source": [
    "The borrower now has about 5 ada (the loan's interest) less than originally."
   ]
  },
  {
   "cell_type": "code",
   "execution_count": 91,
   "id": "3e8f27e3-e94a-4332-94a2-2f8af8800d56",
   "metadata": {
    "vscode": {
     "languageId": "shellscript"
    }
   },
   "outputs": [
    {
     "name": "stdout",
     "output_type": "stream",
     "text": [
      "                           TxHash                                 TxIx        Amount\n",
      "--------------------------------------------------------------------------------------\n",
      "77cbdf3d315ca6f6ab33adf708a511b88e269e53227f45d754d9f284833e4d84     0        78306842 lovelace + TxOutDatumNone\n",
      "dcfbdc54d2f294cefddf5ddb8c81acf7c314cfba7e18759a9b49813db77b284d     0        907632079 lovelace + TxOutDatumNone\n"
     ]
    }
   ],
   "source": [
    "cardano-cli query utxo --testnet-magic \"$CARDANO_TESTNET_MAGIC\" --address \"$BOB_ADDR\""
   ]
  },
  {
   "cell_type": "markdown",
   "id": "8b4951f7-58bb-4399-a09a-2029f4e2dfe4",
   "metadata": {},
   "source": [
    "The Marlowe contract has closed, so there is no output to its script address."
   ]
  }
 ],
 "metadata": {
  "kernelspec": {
   "display_name": "Bash",
   "language": "bash",
   "name": "bash"
  },
  "language_info": {
   "codemirror_mode": "shell",
   "file_extension": ".sh",
   "mimetype": "text/x-sh",
   "name": "bash"
  }
 },
 "nbformat": 4,
 "nbformat_minor": 5
}
