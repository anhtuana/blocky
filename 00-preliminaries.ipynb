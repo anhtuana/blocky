{
 "cells": [
  {
   "cell_type": "markdown",
   "id": "4f3e8ba1-d2d2-4393-8c9e-8d324d444230",
   "metadata": {},
   "source": [
    "# Preliminaries for Using Marlowe\n",
    "\n",
    "This notebook provides instructions on setting up one's environment for running the Marlowe examples in this starter kit. It covers the following information:\n",
    "\n",
    "- Marlowe tools\n",
    "- Environment variables\n",
    "- Deploying Marlowe Runtime\n",
    "    - Demeter Run\n",
    "    - Docker or Podman\n",
    "- Creating addresses and signing keys\n",
    "    - The faucet\n",
    "    - The lender\n",
    "    - The borrower\n",
    "- Obtaining test ada\n",
    "- Fund the addresses of the parties\n",
    "    - Using Daedalus or a web-browser wallet\n",
    "    - Using a local faucet at the command line\n",
    "    \n",
    "***If you are using [demeter.run](https://demeter.run)'s Cardano Marlowe Runtime extension, then you can skip to the section \"Creating Addresses and Signing Keys\".***"
   ]
  },
  {
   "cell_type": "markdown",
   "id": "4a2ec343-a4e7-4ad6-ae82-0b3ce6c1d2f9",
   "metadata": {},
   "source": [
    "## Marlowe Tools\n",
    "\n",
    "Three alternative workflows are available for running Marlowe contracts:\n",
    "1. Marlowe CLI (`marlowe-cli`) for lightweight experiments with Marlowe transactions.\n",
    "2. Marlowe Runtime CLI (`marlowe`) for non-web applications that use the Marlowe Runtime backend services.\n",
    "3. Marlowe Runtime Web (`marlowe-web-server`) for web applications that use Marlowe Runtime backend services.\n",
    "\n",
    "Marlowe Runtime provides a variety of transaction-building, UTxO management, querying, and submission services for using Marlowe contracts: this makes it easy to run Marlowe contracts without attending to the details of the Cardano ledger and Plutus smart contracts. On the contrary, Marlowe CLI does not support querying and UTxO management, so it is best suited for experienced Cardano developers.\n",
    "\n",
    "![Tools for Running and Querying Marlowe Contracts](../images/marlowe-tools.png)"
   ]
  },
  {
   "cell_type": "markdown",
   "id": "5578d294-d437-4397-bd01-b6930c0ad5d5",
   "metadata": {},
   "source": [
    "## Environment Variables\n",
    "\n",
    "***This section can be skipped if you are using [demeter.run](https://demeter.run)'s Cardano Marlowe Runtime extension.***\n",
    "\n",
    "The various Marlowe tools use [environment variables](https://en.wikipedia.org/wiki/Environment_variable) to specify the values of parameters and the network locations of services. Only the enviornment variables for the particular tool(s) being used need be set; the others may be left unset or ignored. The following table summarizes the tools' use of these settings.\n",
    "\n",
    "| Workflow            | Tool          | Environment Variable        | Typical Value | Description                                                                                     |\n",
    "|---------------------|---------------|-----------------------------|---------------|-------------------------------------------------------------------------------------------------|\n",
    "| Marlowe CLI         | `marlowe-cli` | `CARDANO_NODE_SOCKET_PATH`  | `node.socket` | Location of the socket for the `cardano-node` service.                                          |\n",
    "|                     |               | `CARDANO_TESTNET_MAGIC`     | 2             | The \"magic number\" for the Cardano testnet being used, or not set if `mainnet` is being used.   |\n",
    "| Marlowe Runtime CLI | `marlowe`     | `MARLOWE_RT_HOST`           | `127.0.0.1`   | The host machine's IP address for Marlowe Runtime.                                              |\n",
    "|                     |               | `MARLOWE_RT_PORT`           | `3700`        | The port number for the `marlowe-proxy` service on the Marlowe Runtime host machine.            |\n",
    "| Marlowe Runtime Web | `curl` etc.   | `MARLOWE_RT_WEBSERVER_HOST` | `127.0.0.1`   | The host machine's IP address for Marlowe Runtime's web server.                                 |\n",
    "|                     |               | `MARLOWE_RT_WEBSERVER_PORT` | `8080`        | The port number for the `marlowe-web-server` service on the Marlowe Runtime web server machine. |"
   ]
  },
  {
   "cell_type": "markdown",
   "id": "093ac3d6-a693-4d6c-bbf8-9f92dcd87ae1",
   "metadata": {},
   "source": [
    "## Deploying Marlowe Runtime\n",
    "\n",
    "***These sections can be skipped if you are using [demeter.run](https://demeter.run)'s Cardano Marlowe Runtime extension.***\n",
    "\n",
    "Marlowe Runtime consists of several backend services and work together with a web server.\n",
    "\n",
    "![The architecture of Marlowe Runtime](images/runtime-architecture.png)"
   ]
  },
  {
   "cell_type": "markdown",
   "id": "4b0765b6-4281-4315-96d5-b472e108853c",
   "metadata": {},
   "source": [
    "### Demeter Run\n",
    "\n",
    "The [demeter.run](https://demeter.run/) web3 development platform provides an extension *Cardano Marlowe Runtime* that has Marlowe tools installed and makes available the Marlowe Runtime backend services and a Cardano node. No setting of environment variables or installation of tools or running of backend services is needed when using Demeter Run's Cardano Marlowe Runtime extension."
   ]
  },
  {
   "cell_type": "markdown",
   "id": "6be15515-1aa9-4a65-a888-796c5a683aca",
   "metadata": {},
   "source": [
    "### Docker or Podman\n",
    "\n",
    "Instead of using a cloud service such as [demeter.run](https://demeter.run/) for Marlowe Runtime, one can run it locally using Docker or Podman.\n",
    "\n",
    "First, make sure that either [docker-compose](https://docs.docker.com/compose/install/) or [podman-compose](https://github.com/containers/podman-compose#readme) is installed on your system.\n",
    "\n",
    "This repository contains a [git submodule](https://git-scm.com/book/en/v2/Git-Tools-Submodules) that contains the docker-compose configuration for running a Cardano Node and Marlowe Runtime. Initialize this submodule."
   ]
  },
  {
   "cell_type": "code",
   "execution_count": 1,
   "id": "8a146db6-2058-4143-b4ec-043349088956",
   "metadata": {
    "vscode": {
     "languageId": "shellscript"
    }
   },
   "outputs": [
    {
     "name": "stdout",
     "output_type": "stream",
     "text": [
      "Submodule 'marlowe-compose' (git@github.com:bwbush/marlowe-compose.git) registered for path 'marlowe-compose'\n",
      "Cloning into '/extra/iohk/marlowe-starter-kit/marlowe-compose'...\n",
      "Submodule path 'marlowe-compose': checked out '19fe4263350212537f93e53b2297ca81772d8edc'\n"
     ]
    }
   ],
   "source": [
    "git submodule update --init --recursive"
   ]
  },
  {
   "cell_type": "markdown",
   "id": "2d4657da-5fe5-4604-881e-d1d83525b44b",
   "metadata": {},
   "source": [
    "Select either the public Cardano testnet pre-production (`preprod`) or preview (`preview`). The `preprod` network is easiest to start with because it contains fewer transactions than `preview`, which makes synchronize the Cardano Node and the Marlowe Runtime indexers much faster."
   ]
  },
  {
   "cell_type": "code",
   "execution_count": 2,
   "id": "5a348df2-cb70-4cad-8df6-c932b7d4eb50",
   "metadata": {
    "tags": [],
    "vscode": {
     "languageId": "shellscript"
    }
   },
   "outputs": [],
   "source": [
    "export NETWORK=preprod"
   ]
  },
  {
   "cell_type": "markdown",
   "id": "5f04bb64-5d28-4a45-806c-9d668fcefdd2",
   "metadata": {},
   "source": [
    "Now start the docker containers. Here we use `podman-compose`, but the `docker-compose` works identically."
   ]
  },
  {
   "cell_type": "code",
   "execution_count": 3,
   "id": "e22d9fad-294c-42e1-9307-10edb8f02dfc",
   "metadata": {
    "tags": [],
    "vscode": {
     "languageId": "shellscript"
    }
   },
   "outputs": [
    {
     "name": "stdout",
     "output_type": "stream",
     "text": [
      "['podman', '--version', '']\n",
      "using podman version: 4.3.1\n",
      "** excluding:  set()\n",
      "podman volume inspect marlowe-compose_shared || podman volume create marlowe-compose_shared\n",
      "['podman', 'volume', 'inspect', 'marlowe-compose_shared']\n",
      "['podman', 'volume', 'create', '--label', 'io.podman.compose.project=marlowe-compose', '--label', 'com.docker.compose.project=marlowe-compose', 'marlowe-compose_shared']\n",
      "['podman', 'volume', 'inspect', 'marlowe-compose_shared']\n",
      "podman volume inspect marlowe-compose_node-db || podman volume create marlowe-compose_node-db\n",
      "['podman', 'volume', 'inspect', 'marlowe-compose_node-db']\n",
      "['podman', 'volume', 'create', '--label', 'io.podman.compose.project=marlowe-compose', '--label', 'com.docker.compose.project=marlowe-compose', 'marlowe-compose_node-db']\n",
      "['podman', 'volume', 'inspect', 'marlowe-compose_node-db']\n",
      "['podman', 'network', 'exists', 'marlowe-compose_default']\n",
      "podman run --name=marlowe-compose_node_1 -d --label io.podman.compose.config-hash=123 --label io.podman.compose.project=marlowe-compose --label io.podman.compose.version=0.0.1 --label com.docker.compose.project=marlowe-compose --label com.docker.compose.project.working_dir=/extra/iohk/marlowe-starter-kit/marlowe-compose --label com.docker.compose.project.config_files=compose.yaml --label com.docker.compose.container-number=1 --label com.docker.compose.service=node -e NETWORK=preprod -v marlowe-compose_shared:/ipc -v marlowe-compose_node-db:/opt/cardano/data --net marlowe-compose_default --network-alias node --restart unless-stopped --healthcheck-command /bin/sh -c 'socat -u OPEN:/dev/null UNIX-CONNECT:/ipc/node.socket' --healthcheck-interval 10s --healthcheck-timeout 5s --healthcheck-retries 10 inputoutput/cardano-node:1.35.4\n",
      "exit code: 0\n",
      "podman volume inspect marlowe-compose_postgres || podman volume create marlowe-compose_postgres\n",
      "['podman', 'volume', 'inspect', 'marlowe-compose_postgres']\n",
      "['podman', 'volume', 'create', '--label', 'io.podman.compose.project=marlowe-compose', '--label', 'com.docker.compose.project=marlowe-compose', 'marlowe-compose_postgres']\n",
      "['podman', 'volume', 'inspect', 'marlowe-compose_postgres']\n",
      "['podman', 'network', 'exists', 'marlowe-compose_default']\n",
      "podman run --name=marlowe-compose_postgres_1 -d --label io.podman.compose.config-hash=123 --label io.podman.compose.project=marlowe-compose --label io.podman.compose.version=0.0.1 --label com.docker.compose.project=marlowe-compose --label com.docker.compose.project.working_dir=/extra/iohk/marlowe-starter-kit/marlowe-compose --label com.docker.compose.project.config_files=compose.yaml --label com.docker.compose.container-number=1 --label com.docker.compose.service=postgres -e POSTGRES_LOGGING=true -e POSTGRES_USER=postgres -e POSTGRES_PASSWORD=postgres -e TZ=UTC -v marlowe-compose_postgres:/var/lib/postgresql/data -v /extra/iohk/marlowe-starter-kit/marlowe-compose/preprod/init.sql:/docker-entrypoint-initdb.d/init.sql --net marlowe-compose_default --network-alias postgres --log-driver=json-file --log-opt=max-file=10 --log-opt=max-size=200k --restart unless-stopped --healthcheck-command /bin/sh -c 'pg_isready -U postgres' --healthcheck-interval 10s --healthcheck-timeout 5s --healthcheck-retries 5 postgres:11.5-alpine\n",
      "exit code: 0\n",
      "podman volume inspect marlowe-compose_shared || podman volume create marlowe-compose_shared\n",
      "['podman', 'volume', 'inspect', 'marlowe-compose_shared']\n",
      "['podman', 'network', 'exists', 'marlowe-compose_default']\n",
      "podman run --name=marlowe-compose_chain-indexer_1 -d --label io.podman.compose.config-hash=123 --label io.podman.compose.project=marlowe-compose --label io.podman.compose.version=0.0.1 --label com.docker.compose.project=marlowe-compose --label com.docker.compose.project.working_dir=/extra/iohk/marlowe-starter-kit/marlowe-compose --label com.docker.compose.project.config_files=compose.yaml --label com.docker.compose.container-number=1 --label com.docker.compose.service=chain-indexer -e NODE_CONFIG=/node/config.json -e DB_NAME=chain_preprod -e DB_USER=postgres -e DB_PASS=postgres -e DB_HOST=postgres -e CARDANO_NODE_SOCKET_PATH=/ipc/node.socket -v marlowe-compose_shared:/ipc -v /extra/iohk/marlowe-starter-kit/marlowe-compose/preprod/node:/node --net marlowe-compose_default --network-alias chain-indexer -u 0:0 --restart unless-stopped iohkbuild/marlowe:chain-indexer-20230302\n",
      "exit code: 0\n",
      "podman volume inspect marlowe-compose_shared || podman volume create marlowe-compose_shared\n",
      "['podman', 'volume', 'inspect', 'marlowe-compose_shared']\n",
      "['podman', 'network', 'exists', 'marlowe-compose_default']\n",
      "podman run --name=marlowe-compose_chain-sync_1 -d --label io.podman.compose.config-hash=123 --label io.podman.compose.project=marlowe-compose --label io.podman.compose.version=0.0.1 --label com.docker.compose.project=marlowe-compose --label com.docker.compose.project.working_dir=/extra/iohk/marlowe-starter-kit/marlowe-compose --label com.docker.compose.project.config_files=compose.yaml --label com.docker.compose.container-number=1 --label com.docker.compose.service=chain-sync -e NODE_CONFIG=/node/config.json -e HOST=0.0.0.0 -e PORT=3715 -e QUERY_PORT=3716 -e JOB_PORT=3720 -e DB_NAME=chain_preprod -e DB_USER=postgres -e DB_PASS=postgres -e DB_HOST=postgres -e CARDANO_NODE_SOCKET_PATH=/ipc/node.socket -v marlowe-compose_shared:/ipc -v /extra/iohk/marlowe-starter-kit/marlowe-compose/preprod/node:/node --net marlowe-compose_default --network-alias chain-sync -u 0:0 --restart unless-stopped iohkbuild/marlowe:chain-sync-20230302\n",
      "exit code: 0\n",
      "['podman', 'network', 'exists', 'marlowe-compose_default']\n",
      "podman run --name=marlowe-compose_indexer_1 -d --label io.podman.compose.config-hash=123 --label io.podman.compose.project=marlowe-compose --label io.podman.compose.version=0.0.1 --label com.docker.compose.project=marlowe-compose --label com.docker.compose.project.working_dir=/extra/iohk/marlowe-starter-kit/marlowe-compose --label com.docker.compose.project.config_files=compose.yaml --label com.docker.compose.container-number=1 --label com.docker.compose.service=indexer -e DB_NAME=chain_preprod -e DB_USER=postgres -e DB_PASS=postgres -e DB_HOST=postgres -e MARLOWE_CHAIN_SYNC_HOST=chain-sync -e MARLOWE_CHAIN_SYNC_PORT=3715 -e MARLOWE_CHAIN_SYNC_QUERY_PORT=3716 -e MARLOWE_CHAIN_SYNC_COMMAND_PORT=3720 --net marlowe-compose_default --network-alias indexer --restart unless-stopped iohkbuild/marlowe:indexer-20230302\n",
      "exit code: 0\n",
      "['podman', 'network', 'exists', 'marlowe-compose_default']\n",
      "podman run --name=marlowe-compose_tx_1 -d --label io.podman.compose.config-hash=123 --label io.podman.compose.project=marlowe-compose --label io.podman.compose.version=0.0.1 --label com.docker.compose.project=marlowe-compose --label com.docker.compose.project.working_dir=/extra/iohk/marlowe-starter-kit/marlowe-compose --label com.docker.compose.project.config_files=compose.yaml --label com.docker.compose.container-number=1 --label com.docker.compose.service=tx -e HOST=0.0.0.0 -e PORT=3723 -e MARLOWE_CHAIN_SYNC_HOST=chain-sync -e MARLOWE_CHAIN_SYNC_PORT=3715 -e MARLOWE_CHAIN_SYNC_QUERY_PORT=3716 -e MARLOWE_CHAIN_SYNC_COMMAND_PORT=3720 --net marlowe-compose_default --network-alias tx --restart unless-stopped iohkbuild/marlowe:tx-20230302\n",
      "exit code: 0\n",
      "['podman', 'network', 'exists', 'marlowe-compose_default']\n",
      "podman run --name=marlowe-compose_sync_1 -d --label io.podman.compose.config-hash=123 --label io.podman.compose.project=marlowe-compose --label io.podman.compose.version=0.0.1 --label com.docker.compose.project=marlowe-compose --label com.docker.compose.project.working_dir=/extra/iohk/marlowe-starter-kit/marlowe-compose --label com.docker.compose.project.config_files=compose.yaml --label com.docker.compose.container-number=1 --label com.docker.compose.service=sync -e HOST=0.0.0.0 -e MARLOWE_SYNC_PORT=3724 -e MARLOWE_HEADER_SYNC_PORT=3725 -e MARLOWE_QUERY_PORT=3726 -e DB_NAME=chain_preprod -e DB_USER=postgres -e DB_PASS=postgres -e DB_HOST=postgres --net marlowe-compose_default --network-alias sync --restart unless-stopped iohkbuild/marlowe:sync-20230302\n",
      "exit code: 0\n",
      "['podman', 'network', 'exists', 'marlowe-compose_default']\n",
      "2dcb895b7a2df47078339c727e8626a27d8fddc6705065cf7f0d18466d8c125d\n",
      "599db9c3f59bf234057b1cdd179d9226249219c95e3319fa16687d5954189b98\n",
      "podman run --name=marlowe-compose_proxy_1 -d --label io.podman.compose.config-hash=123 --label io.podman.compose.project=marlowe-compose --label io.podman.compose.version=0.0.1 --label com.docker.compose.project=marlowe-compose --label com.docker.compose.project.working_dir=/extra/iohk/marlowe-starter-kit/marlowe-compose --label com.docker.compose.project.config_files=compose.yaml --label com.docker.compose.container-number=1 --label com.docker.compose.service=proxy -e HOST=0.0.0.0 -e PORT=3700 -e TX_HOST=tx -e TX_PORT=3723 -e SYNC_HOST=sync -e MARLOWE_SYNC_PORT=3724 -e MARLOWE_HEADER_SYNC_PORT=3725 -e MARLOWE_QUERY_PORT=3726 --net marlowe-compose_default --network-alias proxy -p 3700:3700 --restart unless-stopped iohkbuild/marlowe:proxy-20230302\n",
      "exit code: 0\n",
      "['podman', 'network', 'exists', 'marlowe-compose_default']\n",
      "podman run --name=marlowe-compose_web-server_1 -d --label io.podman.compose.config-hash=123 --label io.podman.compose.project=marlowe-compose --label io.podman.compose.version=0.0.1 --label com.docker.compose.project=marlowe-compose --label com.docker.compose.project.working_dir=/extra/iohk/marlowe-starter-kit/marlowe-compose --label com.docker.compose.project.config_files=compose.yaml --label com.docker.compose.container-number=1 --label com.docker.compose.service=web-server -e PORT=80 -e RUNTIME_HOST=proxy -e RUNTIME_PORT=3700 --net marlowe-compose_default --network-alias web-server -p 3780:80 --restart unless-stopped iohkbuild/marlowe:web-server-20230302\n",
      "exit code: 0\n"
     ]
    }
   ],
   "source": [
    "podman-compose -f marlowe-compose/compose.yaml up -d"
   ]
  },
  {
   "cell_type": "markdown",
   "id": "64c371b9-13c7-4a5f-9299-3e34aacc74e2",
   "metadata": {},
   "source": [
    "Check to make sure that all of the services were created and have the status \"Up\"."
   ]
  },
  {
   "cell_type": "code",
   "execution_count": 4,
   "id": "386bcb2d-be2d-4346-9657-04d3f4655360",
   "metadata": {
    "tags": [],
    "vscode": {
     "languageId": "shellscript"
    }
   },
   "outputs": [
    {
     "name": "stdout",
     "output_type": "stream",
     "text": [
      "['podman', '--version', '']\n",
      "using podman version: 4.4.2\n",
      "podman ps -a --filter label=io.podman.compose.project=marlowe-compose\n",
      "CONTAINER ID  IMAGE                                               COMMAND     CREATED             STATUS                       PORTS                   NAMES\n",
      "c9ea7fe655a3  docker.io/inputoutput/cardano-node:1.35.4                       About a minute ago  Up About a minute (healthy)                          marlowe-compose_node_1\n",
      "0bf114667144  docker.io/library/postgres:11.5-alpine              postgres    About a minute ago  Up About a minute (healthy)                          marlowe-compose_postgres_1\n",
      "41749da8a001  docker.io/iohkbuild/marlowe:chain-indexer-20230302              About a minute ago  Up About a minute                                    marlowe-compose_chain-indexer_1\n",
      "ee9fd794fb8d  docker.io/iohkbuild/marlowe:chain-sync-20230302                 About a minute ago  Up About a minute                                    marlowe-compose_chain-sync_1\n",
      "2fb140c547b6  docker.io/iohkbuild/marlowe:indexer-20230302                    About a minute ago  Up 56 seconds                                        marlowe-compose_indexer_1\n",
      "a41802909143  docker.io/iohkbuild/marlowe:tx-20230302                         About a minute ago  Up 56 seconds                                        marlowe-compose_tx_1\n",
      "c68488506a4d  docker.io/iohkbuild/marlowe:sync-20230302                       About a minute ago  Up About a minute                                    marlowe-compose_sync_1\n",
      "2dcb895b7a2d  docker.io/iohkbuild/marlowe:proxy-20230302                      About a minute ago  Up About a minute            0.0.0.0:3700->3700/tcp  marlowe-compose_proxy_1\n",
      "599db9c3f59b  docker.io/iohkbuild/marlowe:web-server-20230302                 About a minute ago  Up 59 seconds                0.0.0.0:3780->80/tcp    marlowe-compose_web-server_1\n",
      "exit code: 0\n"
     ]
    }
   ],
   "source": [
    "podman-compose -f marlowe-compose/compose.yaml ps"
   ]
  },
  {
   "cell_type": "markdown",
   "id": "b192339b-b71d-41e5-966c-200baa5f8337",
   "metadata": {},
   "source": [
    "Use the command `podman-compose -f marlowe-compose/compose.yaml stop` to stop the services and the command `podman-compose -f marlowe-compose/compose.yaml start` to restart them. The command `podman-compose -f marlowe-compose/compose.yaml down` will stop the services and destroy the data folders the resources used by the services: unless external volumes were used when starting the services, the Cardano blockchain and Marlowe database will be removed."
   ]
  },
  {
   "cell_type": "markdown",
   "id": "8713661d-a582-433e-81c8-aea6ba51d123",
   "metadata": {},
   "source": [
    "Now set the environment variables for the Cardano and Marlowe Runtime services."
   ]
  },
  {
   "cell_type": "code",
   "execution_count": 5,
   "id": "7d20a1cd-805b-44b1-90a0-2f934dbc4bf6",
   "metadata": {
    "tags": [],
    "vscode": {
     "languageId": "shellscript"
    }
   },
   "outputs": [],
   "source": [
    "if command -v podman > /dev/null\n",
    "then\n",
    "  DOCKER_CLI=podman\n",
    "else\n",
    "  DOCKER_CLI=docker\n",
    "fi\n",
    "\n",
    "# Only required for `marlowe-cli` and `cardano-cli`.\n",
    "export CARDANO_NODE_SOCKET_PATH=\"$($DOCKER_CLI volume inspect marlowe-compose_shared | jq -r '.[0].Mountpoint')/node.socket\"\n",
    "case \"$NETWORK\" in\n",
    "  preprod)\n",
    "    export CARDANO_TESTNET_MAGIC=1\n",
    "    ;;\n",
    "  preview)\n",
    "    export CARDANO_TESTNET_MAGIC=2\n",
    "    ;;\n",
    "  *)\n",
    "    # Use `mainnet` as the default.\n",
    "    unset CARDANO_TESTNET_MAGIC\n",
    "    ;;\n",
    "esac\n",
    "\n",
    "# Only required for `marlowe`.\n",
    "export MARLOWE_RT_HOST=\"127.0.0.1\"\n",
    "export MARLOWE_RT_PORT=3700\n",
    "\n",
    "# Only required for REST API.\n",
    "export MARLOWE_RT_WEBSERVER_HOST=\"127.0.0.1\"\n",
    "export MARLOWE_RT_WEBSERVER_PORT=3780\n",
    "export MARLOWE_RT_WEBSERVER_URL=\"http://$MARLOWE_RT_WEBSERVER_HOST:$MARLOWE_RT_WEBSERVER_PORT\""
   ]
  },
  {
   "cell_type": "markdown",
   "id": "bae35736-148d-4bd3-9fdc-f4480b9a94cd",
   "metadata": {},
   "source": [
    "When `cardano-node` is started, it may take minutes or hours to synchronize with the tip of the blockchain, depending upon the network. Wait until querying the node shows that its `syncProgress` is 100%."
   ]
  },
  {
   "cell_type": "code",
   "execution_count": 6,
   "id": "ee183195-ebe5-4d37-b43b-89100bc6dfc6",
   "metadata": {
    "tags": [],
    "vscode": {
     "languageId": "shellscript"
    }
   },
   "outputs": [
    {
     "name": "stdout",
     "output_type": "stream",
     "text": [
      "block: 731649\n",
      "epoch: 57\n",
      "era: Babbage\n",
      "hash: ad9ed62386341677ada848804618b6198c1d4187a0bfbd008500d2ef9595943b\n",
      "slot: 23307149\n",
      "syncProgress: '100.00'\n"
     ]
    }
   ],
   "source": [
    "cardano-cli query tip --testnet-magic \"$CARDANO_TESTNET_MAGIC\" | json2yaml"
   ]
  },
  {
   "cell_type": "markdown",
   "id": "fc856e56-063e-46ad-b995-fea871e38d22",
   "metadata": {},
   "source": [
    "Check that the `marlowe` command can communicate with the Marlowe Runtime backend services by querying the history of one of the Marlowe contracts that has previously been executed on the blockchain."
   ]
  },
  {
   "cell_type": "code",
   "execution_count": 7,
   "id": "7f29d0f3-c4db-45e5-8748-ce0a72c08eca",
   "metadata": {
    "tags": [],
    "vscode": {
     "languageId": "shellscript"
    }
   },
   "outputs": [
    {
     "name": "stdout",
     "output_type": "stream",
     "text": [
      "\u001b[93mtransaction f06e4b760f2d9578c8088ea5289ba6276e68ae3cbaf5ad27bcfc77dc413890db (creation)\n",
      "\u001b[0mContractId:      f06e4b760f2d9578c8088ea5289ba6276e68ae3cbaf5ad27bcfc77dc413890db#1\n",
      "SlotNo:          11630746\n",
      "BlockNo:         224384\n",
      "BlockId:         f729f57b3bd99dd1d55a5a65b8c74f459dadae784dd55536444770dd2c2cdd2e\n",
      "ScriptAddress:   addr_test1wp4f8ywk4fg672xasahtk4t9k6w3aql943uxz5rt62d4dvqu3c6jv\n",
      "Marlowe Version: 1\n",
      "\n",
      "\n",
      "\n",
      "\u001b[93mtransaction 5a3ed57653b4635c76d2949558f3718e34324a8a1ffc740360ae7d85839de6d9 (close)\n",
      "\u001b[0mContractId: f06e4b760f2d9578c8088ea5289ba6276e68ae3cbaf5ad27bcfc77dc413890db#1\n",
      "SlotNo:     16674281\n",
      "BlockNo:    458964\n",
      "BlockId:    23adcef9d89afc4354155c62960512c810619d8244239f8c642745b034a58fc2\n",
      "Inputs:     []\n",
      "\n",
      "\n"
     ]
    }
   ],
   "source": [
    "marlowe log \"f06e4b760f2d9578c8088ea5289ba6276e68ae3cbaf5ad27bcfc77dc413890db#1\""
   ]
  },
  {
   "cell_type": "markdown",
   "id": "183a4b71-1c30-4241-86aa-ad58ae190455",
   "metadata": {},
   "source": [
    "Check that one can communicate with the Marlowe Runtime web server and receive a `200 OK` response."
   ]
  },
  {
   "cell_type": "code",
   "execution_count": null,
   "id": "9ec08694-8c4f-4a83-acbf-fe71acd715c2",
   "metadata": {
    "tags": [],
    "vscode": {
     "languageId": "shellscript"
    }
   },
   "outputs": [
    {
     "name": "stdout",
     "output_type": "stream",
     "text": [
      "HTTP/1.1 200 OK\n",
      "\u001b[1mDate\u001b[0m: Thu, 16 Mar 2023 18:12:51 GMT\n",
      "\u001b[1mServer\u001b[0m: Warp/3.3.24\n",
      "\u001b[1mContent-Type\u001b[0m: application/json;charset=utf-8\n",
      "\n"
     ]
    }
   ],
   "source": [
    "curl -sSI \"$MARLOWE_RT_WEBSERVER_URL/healthcheck\""
   ]
  },
  {
   "cell_type": "markdown",
   "id": "979706db-b6a7-4a50-827a-368835374bb8",
   "metadata": {
    "tags": []
   },
   "source": [
    "## Creating Addresses and Signing Keys\n",
    "\n",
    "The [Cardano Developers Portal](https://developers.cardano.org/docs/stake-pool-course/handbook/keys-addresses/) contains instructions for creating addresses and signing keys.\n",
    "\n",
    "This starter kit uses the following addresses:\n",
    "- An ***optional*** local *Faucet* used to fund parties to Marlowe contracts.\n",
    "- The *Lender* party for the examples in this starter kit.\n",
    "- The *Borrower* party for the examples in this starter kit.\n",
    "\n",
    "The instructions below detail how to create signing keys and addresses for these parties. It is assumed that one has the signing key and address for the faucet and that the faucet is already funded with test ada."
   ]
  },
  {
   "cell_type": "markdown",
   "id": "f81c063e-5f03-4dcf-a9b8-297fa2504076",
   "metadata": {},
   "source": [
    "### The Faucet\n",
    "\n",
    "***This step is optional if one is using a wallet already funded with test ada.***\n",
    "\n",
    "Set the file names for this party's signing key and verification key."
   ]
  },
  {
   "cell_type": "code",
   "execution_count": 9,
   "id": "8bb867d3-f099-4ce9-8411-af904024e729",
   "metadata": {
    "tags": [],
    "vscode": {
     "languageId": "shellscript"
    }
   },
   "outputs": [],
   "source": [
    "FAUCET_SKEY=keys/faucet.skey\n",
    "FAUCET_VKEY=keys/faucet.vkey"
   ]
  },
  {
   "cell_type": "markdown",
   "id": "4aba92c6-85d1-4960-916f-1b9384cd2c06",
   "metadata": {},
   "source": [
    "Generate the keys if they haven't already been generated."
   ]
  },
  {
   "cell_type": "code",
   "execution_count": 10,
   "id": "d3b8e993-a6c8-4307-a8f7-772b15d37731",
   "metadata": {
    "tags": [],
    "vscode": {
     "languageId": "shellscript"
    }
   },
   "outputs": [],
   "source": [
    "if [[ ! -e \"$FAUCET_SKEY\" ]]\n",
    "then\n",
    "  cardano-cli address key-gen \\\n",
    "    --signing-key-file \"$FAUCET_SKEY\" \\\n",
    "    --verification-key-file \"$FAUCET_VKEY\"\n",
    "fi"
   ]
  },
  {
   "cell_type": "markdown",
   "id": "7f6a11b1-8508-48f7-a876-fa36deeca8cb",
   "metadata": {},
   "source": [
    "Compute the faucet's address on the testnet."
   ]
  },
  {
   "cell_type": "code",
   "execution_count": 11,
   "id": "1f8ede90-4c8d-4c97-a449-36e7a37aca42",
   "metadata": {
    "tags": [],
    "vscode": {
     "languageId": "shellscript"
    }
   },
   "outputs": [
    {
     "name": "stdout",
     "output_type": "stream",
     "text": [
      "FAUCET_ADDR = addr_test1vq9prvx8ufwutkwxx9cmmuuajaqmjqwujqlp9d8pvg6gupczgtm9j\n"
     ]
    }
   ],
   "source": [
    "FAUCET_ADDR=$(cardano-cli address build --testnet-magic \"$CARDANO_TESTNET_MAGIC\" --payment-verification-key-file \"$FAUCET_VKEY\" )\n",
    "if [[ ! -e keys/faucet.address ]]\n",
    "then\n",
    "  echo \"$FAUCET_ADDR\" > keys/faucet.address\n",
    "fi\n",
    "echo \"FAUCET_ADDR = $FAUCET_ADDR\""
   ]
  },
  {
   "cell_type": "markdown",
   "id": "709cad6d-8355-4959-a0a6-db0cac4824ae",
   "metadata": {},
   "source": [
    "### The Lender\n",
    "\n",
    "Set the file names for this party's signing key and verification key."
   ]
  },
  {
   "cell_type": "code",
   "execution_count": 12,
   "id": "c66c378f-34f8-484f-acc7-200a40fb2468",
   "metadata": {
    "tags": [],
    "vscode": {
     "languageId": "shellscript"
    }
   },
   "outputs": [],
   "source": [
    "LENDER_SKEY=keys/lender.skey\n",
    "LENDER_VKEY=keys/lender.vkey"
   ]
  },
  {
   "cell_type": "markdown",
   "id": "da7e0e93-aed7-41bb-ade3-5c5f818578f8",
   "metadata": {},
   "source": [
    "Generate the keys if they haven't already been generated."
   ]
  },
  {
   "cell_type": "code",
   "execution_count": 13,
   "id": "e0be461f-2399-4b28-a0c6-21966383bafd",
   "metadata": {
    "tags": [],
    "vscode": {
     "languageId": "shellscript"
    }
   },
   "outputs": [],
   "source": [
    "if [[ ! -e \"$LENDER_SKEY\" ]]\n",
    "then\n",
    "  cardano-cli address key-gen \\\n",
    "    --signing-key-file \"$LENDER_SKEY\" \\\n",
    "    --verification-key-file \"$LENDER_VKEY\"\n",
    "fi"
   ]
  },
  {
   "cell_type": "markdown",
   "id": "a2aa5789-4857-4a28-ac2c-780444adfbff",
   "metadata": {},
   "source": [
    "Compute the party's address on the testnet."
   ]
  },
  {
   "cell_type": "code",
   "execution_count": 14,
   "id": "67e73e10-0d09-4c8f-b4d0-07ccc34f11cb",
   "metadata": {
    "tags": [],
    "vscode": {
     "languageId": "shellscript"
    }
   },
   "outputs": [
    {
     "name": "stdout",
     "output_type": "stream",
     "text": [
      "LENDER_ADDR = addr_test1vqd3yrtjyx49uld43lvwqaf7z4k03su8gf2x4yr7syzvckgfzm4ck\n"
     ]
    }
   ],
   "source": [
    "LENDER_ADDR=$(cardano-cli address build --testnet-magic \"$CARDANO_TESTNET_MAGIC\" --payment-verification-key-file \"$LENDER_VKEY\" )\n",
    "if [[ ! -e keys/lender.address ]]\n",
    "then\n",
    "  echo \"$LENDER_ADDR\" > keys/lender.address\n",
    "fi\n",
    "echo \"LENDER_ADDR = $LENDER_ADDR\""
   ]
  },
  {
   "cell_type": "markdown",
   "id": "82c69f5c-c6fe-4aa6-bef2-6daab94adba4",
   "metadata": {},
   "source": [
    "### The Borrower\n",
    "\n",
    "Set the file names for this party's signing key and verification key."
   ]
  },
  {
   "cell_type": "code",
   "execution_count": 15,
   "id": "7a4cfdc0-0150-428d-b242-b463dea5a0c7",
   "metadata": {
    "tags": [],
    "vscode": {
     "languageId": "shellscript"
    }
   },
   "outputs": [],
   "source": [
    "BORROWER_SKEY=keys/borrower.skey\n",
    "BORROWER_VKEY=keys/borrower.vkey"
   ]
  },
  {
   "cell_type": "markdown",
   "id": "0a735a03-abfa-443c-9d68-f4b6bdb28386",
   "metadata": {},
   "source": [
    "Generate the keys if they haven't already been generated."
   ]
  },
  {
   "cell_type": "code",
   "execution_count": 16,
   "id": "540e6045-d92c-49da-af39-cd339a5963b0",
   "metadata": {
    "tags": [],
    "vscode": {
     "languageId": "shellscript"
    }
   },
   "outputs": [],
   "source": [
    "if [[ ! -e \"$BORROWER_SKEY\" ]]\n",
    "then\n",
    "  cardano-cli address key-gen \\\n",
    "    --signing-key-file \"$BORROWER_SKEY\"  \\\n",
    "    --verification-key-file \"$BORROWER_VKEY\"\n",
    "fi"
   ]
  },
  {
   "cell_type": "markdown",
   "id": "3c5c365e-ebfe-41ee-9070-78f31710df48",
   "metadata": {},
   "source": [
    "Compute the party's address on the testnet."
   ]
  },
  {
   "cell_type": "code",
   "execution_count": 17,
   "id": "6ed6137d-b9fe-4a87-b0a4-f2b802fa96e4",
   "metadata": {
    "tags": [],
    "vscode": {
     "languageId": "shellscript"
    }
   },
   "outputs": [
    {
     "name": "stdout",
     "output_type": "stream",
     "text": [
      "BORROWER_ADDR = addr_test1vpy4n4peh4suv0y55yptur0066j5kds8r4ncnuzm0vpzfgg0dhz6d\n"
     ]
    }
   ],
   "source": [
    "BORROWER_ADDR=$(cardano-cli address build --testnet-magic \"$CARDANO_TESTNET_MAGIC\" --payment-verification-key-file \"$BORROWER_VKEY\" )\n",
    "if [[ ! -e keys/borrower.address ]]\n",
    "then\n",
    "  echo \"$BORROWER_ADDR\" > keys/borrower.address\n",
    "fi\n",
    "echo \"BORROWER_ADDR = $BORROWER_ADDR\""
   ]
  },
  {
   "cell_type": "markdown",
   "id": "a888e3e6-bdab-4763-8f7f-5c72c990ea90",
   "metadata": {},
   "source": [
    "### The Mediator\n",
    "\n",
    "Set the file names for this party's signing key and verification key."
   ]
  },
  {
   "cell_type": "code",
   "execution_count": 18,
   "id": "89967b6a-01a0-42a6-ba70-258f67a2ddba",
   "metadata": {
    "tags": [],
    "vscode": {
     "languageId": "shellscript"
    }
   },
   "outputs": [],
   "source": [
    "MEDIATOR_SKEY=keys/mediator.skey\n",
    "MEDIATOR_VKEY=keys/mediator.vkey"
   ]
  },
  {
   "cell_type": "markdown",
   "id": "40dd9cf7-5931-47a4-a6c3-6bfcc7031963",
   "metadata": {},
   "source": [
    "Generate the keys if they haven't already been generated."
   ]
  },
  {
   "cell_type": "code",
   "execution_count": 19,
   "id": "81238600-8ae9-43fd-881f-5bb1ab85688d",
   "metadata": {
    "tags": [],
    "vscode": {
     "languageId": "shellscript"
    }
   },
   "outputs": [],
   "source": [
    "if [[ ! -e \"$MEDIATOR_SKEY\" ]]\n",
    "then\n",
    "  cardano-cli address key-gen \\\n",
    "    --signing-key-file \"$MEDIATOR_SKEY\"  \\\n",
    "    --verification-key-file \"$MEDIATOR_VKEY\"\n",
    "fi"
   ]
  },
  {
   "cell_type": "markdown",
   "id": "8ddf1475-a5a1-4d63-a83d-311cb7391500",
   "metadata": {},
   "source": [
    "Compute the party's address on the testnet."
   ]
  },
  {
   "cell_type": "code",
   "execution_count": 20,
   "id": "16cd8dd9-153c-4abc-903e-a91e742044ca",
   "metadata": {
    "tags": [],
    "vscode": {
     "languageId": "shellscript"
    }
   },
   "outputs": [
    {
     "name": "stdout",
     "output_type": "stream",
     "text": [
      "MEDIATOR_ADDR = addr_test1vr6tytqs3x8qgewhw89m3xrz58t3tqu2hfsecw0u06lf3hg052wsv\n"
     ]
    }
   ],
   "source": [
    "MEDIATOR_ADDR=$(cardano-cli address build --testnet-magic \"$CARDANO_TESTNET_MAGIC\" --payment-verification-key-file \"$MEDIATOR_VKEY\" )\n",
    "if [[ ! -e keys/mediator.address ]]\n",
    "then\n",
    "  echo \"$MEDIATOR_ADDR\" > keys/mediator.address\n",
    "fi\n",
    "echo \"MEDIATOR_ADDR = $MEDIATOR_ADDR\""
   ]
  },
  {
   "cell_type": "markdown",
   "id": "74ea3de1-6c14-4ef6-a5ab-e8784cc879cc",
   "metadata": {},
   "source": [
    "## Obtaining Test Ada\n",
    "\n",
    "In order to execute transactions on a Cardano network, one needs the native currency ada to pay fees and use as funds. There are the faucets for the public testnets at https://docs.cardano.org/cardano-testnet/tools/faucet where one can obtain test ada daily.\n",
    "\n",
    "Optionally, it can be convenient to centrally manage funds with the [Daedalus wallet](https://docs.cardano.org/cardano-testnet/daedalus-testnet) or one of the [web-browser wallets](https://builtoncardano.com/ecosystem/wallets): be sure to select the correct public testnet if using one of these wallets.\n",
    "\n",
    "If you will be using a local faucet, then send test ada to the faucet address created in the previous section. Otherwise, send the test ada to the Daedalus or web-browser wallet."
   ]
  },
  {
   "cell_type": "code",
   "execution_count": 21,
   "id": "73e739b1-9d2f-4f36-b1ce-24e9e6c88f4b",
   "metadata": {
    "tags": [],
    "vscode": {
     "languageId": "shellscript"
    }
   },
   "outputs": [
    {
     "name": "stdout",
     "output_type": "stream",
     "text": [
      "FAUCET_ADDR = addr_test1vq9prvx8ufwutkwxx9cmmuuajaqmjqwujqlp9d8pvg6gupczgtm9j\n"
     ]
    }
   ],
   "source": [
    "echo \"FAUCET_ADDR = $FAUCET_ADDR\""
   ]
  },
  {
   "cell_type": "markdown",
   "id": "415587c0-2559-4ecc-b4cc-737fd3d955d9",
   "metadata": {},
   "source": [
    "## Fund the Addresses of the Parties\n",
    "\n",
    "We'll fund each address with 1000 test ada."
   ]
  },
  {
   "cell_type": "code",
   "execution_count": 22,
   "id": "7c2069be-6817-4193-90bf-fd2a5fb26de7",
   "metadata": {
    "tags": [],
    "vscode": {
     "languageId": "shellscript"
    }
   },
   "outputs": [
    {
     "name": "stdout",
     "output_type": "stream",
     "text": [
      "LENDER_ADDR = addr_test1vqd3yrtjyx49uld43lvwqaf7z4k03su8gf2x4yr7syzvckgfzm4ck\n",
      "BORROWER_ADDR = addr_test1vpy4n4peh4suv0y55yptur0066j5kds8r4ncnuzm0vpzfgg0dhz6d\n",
      "MEDIATOR_ADDR = addr_test1vr6tytqs3x8qgewhw89m3xrz58t3tqu2hfsecw0u06lf3hg052wsv\n"
     ]
    }
   ],
   "source": [
    "echo \"LENDER_ADDR = $LENDER_ADDR\"\n",
    "echo \"BORROWER_ADDR = $BORROWER_ADDR\"\n",
    "echo \"MEDIATOR_ADDR = $MEDIATOR_ADDR\""
   ]
  },
  {
   "cell_type": "markdown",
   "id": "3829569e-7f4a-4d2f-983a-b23d81c5b190",
   "metadata": {},
   "source": [
    "### Using Daedalus or a Web-Browser Wallet\n",
    "\n",
    "If you already have a wallet wallet that contains test ada, then you can just send the funds to the addresses of the keys that we created in the previous section. The screenshot below shows using Daedalus to fund the lender address.\n",
    "\n",
    "![Sending funds with Daedalus](images/daedalus-example.png)"
   ]
  },
  {
   "cell_type": "markdown",
   "id": "2c14be5d-b4ae-4c62-9cc4-271fe79dcaea",
   "metadata": {},
   "source": [
    "### Using a Local Faucet at the Command Line\n",
    "\n",
    "One can use `cardano-cli` or `marlowe-cli` send funds to an address. Here we use `marlowe-cli`."
   ]
  },
  {
   "cell_type": "code",
   "execution_count": 23,
   "id": "5bcf4056-963b-41e1-b963-6af2c09498b5",
   "metadata": {
    "tags": [],
    "vscode": {
     "languageId": "shellscript"
    }
   },
   "outputs": [
    {
     "name": "stdout",
     "output_type": "stream",
     "text": [
      "TxId \"dd3a06e118f9ccfdc6d8721779228d1730a606cf183489e679f2584b4445d883\"\n"
     ]
    }
   ],
   "source": [
    "# Note that `FAUCET_ADDR` must have already been funded with test ada.\n",
    "\n",
    "# 1 ada = 1,000,000 lovelace\n",
    "ADA=1000000\n",
    "\n",
    "# Send 1000 ada\n",
    "AMOUNT=$((1000 * ADA))\n",
    "\n",
    "# Execute the transaction.\n",
    "marlowe-cli util fund-address \\\n",
    " --lovelace \"$AMOUNT\" \\\n",
    " --out-file /dev/null \\\n",
    " --source-wallet-credentials \"$FAUCET_ADDR:$FAUCET_SKEY\" \\\n",
    " --submit 600 \\\n",
    " \"$LENDER_ADDR\" \"$BORROWER_ADDR\" \"$MEDIATOR_ADDR\""
   ]
  },
  {
   "cell_type": "markdown",
   "id": "a9096d7c-9b21-48a6-b747-c14560486d17",
   "metadata": {},
   "source": [
    "See that the addresses have indeed been funded:"
   ]
  },
  {
   "cell_type": "code",
   "execution_count": 24,
   "id": "d4f822da-45bf-4222-95fa-5ce6a912869b",
   "metadata": {
    "tags": [],
    "vscode": {
     "languageId": "shellscript"
    }
   },
   "outputs": [
    {
     "name": "stdout",
     "output_type": "stream",
     "text": [
      "\n",
      "Lender @ addr_test1vqd3yrtjyx49uld43lvwqaf7z4k03su8gf2x4yr7syzvckgfzm4ck\n",
      "                           TxHash                                 TxIx        Amount\n",
      "--------------------------------------------------------------------------------------\n",
      "dd3a06e118f9ccfdc6d8721779228d1730a606cf183489e679f2584b4445d883     1        1000000000 lovelace + TxOutDatumNone\n",
      "\n",
      "\n",
      "Borrower @ addr_test1vpy4n4peh4suv0y55yptur0066j5kds8r4ncnuzm0vpzfgg0dhz6d\n",
      "                           TxHash                                 TxIx        Amount\n",
      "--------------------------------------------------------------------------------------\n",
      "dd3a06e118f9ccfdc6d8721779228d1730a606cf183489e679f2584b4445d883     2        1000000000 lovelace + TxOutDatumNone\n",
      "\n",
      "\n",
      "Borrower @ addr_test1vr6tytqs3x8qgewhw89m3xrz58t3tqu2hfsecw0u06lf3hg052wsv\n",
      "                           TxHash                                 TxIx        Amount\n",
      "--------------------------------------------------------------------------------------\n",
      "dd3a06e118f9ccfdc6d8721779228d1730a606cf183489e679f2584b4445d883     3        1000000000 lovelace + TxOutDatumNone\n",
      "\n"
     ]
    }
   ],
   "source": [
    "echo\n",
    "echo \"Lender @ $LENDER_ADDR\"\n",
    "cardano-cli query utxo --testnet-magic \"$CARDANO_TESTNET_MAGIC\" --address \"$LENDER_ADDR\"\n",
    "echo\n",
    "\n",
    "echo\n",
    "echo \"Borrower @ $BORROWER_ADDR\"\n",
    "cardano-cli query utxo --testnet-magic \"$CARDANO_TESTNET_MAGIC\" --address \"$BORROWER_ADDR\"\n",
    "echo\n",
    "echo\n",
    "echo \"Borrower @ $MEDIATOR_ADDR\"\n",
    "cardano-cli query utxo --testnet-magic \"$CARDANO_TESTNET_MAGIC\" --address \"$MEDIATOR_ADDR\"\n",
    "echo"
   ]
  }
 ],
 "metadata": {
  "kernelspec": {
   "display_name": "Bash",
   "language": "bash",
   "name": "bash"
  },
  "language_info": {
   "name": "bash"
  }
 },
 "nbformat": 4,
 "nbformat_minor": 5
}
