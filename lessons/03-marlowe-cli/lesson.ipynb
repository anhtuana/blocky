{
 "cells": [
  {
   "cell_type": "markdown",
   "id": "caa144a8-d3d7-42de-bfdd-8b27cf4c5cbe",
   "metadata": {
    "tags": [],
    "vscode": {
     "languageId": "shellscript"
    }
   },
   "source": [
    "# Zero-Coupon Bond Using Marlowe\\'s Command-Line Interface\n",
    "\n",
    "***Before running this notebook, you might want to use Jupyter's \"clear output\" function to erase the results of the previous execution of this notebook. That will make more apparent what has been executed in the current session.***\n",
    "\n",
    "The zero-coupon bond example is a simple Marlowe contract where a lender provides principal to a borrower who repays it back with interest.\n",
    "\n",
    "[A video works through this Jupyter notebook.](https://youtu.be/ELc72BKf7ec)\n",
    "\n",
    "You can ask questions about Marlowe in [the #ask-marlowe channel on the IOG Discord](https://discord.com/channels/826816523368005654/936295815926927390) or post problems with this lesson to [the issues list for the Marlowe Starter Kit github repository](https://github.com/input-output-hk/marlowe-starter-kit/issues).\n",
    "\n",
    "In this demonsration we use Marlowe\\'s command-line interface, `marlowe-cli`, to run this contract on Cardano\\'s `preprod` public testnet. Marlowe contracts may use either addresses or role tokens for authorization: here we use addresses.\n",
    "\n",
    "In [Marlowe Playground](https://https://play.marlowe.iohk.io//), the contract looks like this in Blockly format.\n",
    "\n",
    "![Zero-coupon bond Marlowe contract](images/01-zcb-contract.png)\n",
    "\n",
    "In Marlowe format it appears as\n",
    "```\n",
    "When\n",
    "    [Case\n",
    "        (Deposit\n",
    "            (Address \"$LENDER_ADDR\")\n",
    "            (Address \"$LENDER_ADDR\")\n",
    "            (Token \"\" \"\")\n",
    "            (ConstantParam \"$PRINCIPAL\")\n",
    "        )\n",
    "        (Pay\n",
    "            (Address \"$LENDER_ADDR\")\n",
    "            (Party (Address \"$BORROWER_ADDR\"))\n",
    "            (Token \"\" \"\")\n",
    "            (ConstantParam \"$PRINCIPAL\")\n",
    "            (When\n",
    "                [Case\n",
    "                    (Deposit\n",
    "                        (Address \"$BORROWER_ADDR\")\n",
    "                        (Address \"$BORROWER_ADDR\")\n",
    "                        (Token \"\" \"\")\n",
    "                        (AddValue\n",
    "                            (ConstantParam \"$INTEREST\")\n",
    "                            (ConstantParam \"$PRINCIPAL\")\n",
    "                        )\n",
    "                    )\n",
    "                    (Pay\n",
    "                        (Address \"$BORROWER_ADDR\")\n",
    "                        (Party (Address \"$LENDER_ADDR\"))\n",
    "                        (Token \"\" \"\")\n",
    "                        (AddValue\n",
    "                            (ConstantParam \"$INTEREST\")\n",
    "                            (ConstantParam \"$PRINCIPAL\")\n",
    "                        )\n",
    "                        Close \n",
    "                    )]\n",
    "                (TimeParam \"$BORROWER_DEADLINE\")\n",
    "                Close \n",
    "            )\n",
    "        )]\n",
    "    (TimeParam \"$LENDER_DEADLINE\")\n",
    "    Close \n",
    "```"
   ]
  },
  {
   "cell_type": "markdown",
   "id": "b94d119b-6a78-4972-83be-bede23021187",
   "metadata": {},
   "source": [
    "## Preliminaries\n",
    "\n",
    "See [Lesson 0. Preliminaries](00-preliminaries.md) for information on setting up one's environment for using this tutorial.\n",
    "\n",
    "The lesson assumes that the following environment variables have been set.\n",
    "- `CARDANO_NODE_SOCKET_PATH`: location of Cardano node's socket.\n",
    "- `CARDANO_TESTNET_MAGIC`: testnet magic number.\n",
    "\n",
    "It also assumes that the Lender and Borrower parties have addresses, signing keys, and funds.\n",
    "- Lender\n",
    "    - [keys/lender.address](keys/lender.address): Cardano address for the lender\n",
    "    - [keys/lender.skey](keys/lender.skey): location of signing key file for the lender\n",
    "- Borrower\n",
    "    - [keys/borrower.address](keys/borrower.address): Cardano address for the borrower\n",
    "    - [keys/borrower.skey](keys/borrower.skey): location of signing key file for the borrower"
   ]
  },
  {
   "cell_type": "markdown",
   "id": "9fb26443-798a-4865-bd8e-21bbeee6522a",
   "metadata": {
    "tags": []
   },
   "source": [
    "### Access to Cardano node and Marlowe Runtime\n",
    "\n",
    "If we're using [demeter.run](https://demeter.run/)'s Cardano Marlowe Runtime extension, then we already have access to Cardano Node and Marlowe Runtime. The followind commands will set the required environment variables to use a local docker deployment on the default ports. It will also set some supplementary environment variables."
   ]
  },
  {
   "cell_type": "code",
   "execution_count": 1,
   "id": "cd27279f-12aa-4d66-92a7-5eb1224b1d90",
   "metadata": {
    "tags": [],
    "vscode": {
     "languageId": "shellscript"
    }
   },
   "outputs": [
    {
     "name": "stdout",
     "output_type": "stream",
     "text": [
      "CARDANO_NODE_SOCKET_PATH = ~/.local/share/containers/storage/volumes/marlowe-starter-kit_shared/_data/node.socket\n",
      "CARDANO_TESTNET_MAGIC = 1\n"
     ]
    }
   ],
   "source": [
    "if [[ -z \"$CARDANO_NODE_SOCKET_PATH\" ]]\n",
    "then\n",
    "\n",
    "  # Only required for `marlowe-cli` and `cardano-cli`.\n",
    "  export CARDANO_NODE_SOCKET_PATH=\"$(docker volume inspect marlowe-starter-kit_shared | jq -r '.[0].Mountpoint')/node.socket\"\n",
    "  export CARDANO_TESTNET_MAGIC=1 # Note that preprod=1 and preview=2. Do not set this variable if using mainnet.\n",
    "\n",
    "fi\n",
    "\n",
    "# FIXME: This should have been inherited from the parent environment.\n",
    "if [[ -z \"$CARDANO_NODE_SOCKET_PATH\" ]]\n",
    "then\n",
    "  export CARDANO_NODE_SOCKET_PATH=/ipc/node.socket\n",
    "fi\n",
    "\n",
    "# FIXME: This should have been set in the parent environment.\n",
    "if [[ -z \"$CARDANO_TESTNET_MAGIC\" ]]\n",
    "then\n",
    "  export CARDANO_TESTNET_MAGIC=$CARDANO_NODE_MAGIC\n",
    "fi\n",
    "\n",
    "case \"$CARDANO_TESTNET_MAGIC\" in\n",
    "  1)\n",
    "    export \"EXPLORER_URL=https://preprod.cardanoscan.io\"\n",
    "    ;;\n",
    "  2)\n",
    "    export \"EXPLORER_URL=https://preview.cardanoscan.io\"\n",
    "    ;;\n",
    "  *)\n",
    "    # Use `mainnet` as the default.\n",
    "    export \"EXPLORER_URL=https://cardanoscan.io\"\n",
    "    ;;\n",
    "esac\n",
    "\n",
    "echo \"CARDANO_NODE_SOCKET_PATH = $CARDANO_NODE_SOCKET_PATH\"\n",
    "echo \"CARDANO_TESTNET_MAGIC = $CARDANO_TESTNET_MAGIC\""
   ]
  },
  {
   "cell_type": "markdown",
   "id": "ef8349f1-d164-4434-8c29-f19fd86201bc",
   "metadata": {
    "tags": []
   },
   "source": [
    "Note the test network magic number:\n",
    "- `preprod` = 1\n",
    "- `preview` = 2"
   ]
  },
  {
   "cell_type": "markdown",
   "id": "6699e48f-cdb4-4532-9760-b080724142ef",
   "metadata": {
    "tags": [],
    "vscode": {
     "languageId": "shellscript"
    }
   },
   "source": [
    "### Lender address and funds\n",
    "\n",
    "Check that an address and key has been created for the lender. If not, see \"Creating Addresses and Signing Keys\" in [Lesson 0. Preliminaries](00-preliminaries.md)."
   ]
  },
  {
   "cell_type": "code",
   "execution_count": 2,
   "id": "c7def6b8-c617-4049-872f-4974755d0cb0",
   "metadata": {
    "tags": [],
    "vscode": {
     "languageId": "shellscript"
    }
   },
   "outputs": [
    {
     "name": "stdout",
     "output_type": "stream",
     "text": [
      "LENDER_ADDR = addr_test1vqd3yrtjyx49uld43lvwqaf7z4k03su8gf2x4yr7syzvckgfzm4ck\n"
     ]
    }
   ],
   "source": [
    "LENDER_SKEY=keys/lender.skey\n",
    "LENDER_ADDR=$(cat keys/lender.address)\n",
    "echo \"LENDER_ADDR = $LENDER_ADDR\""
   ]
  },
  {
   "cell_type": "markdown",
   "id": "31614d3b-10c1-4704-b49a-82aa924cba23",
   "metadata": {},
   "source": [
    "Check that the lender has at least one hundred ada."
   ]
  },
  {
   "cell_type": "code",
   "execution_count": 3,
   "id": "111e60bf-a7c8-41f1-b729-15d1defd27df",
   "metadata": {
    "tags": [],
    "vscode": {
     "languageId": "shellscript"
    }
   },
   "outputs": [
    {
     "name": "stdout",
     "output_type": "stream",
     "text": [
      "                           TxHash                                 TxIx        Amount\n",
      "--------------------------------------------------------------------------------------\n",
      "ffb18377900e003285f9cf357f96b1691eac3e32a89916e6c49a35bd9a11cdf2     1        1000000000 lovelace + TxOutDatumNone\n"
     ]
    }
   ],
   "source": [
    "cardano-cli query utxo --testnet-magic \"$CARDANO_TESTNET_MAGIC\" --address \"$LENDER_ADDR\""
   ]
  },
  {
   "cell_type": "markdown",
   "id": "d1d47a97-8c70-47c8-9c80-90e6619ea37c",
   "metadata": {},
   "source": [
    "One can view the address on a Cardano explorer. It sometimes takes thirty seconds or so for the transaction to be visible in an explorer."
   ]
  },
  {
   "cell_type": "code",
   "execution_count": 4,
   "id": "d4eb8b9f-84a2-4fce-abec-8725dc67c46a",
   "metadata": {
    "tags": [],
    "vscode": {
     "languageId": "shellscript"
    }
   },
   "outputs": [
    {
     "name": "stdout",
     "output_type": "stream",
     "text": [
      "https://preprod.cardanoscan.io/address/addr_test1vqd3yrtjyx49uld43lvwqaf7z4k03su8gf2x4yr7syzvckgfzm4ck\n"
     ]
    }
   ],
   "source": [
    "echo \"$EXPLORER_URL\"/address/\"$LENDER_ADDR\""
   ]
  },
  {
   "cell_type": "markdown",
   "id": "7cb22b51-b719-429d-ab8c-ef43973905a7",
   "metadata": {
    "tags": [],
    "vscode": {
     "languageId": "shellscript"
    }
   },
   "source": [
    "### Borrower address and funds\n",
    "\n",
    "Check that an address and key has been created for the borrower. If not, see \"Creating Addresses and Signing Keys\" in [Lesson 0. Preliminaries](00-preliminaries.md)."
   ]
  },
  {
   "cell_type": "code",
   "execution_count": 5,
   "id": "b60f9abe-4956-4783-86cf-1827bd076dfe",
   "metadata": {
    "tags": [],
    "vscode": {
     "languageId": "shellscript"
    }
   },
   "outputs": [
    {
     "name": "stdout",
     "output_type": "stream",
     "text": [
      "BORROWER_ADDR = addr_test1vpy4n4peh4suv0y55yptur0066j5kds8r4ncnuzm0vpzfgg0dhz6d\n"
     ]
    }
   ],
   "source": [
    "BORROWER_SKEY=keys/borrower.skey\n",
    "BORROWER_ADDR=$(cat keys/borrower.address)\n",
    "echo \"BORROWER_ADDR = $BORROWER_ADDR\""
   ]
  },
  {
   "cell_type": "markdown",
   "id": "9d9e5126-619f-4f5b-b51b-d4b5c80b952f",
   "metadata": {},
   "source": [
    "Check that the borrower has at least one hundred ada."
   ]
  },
  {
   "cell_type": "code",
   "execution_count": 6,
   "id": "a4a8216e-c5d3-4706-8ab9-918252369263",
   "metadata": {
    "tags": [],
    "vscode": {
     "languageId": "shellscript"
    }
   },
   "outputs": [
    {
     "name": "stdout",
     "output_type": "stream",
     "text": [
      "                           TxHash                                 TxIx        Amount\n",
      "--------------------------------------------------------------------------------------\n",
      "ffb18377900e003285f9cf357f96b1691eac3e32a89916e6c49a35bd9a11cdf2     2        1000000000 lovelace + TxOutDatumNone\n"
     ]
    }
   ],
   "source": [
    "cardano-cli query utxo --testnet-magic \"$CARDANO_TESTNET_MAGIC\" --address \"$BORROWER_ADDR\""
   ]
  },
  {
   "cell_type": "markdown",
   "id": "038e042c-2638-415c-ad7b-de390a82416b",
   "metadata": {},
   "source": [
    "One can view the address on a Cardano explorer. It sometimes takes thirty seconds or so for the transaction to be visible in an explorer."
   ]
  },
  {
   "cell_type": "code",
   "execution_count": 7,
   "id": "3455b47d-45f9-4d31-aebe-ab0ea7b36aa9",
   "metadata": {
    "tags": [],
    "vscode": {
     "languageId": "shellscript"
    }
   },
   "outputs": [
    {
     "name": "stdout",
     "output_type": "stream",
     "text": [
      "https://preprod.cardanoscan.io/address/addr_test1vpy4n4peh4suv0y55yptur0066j5kds8r4ncnuzm0vpzfgg0dhz6d\n"
     ]
    }
   ],
   "source": [
    "echo \"$EXPLORER_URL\"/address/\"$BORROWER_ADDR\""
   ]
  },
  {
   "cell_type": "markdown",
   "id": "b0f231be-b01f-4b30-a086-a3371eda42a3",
   "metadata": {},
   "source": [
    "## Design the contract\n",
    "\n",
    "The zero-coupon bond contract can be downloaded from the [Marlowe Playground](https://https://play.marlowe.iohk.io//) as a JSON file, or it can be generated using [Marlowe CLI](https://github.com/input-output-hk/marlowe-cardano/tree/main/marlowe-cli#readme) using the `marlowe-cli template` command.\n",
    "\n",
    "Here we generate the contract using Marlowe CLI.\n",
    "\n",
    "First, set the loan's principal to 80 ada and its interest to 5 ada."
   ]
  },
  {
   "cell_type": "code",
   "execution_count": 8,
   "id": "4c959ebc-7c73-49ef-a1f9-a32771cc9ec9",
   "metadata": {
    "vscode": {
     "languageId": "shellscript"
    }
   },
   "outputs": [
    {
     "name": "stdout",
     "output_type": "stream",
     "text": [
      "PRINCIPAL = 80000000 lovelace\n",
      "INTEREST = 5000000 lovelace\n"
     ]
    }
   ],
   "source": [
    "ADA=1000000  # 1 ada = 1,000,000 lovelace\n",
    "\n",
    "PRINCIPAL=$((80 * ADA))\n",
    "INTEREST=$((5 * ADA))\n",
    "\n",
    "echo \"PRINCIPAL = $PRINCIPAL lovelace\"\n",
    "echo \"INTEREST = $INTEREST lovelace\""
   ]
  },
  {
   "cell_type": "markdown",
   "id": "ca6f1da3-5a16-4dc4-a310-90812c4936b6",
   "metadata": {},
   "source": [
    "On the Cardano blockchain, the protocol parameters require that each UTxO contain at least some ada. Here we will start the contract with 2 ada."
   ]
  },
  {
   "cell_type": "code",
   "execution_count": 9,
   "id": "aa229f08-6907-4f7b-b458-5fd18e0b9596",
   "metadata": {
    "vscode": {
     "languageId": "shellscript"
    }
   },
   "outputs": [
    {
     "name": "stdout",
     "output_type": "stream",
     "text": [
      "MIN_LOVELACE = 2000000 lovelace\n"
     ]
    }
   ],
   "source": [
    "MIN_LOVELACE=\"$((2 * ADA))\"\n",
    "echo \"MIN_LOVELACE = $MIN_LOVELACE lovelace\""
   ]
  },
  {
   "cell_type": "markdown",
   "id": "5a65904b-e1eb-4185-a973-dd1ba3a3e93a",
   "metadata": {},
   "source": [
    "Next find the current time, measured in [POSIX milliseconds](https://en.wikipedia.org/wiki/Unix_time)."
   ]
  },
  {
   "cell_type": "code",
   "execution_count": 10,
   "id": "30ec2929-27e1-4ae7-8ee0-82e710f15b6c",
   "metadata": {
    "vscode": {
     "languageId": "shellscript"
    }
   },
   "outputs": [
    {
     "name": "stdout",
     "output_type": "stream",
     "text": [
      "NOW = 1679661079000 POSIX milliseconds = Fri Mar 24 06:31:19 AM MDT 2023\n"
     ]
    }
   ],
   "source": [
    "SECOND=1000 # 1 second = 1000 milliseconds\n",
    "MINUTE=$((60 * SECOND)) # 1 minute = 60 seconds\n",
    "HOUR=$((60 * MINUTE)) # 1 hour = 60 minutes\n",
    "\n",
    "NOW=\"$((`date -u +%s` * SECOND))\"\n",
    "echo NOW = \"$NOW\" POSIX milliseconds = \"`date -d @$((NOW / SECOND))`\""
   ]
  },
  {
   "cell_type": "markdown",
   "id": "4806318e-46e9-4c17-88b7-966098d25771",
   "metadata": {},
   "source": [
    "The contract has a lending deadline and a repayment deadline. For convenience in this example, set the deadlines to the near future."
   ]
  },
  {
   "cell_type": "code",
   "execution_count": 11,
   "id": "2ac3ad1d-060f-4ff5-b055-c96011f724a0",
   "metadata": {
    "vscode": {
     "languageId": "shellscript"
    }
   },
   "outputs": [
    {
     "name": "stdout",
     "output_type": "stream",
     "text": [
      "LENDER_DEADLINE = 1679664679000 POSIX milliseconds = Fri Mar 24 07:31:19 AM MDT 2023\n",
      "BORROWER_DEADLINE = 1679671879000 POSIX milliseconds = Fri Mar 24 09:31:19 AM MDT 2023\n"
     ]
    }
   ],
   "source": [
    "LENDER_DEADLINE=\"$((NOW + 1 * HOUR))\"\n",
    "BORROWER_DEADLINE=\"$((NOW + 3 * HOUR))\"\n",
    "echo LENDER_DEADLINE = \"$LENDER_DEADLINE\" POSIX milliseconds = \"`date -d @$((LENDER_DEADLINE / SECOND))`\"\n",
    "echo BORROWER_DEADLINE = \"$BORROWER_DEADLINE\" POSIX milliseconds = \"`date -d @$((BORROWER_DEADLINE / SECOND))`\""
   ]
  },
  {
   "cell_type": "markdown",
   "id": "56db086f-bba1-40ba-94a3-aa9a7f9a3e45",
   "metadata": {},
   "source": [
    "Now create the JSON file for the contract, `zcb-contract.json`."
   ]
  },
  {
   "cell_type": "code",
   "execution_count": 12,
   "id": "5b4b87af-265c-4d2c-bfe3-281614311fa8",
   "metadata": {
    "vscode": {
     "languageId": "shellscript"
    }
   },
   "outputs": [],
   "source": [
    "marlowe-cli template zcb \\\n",
    "  --minimum-ada \"$MIN_LOVELACE\" \\\n",
    "  --lender \"$LENDER_ADDR\" \\\n",
    "  --borrower \"$BORROWER_ADDR\" \\\n",
    "  --principal \"$PRINCIPAL\" \\\n",
    "  --interest \"$INTEREST\" \\\n",
    "  --lending-deadline \"$LENDER_DEADLINE\" \\\n",
    "  --repayment-deadline \"$BORROWER_DEADLINE\" \\\n",
    "  --out-contract-file zcb-contract.json \\\n",
    "  --out-state-file zcb-state.json"
   ]
  },
  {
   "cell_type": "markdown",
   "id": "29c63a36-8cd9-4ee4-893c-f77a2ea15a4a",
   "metadata": {},
   "source": [
    "The various command-line options are described by the help system."
   ]
  },
  {
   "cell_type": "code",
   "execution_count": 13,
   "id": "36d8e09d-b426-4889-91f8-3a6842f9727b",
   "metadata": {
    "tags": [],
    "vscode": {
     "languageId": "shellscript"
    }
   },
   "outputs": [
    {
     "name": "stdout",
     "output_type": "stream",
     "text": [
      "Usage: marlowe-cli template zcb --minimum-ada INTEGER --lender PARTY\n",
      "                                --borrower PARTY --principal INTEGER\n",
      "                                --interest INTEGER --lending-deadline TIMEOUT\n",
      "                                --repayment-deadline TIMEOUT\n",
      "\n",
      "  Create a zero-coupon bond.\n",
      "\n",
      "Available options:\n",
      "  --minimum-ada INTEGER    Lovelace that the lender contributes to the initial\n",
      "                           state.\n",
      "  --lender PARTY           The lender.\n",
      "  --borrower PARTY         The borrower.\n",
      "  --principal INTEGER      The principal, in lovelace.\n",
      "  --interest INTEGER       The interest, in lovelace.\n",
      "  --lending-deadline TIMEOUT\n",
      "                           The lending deadline. POSIX milliseconds or duration:\n",
      "                           `INTEGER[s|m|d|w|h]`.\n",
      "  --repayment-deadline TIMEOUT\n",
      "                           The repayment deadline. POSIX milliseconds or\n",
      "                           duration: `INTEGER[s|m|d|w|h]`.\n",
      "  -h,--help                Show this help text\n"
     ]
    }
   ],
   "source": [
    "marlowe-cli template zcb --help"
   ]
  },
  {
   "cell_type": "markdown",
   "id": "a1f0813f-86ae-4209-9a78-cd533fca9857",
   "metadata": {},
   "source": [
    "## Examine the contract\n",
    "\n",
    "View the contract file as YAML."
   ]
  },
  {
   "cell_type": "code",
   "execution_count": 14,
   "id": "112824a7-635f-4134-b133-a20e63660b35",
   "metadata": {
    "vscode": {
     "languageId": "shellscript"
    }
   },
   "outputs": [
    {
     "name": "stdout",
     "output_type": "stream",
     "text": [
      "timeout: 1679664679000\n",
      "timeout_continuation: close\n",
      "when:\n",
      "- case:\n",
      "    deposits: 80000000\n",
      "    into_account:\n",
      "      address: addr_test1vqd3yrtjyx49uld43lvwqaf7z4k03su8gf2x4yr7syzvckgfzm4ck\n",
      "    of_token:\n",
      "      currency_symbol: ''\n",
      "      token_name: ''\n",
      "    party:\n",
      "      address: addr_test1vqd3yrtjyx49uld43lvwqaf7z4k03su8gf2x4yr7syzvckgfzm4ck\n",
      "  then:\n",
      "    from_account:\n",
      "      address: addr_test1vqd3yrtjyx49uld43lvwqaf7z4k03su8gf2x4yr7syzvckgfzm4ck\n",
      "    pay: 80000000\n",
      "    then:\n",
      "      timeout: 1679671879000\n",
      "      timeout_continuation: close\n",
      "      when:\n",
      "      - case:\n",
      "          deposits:\n",
      "            add: 80000000\n",
      "            and: 5000000\n",
      "          into_account:\n",
      "            address: addr_test1vpy4n4peh4suv0y55yptur0066j5kds8r4ncnuzm0vpzfgg0dhz6d\n",
      "          of_token:\n",
      "            currency_symbol: ''\n",
      "            token_name: ''\n",
      "          party:\n",
      "            address: addr_test1vpy4n4peh4suv0y55yptur0066j5kds8r4ncnuzm0vpzfgg0dhz6d\n",
      "        then:\n",
      "          from_account:\n",
      "            address: addr_test1vpy4n4peh4suv0y55yptur0066j5kds8r4ncnuzm0vpzfgg0dhz6d\n",
      "          pay:\n",
      "            add: 80000000\n",
      "            and: 5000000\n",
      "          then: close\n",
      "          to:\n",
      "            party:\n",
      "              address: addr_test1vqd3yrtjyx49uld43lvwqaf7z4k03su8gf2x4yr7syzvckgfzm4ck\n",
      "          token:\n",
      "            currency_symbol: ''\n",
      "            token_name: ''\n",
      "    to:\n",
      "      party:\n",
      "        address: addr_test1vpy4n4peh4suv0y55yptur0066j5kds8r4ncnuzm0vpzfgg0dhz6d\n",
      "    token:\n",
      "      currency_symbol: ''\n",
      "      token_name: ''\n"
     ]
    }
   ],
   "source": [
    "json2yaml zcb-contract.json"
   ]
  },
  {
   "cell_type": "markdown",
   "id": "00f357bf-ebf0-4459-adb9-32c5a1140759",
   "metadata": {},
   "source": [
    "### \\[Optional, but recommended\\] Check the safety of the contract\n",
    "\n",
    "If we were running the contract on the Cardano `mainnet`, then we\\'d want to check its safety before creating it, so that there is no chance that we might lose funds.\n",
    "\n",
    "Here are the steps for checking the safety of a contract:\n",
    "\n",
    "1. Understand the [Marlowe Language](https://marlowe.iohk.io/).\n",
    "2. Understand Cardano\\'s [Extended UTxO Model](https://docs.cardano.org/learn/eutxo-explainer).\n",
    "3. Read and understand the [Marlowe Best Practices Guide](https://github.com/input-output-hk/marlowe-cardano/blob/main/marlowe/best-practices.md).\n",
    "4. Read and understand the [Marlowe Security Guide](https://github.com/input-output-hk/marlowe-cardano/blob/main/marlowe/security.md).\n",
    "5. Use [Marlowe Playground](https://https://play.marlowe.iohk.io//) to flag warnings, perform static analysis, and simulate the contract.\n",
    "6. Use [Marlowe CLI\\'s](https://github.com/input-output-hk/marlowe-cardano/blob/main/marlowe-cli/ReadMe.md) `marlowe-cli run analyze` tool to study whether the contract can run on a Cardano network.\n",
    "7. Run *all execution paths* of the contract on a [Cardano testnet](https://docs.cardano.org/cardano-testnet/overview).\n",
    "\n",
    "See [Lesson 1](01-runtime-cli.ipynb) for an example of performing step 6."
   ]
  },
  {
   "cell_type": "markdown",
   "id": "fcbdcc02-7ffe-46a4-8732-10a3e7b93865",
   "metadata": {},
   "source": [
    "## Transaction 1. Create the Contract"
   ]
  },
  {
   "cell_type": "markdown",
   "id": "6fad0f1b-a918-4c56-867e-29600be217f4",
   "metadata": {},
   "source": [
    "Marlowe CLI\\'s command `marlowe-cli run initialize` will build the creation information for a Marlowe contract. We provide it the JSON files containing the contract and initial state. Anyone could create the contract, but in this example the lender will be doing so, so we provide their address to fund the transaction and to receive the change from it."
   ]
  },
  {
   "cell_type": "code",
   "execution_count": 15,
   "id": "87672246-de07-4356-8cee-3692eeb36572",
   "metadata": {
    "tags": [],
    "vscode": {
     "languageId": "shellscript"
    }
   },
   "outputs": [
    {
     "name": "stdout",
     "output_type": "stream",
     "text": [
      "Usage: marlowe-cli run initialize [--testnet-magic INTEGER] \n",
      "                                  [--socket-path SOCKET_FILE] \n",
      "                                  [--stake-address ADDRESS] \n",
      "                                  [--roles-currency CURRENCY_SYMBOL]\n",
      "                                  --contract-file CONTRACT_FILE\n",
      "                                  --state-file STATE_FILE \n",
      "                                  [--at-address ADDRESS | \n",
      "                                    --permanently STAKING_ADDRESS | \n",
      "                                    --permanently-without-staking] \n",
      "                                  [--out-file OUTPUT_FILE] [--merkleize] \n",
      "                                  [--print-stats]\n",
      "\n",
      "  Initialize the first transaction of a Marlowe contract and write output to a\n",
      "  JSON file.\n",
      "\n",
      "Available options:\n",
      "  --testnet-magic INTEGER  Network magic. Defaults to the CARDANO_TESTNET_MAGIC\n",
      "                           environment variable's value.\n",
      "  --socket-path SOCKET_FILE\n",
      "                           Location of the cardano-node socket file. Defaults to\n",
      "                           the CARDANO_NODE_SOCKET_PATH environment variable's\n",
      "                           value.\n",
      "  --stake-address ADDRESS  Stake address, if any.\n",
      "  --roles-currency CURRENCY_SYMBOL\n",
      "                           The currency symbol for roles, if any.\n",
      "  --contract-file CONTRACT_FILE\n",
      "                           JSON input file for the contract.\n",
      "  --state-file STATE_FILE  JSON input file for the contract state.\n",
      "  --at-address ADDRESS     Publish script at a given address. This is a default\n",
      "                           strategy which uses change address as a destination.\n",
      "  --permanently STAKING_ADDRESS\n",
      "                           Publish permanently at unspendable script address\n",
      "                           staking the min. ADA value.\n",
      "  --permanently-without-staking\n",
      "                           Publish permanently at unspendable script address\n",
      "                           without min. ADA staking.\n",
      "  --out-file OUTPUT_FILE   JSON output file for initialize.\n",
      "  --merkleize              Whether to deeply merkleize the contract.\n",
      "  --print-stats            Print statistics.\n",
      "  -h,--help                Show this help text\n"
     ]
    }
   ],
   "source": [
    "marlowe-cli run initialize --help"
   ]
  },
  {
   "cell_type": "code",
   "execution_count": 16,
   "id": "2053db7a-3244-4d30-a9e9-f5f1eb28ab45",
   "metadata": {
    "tags": [],
    "vscode": {
     "languageId": "shellscript"
    }
   },
   "outputs": [],
   "source": [
    "marlowe-cli run initialize \\\n",
    "  --permanently-without-staking \\\n",
    "  --contract-file zcb-contract.json \\\n",
    "  --state-file zcb-state.json \\\n",
    "  --out-file marlowe-1.json"
   ]
  },
  {
   "cell_type": "markdown",
   "id": "e8388b9b-b207-4925-9b98-f0803d84f882",
   "metadata": {},
   "source": [
    "We now use Marlowe CLI\\'s `marlowe-cli run auto-execute` command to construct and submit the creation transaction."
   ]
  },
  {
   "cell_type": "code",
   "execution_count": 17,
   "id": "06807391-74dc-49e1-b110-df167f88bb3b",
   "metadata": {
    "tags": [],
    "vscode": {
     "languageId": "shellscript"
    }
   },
   "outputs": [
    {
     "name": "stdout",
     "output_type": "stream",
     "text": [
      "Usage: marlowe-cli run auto-execute \n",
      "         [--testnet-magic INTEGER] [--socket-path SOCKET_FILE] \n",
      "         [--marlowe-in-file MARLOWE_FILE --tx-in-marlowe TXID#TXIX]\n",
      "         --marlowe-out-file MARLOWE_FILE --change-address ADDRESS\n",
      "         (--required-signer SIGNING_FILE) [--metadata-file METADATA_FILE]\n",
      "         --out-file FILE [--submit SECONDS] [--print-stats] [--script-invalid]\n",
      "\n",
      "  [EXPERIMENTAL] Run a Marlowe transaction, selecting transaction inputs and\n",
      "  outputs automatically.\n",
      "\n",
      "Available options:\n",
      "  --testnet-magic INTEGER  Network magic. Defaults to the CARDANO_TESTNET_MAGIC\n",
      "                           environment variable's value.\n",
      "  --socket-path SOCKET_FILE\n",
      "                           Location of the cardano-node socket file. Defaults to\n",
      "                           the CARDANO_NODE_SOCKET_PATH environment variable's\n",
      "                           value.\n",
      "  --marlowe-in-file MARLOWE_FILE\n",
      "                           JSON file with the Marlowe initial state and initial\n",
      "                           contract, if any.\n",
      "  --tx-in-marlowe TXID#TXIX\n",
      "                           UTxO spent from Marlowe contract, if any.\n",
      "  --marlowe-out-file MARLOWE_FILE\n",
      "                           JSON file with the Marlowe inputs, final state, and\n",
      "                           final contract.\n",
      "  --change-address ADDRESS Address to receive ADA in excess of fee.\n",
      "  --required-signer SIGNING_FILE\n",
      "                           File containing a required signing key.\n",
      "  --metadata-file METADATA_FILE\n",
      "                           JSON file containing metadata.\n",
      "  --out-file FILE          Output file for transaction body.\n",
      "  --submit SECONDS         Also submit the transaction, and wait for\n",
      "                           confirmation.\n",
      "  --print-stats            Print statistics.\n",
      "  --script-invalid         Assert that the transaction is invalid.\n",
      "  -h,--help                Show this help text\n"
     ]
    }
   ],
   "source": [
    "marlowe-cli run auto-execute --help"
   ]
  },
  {
   "cell_type": "code",
   "execution_count": 18,
   "id": "c856072c-e31a-4363-8291-ef96292caedc",
   "metadata": {
    "tags": [],
    "vscode": {
     "languageId": "shellscript"
    }
   },
   "outputs": [
    {
     "name": "stdout",
     "output_type": "stream",
     "text": [
      "\n",
      "Fee: Lovelace 212185\n",
      "Size: 941 / 16384 = 5%\n",
      "Execution units:\n",
      "  Memory: 0 / 14000000 = 0%\n",
      "  Steps: 0 / 10000000000 = 0%\n",
      "TX_1 = f36feb37473ec171d9a79553b9a7f729b78076e97be20f54aaca88094a1752d5\n"
     ]
    }
   ],
   "source": [
    "TX_1=$(\n",
    "marlowe-cli run auto-execute \\\n",
    "  --marlowe-out-file marlowe-1.json \\\n",
    "  --change-address \"$LENDER_ADDR\" \\\n",
    "  --required-signer \"$LENDER_SKEY\" \\\n",
    "  --out-file tx-1.signed \\\n",
    "  --submit 600s \\\n",
    "  --print-stats \\\n",
    "| sed -e 's/^TxId \"\\(.*\\)\"$/\\1/' \\\n",
    ")\n",
    "echo \"TX_1 = $TX_1\""
   ]
  },
  {
   "cell_type": "markdown",
   "id": "aa349a31-4e44-42c9-8c3d-e910f195325d",
   "metadata": {},
   "source": [
    "One can view the transaction on a Cardano explorer. It sometimes takes thirty seconds or so for the transaction to be visible in an explorer."
   ]
  },
  {
   "cell_type": "code",
   "execution_count": 19,
   "id": "72115506-5bfd-480f-b3f0-47520dca84c1",
   "metadata": {
    "vscode": {
     "languageId": "shellscript"
    }
   },
   "outputs": [
    {
     "name": "stdout",
     "output_type": "stream",
     "text": [
      "https://preprod.cardanoscan.io/transaction/f36feb37473ec171d9a79553b9a7f729b78076e97be20f54aaca88094a1752d5?tab=utxo\n"
     ]
    }
   ],
   "source": [
    "echo \"$EXPLORER_URL\"/transaction/\"$TX_1?tab=utxo\""
   ]
  },
  {
   "cell_type": "markdown",
   "id": "3b3dae70-a556-4621-bab9-fd92b9f165eb",
   "metadata": {},
   "source": [
    "One can also examine the contract's UTxO using `cardano-cli`."
   ]
  },
  {
   "cell_type": "code",
   "execution_count": 20,
   "id": "c4af1000-9220-4f31-92e8-ee5eb405df0b",
   "metadata": {
    "vscode": {
     "languageId": "shellscript"
    }
   },
   "outputs": [
    {
     "name": "stdout",
     "output_type": "stream",
     "text": [
      "                           TxHash                                 TxIx        Amount\n",
      "--------------------------------------------------------------------------------------\n",
      "f36feb37473ec171d9a79553b9a7f729b78076e97be20f54aaca88094a1752d5     1        2000000 lovelace + TxOutDatumHash ScriptDataInBabbageEra \"c4bf1737c9a1f88ae66c9d00d66d54d201c2c932ab13767889758ba28c8f5f19\"\n"
     ]
    }
   ],
   "source": [
    "cardano-cli query utxo --testnet-magic \"$CARDANO_TESTNET_MAGIC\" --tx-in \"$TX_1#1\""
   ]
  },
  {
   "cell_type": "markdown",
   "id": "cd4fa3da-0f75-4b96-a911-0ba5bea722f8",
   "metadata": {},
   "source": [
    "## Transaction 2. The lender deposits the principal\n",
    "\n",
    "The lender deposits their 80 ada of principal into the contract using Marlowe CLI\\'s `marlowe-cli run prepare` command. The lender is providing the funding for and receiving the change from this transaction, so we provide their address."
   ]
  },
  {
   "cell_type": "code",
   "execution_count": 21,
   "id": "bf42d7d0-be81-42a1-8da7-5ff07b9611ee",
   "metadata": {
    "tags": [],
    "vscode": {
     "languageId": "shellscript"
    }
   },
   "outputs": [
    {
     "name": "stdout",
     "output_type": "stream",
     "text": [
      "Usage: marlowe-cli run prepare --marlowe-file MARLOWE_FILE \n",
      "                               [--deposit-account PARTY --deposit-party PARTY \n",
      "                                 [--deposit-token TOKEN]\n",
      "                                 --deposit-amount INTEGER |\n",
      "                                 --choice-name NAME --choice-party PARTY\n",
      "                                 --choice-number INTEGER |\n",
      "                                 --notify] --invalid-before POSIX_TIME\n",
      "                               --invalid-hereafter POSIX_TIME \n",
      "                               [--out-file OUTPUT_FILE] [--print-stats]\n",
      "\n",
      "  Prepare the next step of a Marlowe contract and write the output to a JSON\n",
      "  file.\n",
      "\n",
      "Available options:\n",
      "  --marlowe-file MARLOWE_FILE\n",
      "                           JSON input file for the Marlowe state and contract.\n",
      "  --deposit-account PARTY  The account for the deposit.\n",
      "  --deposit-party PARTY    The party making the deposit.\n",
      "  --deposit-token TOKEN    The token being deposited, if not Ada.\n",
      "  --deposit-amount INTEGER The amount of token being deposited.\n",
      "  --choice-name NAME       The name of the choice made.\n",
      "  --choice-party PARTY     The party making the choice.\n",
      "  --choice-number INTEGER  The number chosen.\n",
      "  --notify                 Notify the contract.\n",
      "  --invalid-before POSIX_TIME\n",
      "                           Minimum time for the input, in POSIX milliseconds.\n",
      "  --invalid-hereafter POSIX_TIME\n",
      "                           Maximum time for the input, in POSIX milliseconds.\n",
      "  --out-file OUTPUT_FILE   JSON output file for contract.\n",
      "  --print-stats            Print statistics.\n",
      "  -h,--help                Show this help text\n"
     ]
    }
   ],
   "source": [
    "marlowe-cli run prepare --help"
   ]
  },
  {
   "cell_type": "code",
   "execution_count": 22,
   "id": "d2fac183-6fbd-4d0a-80a4-6045a20a8f2d",
   "metadata": {
    "tags": [],
    "vscode": {
     "languageId": "shellscript"
    }
   },
   "outputs": [
    {
     "name": "stdout",
     "output_type": "stream",
     "text": [
      "Rounding  `TransactionInput` txInterval boundries to:(POSIXTime {getPOSIXTime = 1679661371000},POSIXTime {getPOSIXTime = 1679661731999})\n",
      "TransactionInput {txInterval = (POSIXTime {getPOSIXTime = 1679661371000},POSIXTime {getPOSIXTime = 1679661731999}), txInputs = [NormalInput (IDeposit \"\\\"addr_test1vqd3yrtjyx49uld43lvwqaf7z4k03su8gf2x4yr7syzvckgfzm4ck\\\"\" \"\\\"addr_test1vqd3yrtjyx49uld43lvwqaf7z4k03su8gf2x4yr7syzvckgfzm4ck\\\"\" (Token \"\" \"\") 80000000)]}\n",
      "Payment 1\n",
      "  Acccount: \"\\\"addr_test1vqd3yrtjyx49uld43lvwqaf7z4k03su8gf2x4yr7syzvckgfzm4ck\\\"\"\n",
      "  Payee: Party \"\\\"addr_test1vpy4n4peh4suv0y55yptur0066j5kds8r4ncnuzm0vpzfgg0dhz6d\\\"\"\n",
      "  Ada: Lovelace {getLovelace = 80000000}\n"
     ]
    }
   ],
   "source": [
    "marlowe-cli run prepare \\\n",
    "  --deposit-account \"$LENDER_ADDR\" \\\n",
    "  --deposit-party \"$LENDER_ADDR\" \\\n",
    "  --deposit-amount \"$PRINCIPAL\" \\\n",
    "  --invalid-before \"$((`date -u +%s` * SECOND - 1 * MINUTE))\" \\\n",
    "  --invalid-hereafter \"$((`date -u +%s` * SECOND + 5 * MINUTE))\" \\\n",
    "  --marlowe-file marlowe-1.json \\\n",
    "  --out-file marlowe-2.json"
   ]
  },
  {
   "cell_type": "markdown",
   "id": "877807a1-7e62-4258-8d3c-b82664821dc9",
   "metadata": {},
   "source": [
    "Once again, use `marlowe-cli run auto-execute` to build and submit the transaction and then wait for confirmation."
   ]
  },
  {
   "cell_type": "code",
   "execution_count": 23,
   "id": "2e821767-d465-4051-96b6-f1128ec9cffc",
   "metadata": {
    "tags": [],
    "vscode": {
     "languageId": "shellscript"
    }
   },
   "outputs": [
    {
     "name": "stdout",
     "output_type": "stream",
     "text": [
      "\n",
      "Fee: Lovelace 758511\n",
      "Size: 1570 / 16384 = 9%\n",
      "Execution units:\n",
      "  Memory: 6730260 / 14000000 = 48%\n",
      "  Steps: 1806177146 / 10000000000 = 18%\n",
      "TX_2 = 017c068bf76aba6ef57b6b5aab592cd9d861c4903e100794ca7451d16c701a02\n"
     ]
    }
   ],
   "source": [
    "TX_2=$(\n",
    "marlowe-cli run auto-execute \\\n",
    "  --tx-in-marlowe \"$TX_1#1\" \\\n",
    "  --marlowe-in-file marlowe-1.json \\\n",
    "  --marlowe-out-file marlowe-2.json \\\n",
    "  --change-address \"$LENDER_ADDR\" \\\n",
    "  --required-signer \"$LENDER_SKEY\" \\\n",
    "  --out-file tx-2.signed \\\n",
    "  --submit 600s \\\n",
    "  --print-stats \\\n",
    "| sed -e 's/^TxId \"\\(.*\\)\"$/\\1/' \\\n",
    ")\n",
    "echo \"TX_2 = $TX_2\""
   ]
  },
  {
   "cell_type": "markdown",
   "id": "eed6b35f-7aa9-4266-98d2-ac7320ccaf69",
   "metadata": {},
   "source": [
    "One can view the transaction on a Cardano explorer. It sometimes takes thirty seconds or so for the transaction to be visible in an explorer."
   ]
  },
  {
   "cell_type": "code",
   "execution_count": 24,
   "id": "bb813544-092a-4831-bff5-5ea7ce8a9259",
   "metadata": {
    "vscode": {
     "languageId": "shellscript"
    }
   },
   "outputs": [
    {
     "name": "stdout",
     "output_type": "stream",
     "text": [
      "https://preprod.cardanoscan.io/transaction/017c068bf76aba6ef57b6b5aab592cd9d861c4903e100794ca7451d16c701a02?tab=utxo\n"
     ]
    }
   ],
   "source": [
    "echo \"$EXPLORER_URL\"/transaction/\"$TX_2?tab=utxo\""
   ]
  },
  {
   "cell_type": "markdown",
   "id": "44cd316b-d4db-4d2b-87a7-eb38b95f5fb3",
   "metadata": {},
   "source": [
    "One can see that the lender has 82 ada less than originally. Two ada were deposited in the contract when it was created and 80 ada were paid to the borrower in the second transaction."
   ]
  },
  {
   "cell_type": "code",
   "execution_count": 25,
   "id": "b45dc15d-f54f-49cb-a36d-0524f47fd70e",
   "metadata": {
    "vscode": {
     "languageId": "shellscript"
    }
   },
   "outputs": [
    {
     "name": "stdout",
     "output_type": "stream",
     "text": [
      "                           TxHash                                 TxIx        Amount\n",
      "--------------------------------------------------------------------------------------\n",
      "017c068bf76aba6ef57b6b5aab592cd9d861c4903e100794ca7451d16c701a02     0        917029304 lovelace + TxOutDatumNone\n"
     ]
    }
   ],
   "source": [
    "cardano-cli query utxo --testnet-magic \"$CARDANO_TESTNET_MAGIC\" --address \"$LENDER_ADDR\""
   ]
  },
  {
   "cell_type": "markdown",
   "id": "8538b320-c3d6-45cb-88f7-aab77f77b78b",
   "metadata": {},
   "source": [
    "The borrower has an additional 80 ada (the loan's principal) now."
   ]
  },
  {
   "cell_type": "code",
   "execution_count": 26,
   "id": "304baf28-2a07-4ca7-8576-c10c8a960fcd",
   "metadata": {
    "vscode": {
     "languageId": "shellscript"
    }
   },
   "outputs": [
    {
     "name": "stdout",
     "output_type": "stream",
     "text": [
      "                           TxHash                                 TxIx        Amount\n",
      "--------------------------------------------------------------------------------------\n",
      "017c068bf76aba6ef57b6b5aab592cd9d861c4903e100794ca7451d16c701a02     2        80000000 lovelace + TxOutDatumNone\n",
      "ffb18377900e003285f9cf357f96b1691eac3e32a89916e6c49a35bd9a11cdf2     2        1000000000 lovelace + TxOutDatumNone\n"
     ]
    }
   ],
   "source": [
    "cardano-cli query utxo --testnet-magic \"$CARDANO_TESTNET_MAGIC\" --address \"$BORROWER_ADDR\""
   ]
  },
  {
   "cell_type": "markdown",
   "id": "369f3945-299b-41dd-9cbf-f3864002b6aa",
   "metadata": {},
   "source": [
    "The Marlowe contract still has the 2 ada from its creation."
   ]
  },
  {
   "cell_type": "code",
   "execution_count": 27,
   "id": "6485d605-dec4-4bab-86f6-81bf002041ed",
   "metadata": {
    "vscode": {
     "languageId": "shellscript"
    }
   },
   "outputs": [
    {
     "name": "stdout",
     "output_type": "stream",
     "text": [
      "                           TxHash                                 TxIx        Amount\n",
      "--------------------------------------------------------------------------------------\n",
      "017c068bf76aba6ef57b6b5aab592cd9d861c4903e100794ca7451d16c701a02     1        2000000 lovelace + TxOutDatumHash ScriptDataInBabbageEra \"49f4b85150d30d1b9a1cd06dacf45dbabcf0719a34f5286a03c7c52760880c2e\"\n"
     ]
    }
   ],
   "source": [
    "cardano-cli query utxo --testnet-magic \"$CARDANO_TESTNET_MAGIC\" --tx-in \"$TX_2#1\""
   ]
  },
  {
   "cell_type": "markdown",
   "id": "e7c652f6-02da-4786-a54d-755d59e4aba9",
   "metadata": {},
   "source": [
    "## Transaction 3. The borrower repays the loan\n",
    "\n",
    "After some time passes, the borrower repays principal plus interest. Thus, they fund the transaction and receive the change at their address."
   ]
  },
  {
   "cell_type": "code",
   "execution_count": 28,
   "id": "10a49a12-18b5-4240-9d95-6bad4e82375d",
   "metadata": {
    "tags": [],
    "vscode": {
     "languageId": "shellscript"
    }
   },
   "outputs": [
    {
     "name": "stdout",
     "output_type": "stream",
     "text": [
      "Rounding  `TransactionInput` txInterval boundries to:(POSIXTime {getPOSIXTime = 1679661602000},POSIXTime {getPOSIXTime = 1679661962999})\n",
      "TransactionInput {txInterval = (POSIXTime {getPOSIXTime = 1679661602000},POSIXTime {getPOSIXTime = 1679661962999}), txInputs = [NormalInput (IDeposit \"\\\"addr_test1vpy4n4peh4suv0y55yptur0066j5kds8r4ncnuzm0vpzfgg0dhz6d\\\"\" \"\\\"addr_test1vpy4n4peh4suv0y55yptur0066j5kds8r4ncnuzm0vpzfgg0dhz6d\\\"\" (Token \"\" \"\") 85000000)]}\n",
      "Payment 1\n",
      "  Acccount: \"\\\"addr_test1vpy4n4peh4suv0y55yptur0066j5kds8r4ncnuzm0vpzfgg0dhz6d\\\"\"\n",
      "  Payee: Party \"\\\"addr_test1vqd3yrtjyx49uld43lvwqaf7z4k03su8gf2x4yr7syzvckgfzm4ck\\\"\"\n",
      "  Ada: Lovelace {getLovelace = 85000000}\n",
      "Payment 2\n",
      "  Acccount: \"\\\"addr_test1vqd3yrtjyx49uld43lvwqaf7z4k03su8gf2x4yr7syzvckgfzm4ck\\\"\"\n",
      "  Payee: Party \"\\\"addr_test1vqd3yrtjyx49uld43lvwqaf7z4k03su8gf2x4yr7syzvckgfzm4ck\\\"\"\n",
      "  Ada: Lovelace {getLovelace = 2000000}\n"
     ]
    }
   ],
   "source": [
    "marlowe-cli run prepare \\\n",
    "  --deposit-account \"$BORROWER_ADDR\" \\\n",
    "  --deposit-party \"$BORROWER_ADDR\" \\\n",
    "  --deposit-amount \"$((PRINCIPAL+INTEREST))\" \\\n",
    "  --invalid-before \"$((`date -u +%s` * SECOND - 1 * MINUTE))\" \\\n",
    "  --invalid-hereafter \"$((`date -u +%s` * SECOND + 5 * MINUTE))\" \\\n",
    "  --marlowe-file marlowe-2.json \\\n",
    "  --out-file marlowe-3.json"
   ]
  },
  {
   "cell_type": "markdown",
   "id": "ccdcc822-ba62-41cb-bde1-55bfc661ce16",
   "metadata": {},
   "source": [
    "Once again, use `marlowe-cli run auto-execute` to build and submit the transaction and then wait for confirmation."
   ]
  },
  {
   "cell_type": "code",
   "execution_count": 29,
   "id": "7c405029-bf87-4eac-8b9e-630f64ddd53e",
   "metadata": {
    "tags": [],
    "vscode": {
     "languageId": "shellscript"
    }
   },
   "outputs": [
    {
     "name": "stdout",
     "output_type": "stream",
     "text": [
      "\n",
      "Fee: Lovelace 569736\n",
      "Size: 827 / 16384 = 5%\n",
      "Execution units:\n",
      "  Memory: 4674622 / 14000000 = 33%\n",
      "  Steps: 1258378941 / 10000000000 = 12%\n",
      "TX_3 = b2486f82eaccef641a3b44de4c07146304238b25b0678ab1bfb70e3bc244c338\n"
     ]
    }
   ],
   "source": [
    "TX_3=$(\n",
    "marlowe-cli run auto-execute \\\n",
    "  --tx-in-marlowe \"$TX_2#1\" \\\n",
    "  --marlowe-in-file marlowe-2.json \\\n",
    "  --marlowe-out-file marlowe-3.json \\\n",
    "  --change-address \"$BORROWER_ADDR\" \\\n",
    "  --required-signer \"$BORROWER_SKEY\" \\\n",
    "  --out-file tx-3.signed \\\n",
    "  --submit 600s \\\n",
    "  --print-stats \\\n",
    "| sed -e 's/^TxId \"\\(.*\\)\"$/\\1/' \\\n",
    ")\n",
    "echo \"TX_3 = $TX_3\""
   ]
  },
  {
   "cell_type": "markdown",
   "id": "3ef67b53-b30a-4408-a43e-97f1f0715ed0",
   "metadata": {},
   "source": [
    "One can view the transaction on a Cardano explorer. It sometimes takes thirty seconds or so for the transaction to be visible in an explorer."
   ]
  },
  {
   "cell_type": "code",
   "execution_count": 30,
   "id": "94e9f529-529b-4777-b829-dcab0a5fc3b8",
   "metadata": {
    "vscode": {
     "languageId": "shellscript"
    }
   },
   "outputs": [
    {
     "name": "stdout",
     "output_type": "stream",
     "text": [
      "https://preprod.cardanoscan.io/transaction/b2486f82eaccef641a3b44de4c07146304238b25b0678ab1bfb70e3bc244c338?tab=utxo\n"
     ]
    }
   ],
   "source": [
    "echo \"$EXPLORER_URL\"/transaction/\"$TX_3?tab=utxo\""
   ]
  },
  {
   "cell_type": "markdown",
   "id": "af13b1f3-d5e2-4ebc-8023-f0fd5875c0a5",
   "metadata": {},
   "source": [
    "One can see that the lender received back the 80 ada of principal and the 2 ada deposited when the contract was created, along with the additional 5 ada of interest, totallying 87 ada."
   ]
  },
  {
   "cell_type": "code",
   "execution_count": 31,
   "id": "492de5e8-7f07-437c-9f88-80ccdf00636f",
   "metadata": {
    "vscode": {
     "languageId": "shellscript"
    }
   },
   "outputs": [
    {
     "name": "stdout",
     "output_type": "stream",
     "text": [
      "                           TxHash                                 TxIx        Amount\n",
      "--------------------------------------------------------------------------------------\n",
      "017c068bf76aba6ef57b6b5aab592cd9d861c4903e100794ca7451d16c701a02     0        917029304 lovelace + TxOutDatumNone\n",
      "b2486f82eaccef641a3b44de4c07146304238b25b0678ab1bfb70e3bc244c338     1        87000000 lovelace + TxOutDatumNone\n"
     ]
    }
   ],
   "source": [
    "cardano-cli query utxo --testnet-magic \"$CARDANO_TESTNET_MAGIC\" --address \"$LENDER_ADDR\""
   ]
  },
  {
   "cell_type": "markdown",
   "id": "1196c641-e92e-4848-a20b-b673d7fcbc71",
   "metadata": {},
   "source": [
    "The borrower now has about 5 ada (the loan's interest) less than originally."
   ]
  },
  {
   "cell_type": "code",
   "execution_count": 32,
   "id": "3e8f27e3-e94a-4332-94a2-2f8af8800d56",
   "metadata": {
    "vscode": {
     "languageId": "shellscript"
    }
   },
   "outputs": [
    {
     "name": "stdout",
     "output_type": "stream",
     "text": [
      "                           TxHash                                 TxIx        Amount\n",
      "--------------------------------------------------------------------------------------\n",
      "017c068bf76aba6ef57b6b5aab592cd9d861c4903e100794ca7451d16c701a02     2        80000000 lovelace + TxOutDatumNone\n",
      "b2486f82eaccef641a3b44de4c07146304238b25b0678ab1bfb70e3bc244c338     0        914430264 lovelace + TxOutDatumNone\n"
     ]
    }
   ],
   "source": [
    "cardano-cli query utxo --testnet-magic \"$CARDANO_TESTNET_MAGIC\" --address \"$BORROWER_ADDR\""
   ]
  },
  {
   "cell_type": "markdown",
   "id": "8b4951f7-58bb-4399-a09a-2029f4e2dfe4",
   "metadata": {},
   "source": [
    "The Marlowe contract has closed, so there is no output to its script address."
   ]
  }
 ],
 "metadata": {
  "kernelspec": {
   "display_name": "Bash with Marlowe Tools",
   "language": "bash",
   "name": "bash-minimal"
  },
  "language_info": {
   "codemirror_mode": "shell",
   "file_extension": ".sh",
   "mimetype": "text/x-sh",
   "name": "bash"
  }
 },
 "nbformat": 4,
 "nbformat_minor": 5
}
